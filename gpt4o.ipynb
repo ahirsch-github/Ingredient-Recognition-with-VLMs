{
 "cells": [
  {
   "cell_type": "code",
   "execution_count": 63,
   "metadata": {},
   "outputs": [],
   "source": [
    "# Food Ingredient Prediction with GPT-4\n",
    "# Zero-shot and Few-shot Learning\n",
    "\n",
    "import os\n",
    "import json\n",
    "import random\n",
    "from tqdm import tqdm\n",
    "import numpy as np\n",
    "from sklearn.metrics import accuracy_score, precision_score, recall_score, f1_score\n",
    "from nltk.translate.bleu_score import sentence_bleu, SmoothingFunction\n",
    "from rouge_score import rouge_scorer\n",
    "from openai import OpenAI\n",
    "from dotenv import load_dotenv\n",
    "from PIL import Image\n",
    "from IPython.display import display\n",
    "import base64\n",
    "\n",
    "# caching\n",
    "import hashlib\n",
    "import pickle\n",
    "from diskcache import Cache\n",
    "\n",
    "cache = Cache(\"./gpt4_cache\")"
   ]
  },
  {
   "cell_type": "code",
   "execution_count": 64,
   "metadata": {},
   "outputs": [
    {
     "name": "stdout",
     "output_type": "stream",
     "text": [
      "\u001b[32mTraceloop syncing configuration and prompts\u001b[39m\n",
      "\u001b[32mTraceloop exporting traces to https://api.traceloop.com authenticating with bearer token\n",
      "\u001b[39m\n"
     ]
    }
   ],
   "source": [
    "# LLM Tracing\n",
    "\n",
    "from traceloop.sdk import Traceloop\n",
    "\n",
    "Traceloop.init()"
   ]
  },
  {
   "cell_type": "code",
   "execution_count": 65,
   "metadata": {},
   "outputs": [],
   "source": [
    "# Load environment variables\n",
    "load_dotenv()\n",
    "\n",
    "# Initialize OpenAI client\n",
    "client = OpenAI(api_key=os.getenv(\"OPENAI_API_KEY\"))"
   ]
  },
  {
   "cell_type": "code",
   "execution_count": 103,
   "metadata": {},
   "outputs": [],
   "source": [
    "# ==== Visualization Parameters\n",
    "# Define colors [zero-shot, few-shot, many-shot]\n",
    "colors_gpt4o_mini = ['#FFA07A', '#FA8072', '#CD5C5C']\n",
    "colors_gpt4o = ['#87CEFA', '#1E90FF', '#4169E1']"
   ]
  },
  {
   "cell_type": "code",
   "execution_count": 66,
   "metadata": {},
   "outputs": [
    {
     "data": {
      "text/html": [
       "<img src='data/food-101/images/apple_pie/1005649.jpg' style='width: 256px; height: 256px; margin: 10px;'><div style='display: inline-block; vertical-align: top; margin: 10px; max-width: 256px;'><p>butter, flour, sugar, brown sugar, apple, cinnamon<br>, nut</p></div><img src='data/food-101/images/apple_pie/1014775.jpg' style='width: 256px; height: 256px; margin: 10px;'><div style='display: inline-block; vertical-align: top; margin: 10px; max-width: 256px;'><p>butter, flour, sugar, brown sugar, apple, cinnamon<br>, nut</p></div><img src='data/food-101/images/apple_pie/1026328.jpg' style='width: 256px; height: 256px; margin: 10px;'><div style='display: inline-block; vertical-align: top; margin: 10px; max-width: 256px;'><p>butter, flour, sugar, brown sugar, apple, cinnamon<br>, nut</p></div>"
      ],
      "text/plain": [
       "<IPython.core.display.HTML object>"
      ]
     },
     "metadata": {},
     "output_type": "display_data"
    }
   ],
   "source": [
    "# Load and prepare data\n",
    "def load_data(file_path):\n",
    "    with open(file_path, 'r') as f:\n",
    "        return [json.loads(line) for line in f]\n",
    "\n",
    "train_data = load_data('food-ingredients-101/train.jsonl')\n",
    "test_data = load_data('food-ingredients-101/test.jsonl')\n",
    "\n",
    "# show 4 examples from the training set\n",
    "# [{'prefix': '', 'suffix': 'pastry, butter, flour, granulated white sugar, brown sugar, baking apples, ground cinnamon, nutmeg', 'image': 'food-101/images/apple_pie/1005649.jpg'}, {'prefix': '', 'suffix': 'pastry, butter, flour, granulated white sugar, brown sugar, baking apples, ground cinnamon, nutmeg', 'image': 'food-101/images/apple_pie/1014775.jpg'}, {'prefix': '', 'suffix': 'pastry, butter, flour, granulated white sugar, brown sugar, baking apples, ground cinnamon, nutmeg', 'image': 'food-101/images/apple_pie/1026328.jpg'}, {'prefix': '', 'suffix': 'pastry, butter, flour, granulated white sugar, brown sugar, baking apples, ground cinnamon, nutmeg', 'image': 'food-101/images/apple_pie/1028787.jpg'}]\n",
    "def show_examples(data):\n",
    "    from IPython.display import display, HTML\n",
    "    html_content = \"\"\n",
    "    for i in range(3):\n",
    "        image = Image.open(data[i]['image'])\n",
    "        image = image.resize((256, 256))\n",
    "        caption = data[i]['suffix']\n",
    "        wrapped_caption = '<br>'.join([caption[i:i+50] for i in range(0, len(caption), 50)])\n",
    "        html_content += f\"<img src='{data[i]['image']}' style='width: 256px; height: 256px; margin: 10px;'><div style='display: inline-block; vertical-align: top; margin: 10px; max-width: 256px;'><p>{wrapped_caption}</p></div>\"\n",
    "    display(HTML(html_content))\n",
    "\n",
    "show_examples(train_data)"
   ]
  },
  {
   "cell_type": "code",
   "execution_count": 67,
   "metadata": {},
   "outputs": [],
   "source": [
    "# Helper functions for evaluation\n",
    "\n",
    "from sklearn.metrics import f1_score, accuracy_score, precision_score, recall_score\n",
    "from sklearn.preprocessing import MultiLabelBinarizer\n",
    "import numpy as np\n",
    "\n",
    "def preprocess_ingredients(ingredient_string):\n",
    "    return set(ingredient_string.lower().split(', '))\n",
    "\n",
    "def ingredient_overlap_f1_sklearn(references, candidates, method):\n",
    "    mlb = MultiLabelBinarizer()\n",
    "    \n",
    "    all_ingredients = set()\n",
    "    for ref, cand in zip(references, candidates):\n",
    "        all_ingredients.update(preprocess_ingredients(ref))\n",
    "        all_ingredients.update(preprocess_ingredients(cand))\n",
    "    \n",
    "    mlb.fit([all_ingredients])\n",
    "    \n",
    "    y_true = mlb.transform([preprocess_ingredients(ref) for ref in references])\n",
    "    y_pred = mlb.transform([preprocess_ingredients(cand) for cand in candidates])\n",
    "    \n",
    "    if method == 'sklearn':\n",
    "        return np.mean([f1_score(yt, yp, average='binary', zero_division=0) for yt, yp in zip(y_true, y_pred)])\n",
    "    elif method in ['weighted', 'macro', 'samples']:\n",
    "        return f1_score(y_true, y_pred, average=method, zero_division=0)\n",
    "    else:\n",
    "        raise ValueError(\"Invalid method. Choose 'sklearn', 'weighted', 'macro', or 'samples'.\")\n",
    "\n",
    "def calculate_accuracy(ground_truths, predictions):\n",
    "    total_correct = 0\n",
    "    total_ingredients = 0\n",
    "    \n",
    "    for gt, pred in zip(ground_truths, predictions):\n",
    "        gt_ingredients = preprocess_ingredients(gt)\n",
    "        pred_ingredients = preprocess_ingredients(pred)\n",
    "        \n",
    "        correct = len(gt_ingredients.intersection(pred_ingredients))\n",
    "        total_correct += correct\n",
    "        total_ingredients += len(gt_ingredients)\n",
    "    \n",
    "    return total_correct / total_ingredients if total_ingredients > 0 else 0\n",
    "\n",
    "def calculate_bleu(reference, hypothesis):\n",
    "    return sentence_bleu([reference.split()], hypothesis.split(), smoothing_function=SmoothingFunction().method1)\n",
    "\n",
    "rouge_scorer_obj = rouge_scorer.RougeScorer(['rouge1', 'rouge2', 'rougeL'], use_stemmer=True)\n",
    "\n",
    "def calculate_rouge(reference, hypothesis):\n",
    "    scores = rouge_scorer_obj.score(reference, hypothesis)\n",
    "    return (scores['rouge1'].fmeasure + scores['rouge2'].fmeasure + scores['rougeL'].fmeasure) / 3\n"
   ]
  },
  {
   "cell_type": "code",
   "execution_count": 68,
   "metadata": {},
   "outputs": [],
   "source": [
    "# function for checking valid img data\n",
    "def is_valid_image(image_path):\n",
    "    try:\n",
    "        with Image.open(image_path) as img:\n",
    "            # Check file format\n",
    "            if img.format.lower() not in ['png', 'jpeg', 'jpg', 'gif', 'webp']:\n",
    "                return False\n",
    "            # Check file size (20MB = 20 * 1024 * 1024 bytes)\n",
    "            if os.path.getsize(image_path) > 20 * 1024 * 1024:\n",
    "                return False\n",
    "        return True\n",
    "    except Exception:\n",
    "        return False\n",
    "\n",
    "# generate cache key\n",
    "def generate_cache_key(model, messages):\n",
    "    key = f\"{model}_{hashlib.md5(pickle.dumps(messages)).hexdigest()}\"\n",
    "    return key\n",
    "\n",
    "# Zero-shot prediction\n",
    "def zero_shot_predict(image_path):\n",
    "    # Encode the image\n",
    "    with open(image_path, \"rb\") as image_file:\n",
    "        encoded_image = base64.b64encode(image_file.read()).decode('utf-8')\n",
    "\n",
    "    prompt = f\"\"\"Given an image of a food dish, list the main ingredients used to prepare it. \n",
    "    Provide the ingredients as a comma-separated list.\n",
    "    Ingredients:\"\"\"\n",
    "    \n",
    "    messages = [\n",
    "        {\"role\": \"user\", \"content\": [\n",
    "            {\"type\": \"text\", \"text\": prompt},\n",
    "            {\"type\": \"image_url\", \"image_url\": {\"url\": f\"data:image/jpeg;base64,{encoded_image}\"}}\n",
    "        ]}\n",
    "    ]\n",
    "\n",
    "    cache_key = generate_cache_key(MODEL, messages)\n",
    "    \n",
    "    if cache_key in cache:\n",
    "        return cache[cache_key]\n",
    "    \n",
    "    response = client.chat.completions.create(\n",
    "        model=MODEL,\n",
    "        messages=messages,\n",
    "        max_tokens=200\n",
    "    )\n",
    "    result = response.choices[0].message.content.strip()\n",
    "    \n",
    "    cache[cache_key] = result\n",
    "    return result\n",
    "\n",
    "# Few-shot prediction\n",
    "def few_shot_predict(image_path, examples):\n",
    "    prompt = \"Given an image of a food dish, list the main ingredients used to prepare it. Provide the ingredients as a comma-separated list.\\n\\n\"\n",
    "    \n",
    "    messages = []\n",
    "    for example in examples:\n",
    "        with open(example['image'], \"rb\") as image_file:\n",
    "            encoded_image = base64.b64encode(image_file.read()).decode('utf-8')\n",
    "        messages.append({\"role\": \"user\", \"content\": [\n",
    "            {\"type\": \"text\", \"text\": prompt},\n",
    "            {\"type\": \"image_url\", \"image_url\": {\"url\": f\"data:image/jpeg;base64,{encoded_image}\"}}\n",
    "        ]})\n",
    "        messages.append({\"role\": \"assistant\", \"content\": example['suffix']})\n",
    "\n",
    "    with open(image_path, \"rb\") as image_file:\n",
    "        encoded_image = base64.b64encode(image_file.read()).decode('utf-8')\n",
    "\n",
    "    messages.append({\"role\": \"user\", \"content\": [\n",
    "        {\"type\": \"text\", \"text\": prompt},\n",
    "        {\"type\": \"image_url\", \"image_url\": {\"url\": f\"data:image/jpeg;base64,{encoded_image}\"}}\n",
    "    ]})\n",
    "\n",
    "    cache_key = generate_cache_key(MODEL, messages)\n",
    "    \n",
    "    if cache_key in cache:\n",
    "        return cache[cache_key]\n",
    "    \n",
    "    try:\n",
    "        response = client.chat.completions.create(\n",
    "            model=MODEL,\n",
    "            messages=messages,\n",
    "            max_tokens=200\n",
    "        )\n",
    "        result = response.choices[-1].message.content.strip()\n",
    "        cache[cache_key] = result\n",
    "        return result\n",
    "    except Exception as e:\n",
    "        print(f\"Error in API call: {str(e)}\")\n",
    "        return None"
   ]
  },
  {
   "cell_type": "code",
   "execution_count": 69,
   "metadata": {},
   "outputs": [],
   "source": [
    "# Evaluation function\n",
    "def evaluate(predictions, ground_truth):\n",
    "    # Prepare data for sklearn metrics\n",
    "    mlb = MultiLabelBinarizer()\n",
    "    all_ingredients = set()\n",
    "    for ref, pred in zip(ground_truth, predictions):\n",
    "        all_ingredients.update(ref.lower().split(','))\n",
    "        all_ingredients.update(pred.lower().split(','))\n",
    "    mlb.fit([all_ingredients])\n",
    "    \n",
    "    y_true = mlb.transform([set(ref.lower().split(',')) for ref in ground_truth])\n",
    "    y_pred = mlb.transform([set(pred.lower().split(',')) for pred in predictions])\n",
    "\n",
    "    # Calculate BLEU and ROUGE scores\n",
    "    bleu_scores = [calculate_bleu(true, pred) for true, pred in zip(ground_truth, predictions)]\n",
    "    rouge_scores = [calculate_rouge(true, pred) for true, pred in zip(ground_truth, predictions)]\n",
    "    \n",
    "    # Calculate sklearn-based metrics\n",
    "    accuracy = calculate_accuracy(ground_truth, predictions)\n",
    "    precision = precision_score(y_true, y_pred, average='weighted', zero_division=0)\n",
    "    recall = recall_score(y_true, y_pred, average='weighted', zero_division=0)\n",
    "    \n",
    "    # Calculate various F1 scores\n",
    "    f1_sklearn = ingredient_overlap_f1_sklearn(ground_truth, predictions, method='sklearn')\n",
    "    f1_sample = ingredient_overlap_f1_sklearn(ground_truth, predictions, method='samples')\n",
    "    f1_weighted = ingredient_overlap_f1_sklearn(ground_truth, predictions, method='weighted')\n",
    "    f1_macro = ingredient_overlap_f1_sklearn(ground_truth, predictions, method='macro')\n",
    "    \n",
    "    return {\n",
    "        \"bleu\": np.mean(bleu_scores),\n",
    "        \"rouge\": np.mean(rouge_scores),\n",
    "        \"accuracy\": accuracy,\n",
    "        \"precision\": precision,\n",
    "        \"recall\": recall,\n",
    "        \"f1_sklearn\": f1_sklearn,\n",
    "        \"f1_sample\": f1_sample,\n",
    "        \"f1_weighted\": f1_weighted,\n",
    "        \"f1_macro\": f1_macro\n",
    "    }"
   ]
  },
  {
   "cell_type": "code",
   "execution_count": 131,
   "metadata": {},
   "outputs": [],
   "source": [
    "# Visualize results\n",
    "import matplotlib.pyplot as plt\n",
    "\n",
    "def visualize_results(zero_shot_results, few_shot_results, many_shot_results, colors, comparison=False, compare_results=None):\n",
    "    metrics = ['accuracy', 'precision', 'recall', 'f1_sample', 'f1_weighted', 'f1_macro']\n",
    "    zero_shot_scores = [zero_shot_results[metric] for metric in metrics]\n",
    "    few_shot_scores = [few_shot_results[metric] for metric in metrics]\n",
    "    many_shot_scores = [many_shot_results[metric] for metric in metrics]\n",
    "\n",
    "    x = range(len(metrics))\n",
    "    \n",
    "    if not comparison:\n",
    "        width = 0.25  # Reduced width to accommodate three bars\n",
    "        fig, ax = plt.subplots(figsize=(12, 4))\n",
    "        \n",
    "        # Add light grey background horizontal lines\n",
    "        ax.yaxis.grid(True, linestyle='--', which='major', color='lightgrey', alpha=0.7)\n",
    "        \n",
    "        ax.bar([i - width for i in x], zero_shot_scores, width, label='Zero-shot', color=colors[0])\n",
    "        ax.bar([i for i in x], few_shot_scores, width, label='Few-shot', color=colors[1])\n",
    "        ax.bar([i + width for i in x], many_shot_scores, width, label='Many-shot', color=colors[2])\n",
    "\n",
    "        ax.set_ylabel('Scores')\n",
    "        ax.set_title('Zero-shot vs Few-shot vs Many-shot Performance')\n",
    "        ax.set_xticks(x)\n",
    "        ax.set_xticklabels(metrics)\n",
    "        ax.legend()\n",
    "\n",
    "        # Set the background color to white to make the grid lines more visible\n",
    "        ax.set_facecolor('white')\n",
    "        \n",
    "        # Ensure grid lines are behind the bars\n",
    "        ax.set_axisbelow(True)\n",
    "    else:\n",
    "        if compare_results is None:\n",
    "            raise ValueError(\"compare_results must be provided for comparison\")\n",
    "        \n",
    "        zero_shot_scores_gpt4o = [compare_results['zero_shot'][metric] for metric in metrics]\n",
    "        few_shot_scores_gpt4o = [compare_results['few_shot'][metric] for metric in metrics]\n",
    "        many_shot_scores_gpt4o = [compare_results['many_shot'][metric] for metric in metrics]\n",
    "\n",
    "        width = 0.12  # Adjusted width to fit all bars\n",
    "        fig, ax = plt.subplots(figsize=(14, 6))\n",
    "\n",
    "        # Add light grey background horizontal lines\n",
    "        ax.yaxis.grid(True, linestyle='--', which='major', color='lightgrey', alpha=0.7)\n",
    "        \n",
    "        ax.bar([i - 2.5*width for i in x], zero_shot_scores, width, label='Zero-shot GPT-4o-mini', color=colors[0])\n",
    "        ax.bar([i - 1.5*width for i in x], few_shot_scores, width, label='Few-shot GPT-4o-mini', color=colors[1])\n",
    "        ax.bar([i - 0.5*width for i in x], many_shot_scores, width, label='Many-shot GPT-4o-mini', color=colors[2])\n",
    "        ax.bar([i + 0.5*width for i in x], zero_shot_scores_gpt4o, width, label='Zero-shot GPT-4o', color=colors[3])\n",
    "        ax.bar([i + 1.5*width for i in x], few_shot_scores_gpt4o, width, label='Few-shot GPT-4o', color=colors[4])\n",
    "        ax.bar([i + 2.5*width for i in x], many_shot_scores_gpt4o, width, label='Many-shot GPT-4o', color=colors[5])\n",
    "\n",
    "        ax.set_ylabel('Scores')\n",
    "        ax.set_title('GPT-4o-mini vs GPT-4o (Zero-shot/Few-shot/Many-shot)')\n",
    "        ax.set_xticks(x)\n",
    "        ax.set_xticklabels(metrics, rotation=45, ha='right')\n",
    "        ax.legend(bbox_to_anchor=(1.05, 1), loc='upper left')\n",
    "\n",
    "        # Set the background color to white to make the grid lines more visible\n",
    "        ax.set_facecolor('white')\n",
    "        \n",
    "        # Ensure grid lines are behind the bars\n",
    "        ax.set_axisbelow(True)\n",
    "\n",
    "    plt.tight_layout()\n",
    "    plt.show()\n"
   ]
  },
  {
   "cell_type": "markdown",
   "metadata": {},
   "source": [
    "## First Look"
   ]
  },
  {
   "cell_type": "code",
   "execution_count": 71,
   "metadata": {},
   "outputs": [],
   "source": [
    "\n",
    "VALIDATION_SIZE = 25  # Number of samples to use for validation"
   ]
  },
  {
   "cell_type": "code",
   "execution_count": 72,
   "metadata": {},
   "outputs": [],
   "source": [
    "random.seed(42)\n",
    "first_look_test_data = random.sample(test_data, VALIDATION_SIZE)"
   ]
  },
  {
   "cell_type": "markdown",
   "metadata": {},
   "source": [
    "### GPT-4o-mini"
   ]
  },
  {
   "cell_type": "code",
   "execution_count": 73,
   "metadata": {},
   "outputs": [],
   "source": [
    "# === PARAMETERS ===\n",
    "MODEL = \"gpt-4o-mini\""
   ]
  },
  {
   "cell_type": "markdown",
   "metadata": {},
   "source": [
    "#### 1) Zero-Shot"
   ]
  },
  {
   "cell_type": "code",
   "execution_count": 74,
   "metadata": {},
   "outputs": [
    {
     "name": "stdout",
     "output_type": "stream",
     "text": [
      "Running zero-shot prediction...\n"
     ]
    },
    {
     "name": "stderr",
     "output_type": "stream",
     "text": [
      "100%|██████████| 25/25 [00:28<00:00,  1.16s/it]\n"
     ]
    }
   ],
   "source": [
    "# Run zero-shot prediction\n",
    "print(\"Running zero-shot prediction...\")\n",
    "zero_shot_predictions_gpt4o_mini = []\n",
    "for sample in tqdm(first_look_test_data):\n",
    "    prediction = zero_shot_predict(sample['image'])\n",
    "    zero_shot_predictions_gpt4o_mini.append(prediction)"
   ]
  },
  {
   "cell_type": "code",
   "execution_count": 75,
   "metadata": {},
   "outputs": [
    {
     "name": "stdout",
     "output_type": "stream",
     "text": [
      "Zero-shot results:\n",
      "bleu: 0.02373532887252683\n",
      "rouge: 0.19279729326233272\n",
      "accuracy: 0.16883116883116883\n",
      "precision: 0.31565656565656564\n",
      "recall: 0.15584415584415584\n",
      "f1_sklearn: 0.1867485586876891\n",
      "f1_sample: 0.1867485586876891\n",
      "f1_weighted: 0.21017976732262447\n",
      "f1_macro: 0.08093493807779523\n"
     ]
    }
   ],
   "source": [
    "# Evaluate zero-shot results\n",
    "zero_shot_results_gpt4o_mini = evaluate(zero_shot_predictions_gpt4o_mini, [sample['suffix'] for sample in first_look_test_data])\n",
    "print(\"Zero-shot results:\")\n",
    "for key, value in zero_shot_results_gpt4o_mini.items():\n",
    "    print(f\"{key}: {value}\")\n"
   ]
  },
  {
   "cell_type": "markdown",
   "metadata": {},
   "source": [
    "#### 2) Few-Shot"
   ]
  },
  {
   "cell_type": "code",
   "execution_count": 76,
   "metadata": {},
   "outputs": [
    {
     "name": "stdout",
     "output_type": "stream",
     "text": [
      "\n",
      "Running few-shot prediction...\n"
     ]
    },
    {
     "name": "stderr",
     "output_type": "stream",
     "text": [
      "100%|██████████| 25/25 [01:58<00:00,  4.74s/it]"
     ]
    },
    {
     "name": "stdout",
     "output_type": "stream",
     "text": [
      "Number of successful predictions: 25\n"
     ]
    },
    {
     "name": "stderr",
     "output_type": "stream",
     "text": [
      "\n"
     ]
    }
   ],
   "source": [
    "# temporary logging\n",
    "import logging\n",
    "\n",
    "logging.basicConfig(level=logging.DEBUG)\n",
    "\n",
    "\n",
    "# Run few-shot prediction\n",
    "NUM_EXAMPLES = 5\n",
    "print(\"\\nRunning few-shot prediction...\")\n",
    "few_shot_predictions_gpt4o_mini = []\n",
    "for sample in tqdm(first_look_test_data[:VALIDATION_SIZE]):\n",
    "    prediction = None\n",
    "    attempts = 0\n",
    "    max_attempts = 100\n",
    "    while prediction is None and attempts < max_attempts:\n",
    "        valid_examples = []\n",
    "        while len(valid_examples) < NUM_EXAMPLES:\n",
    "            candidate = random.choice(train_data)\n",
    "            if is_valid_image(candidate['image']):\n",
    "                valid_examples.append(candidate)\n",
    "        try:\n",
    "            prediction = few_shot_predict(sample['image'], valid_examples)\n",
    "        except Exception as e:\n",
    "            print(f\"Error in few-shot prediction: {str(e)}\")\n",
    "        attempts += 1\n",
    "    \n",
    "    if prediction:\n",
    "        few_shot_predictions_gpt4o_mini.append(prediction)\n",
    "    else:\n",
    "        print(f\"Skipping sample after {max_attempts} failed attempts\")\n",
    "\n",
    "print(f\"Number of successful predictions: {len(few_shot_predictions_gpt4o_mini)}\")"
   ]
  },
  {
   "cell_type": "code",
   "execution_count": 77,
   "metadata": {},
   "outputs": [
    {
     "name": "stdout",
     "output_type": "stream",
     "text": [
      "Few-shot results:\n",
      "bleu: 0.029843111543786938\n",
      "rouge: 0.24699057546989794\n",
      "accuracy: 0.2857142857142857\n",
      "precision: 0.3128186628186628\n",
      "recall: 0.24242424242424243\n",
      "f1_sklearn: 0.302420667778401\n",
      "f1_sample: 0.302420667778401\n",
      "f1_weighted: 0.3137040881196725\n",
      "f1_macro: 0.1230648278924141\n"
     ]
    }
   ],
   "source": [
    "# Evaluate few-shot results\n",
    "if few_shot_predictions_gpt4o_mini:\n",
    "    few_shot_results_gpt4o_mini = evaluate(few_shot_predictions_gpt4o_mini, [sample['suffix'] for sample in first_look_test_data[:len(few_shot_predictions_gpt4o_mini)]])\n",
    "    print(\"Few-shot results:\")\n",
    "    for key, value in few_shot_results_gpt4o_mini.items():\n",
    "        print(f\"{key}: {value}\")\n",
    "else:\n",
    "    print(\"No valid predictions to evaluate.\")"
   ]
  },
  {
   "cell_type": "markdown",
   "metadata": {},
   "source": [
    "#### 3) Many-Shot"
   ]
  },
  {
   "cell_type": "code",
   "execution_count": 78,
   "metadata": {},
   "outputs": [
    {
     "name": "stdout",
     "output_type": "stream",
     "text": [
      "\n",
      "Running many-shot prediction...\n"
     ]
    },
    {
     "name": "stderr",
     "output_type": "stream",
     "text": [
      " 92%|█████████▏| 23/25 [04:13<00:22, 11.13s/it]"
     ]
    },
    {
     "name": "stdout",
     "output_type": "stream",
     "text": [
      "Error in API call: Error code: 400 - {'error': {'message': \"You uploaded an unsupported image. Please make sure your image is below 20 MB in size and is of one the following formats: ['png', 'jpeg', 'gif', 'webp'].\", 'type': 'invalid_request_error', 'param': None, 'code': 'sanitizer_server_error'}}\n"
     ]
    },
    {
     "name": "stderr",
     "output_type": "stream",
     "text": [
      "100%|██████████| 25/25 [04:40<00:00, 11.21s/it]\n"
     ]
    }
   ],
   "source": [
    "# Run many-shot prediction\n",
    "NUM_EXAMPLES_MANY = 30\n",
    "print(\"\\nRunning many-shot prediction...\")\n",
    "many_shot_predictions_gpt4o_mini = []\n",
    "for sample in tqdm(first_look_test_data[:VALIDATION_SIZE]):\n",
    "    prediction = None\n",
    "    attempts = 0\n",
    "    max_attempts = 100  # Limit the number of attempts to prevent infinite loops\n",
    "    while prediction is None and attempts < max_attempts:\n",
    "        valid_examples = []\n",
    "        while len(valid_examples) < NUM_EXAMPLES_MANY:\n",
    "            candidate = random.choice(train_data)\n",
    "            if is_valid_image(candidate['image']):\n",
    "                valid_examples.append(candidate)\n",
    "        prediction = few_shot_predict(sample['image'], valid_examples)\n",
    "        attempts += 1\n",
    "    \n",
    "    if prediction:\n",
    "        many_shot_predictions_gpt4o_mini.append(prediction)\n",
    "    else:\n",
    "        print(f\"Skipping sample after {max_attempts} failed attempts\")"
   ]
  },
  {
   "cell_type": "code",
   "execution_count": 79,
   "metadata": {},
   "outputs": [
    {
     "name": "stdout",
     "output_type": "stream",
     "text": [
      "Many-shot results:\n",
      "bleu: 0.02877040046132105\n",
      "rouge: 0.24007622004497225\n",
      "accuracy: 0.3116883116883117\n",
      "precision: 0.32344877344877343\n",
      "recall: 0.2813852813852814\n",
      "f1_sklearn: 0.3026608046398309\n",
      "f1_sample: 0.3026608046398309\n",
      "f1_weighted: 0.3267944177035086\n",
      "f1_macro: 0.13262205630626683\n"
     ]
    }
   ],
   "source": [
    "# Evaluate many-shot results\n",
    "if many_shot_predictions_gpt4o_mini:\n",
    "    many_shot_results_gpt4o_mini = evaluate(many_shot_predictions_gpt4o_mini, [sample['suffix'] for sample in first_look_test_data[:len(many_shot_predictions_gpt4o_mini)]])\n",
    "    print(\"Many-shot results:\")\n",
    "    for key, value in many_shot_results_gpt4o_mini.items():\n",
    "        print(f\"{key}: {value}\")\n",
    "else:\n",
    "    print(\"No valid predictions to evaluate.\")"
   ]
  },
  {
   "cell_type": "markdown",
   "metadata": {},
   "source": [
    "#### 4) Results"
   ]
  },
  {
   "cell_type": "code",
   "execution_count": 80,
   "metadata": {},
   "outputs": [
    {
     "name": "stdout",
     "output_type": "stream",
     "text": [
      "\n",
      "Example predictions:\n",
      "\n",
      "Image: data/food-101/images/red_velvet_cake/3749302.jpg\n",
      "Ground truth: cake, sugar, cocoa, baking powder, salt, oil, butter, egg, red food coloring, vanilla, vinegar, butter, cheese, sugar, chocolate\n",
      "Zero-shot prediction: Red velvet cake, cream cheese frosting, butter, sugar, flour, cocoa powder, eggs, vanilla extract, baking powder, salt, chopped nuts.\n",
      "Few-shot prediction: flour, sugar, cocoa powder, buttermilk, eggs, butter, vanilla extract, cream cheese, walnuts, red food coloring\n",
      "Many-shot prediction: flour, cocoa powder, sugar, butter, egg, buttermilk, vanilla, baking powder, baking soda, cream cheese, nuts\n",
      "\n",
      "Image: data/food-101/images/carrot_cake/3175778.jpg\n",
      "Ground truth: flour, baking powder, cinnamon, salt, sugar, egg, oil, apple, vanilla, carrot, cheese, butter, sugar, milk\n",
      "Zero-shot prediction: The main ingredients for the cake depicted are likely to include: flour, sugar, eggs, butter, baking powder, cream, and nuts (possibly walnuts or almonds).\n",
      "Few-shot prediction: flour, sugar, eggs, butter, baking powder, vanilla, milk, cream, nuts\n",
      "Many-shot prediction: flour, sugar, cocoa, baking powder, salt, eggs, milk, butter, vanilla, cream, nuts\n",
      "\n",
      "Image: data/food-101/images/beef_carpaccio/1864287.jpg\n",
      "Ground truth: beef, lemon, gin, salt, pepper, baby arugula, asiago\n",
      "Zero-shot prediction: Beef, salad greens, crispy tortilla, olive oil, salt, mustard sauce.\n",
      "Few-shot prediction: beef, arugula, capers, mustard, olive oil, vinegar, bread, salt, pepper\n",
      "Many-shot prediction: beef, lettuce, mustard, vinegar, olive oil, salt, pepper, capers, tortilla\n"
     ]
    }
   ],
   "source": [
    "# Print some example predictions\n",
    "print(\"\\nExample predictions:\")\n",
    "for i in range(3):\n",
    "    print(f\"\\nImage: {first_look_test_data[i]['image']}\")\n",
    "    print(f\"Ground truth: {first_look_test_data[i]['suffix']}\")\n",
    "    print(f\"Zero-shot prediction: {zero_shot_predictions_gpt4o_mini[i]}\")\n",
    "    print(f\"Few-shot prediction: {few_shot_predictions_gpt4o_mini[i]}\")\n",
    "    print(f\"Many-shot prediction: {many_shot_predictions_gpt4o_mini[i]}\")"
   ]
  },
  {
   "cell_type": "code",
   "execution_count": 120,
   "metadata": {},
   "outputs": [
    {
     "data": {
      "image/png": "[encoded data removed]",
      "text/plain": [
       "<Figure size 1200x400 with 1 Axes>"
      ]
     },
     "metadata": {},
     "output_type": "display_data"
    }
   ],
   "source": [
    "# visualize results\n",
    "visualize_results(zero_shot_results_gpt4o_mini, few_shot_results_gpt4o_mini, many_shot_results_gpt4o_mini, colors_gpt4o_mini)"
   ]
  },
  {
   "cell_type": "markdown",
   "metadata": {},
   "source": [
    "### GPT-4o"
   ]
  },
  {
   "cell_type": "code",
   "execution_count": 82,
   "metadata": {},
   "outputs": [],
   "source": [
    "# === PARAMETERS ===\n",
    "MODEL = \"gpt-4o\""
   ]
  },
  {
   "cell_type": "markdown",
   "metadata": {},
   "source": [
    "#### 1) Zero-Shot"
   ]
  },
  {
   "cell_type": "code",
   "execution_count": 83,
   "metadata": {},
   "outputs": [
    {
     "name": "stdout",
     "output_type": "stream",
     "text": [
      "Running zero-shot prediction...\n"
     ]
    },
    {
     "name": "stderr",
     "output_type": "stream",
     "text": [
      "100%|██████████| 25/25 [00:23<00:00,  1.08it/s]\n"
     ]
    }
   ],
   "source": [
    "# Run zero-shot prediction\n",
    "print(\"Running zero-shot prediction...\")\n",
    "zero_shot_predictions_gpt4o = []\n",
    "for sample in tqdm(first_look_test_data):\n",
    "    prediction = zero_shot_predict(sample['image'])\n",
    "    zero_shot_predictions_gpt4o.append(prediction)"
   ]
  },
  {
   "cell_type": "code",
   "execution_count": 84,
   "metadata": {},
   "outputs": [
    {
     "name": "stdout",
     "output_type": "stream",
     "text": [
      "Zero-shot results:\n",
      "bleu: 0.030494855199438196\n",
      "rouge: 0.2055118992205308\n",
      "accuracy: 0.1774891774891775\n",
      "precision: 0.31911976911976914\n",
      "recall: 0.15151515151515152\n",
      "f1_sklearn: 0.18214155474155475\n",
      "f1_sample: 0.18214155474155475\n",
      "f1_weighted: 0.20414395609200803\n",
      "f1_macro: 0.08317910879487234\n"
     ]
    }
   ],
   "source": [
    "# Evaluate zero-shot results\n",
    "zero_shot_results_gpt4o = evaluate(zero_shot_predictions_gpt4o, [sample['suffix'] for sample in first_look_test_data])\n",
    "print(\"Zero-shot results:\")\n",
    "for key, value in zero_shot_results_gpt4o.items():\n",
    "    print(f\"{key}: {value}\")\n"
   ]
  },
  {
   "cell_type": "markdown",
   "metadata": {},
   "source": [
    "#### 2) Few-Shot"
   ]
  },
  {
   "cell_type": "code",
   "execution_count": 85,
   "metadata": {},
   "outputs": [
    {
     "name": "stdout",
     "output_type": "stream",
     "text": [
      "\n",
      "Running few-shot prediction...\n"
     ]
    },
    {
     "name": "stderr",
     "output_type": "stream",
     "text": [
      "100%|██████████| 25/25 [00:46<00:00,  1.87s/it]\n"
     ]
    }
   ],
   "source": [
    "# Run few-shot prediction\n",
    "NUM_EXAMPLES = 5\n",
    "print(\"\\nRunning few-shot prediction...\")\n",
    "few_shot_predictions_gpt4o = []\n",
    "for sample in tqdm(first_look_test_data[:VALIDATION_SIZE]):\n",
    "    prediction = None\n",
    "    attempts = 0\n",
    "    max_attempts = 100\n",
    "    while prediction is None and attempts < max_attempts:\n",
    "        prediction = few_shot_predict(sample['image'], train_data[:NUM_EXAMPLES])\n",
    "        attempts += 1\n",
    "    if prediction:\n",
    "        few_shot_predictions_gpt4o.append(prediction)\n",
    "    else:\n",
    "        print(f\"Skipping sample after {max_attempts} failed attempts\")"
   ]
  },
  {
   "cell_type": "code",
   "execution_count": 86,
   "metadata": {},
   "outputs": [
    {
     "name": "stdout",
     "output_type": "stream",
     "text": [
      "Few-shot results:\n",
      "bleu: 0.032270539270586054\n",
      "rouge: 0.279888326759432\n",
      "accuracy: 0.2943722943722944\n",
      "precision: 0.3458707958707959\n",
      "recall: 0.2554112554112554\n",
      "f1_sklearn: 0.2849463056461557\n",
      "f1_sample: 0.2849463056461557\n",
      "f1_weighted: 0.3175836304810779\n",
      "f1_macro: 0.13452340257948445\n"
     ]
    }
   ],
   "source": [
    "# Evaluate few-shot results\n",
    "if few_shot_predictions_gpt4o:\n",
    "    few_shot_results_gpt4o = evaluate(few_shot_predictions_gpt4o, [sample['suffix'] for sample in first_look_test_data[:len(few_shot_predictions_gpt4o)]])\n",
    "    print(\"Few-shot results:\")\n",
    "    for key, value in few_shot_results_gpt4o.items():\n",
    "        print(f\"{key}: {value}\")\n",
    "else:\n",
    "    print(\"No valid predictions to evaluate.\")"
   ]
  },
  {
   "cell_type": "markdown",
   "metadata": {},
   "source": [
    "#### 3) Many-Shot"
   ]
  },
  {
   "cell_type": "code",
   "execution_count": 87,
   "metadata": {},
   "outputs": [
    {
     "name": "stdout",
     "output_type": "stream",
     "text": [
      "\n",
      "Running many-shot prediction...\n"
     ]
    },
    {
     "name": "stderr",
     "output_type": "stream",
     "text": [
      "100%|██████████| 25/25 [02:54<00:00,  6.97s/it]\n"
     ]
    }
   ],
   "source": [
    "# Run many-shot prediction\n",
    "NUM_EXAMPLES_MANY = 30\n",
    "print(\"\\nRunning many-shot prediction...\")\n",
    "many_shot_predictions_gpt4o = []\n",
    "for sample in tqdm(first_look_test_data[:VALIDATION_SIZE]):\n",
    "    prediction = None\n",
    "    attempts = 0\n",
    "    max_attempts = 100\n",
    "    while prediction is None and attempts < max_attempts:\n",
    "        prediction = few_shot_predict(sample['image'], train_data[:NUM_EXAMPLES_MANY])\n",
    "        attempts += 1\n",
    "    if prediction:\n",
    "        many_shot_predictions_gpt4o.append(prediction)\n",
    "    else:\n",
    "        print(f\"Skipping sample after {max_attempts} failed attempts\")"
   ]
  },
  {
   "cell_type": "code",
   "execution_count": 88,
   "metadata": {},
   "outputs": [
    {
     "name": "stdout",
     "output_type": "stream",
     "text": [
      "Many-shot results:\n",
      "bleu: 0.030825224043968147\n",
      "rouge: 0.2770804784121273\n",
      "accuracy: 0.2857142857142857\n",
      "precision: 0.33909690598002284\n",
      "recall: 0.23809523809523808\n",
      "f1_sklearn: 0.28134986620120367\n",
      "f1_sample: 0.28134986620120367\n",
      "f1_weighted: 0.3090929272747454\n",
      "f1_macro: 0.12478034785727093\n"
     ]
    }
   ],
   "source": [
    "# Evaluate many-shot results\n",
    "if many_shot_predictions_gpt4o:\n",
    "    many_shot_results_gpt4o = evaluate(many_shot_predictions_gpt4o, [sample['suffix'] for sample in first_look_test_data[:len(many_shot_predictions_gpt4o)]])\n",
    "    print(\"Many-shot results:\")\n",
    "    for key, value in many_shot_results_gpt4o.items():\n",
    "        print(f\"{key}: {value}\")\n",
    "else:\n",
    "    print(\"No valid predictions to evaluate.\")"
   ]
  },
  {
   "cell_type": "markdown",
   "metadata": {},
   "source": [
    "#### 4) Results"
   ]
  },
  {
   "cell_type": "code",
   "execution_count": 89,
   "metadata": {},
   "outputs": [
    {
     "name": "stdout",
     "output_type": "stream",
     "text": [
      "\n",
      "Example predictions:\n",
      "\n",
      "Image: data/food-101/images/red_velvet_cake/3749302.jpg\n",
      "Ground truth: cake, sugar, cocoa, baking powder, salt, oil, butter, egg, red food coloring, vanilla, vinegar, butter, cheese, sugar, chocolate\n",
      "Zero-shot prediction: Flour, sugar, eggs, butter, buttermilk, cocoa powder, red food coloring, vinegar, baking soda, cream cheese, powdered sugar, vanilla extract, crushed nuts.\n",
      "Few-shot prediction: flour, sugar, cocoa powder, baking soda, salt, buttermilk, vegetable oil, eggs, red food coloring, vanilla extract, white vinegar, cream cheese, butter, powdered sugar, vanilla extract, chopped nuts\n",
      "Many-shot prediction: flour, sugar, cocoa powder, baking soda, salt, buttermilk, vinegar, vanilla extract, red food coloring, vegetable oil, eggs, cream cheese, butter, powdered sugar, pecans\n",
      "\n",
      "Image: data/food-101/images/carrot_cake/3175778.jpg\n",
      "Ground truth: flour, baking powder, cinnamon, salt, sugar, egg, oil, apple, vanilla, carrot, cheese, butter, sugar, milk\n",
      "Zero-shot prediction: flour, sugar, eggs, carrots, vegetable oil, baking soda, cinnamon, walnuts, cream cheese, butter, powdered sugar\n",
      "Few-shot prediction: flour, sugar, eggs, butter, carrots, walnuts, cream cheese, powdered sugar, vanilla extract, baking powder, baking soda, cinnamon\n",
      "Many-shot prediction: carrots, flour, sugar, eggs, butter, cream cheese, walnuts, cinnamon, salt, vanilla extract\n",
      "\n",
      "Image: data/food-101/images/beef_carpaccio/1864287.jpg\n",
      "Ground truth: beef, lemon, gin, salt, pepper, baby arugula, asiago\n",
      "Zero-shot prediction: Beef, arugula, capers, parmesan cheese, crostini, lemon aioli, olive oil.\n",
      "Few-shot prediction: beef, arugula, capers, parmesan cheese, olive oil, lemon juice, garlic, Dijon mustard, salt, pepper, bread slices\n",
      "Many-shot prediction: beef, arugula, Dijon mustard, capers, Parmesan cheese, lemon juice, olive oil, salt, pepper\n"
     ]
    }
   ],
   "source": [
    "# Print some example predictions\n",
    "print(\"\\nExample predictions:\")\n",
    "for i in range(3):\n",
    "    print(f\"\\nImage: {first_look_test_data[i]['image']}\")\n",
    "    print(f\"Ground truth: {first_look_test_data[i]['suffix']}\")\n",
    "    print(f\"Zero-shot prediction: {zero_shot_predictions_gpt4o[i]}\")\n",
    "    print(f\"Few-shot prediction: {few_shot_predictions_gpt4o[i]}\")\n",
    "    print(f\"Many-shot prediction: {many_shot_predictions_gpt4o[i]}\")"
   ]
  },
  {
   "cell_type": "code",
   "execution_count": 126,
   "metadata": {},
   "outputs": [
    {
     "data": {
      "image/png": "[encoded data removed]",
      "text/plain": [
       "<Figure size 1200x400 with 1 Axes>"
      ]
     },
     "metadata": {},
     "output_type": "display_data"
    }
   ],
   "source": [
    "# Call the function with the results\n",
    "visualize_results(zero_shot_results_gpt4o, few_shot_results_gpt4o, many_shot_results_gpt4o, colors_gpt4o)\n"
   ]
  },
  {
   "cell_type": "markdown",
   "metadata": {},
   "source": [
    "### GPT-4o vs. GPT-4o-mini (First Look)"
   ]
  },
  {
   "cell_type": "code",
   "execution_count": 132,
   "metadata": {},
   "outputs": [
    {
     "data": {
      "image/png": "[encoded data removed]",
      "text/plain": [
       "<Figure size 1400x600 with 1 Axes>"
      ]
     },
     "metadata": {},
     "output_type": "display_data"
    }
   ],
   "source": [
    "visualize_results(\n",
    "    zero_shot_results_gpt4o_mini,\n",
    "    few_shot_results_gpt4o_mini,\n",
    "    many_shot_results_gpt4o_mini,\n",
    "    colors_gpt4o_mini + colors_gpt4o,\n",
    "    comparison=True,\n",
    "    compare_results={\n",
    "        \"zero_shot\": zero_shot_results_gpt4o,\n",
    "        \"few_shot\": few_shot_results_gpt4o,\n",
    "        \"many_shot\": many_shot_results_gpt4o\n",
    "    }\n",
    ")"
   ]
  },
  {
   "cell_type": "markdown",
   "metadata": {},
   "source": [
    "# Closing Cache at the end of the script\n",
    "\n",
    "Needed for data integrity and to free up resources"
   ]
  },
  {
   "cell_type": "code",
   "execution_count": 93,
   "metadata": {},
   "outputs": [],
   "source": [
    "# close cache\n",
    "cache.close()"
   ]
  }
 ],
 "metadata": {
  "kernelspec": {
   "display_name": "anja-ma-oai",
   "language": "python",
   "name": "python3"
  },
  "language_info": {
   "codemirror_mode": {
    "name": "ipython",
    "version": 3
   },
   "file_extension": ".py",
   "mimetype": "text/x-python",
   "name": "python",
   "nbconvert_exporter": "python",
   "pygments_lexer": "ipython3",
   "version": "3.11.9"
  }
 },
 "nbformat": 4,
 "nbformat_minor": 2
}
