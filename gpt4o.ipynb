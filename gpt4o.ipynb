{
  "cells": [
    {
      "cell_type": "markdown",
      "metadata": {
        "id": "u71STQRgnQ3a"
      },
      "source": [
        "## Fine-tune PaliGemma with JAX\n",
        "\n",
        "<table class=\"tfo-notebook-buttons\" align=\"left\">\n",
        "<td>\n",
        "<a target=\"_blank\" href=\"https://ai.google.dev/gemma/docs/paligemma/fine-tuning-paligemma\"><img src=\"https://ai.google.dev/static/site-assets/images/docs/notebook-site-button.png\" height=\"32\" width=\"32\" />View on ai.google.dev</a>\n",
        "</td>\n",
        "<td>\n",
        "<a target=\"_blank\" href=\"https://colab.research.google.com/github/google/generative-ai-docs/blob/main/site/en/gemma/docs/paligemma/fine-tuning-paligemma.ipynb\"><img src=\"https://www.tensorflow.org/images/colab_logo_32px.png\" />Run in Google Colab</a>\n",
        "</td>\n",
        "<td>\n",
        "<a target=\"_blank\" href=\"https://github.com/google/generative-ai-docs/blob/main/site/en/gemma/docs/paligemma/fine-tuning-paligemma.ipynb\"><img src=\"https://www.tensorflow.org/images/GitHub-Mark-32px.png\" />View source on GitHub</a>\n",
        "</td>\n",
        "</table>\n"
      ]
    },
    {
      "cell_type": "markdown",
      "metadata": {},
      "source": [
        "## Requirements\n",
        " 1. \n",
        "To run this notebook, you will need to install the following dependencies:\n",
        "\n",
        "`Python==3.11`\n",
        "\n",
        "```bash\n",
        "pip install python-dotenv kagglehub transformers gdown jax[cuda12] pillow ipykernel ipywidgets tensorflow ml-dtypes flax tqdm orbax-checkpoint matplotlib scikit-learn nltk rouge-score -U\n",
        "```\n",
        "\n",
        "2. \n",
        "Also, move `data/food-ingredients-101`, `data/food-101` & `data/ingredients-101` to root dir.\n",
        "\n",
        "If `data/food-ingredients-101` is not present, create it using `merging_food101_ingredients101.ipynb`\n",
        "\n",
        "3.\n",
        "Install gsutil https://cloud.google.com/storage/docs/gsutil_install?hl=de#linux"
      ]
    },
    {
      "cell_type": "markdown",
      "metadata": {
        "id": "qOJ3BeYFVrOX"
      },
      "source": [
        "### Set environment variables\n",
        "\n",
        "Set the environment variables for `KAGGLE_USERNAME` and `KAGGLE_KEY`."
      ]
    },
    {
      "cell_type": "code",
      "execution_count": 1,
      "metadata": {},
      "outputs": [
        {
          "name": "stdout",
          "output_type": "stream",
          "text": [
            "simonbenedict\n"
          ]
        }
      ],
      "source": [
        "import os\n",
        "\n",
        "print(os.getenv('KAGGLE_USERNAME'))"
      ]
    },
    {
      "cell_type": "code",
      "execution_count": 2,
      "metadata": {},
      "outputs": [],
      "source": [
        "# set cuda to only recognize gpu 0\n",
        "os.environ[\"CUDA_VISIBLE_DEVICES\"] = \"0\""
      ]
    },
    {
      "cell_type": "code",
      "execution_count": 3,
      "metadata": {
        "id": "zGLIp1Cx3_CX"
      },
      "outputs": [
        {
          "name": "stdout",
          "output_type": "stream",
          "text": [
            "simonbenedict\n"
          ]
        }
      ],
      "source": [
        "# Note: `userdata.get` is a Colab API. If you're not using Colab, set the env\n",
        "# vars as appropriate or make your credentials available in ~/.kaggle/kaggle.json\n",
        "\n",
        "# for running on colab\n",
        "# from google.colab import userdata\n",
        "# os.environ[\"KAGGLE_USERNAME\"] = userdata.get('KAGGLE_USERNAME')\n",
        "# os.environ[\"KAGGLE_KEY\"] = userdata.get('KAGGLE_KEY')\n",
        "\n",
        "# for running on local\n",
        "from dotenv import load_dotenv\n",
        "load_dotenv()\n",
        "os.environ[\"KAGGLE_USERNAME\"] = os.getenv('KAGGLE_USERNAME')\n",
        "os.environ[\"KAGGLE_KEY\"] = os.getenv('KAGGLE_KEY')\n",
        "\n",
        "print(os.getenv('KAGGLE_USERNAME'))"
      ]
    },
    {
      "cell_type": "code",
      "execution_count": 4,
      "metadata": {},
      "outputs": [],
      "source": [
        "# for linux\n",
        "!export KAGGLE_USERNAME\n",
        "!export KAGGLE_KEY"
      ]
    },
    {
      "cell_type": "markdown",
      "metadata": {
        "id": "rCd__uzW_eK-"
      },
      "source": [
        "### Fetch the `big_vision` repository and install related dependencies\n",
        "\n",
        "Download the `big_vision` repository to your Colab notebook from GitHub and install dependencies related to `big_vision` by running the following code."
      ]
    },
    {
      "cell_type": "code",
      "execution_count": 5,
      "metadata": {
        "colab": {
          "base_uri": "https://localhost:8080/"
        },
        "id": "DfxKb3F839Ks",
        "outputId": "63c656bc-ede0-41fd-d957-161ebba7128d"
      },
      "outputs": [],
      "source": [
        "import os\n",
        "import sys\n",
        "\n",
        "# TPUs with\n",
        "if \"COLAB_TPU_ADDR\" in os.environ:\n",
        "  raise \"It seems you are using Colab with remote TPUs which is not supported.\"\n",
        "\n",
        "# Fetch big_vision repository if python doesn't know about it and install\n",
        "# dependencies needed for this notebook.\n",
        "if not os.path.exists(\"big_vision_repo\"):\n",
        "  !git clone --quiet --branch=main --depth=1 \\\n",
        "     https://github.com/google-research/big_vision big_vision_repo\n",
        "\n",
        "# Append big_vision code to python import path\n",
        "if \"big_vision_repo\" not in sys.path:\n",
        "  sys.path.append(\"big_vision_repo\")\n",
        "\n",
        "# Install missing dependencies. Assume jax~=0.4.25 with GPU available.\n",
        "!pip3 install -q \"overrides\" \"ml_collections\" \"einops~=0.7\" \"sentencepiece\"\n"
      ]
    },
    {
      "cell_type": "markdown",
      "metadata": {
        "id": "zDoq0O77GF30"
      },
      "source": [
        "### Import JAX and other dependencies\n",
        "\n",
        "Import JAX and other dependencies required for PaliGemma, like TensorFlow and NumPy."
      ]
    },
    {
      "cell_type": "code",
      "execution_count": 6,
      "metadata": {
        "colab": {
          "base_uri": "https://localhost:8080/"
        },
        "id": "dTfe2k8J4Bw0",
        "outputId": "70f6ec33-aa49-4950-fbab-faf18c46880a"
      },
      "outputs": [
        {
          "name": "stderr",
          "output_type": "stream",
          "text": [
            "2024-08-05 11:37:36.594156: E external/local_xla/xla/stream_executor/cuda/cuda_fft.cc:485] Unable to register cuFFT factory: Attempting to register factory for plugin cuFFT when one has already been registered\n",
            "2024-08-05 11:37:36.604356: E external/local_xla/xla/stream_executor/cuda/cuda_dnn.cc:8454] Unable to register cuDNN factory: Attempting to register factory for plugin cuDNN when one has already been registered\n",
            "2024-08-05 11:37:36.607184: E external/local_xla/xla/stream_executor/cuda/cuda_blas.cc:1452] Unable to register cuBLAS factory: Attempting to register factory for plugin cuBLAS when one has already been registered\n",
            "2024-08-05 11:37:37.340731: W tensorflow/compiler/tf2tensorrt/utils/py_utils.cc:38] TF-TRT Warning: Could not find TensorRT\n",
            "/tmp/ipykernel_7155/1877585094.py:17: DeprecationWarning: Importing display from IPython.core.display is deprecated since IPython 7.14, please import from IPython display\n",
            "  from IPython.core.display import display, HTML\n"
          ]
        },
        {
          "name": "stdout",
          "output_type": "stream",
          "text": [
            "JAX version:  0.4.30\n",
            "JAX platform: gpu\n",
            "JAX devices:  1\n"
          ]
        },
        {
          "name": "stderr",
          "output_type": "stream",
          "text": [
            "WARNING: All log messages before absl::InitializeLog() is called are written to STDERR\n",
            "I0000 00:00:1722850658.452530    7155 cuda_executor.cc:1015] successful NUMA node read from SysFS had negative value (-1), but there must be at least one NUMA node, so returning NUMA node zero. See more at https://github.com/torvalds/linux/blob/v6.0/Documentation/ABI/testing/sysfs-bus-pci#L344-L355\n",
            "2024-08-05 11:37:38.476539: W tensorflow/core/common_runtime/gpu/gpu_device.cc:2343] Cannot dlopen some GPU libraries. Please make sure the missing libraries mentioned above are installed properly if you would like to use GPU. Follow the guide at https://www.tensorflow.org/install/gpu for how to download and setup the required libraries for your platform.\n",
            "Skipping registering GPU devices...\n"
          ]
        }
      ],
      "source": [
        "import base64\n",
        "import functools\n",
        "import html\n",
        "import io\n",
        "import os\n",
        "import warnings\n",
        "import random\n",
        "\n",
        "import jax\n",
        "import jax.numpy as jnp\n",
        "import numpy as np\n",
        "import ml_collections\n",
        "\n",
        "import tensorflow as tf\n",
        "import sentencepiece\n",
        "\n",
        "from IPython.core.display import display, HTML\n",
        "from PIL import Image\n",
        "\n",
        "# Import model definition from big_vision\n",
        "from big_vision.models.proj.paligemma import paligemma\n",
        "from big_vision.trainers.proj.paligemma import predict_fns\n",
        "\n",
        "# Import big vision utilities\n",
        "import big_vision.datasets.jsonl\n",
        "import big_vision.utils\n",
        "import big_vision.sharding\n",
        "\n",
        "# === Additional imports ===\n",
        "import numpy as np\n",
        "from nltk.translate.bleu_score import sentence_bleu, SmoothingFunction\n",
        "from sklearn.metrics import accuracy_score, precision_score, recall_score\n",
        "from rouge_score import rouge_scorer\n",
        "from tqdm import tqdm\n",
        "\n",
        "# Don't let TF use the GPU or TPUs\n",
        "tf.config.set_visible_devices([], \"GPU\")\n",
        "tf.config.set_visible_devices([], \"TPU\")\n",
        "\n",
        "backend = jax.lib.xla_bridge.get_backend()\n",
        "print(f\"JAX version:  {jax.__version__}\")\n",
        "print(f\"JAX platform: {backend.platform}\")\n",
        "print(f\"JAX devices:  {jax.device_count()}\")"
      ]
    },
    {
      "cell_type": "markdown",
      "metadata": {
        "id": "b9kSadtIhjlX"
      },
      "source": [
        "## Download and configure the model\n",
        "\n",
        "In this step, you'll download the model checkpoint and configure it so that you can fine-tune it later on. This step shows you how to move model parameters into TPU memory, which is useful for fine-tuning models on devices with limited resources."
      ]
    },
    {
      "cell_type": "markdown",
      "metadata": {
        "id": "7tvcc0oQHl4v"
      },
      "source": [
        "### Download the model checkpoint\n",
        "\n",
        "PaliGemma includes several model variations. For this tutorial, you'll use the base [JAX/FLAX PaliGemma 3B weight model](https://www.kaggle.com/models/google/paligemma/jax/paligemma-3b-pt-224).\n",
        "\n",
        "Download the `float16` version of the model checkpoint from Kaggle by running the following code. This process takes several minutes to complete."
      ]
    },
    {
      "cell_type": "code",
      "execution_count": 7,
      "metadata": {
        "id": "8weTFiWGtQVw"
      },
      "outputs": [],
      "source": [
        "import os\n",
        "import kagglehub\n",
        "\n",
        "# from google.colab import auth\n",
        "# auth.authenticate_user()"
      ]
    },
    {
      "cell_type": "code",
      "execution_count": 8,
      "metadata": {
        "colab": {
          "base_uri": "https://localhost:8080/"
        },
        "id": "qndVS3vetWom",
        "outputId": "b5aeeb6a-07d4-4c0f-8d1a-51bc7df5e183"
      },
      "outputs": [
        {
          "name": "stdout",
          "output_type": "stream",
          "text": [
            "Downloading the checkpoint from Kaggle, this could take a few minutes....\n",
            "Warning: Looks like you're using an outdated `kagglehub` version, please consider updating (latest version: 0.2.9)\n",
            "Model path: /home/simon/.cache/kagglehub/models/google/paligemma/jax/paligemma-3b-pt-224/1/paligemma-3b-pt-224.f16.npz\n"
          ]
        }
      ],
      "source": [
        "MODEL_PATH = \"./pt_224_128.params.f16.npz\"\n",
        "if not os.path.exists(MODEL_PATH):\n",
        "  print(\"Downloading the checkpoint from Kaggle, this could take a few minutes....\")\n",
        "  # Note: kaggle archive contains the same checkpoint in multiple formats.\n",
        "  # Download only the float16 model.\n",
        "  MODEL_PATH = kagglehub.model_download('google/paligemma/jax/paligemma-3b-pt-224', 'paligemma-3b-pt-224.f16.npz')\n",
        "  print(f\"Model path: {MODEL_PATH}\")\n",
        "\n",
        "TOKENIZER_PATH = \"./paligemma_tokenizer.model\"\n",
        "# or download from https://huggingface.co/google/paligemma-3b-pt-224/tree/main\n",
        "if not os.path.exists(TOKENIZER_PATH):\n",
        "  print(\"Downloading the model tokenizer...\")\n",
        "  !gsutil cp gs://big_vision/paligemma_tokenizer.model {TOKENIZER_PATH}\n",
        "  print(f\"Tokenizer path: {TOKENIZER_PATH}\")"
      ]
    },
    {
      "cell_type": "code",
      "execution_count": 9,
      "metadata": {
        "colab": {
          "base_uri": "https://localhost:8080/"
        },
        "id": "gQNOTfF24AV4",
        "outputId": "1620e8a5-8ddb-4733-b450-557f677c615e"
      },
      "outputs": [],
      "source": [
        "DATA_DIR_old=\"./longcap100\"\n",
        "if not os.path.exists(DATA_DIR_old):\n",
        "  print(\"Downloading the dataset...\")\n",
        "  !gsutil -m -q cp -n -r gs://longcap100/ .\n",
        "  print(f\"Data path: {DATA_DIR_old}\")\n",
        "\n",
        "FOOD_DATA_DIR=\"./food-101\"\n",
        "if not os.path.exists(FOOD_DATA_DIR):\n",
        "  print(\"Downloading the dataset...\")\n",
        "  !kaggle datasets download -d kmader/food41\n",
        "  !unzip -q food41.zip -d ./food-101\n",
        "  print(f\"Data path: {FOOD_DATA_DIR}\")\n",
        "\n",
        "import os\n",
        "import gdown\n",
        "\n",
        "INGREDIENTS_DATA_DIR = \"./ingredients-101\"\n",
        "if not os.path.exists(INGREDIENTS_DATA_DIR):\n",
        "    os.makedirs(INGREDIENTS_DATA_DIR)  # Ensure the target directory exists\n",
        "    print(\"Downloading the dataset...\")\n",
        "    # Define the URL of the Google Drive file\n",
        "    url = 'https://drive.google.com/uc?id=14ztu2gjdowZdMdCvo1tAZJ0aK5rMs4kb'\n",
        "    # Define the output file path\n",
        "    output = 'Ingredients101.zip'\n",
        "    # Download the file\n",
        "    gdown.download(url, output, quiet=False)\n",
        "    # Unzip only the contents of the \"Ingredients101\" directory directly into the target directory\n",
        "    os.system(f'unzip -q {output} \"Ingredients101/*\" -d {INGREDIENTS_DATA_DIR}')\n",
        "    # Move contents up from the nested \"Ingredients101\" directory and remove it\n",
        "    nested_dir = os.path.join(INGREDIENTS_DATA_DIR, 'Ingredients101')\n",
        "    for filename in os.listdir(nested_dir):\n",
        "        os.rename(os.path.join(nested_dir, filename), os.path.join(INGREDIENTS_DATA_DIR, filename))\n",
        "    os.rmdir(nested_dir)\n",
        "    # Clean up the zip file after extraction\n",
        "    os.remove(output)\n",
        "    print(f\"Data path: {INGREDIENTS_DATA_DIR}\")"
      ]
    },
    {
      "cell_type": "markdown",
      "metadata": {
        "id": "rv7w-cGuLj5o"
      },
      "source": [
        "### Configure the model\n",
        "\n",
        "It's time to actually start configuring the model that you're going to use.\n",
        "\n",
        "For this notebook, you need to be able to fit your model onto a T4 GPU. Having a limited resource like space constraints means that you have to be mindful of how your model is configured.\n",
        "\n",
        "If you fine-tune every parameter, your model won't be able to run in the notebook environment. As a result, in this part of the notebook, you'll configure your model so that it has the ability to freeze some of the parameters, and only fine-tune the parameters that really need to be fine-tuned for the model to give you accurate results. In LLMs, parameters are said to be *frozen* when they are no longer actively being used to train the model.\n",
        "\n",
        "In order to configure your model, you need to:\n",
        "\n",
        "* Initialize the `model_config` as a [`FrozenConfigDict`](https://github.com/google/ml_collections/tree/master#frozenconfigdict) so that you can freeze some of the parameters and keep memory usage low\n",
        "* Initialize an instance of the PaliGemma `Model` class using the `model_config` as its configurations\n",
        "* Load the model parameters into RAM\n",
        "* Define a `decode` function to sample outputs from the model\n",
        "\n",
        "This code in this cell takes about a minute to run to completion."
      ]
    },
    {
      "cell_type": "code",
      "execution_count": 10,
      "metadata": {
        "id": "1aghcULcEdtv"
      },
      "outputs": [],
      "source": [
        "# Define model\n",
        "model_config = ml_collections.FrozenConfigDict({\n",
        "    \"llm\": {\"vocab_size\": 257_152},\n",
        "    \"img\": {\"variant\": \"So400m/14\", \"pool_type\": \"none\", \"scan\": True, \"dtype_mm\": \"float16\"}\n",
        "})\n",
        "model = paligemma.Model(**model_config)\n",
        "tokenizer = sentencepiece.SentencePieceProcessor(TOKENIZER_PATH)\n",
        "\n",
        "# Load params - this can take up to 1 minute in T4 colabs.\n",
        "params = paligemma.load(None, MODEL_PATH, model_config)\n",
        "\n",
        "# Define `decode` function to sample outputs from the model.\n",
        "decode_fn = predict_fns.get_all(model)['decode']\n",
        "decode = functools.partial(decode_fn, devices=jax.devices(), eos_token=tokenizer.eos_id())"
      ]
    },
    {
      "cell_type": "markdown",
      "metadata": {
        "id": "uidBwmb8LwZ5"
      },
      "source": [
        "### Move model parameters into GPU/TPU memory\n",
        "\n",
        "Now you need to move the model parameters into GPU/TPU memory. First, shard the parameters across the available GPUs, then load the parameters. Here, you'll load the parameters sequentially. This process takes longer than loading them simultaneously, but it requires more RAM than you have available in this notebook.\n",
        "\n",
        "Finally, print out all of the parameters to see what type each individual parameter is cast to. Frozen parameters are kept as `float16`, while the trainable parameters are cast to `float32`. When you inspect the list, you'll see that most of the parameters have been frozen and are `float16`."
      ]
    },
    {
      "cell_type": "code",
      "execution_count": 11,
      "metadata": {
        "colab": {
          "base_uri": "https://localhost:8080/"
        },
        "id": "RWOdf_fw2SAO",
        "outputId": "30ac53ae-b724-42c5-c486-03ed42b8bc25"
      },
      "outputs": [
        {
          "name": "stderr",
          "output_type": "stream",
          "text": [
            "2024-08-05 11:37:53.319837: W external/xla/xla/service/gpu/nvptx_compiler.cc:765] The NVIDIA driver's CUDA version is 12.4 which is older than the ptxas CUDA version (12.5.82). Because the driver is older than the ptxas version, XLA is disabling parallel compilation, which may slow down compilation. You should update your NVIDIA driver or use the NVIDIA-provided CUDA forward compatibility packages.\n"
          ]
        }
      ],
      "source": [
        "# Create a pytree mask of the trainable params.\n",
        "def is_trainable_param(name, param):  # pylint: disable=unused-argument\n",
        "  if name.startswith(\"llm/layers/attn/\"):  return True\n",
        "  if name.startswith(\"llm/\"):              return False\n",
        "  if name.startswith(\"img/\"):              return False\n",
        "  raise ValueError(f\"Unexpected param name {name}\")\n",
        "trainable_mask = big_vision.utils.tree_map_with_names(is_trainable_param, params)\n",
        "\n",
        "# If more than one device is available (e.g. multiple GPUs) the parameters can\n",
        "# be sharded across them to reduce HBM usage per device.\n",
        "mesh = jax.sharding.Mesh(jax.devices(), (\"data\"))\n",
        "\n",
        "data_sharding = jax.sharding.NamedSharding(\n",
        "    mesh, jax.sharding.PartitionSpec(\"data\"))\n",
        "\n",
        "params_sharding = big_vision.sharding.infer_sharding(\n",
        "    params, strategy=[('.*', 'fsdp(axis=\"data\")')], mesh=mesh)\n",
        "\n",
        "# Yes: Some donated buffers are not usable.\n",
        "warnings.filterwarnings(\n",
        "    \"ignore\", message=\"Some donated buffers were not usable\")\n",
        "\n",
        "@functools.partial(jax.jit, donate_argnums=(0,), static_argnums=(1,))\n",
        "def maybe_cast_to_f32(params, trainable):\n",
        "  return jax.tree.map(lambda p, m: p.astype(jnp.float32) if m else p,\n",
        "                      params, trainable)\n",
        "\n",
        "# Loading all params in simultaneous - albeit much faster and more succinct -\n",
        "# requires more RAM than the T4 colab runtimes have by default.\n",
        "# Instead we do it param by param.\n",
        "params, treedef = jax.tree.flatten(params)\n",
        "sharding_leaves = jax.tree.leaves(params_sharding)\n",
        "trainable_leaves = jax.tree.leaves(trainable_mask)\n",
        "for idx, (sharding, trainable) in enumerate(zip(sharding_leaves, trainable_leaves)):\n",
        "  params[idx] = big_vision.utils.reshard(params[idx], sharding)\n",
        "  params[idx] = maybe_cast_to_f32(params[idx], trainable)\n",
        "  params[idx].block_until_ready()\n",
        "params = jax.tree.unflatten(treedef, params)\n",
        "\n",
        "# Print params to show what the model is made of.\n",
        "def parameter_overview(params):\n",
        "  for path, arr in big_vision.utils.tree_flatten_with_names(params)[0]:\n",
        "    print(f\"{path:80s} {str(arr.shape):22s} {arr.dtype}\")\n",
        "\n",
        "# print(\" == Model params == \")\n",
        "# parameter_overview(params)"
      ]
    },
    {
      "cell_type": "markdown",
      "metadata": {
        "id": "iD_9XXQkn1Mv"
      },
      "source": [
        "## Prepare to tune the model\n",
        "\n",
        "Now that your model is configured, you can tune it. In this step, you'll create your model's inputs as well as the training and validation iterators, view the training examples, and define the training and validation loops."
      ]
    },
    {
      "cell_type": "markdown",
      "metadata": {
        "id": "83ZcnbddJKdx"
      },
      "source": [
        "### Create model inputs\n",
        "\n",
        "The model checkpoint you're using has already been trained on images of various aspect ratios that have been resized to 224x224 pixels, and to handle tokenized texts.\n",
        "\n",
        "The code below defines three functions that you'll use in the next step create the model's inputs:\n",
        "\n",
        "* **`preprocess_image`:** Normalizes the image data. In this case, pre-processing converts the passed-in image to greyscale, removes the alpha layer, and resizes the passed-in image to the size required by the model for image inputs (224x224 pixels).\n",
        "* **`preprocess_tokens`:** Splits the tokens up and adds flags to mark whether a token is a prefix or suffix token. These flags will be used later on in the code, during the training step and the evaluation loop.\n",
        "* **`postprocess_tokens`:** Removes any tokens left at and/or after the end-of-sequence (EOS) token and returns the remaining decoded tokens.\n"
      ]
    },
    {
      "cell_type": "code",
      "execution_count": 12,
      "metadata": {
        "id": "8SRW0NuU4UcW"
      },
      "outputs": [],
      "source": [
        "def preprocess_image(image, size=224):\n",
        "  # Model has been trained to handle images of different aspects ratios\n",
        "  # resized to 224x224 in the range [-1, 1]. Bilinear and antialias resize\n",
        "  # options are helpful to improve quality in some tasks.\n",
        "  image = np.asarray(image)\n",
        "  if image.ndim == 2:  # Convert image without last channel into greyscale.\n",
        "    image = np.stack((image,)*3, axis=-1)\n",
        "  image = image[..., :3]  # Remove alpha layer.\n",
        "  assert image.shape[-1] == 3\n",
        "\n",
        "  image = tf.constant(image)\n",
        "  image = tf.image.resize(image, (size, size), method='bilinear', antialias=True)\n",
        "  return image.numpy() / 127.5 - 1.0  # [0, 255]->[-1,1]\n",
        "\n",
        "def preprocess_tokens(prefix, suffix=None, seqlen=None):\n",
        "    separator = \"\\n\"\n",
        "    tokens = tokenizer.encode(prefix, add_bos=True) + tokenizer.encode(separator)\n",
        "    mask_ar = [0] * len(tokens)\n",
        "    mask_loss = [0] * len(tokens)\n",
        "\n",
        "    if suffix:\n",
        "        suffix_tokens = tokenizer.encode(suffix, add_eos=True)\n",
        "        tokens += suffix_tokens\n",
        "        mask_ar += [1] * len(suffix_tokens)\n",
        "        mask_loss += [1] * len(suffix_tokens)\n",
        "\n",
        "    mask_input = [1] * len(tokens)\n",
        "    if seqlen:\n",
        "        padding = [0] * max(0, seqlen - len(tokens))\n",
        "        tokens = tokens[:seqlen] + padding\n",
        "        mask_ar = mask_ar[:seqlen] + padding\n",
        "        mask_loss = mask_loss[:seqlen] + padding\n",
        "        mask_input = mask_input[:seqlen] + padding\n",
        "\n",
        "    return jax.tree.map(np.array, (tokens, mask_ar, mask_loss, mask_input))\n",
        "\n",
        "def postprocess_tokens(tokens):\n",
        "  tokens = tokens.tolist()  # np.array to list[int]\n",
        "  try:  # Remove tokens at and after EOS if any.\n",
        "    eos_pos = tokens.index(tokenizer.eos_id())\n",
        "    tokens = tokens[:eos_pos]\n",
        "  except ValueError:\n",
        "    pass\n",
        "  return tokenizer.decode(tokens)\n"
      ]
    },
    {
      "cell_type": "markdown",
      "metadata": {
        "id": "ovgWBgdHJZq3"
      },
      "source": [
        "### Create the training and validation iterators\n",
        "\n",
        "Create two iterators:\n",
        "\n",
        "*   A **training iterator** to allow the training process to go through the data in chunks rather than processing it all at once\n",
        "    *   This allows you to do some data pre-processing before use\n",
        "*   A **validation iterator** that allows the training process to iterate over the validation dataset to see how well the tuned model aligned with the provided results"
      ]
    },
    {
      "cell_type": "code",
      "execution_count": 13,
      "metadata": {
        "id": "YpwUkjLfWacG"
      },
      "outputs": [],
      "source": [
        "# HERE"
      ]
    },
    {
      "cell_type": "code",
      "execution_count": 14,
      "metadata": {
        "id": "uk-DEf8-veZo"
      },
      "outputs": [],
      "source": [
        "DATA_DIR = './food-ingredients-101'"
      ]
    },
    {
      "cell_type": "code",
      "execution_count": 15,
      "metadata": {
        "id": "zWWmYmPvyxk8"
      },
      "outputs": [],
      "source": [
        "import os\n",
        "import json\n",
        "\n",
        "# def merge_data(food_data_dir, ingredients_data_dir, data_dir):\n",
        "#     # Create the data directory if it doesn't exist\n",
        "#     os.makedirs(data_dir, exist_ok=True)\n",
        "\n",
        "#     # Define the paths to the required files\n",
        "#     food_train_file = os.path.join(food_data_dir, 'meta', 'train.json')\n",
        "#     food_test_file = os.path.join(food_data_dir, 'meta', 'test.json')\n",
        "#     ingredients_train_images = os.path.join(ingredients_data_dir, 'Annotations', 'train_images.txt')\n",
        "#     ingredients_train_labels = os.path.join(ingredients_data_dir, 'Annotations', 'train_labels.txt')\n",
        "#     ingredients_test_images = os.path.join(ingredients_data_dir, 'Annotations', 'test_images.txt')\n",
        "#     ingredients_test_labels = os.path.join(ingredients_data_dir, 'Annotations', 'test_labels.txt')\n",
        "#     ingredients_file = os.path.join(ingredients_data_dir, 'Annotations', 'ingredients.txt')\n",
        "\n",
        "#     # Load the ingredients data\n",
        "#     with open(ingredients_file, 'r') as f:\n",
        "#         ingredients_list = [line.strip() for line in f.readlines()]\n",
        "\n",
        "#     # Create a dictionary to map each class to its ingredients\n",
        "#     class_to_ingredients = {i: ingredients for i, ingredients in enumerate(ingredients_list)}\n",
        "\n",
        "#     def create_jsonl(image_file, label_file, split):\n",
        "#         with open(image_file, 'r') as f:\n",
        "#             image_paths = [line.strip() for line in f.readlines()]\n",
        "\n",
        "#         with open(label_file, 'r') as f:\n",
        "#             labels = [int(line.strip()) for line in f.readlines()]\n",
        "\n",
        "#         if len(image_paths) != len(labels):\n",
        "#             raise ValueError(\"The number of images and labels do not match.\")\n",
        "\n",
        "#         output_file = os.path.join(data_dir, f'{split}.jsonl')\n",
        "#         with open(output_file, 'w') as f_out:\n",
        "#             for image_path, label in zip(image_paths, labels):\n",
        "#                 ingredients = class_to_ingredients[label]\n",
        "#                 suffix = ', '.join(ingredients.split(','))\n",
        "#                 record = {\n",
        "#                     \"prefix\": \"\",\n",
        "#                     \"suffix\": suffix,\n",
        "#                     \"image\": food_data_dir + '/images/' + image_path + '.jpg',\n",
        "#                 }\n",
        "#                 f_out.write(json.dumps(record) + '\\n')\n",
        "\n",
        "#     # Process the train and test splits\n",
        "#     create_jsonl(ingredients_train_images, ingredients_train_labels, 'train')\n",
        "#     create_jsonl(ingredients_test_images, ingredients_test_labels, 'test')\n",
        "\n",
        "# # Example usage\n",
        "# merge_data('food-101', 'ingredients-101', 'food-ingredients-101')"
      ]
    },
    {
      "cell_type": "code",
      "execution_count": 16,
      "metadata": {
        "id": "whzWOojGOtzi"
      },
      "outputs": [],
      "source": [
        "SEQLEN = 128\n",
        "\n",
        "train_dataset = big_vision.datasets.jsonl.DataSource(\n",
        "    os.path.join(DATA_DIR, \"train.jsonl\"),\n",
        "    # fopen_keys={\"image\": FOOD_DATA_DIR}\n",
        "    )\n",
        "\n",
        "val_dataset = big_vision.datasets.jsonl.DataSource(\n",
        "    os.path.join(DATA_DIR, \"val.jsonl\"),\n",
        "    # fopen_keys={\"image\": FOOD_DATA_DIR}\n",
        "    )\n",
        "\n",
        "test_dataset = big_vision.datasets.jsonl.DataSource(\n",
        "    os.path.join(DATA_DIR, \"test.jsonl\"),\n",
        "    # fopen_keys={\"image\": FOOD_DATA_DIR}\n",
        "    )\n",
        "\n",
        "\n",
        "from PIL import Image\n",
        "import os\n",
        "import io\n",
        "\n",
        "def train_data_iterator():\n",
        "    \"\"\"Never ending iterator over training examples.\"\"\"\n",
        "    dataset = train_dataset.get_tfdata().shuffle(1_000).repeat()\n",
        "    for example in dataset.as_numpy_iterator():\n",
        "        try:\n",
        "            # Decode the byte path to a string and form the full image path\n",
        "            image_path = example[\"image\"].decode()\n",
        "            image = Image.open(image_path)\n",
        "            image = preprocess_image(image)\n",
        "        except Exception as e:\n",
        "            # print(f\"Error opening image at {image_path}: {e}\")\n",
        "            continue\n",
        "\n",
        "        prefix = \"caption en\"\n",
        "        suffix = example[\"suffix\"].decode().lower()\n",
        "        tokens, mask_ar, mask_loss, _ = preprocess_tokens(prefix, suffix, SEQLEN)\n",
        "\n",
        "        yield {\n",
        "            \"image\": np.asarray(image),\n",
        "            \"text\": np.asarray(tokens),\n",
        "            \"mask_ar\": np.asarray(mask_ar),\n",
        "            \"mask_loss\": np.asarray(mask_loss),\n",
        "            # \"image_path\": image_path,\n",
        "        }\n",
        "\n",
        "\n",
        "def validation_data_iterator():\n",
        "  \"\"\"Single iterator over validation examples.\"\"\"\n",
        "  for example in val_dataset.get_tfdata(ordered=True).as_numpy_iterator():\n",
        "    try:\n",
        "        image_path = example[\"image\"].decode()\n",
        "        image = Image.open(image_path)\n",
        "        image = preprocess_image(image)\n",
        "    except Exception as e:\n",
        "        continue\n",
        "\n",
        "    prefix = \"caption en\"\n",
        "    tokens, mask_ar, _, mask_input = preprocess_tokens(prefix, seqlen=SEQLEN)\n",
        "\n",
        "    yield {\n",
        "        \"image\": np.asarray(image),\n",
        "        \"text\": np.asarray(tokens),\n",
        "        \"mask_ar\": np.asarray(mask_ar),\n",
        "        \"mask_input\": np.asarray(mask_input),\n",
        "    }\n",
        "\n",
        "\n",
        "def test_data_iterator():\n",
        "  \"\"\"Single iterator over test examples.\"\"\"\n",
        "  for example in test_dataset.get_tfdata(ordered=True).as_numpy_iterator():\n",
        "    try:\n",
        "        image_path = example[\"image\"].decode()\n",
        "        image = Image.open(image_path)\n",
        "        image = preprocess_image(image)\n",
        "    except Exception as e:\n",
        "        continue\n",
        "\n",
        "    prefix = \"caption en\"\n",
        "    tokens, mask_ar, _, mask_input = preprocess_tokens(prefix, seqlen=SEQLEN)\n",
        "\n",
        "    yield {\n",
        "        \"image\": np.asarray(image),\n",
        "        \"text\": np.asarray(tokens),\n",
        "        \"mask_ar\": np.asarray(mask_ar),\n",
        "        \"mask_input\": np.asarray(mask_input),\n",
        "    }"
      ]
    },
    {
      "cell_type": "markdown",
      "metadata": {
        "id": "84olaM5dCiAl"
      },
      "source": [
        "### View training examples\n",
        "\n",
        "In this notebook, the training data contains 90 images that are paired with long descriptions of what's depicted in the image.\n",
        "\n",
        "**Note:** Normal training data sets that are meant to be used for practical use cases should contain more images, but this notebook limits the number of data points so that you can train the model in a reasonable amount of time for an example.\n",
        "\n",
        "The code below prints a random selection of images with their descriptions from the training data set so that you can see what the images and descriptions your model is trained on looks like. Each image is displayed in as a 128x128 pixel JPEG, with the description printed next to the image to the right."
      ]
    },
    {
      "cell_type": "code",
      "execution_count": 17,
      "metadata": {
        "colab": {
          "base_uri": "https://localhost:8080/",
          "height": 563
        },
        "id": "BzJfb5t0nsLq",
        "outputId": "158d03ec-f326-464d-f76a-e261b96ceaa7"
      },
      "outputs": [
        {
          "name": "stdout",
          "output_type": "stream",
          "text": [
            "Training examples\n"
          ]
        },
        {
          "data": {
            "text/html": [
              "\n",
              "    <div style=\"display: inline-flex; align-items: center; justify-content: center;\">\n",
              "        <img style=\"width:128px; height:128px;\" src=\"data:image/jpeg;base64,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\" />\n",
              "        <p style=\"width:256px; margin:10px; font-size:small;\">onion, garlic, beef, chili, salt, sugar, corn tortillas, salsa, cilantro, lime</p>\n",
              "    </div>\n",
              "    \n",
              "    <div style=\"display: inline-flex; align-items: center; justify-content: center;\">\n",
              "        <img style=\"width:128px; height:128px;\" src=\"data:image/jpeg;base64,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\" />\n",
              "        <p style=\"width:256px; margin:10px; font-size:small;\">sushi grade tuna, scallions, tomato, cilantro, gin, soy, oil, cucumber</p>\n",
              "    </div>\n",
              "    \n",
              "    <div style=\"display: inline-flex; align-items: center; justify-content: center;\">\n",
              "        <img style=\"width:128px; height:128px;\" src=\"data:image/jpeg;base64,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\" />\n",
              "        <p style=\"width:256px; margin:10px; font-size:small;\">pizza, cherry, olive, oregano, basil, salt, oil, cheese</p>\n",
              "    </div>\n",
              "    \n",
              "    <div style=\"display: inline-flex; align-items: center; justify-content: center;\">\n",
              "        <img style=\"width:128px; height:128px;\" src=\"data:image/jpeg;base64,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\" />\n",
              "        <p style=\"width:256px; margin:10px; font-size:small;\">vanilla, salt, egg, sugar, chocolate, chocolate</p>\n",
              "    </div>\n",
              "    \n",
              "    <div style=\"display: inline-flex; align-items: center; justify-content: center;\">\n",
              "        <img style=\"width:128px; height:128px;\" src=\"data:image/jpeg;base64,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\" />\n",
              "        <p style=\"width:256px; margin:10px; font-size:small;\">noodles, miso, tofu, cress, onion, cilantro, pepper, miso, apple, gin, turmeric, water</p>\n",
              "    </div>\n",
              "    \n",
              "    <div style=\"display: inline-flex; align-items: center; justify-content: center;\">\n",
              "        <img style=\"width:128px; height:128px;\" src=\"data:image/jpeg;base64,/9j/4AAQSkZJRgABAQAAAQABAAD/2wBDAAgGBgcGBQgHBwcJCQgKDBQNDAsLDBkSEw8UHRofHh0aHBwgJC4nICIsIxwcKDcpLDAxNDQ0Hyc5PTgyPC4zNDL/2wBDAQkJCQwLDBgNDRgyIRwhMjIyMjIyMjIyMjIyMjIyMjIyMjIyMjIyMjIyMjIyMjIyMjIyMjIyMjIyMjIyMjIyMjL/wAARCADgAOADASIAAhEBAxEB/8QAHwAAAQUBAQEBAQEAAAAAAAAAAAECAwQFBgcICQoL/8QAtRAAAgEDAwIEAwUFBAQAAAF9AQIDAAQRBRIhMUEGE1FhByJxFDKBkaEII0KxwRVS0fAkM2JyggkKFhcYGRolJicoKSo0NTY3ODk6Q0RFRkdISUpTVFVWV1hZWmNkZWZnaGlqc3R1dnd4eXqDhIWGh4iJipKTlJWWl5iZmqKjpKWmp6ipqrKztLW2t7i5usLDxMXGx8jJytLT1NXW19jZ2uHi4+Tl5ufo6erx8vP09fb3+Pn6/8QAHwEAAwEBAQEBAQEBAQAAAAAAAAECAwQFBgcICQoL/8QAtREAAgECBAQDBAcFBAQAAQJ3AAECAxEEBSExBhJBUQdhcRMiMoEIFEKRobHBCSMzUvAVYnLRChYkNOEl8RcYGRomJygpKjU2Nzg5OkNERUZHSElKU1RVVldYWVpjZGVmZ2hpanN0dXZ3eHl6goOEhYaHiImKkpOUlZaXmJmaoqOkpaanqKmqsrO0tba3uLm6wsPExcbHyMnK0tPU1dbX2Nna4uPk5ebn6Onq8vP09fb3+Pn6/9oADAMBAAIRAxEAPwD5/oxRXuXhPwpoqeHLGaXT4Jppolld5UDEkjPes6lRU1dibseG4pcGvpEeH9IX7ul2Q+kC/wCFWE0rT4x8thbL9IV/wrH61HsLmPmYKx6AmnCKQ9Eb8q+nVsrVTxbQj6RiplgiB4jT8FFT9bXYdz5fFrcN0gkP0U08afenpaTn6RmvqNYkH8I/KpQgz0FH1vyC58tLpOot92wuj9IW/wAKkGhaueml3h/7YN/hX1IF7CpFGan655AfLI8Pa02MaTenP/TBv8KePDOunpo99/34b/CvqQDNG2j64+wz5c/4RfXv+gPff9+G/wAKX/hFfEH/AEBb/wD78N/hX1IEFLtGKPrj7AfLf/CKeIMZ/sW//wC/Df4Un/CLa/8A9Aa//wDAdv8ACvqgL+7HFPCjaOKPrj7DsfKZ8Ma8OujX/wD4Dt/hTD4d1peuk3w/7YN/hX1dt4ppWj64+wj5QOhauOul3o/7YN/hTG0jUl+9p90PrC3+FfWBUDNNKjgGj655CPk06dejrZ3A+sZ/wphtLhfvQSj6oa+syo/u1AY03fcB/Cn9c8gufKBhkHWNvyppVh1Br6wNvE3WJD9VFRNY2rdbWE/WMUfXF2Fc+U8UV9TPpOnODv0+1b6wqf6VC3h3RZAd2k2J/wC3df8ACn9cj2DmPl+ivffF/hHQ38MX80Wm28E8MLSpJCgUgqM9q8CPWuilUVRXQ07gOtfR3htceGtMH/TrH/6CK+ca+k/D42+HtOH/AE6x/wDoIrHFfChSNFR2/nUiikVeKkUcVwiQBec4p4TrilVfyqRQKRYijjFSbBmlVM4qQLg0DsNC05V704J0NPA4pBYYBzTgvJp4UZpwXigYwLS7crmpQoIo28E0AN2jywKXBwO1SMnyCnFTjpSCxDtwOaaV5NTbeKaVz7UgIStMZcVYZcVGwHrTJ2ITwaZt5zUrLzS7O9AmQ7PlqEtlsDtV1VPI7VTK4lYe9CEB+7SAYp2OKQD1pbCaMbxMu7wtqo9bWX/0E18x19QeIlz4b1Qf9Osv/oJr5fr0cH8LHEB1r6W0NQuhaeP+naP/ANBFfNI619N6QmNHscf88I//AEEU8Vshsur1qdRx0qNRzUqj61wtAhwHtUqLx+NIi9qkUc0FWFC1IFyKRVxUgWkMQAYFOAzxjk0pXAFOUdKB2F24pcYp2KXaaQ7CKKdjrTgMUYoAUr8goxxwakIG0U0gD8qQhhXimheakwMc0mKSAayE1A6Ec1azimsfammFilg5xT8YFTMBmmMvpQxWGrnmqrr85NW2BqJl4pIlkBWm7cdamI56UxsZp3JsZOvLu0DUh62sn/oJr5ar6q1lf+JLfjHW3k/9BNfKtd+D+FhEB1r6f0tcaXaD/pin/oIr5gHWvqTTgPsFr/1xT+QqsVshllVORUyg4pqr+NSqOnpXCNIcgxUqg4pg9jUqA0WKHKCaeB+VIgxTxz70MYuM9aAD1o/ClycCkMdxmpO9RDOak5FJgP8Awpp6mjNAHBNAEp6AU0kihs8UmcgUAG7nmjoPxoIGOlGeKADIINMPpmn9zTG60kgGnsO9MIwKc47imLnoaLCHN0rO1XUYtKsTczAld6oAOpLEAfzrQIOK4bx9eHz9C00HJuL+Mso7gMP8a0pU+eSRLOsv7hbG0nuWGUiQuffFMtpRdWcNwFwJY1cD0yM1jePrprTwffuDguoQfia1LP8AcaTa54CQID+Cijk91PuybGWdUh1bS9ZWFGH2Vpbds9yFzkfnXzB3r3rwLM1z4b8RTE5El3K35oK8FPWu+jFQlKKBCr94V9TafxY24x/yzX+Qr5aT74+tfU9kMWUH/XNf5VGL2Qy4uDUi9ajWpU7elcRSRKoxT1FNGMVKmBmgLCqMU8DikAB5p3GKV2UkN5OaUdOlO20YOB0ouFhFPOKeetNA5oOQc0MQ4nigH0ppPFC5/WkBYPY+1MqRskU1utAxpOOtH8NIQaaTSAXkE01j0NK3emOOKYCM3y9aYD3pkgIGeaiWTHJ6d6q2gi0zjAry/wARXIvvizoloDlbeRSR7gFj/SvSDMpjLE8AZryDQLoal8WDdE5Uea4/Igfzrpwkfil2QmdL8WLoR+H4LYH5ppxx64//AF10msTix8NXc2ceXanH121wPxPuvN1bR7TqN4Y/iwH9K63x7P8AZ/BV8QcblWP8yKrk92mu7JZzHwyO/wAE6v3/ANJlz/37WvDj94/WvbvhUQ3gzVhnn7Q//osV4i/32+tdKVqsxIWP/WL9a+qbQf6JCP8AYX+VfK0f+tT6ivqq2/49oh/sj+VYYroMsqAeBUqjH5VECKnUDFcRSJR0qQDPWmDkDipVHFK4xQDgU/oK5zXvGekaBmKaYzXR6W8PzMfr6VzDeIfGHiAEadappts3SRxl8fU8fpW8MNOS5tl5gelMyrkkgD1NV21GyTh7u3X6yAV5k/gXVtRbfq3iW4cnqqkn/wCtUkfwm04jL6pfsevGB/StlQope9P8BXZ6XFfWcrYiuoGP+zIDU+QQSCDXlj/Cu1jB8jWL6PuCyA05PDniXSbfbpmsrOQc4YlD+pIpPD0pfDMLnqBFCgZ6/hXnVp401vSpVh1uwLDoWA2k/Q9DXa6RrthrEYe1mBbvGwww+orGpQnT1ewI2Sab3pT1NIecVgMYTimnNSHGKaV4oAbzQRxkUpGKO3FMCFwcVRm+UHFaJGRzVS4jBQ1URM5zWNQWz0S7l34IRsfU8V5t8PcSeIr+7bkRQYB92YD/ABrqfGayT6LfQRn5gm7A78gAfma5P4fWksMOsvKjpLC8UbBuCDliR+lerSglQl5iux/je4Fx46sYi3CmFcY98/1rrPiTej/hCggbBkmUflk1w+uwSN46028cMYZ5VCt2JUgEfyrS+IE7XPh+OBWJ8l/Mb6cD+tU6acqduhN9y/8ACKQN4c1qEdRLu/NCP6V4w/8ArG+pr1r4NPmLXIj/AM80b/0IV5LJ/rX/AN41LVq0/kCFi/1qf7wr6ptyPs8eP7or5Wi/1yf7wr6ngP7mPp90Vz4rZDLS8j0qZG5xVYdalRjtOfzNcVikiy0qRozyFVVRksTwBXn2q+MdQ8R376R4YDLCDtlvAP8A0H0HvVDxFq174v1k+H9IcpYxNi5mU/f9Rn0ruND0S30iyW2tUA4G+TuxrrjCNGKlNXfYL3MnQPBNlprCWZftd2Tl5JOQDXWraIoBkPToo4Ap3mJENq1CZCxNYzqTm7tj2J1aKPhUH5VMJAy9qpqMnFWgAFrOSC4jTmPsCKieaCT/AFkasKkdMqRVRouvaqSRNxJ7C2vI2QbSp6o4yK47VvDU1hcrc2EkkUinIVTz/wABPf6V2HlNuGDg+opzTKwNteKGibo/p/hWtOpKHoBm+G/FLXqi01EqtyvCydBJ/gfauqzkZrhdY0MRz+ahYM3KyJ3I6H/eH6itvw7q0l9beROQLqD5Xwfve49qmtCLXPAFc3we1Gc1GpOacDxiuYY/rSEdMUmcn6UDnFACEcVBMo8tqmY1WuJNsbe4ql5AeQ+OmvjLOtikrBcGTyxnAznPHuBWF4Z8QJZW2qR6h5pnu5El3svUjdnP/fVbGv65d6V40tntbkQLM3lOWGVwSOvtXVX/AMNrrVx5txrEaM4yWgtwK9aVenRppVdEyVGUnoeS/wBqhfFNrfS+bJbW8wcKAemeateJ9ZW7En2OdhHIu1lxywJHH6V2c/wgK/c118/7UQ/xrLufhTeRr8uqeZ7bcU45hg201IfsKnYf8HEAn1kEHcbYEE+mf/r15LL/AK1/9417b4G8K3nh3W5pJpw6SwOmM+2R/KvEpf8AXP8A7xqfaQqVZSg7rQXK46MIv9cn+8K+o7d8wpn+6K+XIv8AWp9RX1BbkeQh/wBkH9KwxS0QFtW59K5vxvrcthpi2FoT9svDsXHVV7n+ldCuWIAFcrDapq/iy4v5DugtD5UXodvGfzz+lZUEk+aXQZoeE9Aj0XTI4gAZ3G6R+9dRu8tNo4pLWLZH5jgc80yRhknpWc5ucrspCbtzDNPBxVbfjmoJ71IRl3AppAk27I1FkA7043KZxkfSuP1bxH9gtnuCjtEgyWUEgD3xXnM3xQv5L2LZGFgV/mxyWH9K3p4WVRXQ3Bx0loe8iZXXhhRtDDg1xGg+IF1SNXik+VuxUg100eoRW52M/mS9kXk1z1YOm7MI029kaH3T0Bpk8XmIcfjU0b+YgZ12seq55FO7EgY9qyjNPYTg4vUoxlZYzbTcg/db0NYThtJ1tJlXG59r46Y//X/Otm6XByp57VT1dRc2Ed2ANy/K9dEX0ezEtzpUYOispyCKd6YrJ0W4Mlu0ZJJU5H0rTzjvXO1ZjkrMUng/SkDEYpc5xn0pvGKLCFZgR1rPvpMRN9KuH6Vn3y7oz34qorUR494tsvtF9DOwLLHMrOB1255r27T5A1hCU5QoMH2rzbVbPdKwIPJq94Y1+TQ0FjeyFrIthHPWPPb6fyrox9OVaiuXdF0pcstTurkE88elUJZCE+Ye1SXmr6XBHum1C2jycDdKo5rLubmN496So8ZIAKMG6/Svn40preJ2XT6mfCHm8Q5UkxpE7H8jXzfL/rn/AN419WxWCafZy5A+0SId57qMdK+Upf8AWv8A7xr6DA/CziqO7Ej/ANav1FfTVs/7iP8A3R/KvmVPvr9a+k7VwbaI5/gH8q1xGyMy3Pcm3tJpt2NkZYfgKqaFara2scJ69z6nvS3B822eMnh8KfzFWIgI7ggcBWNc+0bGiNeWfauwdO9Z9xeJGuXcKO+aSac7mNcjqyT6nrP2SNmAETMD2zjNKC6msIJ3ctkbFxq7OknkI21f4+1chJrQmvNskpLZ6VoeGrlpNJurOVcywkhg33hWGscRukbI3I33duc1pSteSkdOX4mOrZtvqCC6htAnmeYQrgj5QCO/rSt4VsII/PsLSJJc4K7cnPtmrmleHZNQImvC1vCnzBjwzD2H9TWnJeLDJjT1OFGPPk+Zj9Kj2yi7QO2VZV5e6r2C10r+zLJZrmZIZWHBbkqPRR60W1xKZzFYW+xMZedzlz/hVJ0dj5t3PmRufm5YCtC0vLO2s7mVjiNE3Fz6CsKjk1fdm9Ogl709TXn1KHTrnTbSRyDeFkRz3YDOPx5rWjctnNeL+NvF1rqF5o76fJ5hspfOZl7cj/CvYrSZLiCOZCCsiBhj3qoYeVKjGUlq7ni4qpz1XboRz9GBPeqyKJLK7h/2d61YueDj1qnby5u5UHQwMSa1S0OW5L4fIZ2yedgrcPSud8PsDcsB1EYzXQs1ZST5jSpuAIDCjOeopuT+tJv4pEAzcdOarSjdwelTM1V5GP600Lqc/qVsGJHfNZx09LiF43XKsMYrbvPrmqsP3sY6HFdKm0tBngniCyfTNUltmLFc5QnsM4r1j4OaVHLaT6nIhZ4xhd3IyOf8K5jxRptrNrz3N7K0dvbly+1NxY7hgY9812fwj8TDVNW1HS9qxQiIPBGIgvAODnHHcV3YqcqmH91epEGkzt5x/o8zHJJRic/SvkiT/Wv/ALxr66u/ltJ+eiN/KvkWT/WN9TXBgtmMRfvD619G2rE2kXT/AFa/yr5yX7wr6HtHzZw8/wDLNf5VtiNkBNcy7Iiw6gE/pmtFiuTIp4b5gfrzWW4DgL15qzp0nmaYsbNueEGJj7qcfywfxrncdLlFlYzJGT1GOtcxqkt1p2rwanbp5giG2SP1X1rrLNswsvpxWRqMe2UHHenTs20y1K25y2qa1aXjNPY2whnYYeRjggfh1rIs/EkelyeaSsrAkYdeh9RW5qehpMS8ClHPoOK4LW9NlttRZHfCtyGPSu2lQptcvQVVwjBez0PSP+Eui1CxIskO0483e2WY+p9vanDVJZYCUdUKLk44zXl9lq9ppW4R+bPIRgkHaoqteeIry5UojeUhGCF6/nSWCinZbHdh8dGnStJanps2s2IjLzXABxk/NXP6t45tv7FudPsstJMNvmEcY715+H3HLsT+NMB+auqGEpppsyq5jUmnFKxOj7E69a+i/A+qLqHhPTpM5dYhGx914/pXzfkGvYvhNdMdDnjYnbFMcenIBq8fBSpX7HDE9FupMEZNZsUm2a8lB4SAr+JovrsAMxPA4qjBM0WlPM6/NPJvx/sLXlRg+Uo2fDkX+k3Dc8EJ+QroTWR4chaLTgz53t8zfU8/4Vqt1x2rmqO82N3FwMjmoyMHrxS+mMU0moQET+uarSkBTnNWHIPGKqTsCDVxEZt42GOajtxyRjvTrsrk9eeMUltwfwyK0btEEee+MWjg1C9eVv3fQj3O2tP4LJbSeKrmaOQMyWpwMerCsb4jKDd3gHH3T+i1m/Ca8ey+IFgsZbE26Nx6gg/4CvT5b4VtdjP7R73qYCQXY9Ef+Rr5Df77fWvrvWjtivfTY5/Q18iH7x+tedgtmWA619AWTf6Fbn1jX+Qr5+HWvfbA/wCgW7DvEn8hW9fZAXQTn39qjhuVs9VCHiO8XK46B1GCPxXH5U4HLDHWorq2F5amDO2VGEkEg6q4rCLWzBamzA3lTH0NR6hD5sXA57VT06++3QEMuy4i+WWPPKn/AA7itSOQSJtP3hSs4soyo13JhsA1zfivQItSsWKjEg5V/wC6a66aLY+VHHcVBMgkjK8EeldFOo4u6FvufPd1ay2k7QzKVZTUNeo+KPD0V2rOsWJB90jrXns+jX0DEGBiB3XmvTjJSV0S0UKKmNpcjrBJ/wB8mj7Jc8fuJOf9g1QiMckYr2nwPaNpHhWLzBiacmUjvg9P0rz/AMPeFLma7juNQiMVqp3bW4L+2PSvRJ74RJGNu7cQqIo6+wrKvLnSghrTUvzu13NFbISXk6+w7mpZpBfajHBGD9mjAHH90Hj/AL6P8qjiiezt5DJzeTD95j/lmvZR7mtfwxpzO7XcgAQNkf7Tf4CuCpJRRpBdTpbWL7PapGR82Mt9akJz2pSfemD1zXnAxc4qNm9qUn/aqJ2zTQhrnr+lUpnO0jirLNwfeqcxwT704rURn3TDA6fSltXxg8YIqC6PPvii1cEIQMfWtXsSvM5HxRpv9qeI9Qt2YDbYPMPcqgNc/wDCpYYfiVZwvIkmC4R1Pysdp6ZrtLiJbj4hQQMcJcWcsLH2Mbf4V5h4cdtI+IVhtbmC/EeR3G/aa9CnJuk4eQkkfSviD5YL0/8ATBj/AOO18gnrX1x4lfFpen/p3Y/+Omvkc9a4sFtIp7hXvemnOlWh6/uU/kK8EHWvd9KOdHsveBP/AEEVtX2QXNJSM4yKXA7GoVPOOPyqZfSuULlG7WS3nF1ECsq8Ejo49DV6z1KK6QMrbWHUdxUjIrqQwGKxr7S5Ymae1cq4546VtFxkrMfmdN9oRly3H9arTqOSh/CuMj8WSWEvl38RTnG8fdNbUHiDTbxVC3AjJ9ORV+xlB3FzDrs7iS4GewrPktoJFzsX8BWhNaXUq7rWWCYdju5qjJp+s9BZofffW8JLuIiW3t052DA9aeJEAJCqAPQUDSdUYZmktbZe7O44pjWGkRHN9qUl43/PKD7p/GteaPcNSuLtru6EFrG9zMT91Puj6mtu3iTT23yMk9+BguBlIfYepqmuohYhDZQJZ2542xj5m9if8K3NI8OTXJWS4VoIDzt/ib/CsqtRJa6FKPcTS9Nl1G7bLt5OcySf0B9TXbRIkEaRxjCKMACooI4raIQxIERegFP3jOK82pUc2XcUnI60hOAOaaWpAc4zms7iAkgnJzUb9epzTiQD1OKjc9+aLi3InJAzVGdj9D3FXGPFULgnnIqosTRnXbk4P9ajt5MAYbjOKLthgZ4IqpBIDn5unNb9CbFTUX2eMLaVmK5t3G7HIzHIP615Toqj/hM7Bd24fbkG71+cc16ZrUpHiGw5JMmxP++nI/rXkltcPY6tDcc74Jlf8Qc/0rvoL3H6CR9S+Kxt06+P/To5/wDHTXyWetfVniq4WXQbyVTw1gzD8VJr5Triwe0iuoDrXu2jDdolh/1wj/8AQRXhNe6aCc6DYH/p3Q/+O1riNkJuxoDNTL9eKiGPpmrAHTvXG2FxR2+lOQk5z0puTnBp3tTQMoX2hWeoZLpsY9WUcH6iuYvvAEynzLZQ3oYn2H8jxXeLkcAcVYQn2raGInD4WM8wh8P6xZH/AFt8BngeWx/UVMLHWXfBkv29hG/+FenqTx9KlQnmtHjJdUNRVjze38M6lcsC9pcuO/mEKP1roLPwVO5H2iSOBfRPmb8+ldcpx2qdGzWM8XN7DSKOnaBp+mDdHDvl/wCeknzH8PT8K0gOfwo3dqM5PFc0pOTuwE3d+KQtyDSEkCk60B0HluOtJnAHNRnB7cUjNjpSYx5YVEzDZ60M3tUTH5aESMkOcY9ao3DYT1q1I3T61QuXwCOtXHcTZmXLjHJ+lUopMsQMDFWrrlR/nFZqvtZs544roS0JKurHOvaS7EFRNETz2Eq15YyC81xo1OBNcbR7ZavStcl23lixJ4I5/wCBrXmcLG11eNm4MU4J/Bq7qF+T5CR9J+JVMHhm8Qgjy9PdOfQKRXy7X1L41kD+F7yRTkGwkIP/AAE18tVx4TZ+pXUK9f8ADXiLSm0G0jkvYYpooljZJHCkEcd+1eQUV0TgpqzBq57ymtaU2ANRtP8Av8v+NWY9SsWxtvrY/SVf8a+fc0ZrJ4dPqLlPolbu2Y4FxEf+BiphJE3R1I9Q1fOIJHQmlEjjo7fnU/VvMdj6RRlP8ak/WrCNn0x7V80C4mXpNIPoxp4vbodLmYfSQ0PDeY0fTCH+VToWr5jXU79fu3tyPpK3+NSDWtVXpqV2P+2zf40vqz7jufToNSB8HrXzCNe1cdNUvP8Av+3+NOHiPW16ate/9/2/xqfqr7hc+n9547nvTlbnr+NfL/8Awkuuf9Be9/7/ALf408eKdfHTWb7/AL/t/jR9UfcR9NlvwpM9BxXzL/wlOvf9Bi+/7/t/jTf+Em1z/oL3v/f9v8aPqj7jufTm7jBpnPrXzKfEmtt11a9P/bdv8aYfEGsHrql5/wB/2/xoeEfcLn0274JGBULNx1r5oOt6q3XUrs/9tm/xqNtU1BvvX1yfrK3+NCwjXULn0rK4AzkVRuXX1X86+dDe3Z63Mx+shphuJm6zSH6satYa3Uk92u5owGy6j8ax2uoVcgzR/UtXj5dz1ZvzpMn1rRUrdQseleIbqCZrZFuIuTgkOOPmWuG1sxHXr8wsGj+0yFSpyCNxxis3NFbwfKCR7frHjHTD8N4IZb+CW+l04QmKNwzBiMcgdK8QozRWcKahe3UZ/9k=\" />\n",
              "        <p style=\"width:256px; margin:10px; font-size:small;\">foie gras, salt, milk</p>\n",
              "    </div>\n",
              "    \n",
              "    <div style=\"display: inline-flex; align-items: center; justify-content: center;\">\n",
              "        <img style=\"width:128px; height:128px;\" src=\"data:image/jpeg;base64,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\" />\n",
              "        <p style=\"width:256px; margin:10px; font-size:small;\">sugar, cheese, almond, chocolate, liqueur, cannoli shells, cocoa, cocktail</p>\n",
              "    </div>\n",
              "    \n",
              "    <div style=\"display: inline-flex; align-items: center; justify-content: center;\">\n",
              "        <img style=\"width:128px; height:128px;\" src=\"data:image/jpeg;base64,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\" />\n",
              "        <p style=\"width:256px; margin:10px; font-size:small;\">potato, egg, flour, salt</p>\n",
              "    </div>\n",
              "    "
            ],
            "text/plain": [
              "<IPython.core.display.HTML object>"
            ]
          },
          "metadata": {},
          "output_type": "display_data"
        }
      ],
      "source": [
        "def render_inline(image, resize=(128, 128)):\n",
        "  \"\"\"Convert image into inline html.\"\"\"\n",
        "  image = Image.fromarray(image)\n",
        "  image.resize(resize)\n",
        "  with io.BytesIO() as buffer:\n",
        "    image.save(buffer, format='jpeg')\n",
        "    image_b64 = str(base64.b64encode(buffer.getvalue()), \"utf-8\")\n",
        "    return f\"data:image/jpeg;base64,{image_b64}\"\n",
        "\n",
        "def render_example(image, caption):\n",
        "  image = ((image + 1)/2 * 255).astype(np.uint8)  # [-1,1] -> [0, 255]\n",
        "  return f\"\"\"\n",
        "    <div style=\"display: inline-flex; align-items: center; justify-content: center;\">\n",
        "        <img style=\"width:128px; height:128px;\" src=\"{render_inline(image, resize=(64,64))}\" />\n",
        "        <p style=\"width:256px; margin:10px; font-size:small;\">{html.escape(caption)}</p>\n",
        "    </div>\n",
        "    \"\"\"\n",
        "\n",
        "html_out = \"\"\n",
        "for idx, example in zip(range(8), train_data_iterator()):\n",
        "  caption = postprocess_tokens(example[\"text\"])  # detokenize model input.\n",
        "  caption = caption[len(\"caption en\\n\"):]        # strip prefix\n",
        "  html_out += render_example(example[\"image\"], caption)\n",
        "\n",
        "print(\"Training examples\")\n",
        "display(HTML(html_out))"
      ]
    },
    {
      "cell_type": "markdown",
      "metadata": {
        "id": "N2BwpXkfI8OT"
      },
      "source": [
        "### Define the training and evaluation loops\n",
        "\n",
        "Define the training loop to train the model on the provided dataset, and the evaluation loop to look at all of the examples in the validation dataset and make its predictions.\n",
        "\n",
        "#### Defining the training loop\n",
        "\n",
        "The `update_fn` function defines the training step. During the training step, the loss per example is calculated and stochastic gradient descent (SGD) is applied to the trainable parameters.\n",
        "\n",
        "Recall that earlier in the notebook, you included flags in the `preprocess_tokens` function that included `mask_loss`. You'll use the `mask_loss` flag here to exclude prefix and padded tokens from the loss. Without it, the loss calculation will be skewed. You also need to normalize each example, since each of them has a different number of tokens. After the prefix and padded tokens have been excluded and the examples have been normalized, you can calculate the loss per example.\n",
        "\n",
        "The training step also includes a function to apply an SGD to optimize the training.\n",
        "\n",
        "#### Defining the evaluation loop\n",
        "\n",
        "The `make_predictions` function is your evaluation loop. The evaluation loop is fairly straight forward with one notable change. If you recall from the beginning of the notebook, you only have 90 examples in your training data set. This is a very small amount of training examples, and your model ends up not having enough examples for the batch size when you run the training. This means that in the evaluation loop, you need to pad the batch by repeating examples.\n",
        "\n",
        "To make sure that your evaluation loop only counts actual examples and not the padded examples, you have to apply a mask to the padded examples that excludes them from the output."
      ]
    },
    {
      "cell_type": "code",
      "execution_count": 18,
      "metadata": {
        "id": "dwUV_imW3WQJ"
      },
      "outputs": [],
      "source": [
        "# The main update_fn using a simple stochastic gradient descent (SGD).\n",
        "@functools.partial(jax.jit, donate_argnums=(0,))\n",
        "def update_fn(params, batch, learning_rate):\n",
        "  imgs, txts, mask_ar = batch[\"image\"], batch[\"text\"], batch[\"mask_ar\"]\n",
        "\n",
        "  def loss_fn(params):\n",
        "    text_logits, _ = model.apply({\"params\": params}, imgs, txts[:, :-1], mask_ar[:, :-1], train=True)\n",
        "    logp = jax.nn.log_softmax(text_logits, axis=-1)\n",
        "\n",
        "    # The model takes as input txts[:, :-1] but the loss is defined as predicting\n",
        "    # next tokens txts[:, 1:]. Additionally, mask_loss[:, 1:] indicates which tokens\n",
        "    # are part of the loss (e.g. prefix and padded tokens are not included).\n",
        "    mask_loss = batch[\"mask_loss\"][:, 1:]\n",
        "    targets = jax.nn.one_hot(txts[:, 1:], text_logits.shape[-1])\n",
        "\n",
        "    # Compute the loss per example. i.e. the mean of per token pplx.\n",
        "    # Since each example has a different number of tokens we normalize it.\n",
        "    token_pplx = jnp.sum(logp * targets, axis=-1)  # sum across vocab_size.\n",
        "    example_loss = -jnp.sum(token_pplx * mask_loss, axis=-1)  # sum across seq_len.\n",
        "    example_loss /= jnp.clip(jnp.sum(mask_loss, -1), 1)  # weight by num of tokens.\n",
        "\n",
        "    # batch_loss: mean of per example loss.\n",
        "    return jnp.mean(example_loss)\n",
        "\n",
        "  loss, grads = jax.value_and_grad(loss_fn)(params)\n",
        "\n",
        "  # Apply gradients to trainable params using SGD.\n",
        "  def apply_grad(param, gradient, trainable):\n",
        "    if not trainable: return param\n",
        "    return param - learning_rate * gradient\n",
        "\n",
        "  params = jax.tree_util.tree_map(apply_grad, params, grads, trainable_mask)\n",
        "\n",
        "  return params, loss\n",
        "\n",
        "# Evaluation/inference loop.\n",
        "def make_predictions(data_iterator, *, num_examples=None,\n",
        "                     batch_size=4, seqlen=SEQLEN, sampler=\"greedy\"):\n",
        "  outputs = []\n",
        "  while True:\n",
        "    # Construct a list of examples in the batch.\n",
        "    examples = []\n",
        "    try:\n",
        "      for _ in range(batch_size):\n",
        "        examples.append(next(data_iterator))\n",
        "        examples[-1][\"_mask\"] = np.array(True)  # Indicates true example.\n",
        "    except StopIteration:\n",
        "      if len(examples) == 0:\n",
        "        return outputs\n",
        "\n",
        "    # Not enough examples to complete a batch. Pad by repeating last example.\n",
        "    while len(examples) % batch_size:\n",
        "      examples.append(dict(examples[-1]))\n",
        "      examples[-1][\"_mask\"] = np.array(False)  # Indicates padding example.\n",
        "\n",
        "    # Convert list of examples into a dict of np.arrays and load onto devices.\n",
        "    batch = jax.tree.map(lambda *x: np.stack(x), *examples)\n",
        "    batch = big_vision.utils.reshard(batch, data_sharding)\n",
        "\n",
        "    # Make model predictions\n",
        "    tokens = decode({\"params\": params}, batch=batch,\n",
        "                    max_decode_len=seqlen, sampler=sampler)\n",
        "\n",
        "    # Fetch model predictions to device and detokenize.\n",
        "    tokens, mask = jax.device_get((tokens, batch[\"_mask\"]))\n",
        "    tokens = tokens[mask]  # remove padding examples.\n",
        "    responses = [postprocess_tokens(t) for t in tokens]\n",
        "\n",
        "    # Append to html output.\n",
        "    for example, response in zip(examples, responses):\n",
        "      outputs.append((example[\"image\"], response))\n",
        "      if num_examples and len(outputs) >= num_examples:\n",
        "        return outputs"
      ]
    },
    {
      "cell_type": "markdown",
      "metadata": {
        "id": "n9r9V1jwJvu9"
      },
      "source": [
        "## Tune the model\n",
        "\n",
        "Now that you've set everything up and taken a look at the training data, it's time to finally tune the model. The code below runs the training loop for the model for 64 steps and prints the learning rate (`lr` in the printed output) and loss rate for each step.\n",
        "\n",
        "Every 16 steps, the model prints what its predictions are at that step in the training. This code prints out predictions for the same set of images so that you can see the model's ability to predict descriptions improve over time.\n",
        "\n",
        "At earlier steps in the training, there's likely issues with the descriptions, such as repeated sentences as the model gets stuck in its predictive loop or unfinished sentences. The model's predictions become steadily more accurate as training progresses. By step 64, the model's predictions should closely resemble the descriptions provided by the training data.\n",
        "\n",
        "This process takes around 15 minutes to complete on T4 TPUs."
      ]
    },
    {
      "cell_type": "code",
      "execution_count": 19,
      "metadata": {},
      "outputs": [
        {
          "name": "stderr",
          "output_type": "stream",
          "text": [
            "WARNING:absl:Configured `CheckpointManager` using deprecated legacy API. Please follow the instructions at https://orbax.readthedocs.io/en/latest/api_refactor.html to migrate by August 1st, 2024.\n"
          ]
        }
      ],
      "source": [
        "# checkpointing setup\n",
        "\n",
        "ckpt_dir = '/home/simon/Projects/MA/checkpoints'\n",
        "\n",
        "# ==== With Orbax ====\n",
        "from flax.training import orbax_utils\n",
        "import orbax.checkpoint\n",
        "\n",
        "# Initialize the PyTree Checkpointer\n",
        "pytree_checkpointer = orbax.checkpoint.PyTreeCheckpointer()\n",
        "\n",
        "# Define checkpoint manager options\n",
        "options = orbax.checkpoint.CheckpointManagerOptions(\n",
        "    max_to_keep=3,  # Keep only the newest 3 checkpoints\n",
        "    create=True\n",
        ")\n",
        "\n",
        "# Create the checkpoint manager\n",
        "checkpoint_manager = orbax.checkpoint.CheckpointManager(\n",
        "    ckpt_dir, pytree_checkpointer, options\n",
        ")"
      ]
    },
    {
      "cell_type": "code",
      "execution_count": 38,
      "metadata": {},
      "outputs": [],
      "source": [
        "from sklearn.metrics import f1_score, accuracy_score, precision_score, recall_score\n",
        "from sklearn.preprocessing import MultiLabelBinarizer\n",
        "\n",
        "\n",
        "def batch_val_score_iterator(batch_size=4, num_examples=None, seed=42):\n",
        "    random.seed(seed)\n",
        "    \n",
        "    all_examples = []\n",
        "    class_examples = {}\n",
        "    \n",
        "    for example in val_dataset.get_tfdata().as_numpy_iterator():\n",
        "        try:\n",
        "            image_path = example[\"image\"].decode()\n",
        "            image_class = image_path.split('/images/')[1].split('/')[0]\n",
        "            \n",
        "            image = Image.open(image_path)\n",
        "            image = preprocess_image(image)\n",
        "            \n",
        "            prefix = \"caption en\"\n",
        "            suffix = example[\"suffix\"].decode().lower()\n",
        "            tokens, mask_ar, _, mask_input = preprocess_tokens(prefix, seqlen=SEQLEN)\n",
        "            \n",
        "            processed_example = {\n",
        "                \"image\": np.asarray(image),\n",
        "                \"text\": np.asarray(tokens),\n",
        "                \"mask_ar\": np.asarray(mask_ar),\n",
        "                \"mask_input\": np.asarray(mask_input),\n",
        "                \"suffix\": suffix,\n",
        "                \"class\": image_class,\n",
        "                \"image_path\": image_path\n",
        "            }\n",
        "            \n",
        "            all_examples.append(processed_example)\n",
        "            \n",
        "            if image_class not in class_examples:\n",
        "                class_examples[image_class] = []\n",
        "            class_examples[image_class].append(processed_example)\n",
        "            \n",
        "        except Exception as e:\n",
        "            print(f\"Error processing image: {e}\")\n",
        "            continue\n",
        "    \n",
        "    if num_examples is None:\n",
        "        num_examples = len(all_examples)\n",
        "    \n",
        "    # Ensure at least one example from each class\n",
        "    selected_examples = []\n",
        "    for examples in class_examples.values():\n",
        "        if examples:\n",
        "            selected_examples.append(random.choice(examples))\n",
        "    \n",
        "    # Distribute remaining examples while maintaining class balance\n",
        "    remaining_slots = num_examples - len(selected_examples)\n",
        "    selected_image_paths = set(ex['image_path'] for ex in selected_examples)\n",
        "    \n",
        "    while remaining_slots > 0:\n",
        "        for class_name, examples in class_examples.items():\n",
        "            if remaining_slots > 0:\n",
        "                remaining_class_examples = [ex for ex in examples if ex['image_path'] not in selected_image_paths]\n",
        "                if remaining_class_examples:\n",
        "                    selected_example = random.choice(remaining_class_examples)\n",
        "                    selected_examples.append(selected_example)\n",
        "                    selected_image_paths.add(selected_example['image_path'])\n",
        "                    remaining_slots -= 1\n",
        "            if remaining_slots == 0:\n",
        "                break\n",
        "    \n",
        "    random.shuffle(selected_examples)\n",
        "    \n",
        "    # Yield batches\n",
        "    for i in range(0, len(selected_examples), batch_size):\n",
        "        yield selected_examples[i:i+batch_size]\n",
        "\n",
        "def batch_test_score_iterator(batch_size=4, ordered=False):\n",
        "    examples = []\n",
        "    for example in test_dataset.get_tfdata(ordered=ordered).as_numpy_iterator():\n",
        "        try:\n",
        "            image_path = example[\"image\"].decode()\n",
        "            image = Image.open(image_path)\n",
        "            image = preprocess_image(image)\n",
        "            \n",
        "            prefix = \"caption en\"\n",
        "            suffix = example[\"suffix\"].decode().lower()\n",
        "            tokens, mask_ar, _, mask_input = preprocess_tokens(prefix, seqlen=SEQLEN)\n",
        "            \n",
        "            examples.append({\n",
        "                \"image\": np.asarray(image),\n",
        "                \"text\": np.asarray(tokens),\n",
        "                \"mask_ar\": np.asarray(mask_ar),\n",
        "                \"mask_input\": np.asarray(mask_input),\n",
        "                \"suffix\": suffix,\n",
        "            })\n",
        "            \n",
        "            if len(examples) == batch_size:\n",
        "                yield examples\n",
        "                examples = []\n",
        "        except Exception as e:\n",
        "            print(f\"Error processing image: {e}\")\n",
        "            continue\n",
        "    \n",
        "    if examples:  # Yield any remaining examples\n",
        "        yield examples\n",
        "\n",
        "def stratified_batch_test_score_iterator(batch_size=4, num_examples=None, ordered=False, seed=42):\n",
        "    random.seed(seed)\n",
        "    \n",
        "    # Get all data\n",
        "    all_data = list(test_dataset.get_tfdata(ordered=ordered).as_numpy_iterator())\n",
        "    \n",
        "    # Group the data by class\n",
        "    classes = {}\n",
        "    for item in all_data:\n",
        "        class_name = item['image'].decode().split('/')[3]  # Adjust this index if necessary\n",
        "        if class_name not in classes:\n",
        "            classes[class_name] = []\n",
        "        classes[class_name].append(item)\n",
        "\n",
        "    # Calculate the number of samples per class\n",
        "    num_classes = len(classes)\n",
        "    samples_per_class = num_examples // num_classes if num_examples else len(all_data) // num_classes\n",
        "\n",
        "    # Perform stratified sampling with validation\n",
        "    stratified_sample = []\n",
        "    class_counts = {}\n",
        "    for class_name, items in classes.items():\n",
        "        valid_items = [item for item in items if is_valid_image(item['image'].decode())]\n",
        "        if len(valid_items) >= samples_per_class:\n",
        "            selected = random.sample(valid_items, samples_per_class)\n",
        "            stratified_sample.extend(selected)\n",
        "            class_counts[class_name] = len(selected)\n",
        "        else:\n",
        "            stratified_sample.extend(valid_items)\n",
        "            class_counts[class_name] = len(valid_items)\n",
        "    \n",
        "    # If we don't have enough samples, add more from classes with extra valid samples\n",
        "    while len(stratified_sample) < (num_examples or len(all_data)):\n",
        "        for class_name, items in classes.items():\n",
        "            if len(stratified_sample) >= (num_examples or len(all_data)):\n",
        "                break\n",
        "            valid_items = [item for item in items if is_valid_image(item['image'].decode()) and item not in stratified_sample]\n",
        "            if valid_items:\n",
        "                stratified_sample.append(random.choice(valid_items))\n",
        "                class_counts[class_name] += 1\n",
        "\n",
        "    # Print the list of classes and their counts\n",
        "    print(\"Classes and their sample counts:\")\n",
        "    for class_name, count in class_counts.items():\n",
        "        print(f\"{class_name}: {count}\")\n",
        "\n",
        "    # Yield batches\n",
        "    examples = []\n",
        "    for item in stratified_sample:\n",
        "        try:\n",
        "            image_path = item[\"image\"].decode()\n",
        "            image = Image.open(image_path)\n",
        "            image = preprocess_image(image)\n",
        "            \n",
        "            prefix = \"caption en\"\n",
        "            suffix = item[\"suffix\"].decode().lower()\n",
        "            tokens, mask_ar, _, mask_input = preprocess_tokens(prefix, seqlen=SEQLEN)\n",
        "            \n",
        "            examples.append({\n",
        "                \"image\": np.asarray(image),\n",
        "                \"text\": np.asarray(tokens),\n",
        "                \"mask_ar\": np.asarray(mask_ar),\n",
        "                \"mask_input\": np.asarray(mask_input),\n",
        "                \"suffix\": suffix,\n",
        "            })\n",
        "            \n",
        "            if len(examples) == batch_size:\n",
        "                yield examples\n",
        "                examples = []\n",
        "        except Exception as e:\n",
        "            print(f\"Error processing image: {e}\")\n",
        "            continue\n",
        "    \n",
        "    if examples:  # Yield any remaining examples\n",
        "        yield examples\n",
        "            \n",
        "\n",
        "def compute_rouge(reference, candidate):\n",
        "    scorer = rouge_scorer.RougeScorer(['rouge1', 'rouge2', 'rougeL'], use_stemmer=True)\n",
        "    scores = scorer.score(reference, candidate)\n",
        "    return (scores['rouge1'].fmeasure + scores['rouge2'].fmeasure + scores['rougeL'].fmeasure) / 3\n",
        "\n",
        "# \"f1 original\"\n",
        "def ingredient_overlap_f1_score(reference, candidate):\n",
        "    ref_ingredients = set(reference.lower().split(', '))\n",
        "    cand_ingredients = set(candidate.lower().split(', '))\n",
        "    overlap = ref_ingredients.intersection(cand_ingredients)\n",
        "    precision = len(overlap) / len(cand_ingredients) if cand_ingredients else 0\n",
        "    recall = len(overlap) / len(ref_ingredients) if ref_ingredients else 0\n",
        "    f1 = 2 * (precision * recall) / (precision + recall) if (precision + recall) > 0 else 0\n",
        "    return f1\n",
        "\n",
        "def ingredient_overlap_f1_sklearn(references, candidates, method):\n",
        "    mlb = MultiLabelBinarizer()\n",
        "    \n",
        "    # Fit on both references and candidates to include all possible ingredients\n",
        "    all_ingredients = set()\n",
        "    for ref, cand in zip(references, candidates):\n",
        "        all_ingredients.update(ref.lower().split(', '))\n",
        "        all_ingredients.update(cand.lower().split(', '))\n",
        "    \n",
        "    mlb.fit([all_ingredients])\n",
        "    \n",
        "    y_true = mlb.transform([set(ref.lower().split(', ')) for ref in references])\n",
        "    y_pred = mlb.transform([set(cand.lower().split(', ')) for cand in candidates])\n",
        "    \n",
        "    if method == 'sklearn':\n",
        "        # Calculate F1 score for each sample individually\n",
        "        f1_scores = []\n",
        "        for yt, yp in zip(y_true, y_pred):\n",
        "            if np.sum(yt) == 0 and np.sum(yp) == 0:\n",
        "                f1_scores.append(1.0)  # Both true and predicted are empty sets\n",
        "            elif np.sum(yt) == 0 or np.sum(yp) == 0:\n",
        "                f1_scores.append(0.0)  # One is empty, the other is not\n",
        "            else:\n",
        "                f1_scores.append(f1_score(yt, yp, average='binary', zero_division=0))\n",
        "        return np.mean(f1_scores)\n",
        "    elif method in ['weighted', 'macro', 'samples']:\n",
        "        return f1_score(y_true, y_pred, average=method, zero_division=0)\n",
        "    else:\n",
        "        raise ValueError(\"Invalid method. Choose 'sklearn', 'weighted', 'macro', or 'samples'.\")\n",
        "\n",
        "\n",
        "def evaluate_model_batch(params, batch_size=4, num_examples=None, ordered=False, data_iterator=batch_val_score_iterator):\n",
        "    bleu_scores = []\n",
        "    rouge_scores = []\n",
        "    ingredient_overlap_scores = []\n",
        "    examples = []\n",
        "    all_ground_truths = []\n",
        "    all_predictions = []\n",
        "    \n",
        "    smoother = SmoothingFunction().method1\n",
        "    scorer = rouge_scorer.RougeScorer(['rouge1', 'rouge2', 'rougeL'], use_stemmer=True)\n",
        "    \n",
        "    total_processed = 0\n",
        "    \n",
        "    # If num_examples is not provided, use the entire dataset\n",
        "    if num_examples is None:\n",
        "        num_examples = sum(1 for _ in data_iterator(batch_size=1))  # Count total examples\n",
        "    \n",
        "    pbar = tqdm(total=num_examples)\n",
        "    \n",
        "    for batch in data_iterator(batch_size=batch_size, ordered=ordered, num_examples=num_examples):\n",
        "        batch_images = np.stack([ex['image'] for ex in batch])\n",
        "        batch_tokens = np.stack([ex['text'] for ex in batch])\n",
        "        batch_mask_ar = np.stack([ex['mask_ar'] for ex in batch])\n",
        "        batch_mask_input = np.stack([ex['mask_input'] for ex in batch])\n",
        "        ground_truths = [ex['suffix'] for ex in batch]\n",
        "        \n",
        "        # Generate captions\n",
        "        batch_input = {\n",
        "            \"image\": batch_images,\n",
        "            \"text\": batch_tokens,\n",
        "            \"mask_ar\": batch_mask_ar,\n",
        "            \"mask_input\": batch_mask_input,\n",
        "            \"_mask\": np.ones(len(batch), dtype=bool)\n",
        "        }\n",
        "        generated_tokens = decode({\"params\": params}, \n",
        "                                  batch=batch_input, \n",
        "                                  max_decode_len=SEQLEN, \n",
        "                                  sampler=\"greedy\")\n",
        "        \n",
        "        generated_captions = [postprocess_tokens(tokens) for tokens in generated_tokens]\n",
        "        \n",
        "        batch_bleu = []\n",
        "        batch_rouge = []\n",
        "        batch_ingredient_overlap = []\n",
        "        \n",
        "        for ground_truth, generated_caption in zip(ground_truths, generated_captions):\n",
        "            # Compute BLEU\n",
        "            bleu = sentence_bleu([ground_truth.split()], generated_caption.split(), \n",
        "                                 smoothing_function=smoother, weights=(0.25, 0.25, 0.25, 0.25))\n",
        "            batch_bleu.append(bleu)\n",
        "            \n",
        "            # Compute ROUGE\n",
        "            rouge = compute_rouge(ground_truth, generated_caption)\n",
        "            batch_rouge.append(rouge)\n",
        "            \n",
        "            # Compute ingredient overlap score (original implementation)\n",
        "            ingredient_overlap = ingredient_overlap_f1_score(ground_truth, generated_caption)\n",
        "            batch_ingredient_overlap.append(ingredient_overlap)\n",
        "            \n",
        "            # Store example\n",
        "            examples.append((ground_truth, generated_caption))\n",
        "        \n",
        "        bleu_scores.extend(batch_bleu)\n",
        "        rouge_scores.extend(batch_rouge)\n",
        "        ingredient_overlap_scores.extend(batch_ingredient_overlap)\n",
        "        all_ground_truths.extend(ground_truths)\n",
        "        all_predictions.extend(generated_captions)\n",
        "        \n",
        "        total_processed += len(batch)\n",
        "        pbar.update(len(batch))\n",
        "        \n",
        "        # Calculate dynamic metrics\n",
        "        if all_ground_truths and all_predictions:\n",
        "            accuracy = accuracy_score(all_ground_truths, all_predictions)\n",
        "            precision = precision_score(all_ground_truths, all_predictions, average='weighted', zero_division=0)\n",
        "            recall = recall_score(all_ground_truths, all_predictions, average='weighted', zero_division=0)\n",
        "            f1_original = np.mean(ingredient_overlap_scores)\n",
        "            f1_sklearn = ingredient_overlap_f1_sklearn(all_ground_truths, all_predictions, method='sklearn')\n",
        "            f1_sample = ingredient_overlap_f1_sklearn(all_ground_truths, all_predictions, method='samples')\n",
        "            f1_weighted = ingredient_overlap_f1_sklearn(all_ground_truths, all_predictions, method='weighted')\n",
        "            f1_macro = ingredient_overlap_f1_sklearn(all_ground_truths, all_predictions, method='macro')\n",
        "        else:\n",
        "            accuracy = precision = recall = f1_original = f1_sklearn = f1_sample = f1_weighted = f1_macro = 0\n",
        "        \n",
        "        # Update progress bar with current average scores and new metrics\n",
        "        avg_bleu = np.mean(bleu_scores)\n",
        "        avg_rouge = np.mean(rouge_scores)\n",
        "        \n",
        "        pbar.set_description(f\"BLEU: {avg_bleu:.3f} - ROUGE: {avg_rouge:.3f} - \"\n",
        "                             f\"F1_ORIG: {f1_original:.3f} - ACC: {accuracy:.3f} - \"\n",
        "                             f\"PREC: {precision:.3f} - REC: {recall:.3f} - \"\n",
        "                             f\"F1_SKL: {f1_sklearn:.3f} - F1_SAMP: {f1_sample:.3f} - F1_WGT: {f1_weighted:.3f} - F1_MAC: {f1_macro:.3f}\")\n",
        "        \n",
        "        if total_processed >= num_examples:\n",
        "            break\n",
        "    \n",
        "    pbar.close()\n",
        "    \n",
        "    # Ensure we only use the requested number of examples\n",
        "    all_ground_truths = all_ground_truths[:num_examples]\n",
        "    all_predictions = all_predictions[:num_examples]\n",
        "    \n",
        "    # Final calculation for all metrics\n",
        "    final_accuracy = accuracy_score(all_ground_truths, all_predictions)\n",
        "    final_precision = precision_score(all_ground_truths, all_predictions, average='weighted', zero_division=0)\n",
        "    final_recall = recall_score(all_ground_truths, all_predictions, average='weighted', zero_division=0)\n",
        "    final_f1_original = np.mean([ingredient_overlap_f1_score(gt, pred) for gt, pred in zip(all_ground_truths, all_predictions)])\n",
        "    final_f1_sklearn = ingredient_overlap_f1_sklearn(all_ground_truths, all_predictions, method='sklearn')\n",
        "    final_f1_sample = ingredient_overlap_f1_sklearn(all_ground_truths, all_predictions, method='samples')\n",
        "    final_f1_weighted = ingredient_overlap_f1_sklearn(all_ground_truths, all_predictions, method='weighted')\n",
        "    final_f1_macro = ingredient_overlap_f1_sklearn(all_ground_truths, all_predictions, method='macro')\n",
        "    \n",
        "    return {\n",
        "        \"bleu\": np.mean(bleu_scores),\n",
        "        \"rouge\": np.mean(rouge_scores),\n",
        "        \"ingredient_overlap\": final_f1_original,\n",
        "        \"accuracy\": final_accuracy,\n",
        "        \"precision\": final_precision,\n",
        "        \"recall\": final_recall,\n",
        "        \"f1_original\": final_f1_original,\n",
        "        \"f1_sklearn\": final_f1_sklearn,\n",
        "        \"f1_sample\": final_f1_sample,\n",
        "        \"f1_weighted\": final_f1_weighted,\n",
        "        \"f1_macro\": final_f1_macro,\n",
        "        \"examples\": examples[:num_examples],\n",
        "        \"predictions\": all_predictions,\n",
        "        \"ground_truths\": all_ground_truths\n",
        "    }"
      ]
    },
    {
      "cell_type": "code",
      "execution_count": 21,
      "metadata": {
        "colab": {
          "base_uri": "https://localhost:8080/",
          "height": 1000
        },
        "id": "067wj_6bZAG3",
        "outputId": "78641606-05a2-4fd9-f275-41f8590042a7"
      },
      "outputs": [
        {
          "name": "stdout",
          "output_type": "stream",
          "text": [
            "Number of training examples: 68175\n"
          ]
        },
        {
          "name": "stderr",
          "output_type": "stream",
          "text": [
            "  0%|          | 0/8521 [00:00<?, ?it/s]"
          ]
        },
        {
          "name": "stderr",
          "output_type": "stream",
          "text": [
            "ERROR:wandb.jupyter:Failed to detect the name of this notebook, you can set it manually with the WANDB_NOTEBOOK_NAME environment variable to enable code saving.\n",
            "\u001b[34m\u001b[1mwandb\u001b[0m: Currently logged in as: \u001b[33mahirsch\u001b[0m (\u001b[33mhtwbe\u001b[0m). Use \u001b[1m`wandb login --relogin`\u001b[0m to force relogin\n"
          ]
        },
        {
          "data": {
            "text/html": [
              "Tracking run with wandb version 0.17.5"
            ],
            "text/plain": [
              "<IPython.core.display.HTML object>"
            ]
          },
          "metadata": {},
          "output_type": "display_data"
        },
        {
          "data": {
            "text/html": [
              "Run data is saved locally in <code>/home/simon/Projects/MA/wandb/run-20240723_095413-8mwhoi8g</code>"
            ],
            "text/plain": [
              "<IPython.core.display.HTML object>"
            ]
          },
          "metadata": {},
          "output_type": "display_data"
        },
        {
          "data": {
            "text/html": [
              "Syncing run <strong><a href='https://wandb.ai/htwbe/paligemma-jax-local/runs/8mwhoi8g' target=\"_blank\">happy-forest-39</a></strong> to <a href='https://wandb.ai/htwbe/paligemma-jax-local' target=\"_blank\">Weights & Biases</a> (<a href='https://wandb.me/run' target=\"_blank\">docs</a>)<br/>"
            ],
            "text/plain": [
              "<IPython.core.display.HTML object>"
            ]
          },
          "metadata": {},
          "output_type": "display_data"
        },
        {
          "data": {
            "text/html": [
              " View project at <a href='https://wandb.ai/htwbe/paligemma-jax-local' target=\"_blank\">https://wandb.ai/htwbe/paligemma-jax-local</a>"
            ],
            "text/plain": [
              "<IPython.core.display.HTML object>"
            ]
          },
          "metadata": {},
          "output_type": "display_data"
        },
        {
          "data": {
            "text/html": [
              " View run at <a href='https://wandb.ai/htwbe/paligemma-jax-local/runs/8mwhoi8g' target=\"_blank\">https://wandb.ai/htwbe/paligemma-jax-local/runs/8mwhoi8g</a>"
            ],
            "text/plain": [
              "<IPython.core.display.HTML object>"
            ]
          },
          "metadata": {},
          "output_type": "display_data"
        },
        {
          "name": "stderr",
          "output_type": "stream",
          "text": [
            "2024-07-23 09:54:38.072793: W external/xla/xla/service/hlo_rematerialization.cc:3005] Can't reduce memory use below 5.69GiB (6109164802 bytes) by rematerialization; only reduced to 8.15GiB (8755312304 bytes), down from 8.15GiB (8755324592 bytes) originally\n",
            "  2%|▏         | 200/8521 [04:49<3:01:12,  1.31s/it, lr=0.00047, loss=2.2749]"
          ]
        },
        {
          "name": "stdout",
          "output_type": "stream",
          "text": [
            "\n",
            "Evaluating at step 200\n"
          ]
        },
        {
          "name": "stderr",
          "output_type": "stream",
          "text": [
            "BLEU: 0.016 - ROUGE: 0.133 - F1: 0.354 - ACC: 0.000 - PREC: 0.000 - REC: 0.000: 100%|██████████| 1000/1000 [15:13<00:00,  1.09it/s]\n",
            "WARNING:absl:SaveArgs.aggregate is deprecated, please use custom TypeHandler (https://orbax.readthedocs.io/en/latest/custom_handlers.html#typehandler) or contact Orbax team to migrate before August 1st, 2024.\n",
            "WARNING:absl:The `aggregate` option is deprecated and will be ignored.\n",
            "WARNING:absl:The `aggregate` option is deprecated and will be ignored.\n",
            "WARNING:absl:The `aggregate` option is deprecated and will be ignored.\n",
            "WARNING:absl:The `aggregate` option is deprecated and will be ignored.\n",
            "WARNING:absl:The `aggregate` option is deprecated and will be ignored.\n"
          ]
        },
        {
          "name": "stdout",
          "output_type": "stream",
          "text": [
            "\n",
            "Examples:\n",
            "\n",
            "Example 1:\n",
            "Ground Truth: grain, steak, soybean sprouts, spinach, cucumber, zucchini, carrot, garlic, scallions, soy, oil, seeds, salt, pepper, oil, egg, pepper, sugar, water\n",
            "Generated: beef, onion, tomato, lettuce, bun, ketchup, mustard, mayo, cheese, egg\n",
            "\n",
            "Example 2:\n",
            "Ground Truth: salt, edam, salt\n",
            "Generated: soy, soy, soy\n",
            "\n",
            "Example 3:\n",
            "Ground Truth: oil, garlic, black pepper, salt, sirloin, steak, worcestershire\n",
            "Generated: steak, potato, onion, garlic, salt, pepper, oil, butter, pepper, pepper, pepper, pepper, pepper, pepper, pepper, pepper, pepper, pepper, pepper, pepper, pepper, pepper, pepper, pepper, pepper, pepper, pepper, pepper, pepper, pepper, pepper, pepper, pepper, pepper, pepper, pepper, pepper, pepper, pepper, pepper, pepper, pepper, pepper, pepper, pepper, pepper, pepper, pepper, pepper, pepper, pepper, pepper, pepper, pepper, pepper, pepper, pepper, pepper, pepper, pepper, pepper, pepper, pepper, pepper,\n",
            "Saving checkpoint at step 200\n"
          ]
        },
        {
          "name": "stderr",
          "output_type": "stream",
          "text": [
            "  5%|▍         | 400/8521 [26:04<2:42:26,  1.20s/it, lr=0.00094, loss=1.7718]   "
          ]
        },
        {
          "name": "stdout",
          "output_type": "stream",
          "text": [
            "\n",
            "Evaluating at step 400\n"
          ]
        },
        {
          "name": "stderr",
          "output_type": "stream",
          "text": [
            "BLEU: 0.034 - ROUGE: 0.230 - F1: 0.406 - ACC: 0.003 - PREC: 0.003 - REC: 0.003: 100%|██████████| 1000/1000 [09:39<00:00,  1.73it/s]\n"
          ]
        },
        {
          "name": "stdout",
          "output_type": "stream",
          "text": [
            "\n",
            "Examples:\n",
            "\n",
            "Example 1:\n",
            "Ground Truth: baby back ribs, apple, salt, mustard, brown sugar, worcestershire, gin, chili\n",
            "Generated: ribs, sugar, oil, salt, pepper, garlic, onion, worcestershire, cola, beer, tomato, mustard, vinegar, paprika, cumin, cayenne pepper, black pepper, salt, sugar, oil, butter, parsley, lemon, lemon juice, parsley, parsley, parsley, parsley, parsley, parsley, parsley, parsley, parsley, parsley, parsley, parsley, parsley, parsley, parsley, parsley, parsley, parsley, parsley, parsley, parsley, parsley, parsley, parsley, parsley, parsley, parsley, parsley, parsley, parsley, parsley, parsley, parsley, parsley, parsley, parsley, parsley, parsley,\n",
            "\n",
            "Example 2:\n",
            "Ground Truth: onion, garlic, jalapeno chilies, chipotle, tomato, dijon mustard, vinegar, paprika, ketchup, worcestershire, brown sugar, bay leaf, salt, shoulder roast, buns\n",
            "Generated: ham, bread, cheese, mustard, mayo, salt, pepper\n",
            "\n",
            "Example 3:\n",
            "Ground Truth: red snapper, lime, lemon, onion, tomato, serrano chilies, salt, oregano, pepper, cayenne pepper, cilantro, avocado, tortillas\n",
            "Generated: fish, lime, salt, cilantro, onion, tomato, corn, potato, oil, lemon\n",
            "Saving checkpoint at step 400\n"
          ]
        },
        {
          "name": "stderr",
          "output_type": "stream",
          "text": [
            "  7%|▋         | 600/8521 [41:33<2:38:06,  1.20s/it, lr=0.00141, loss=0.9410]   "
          ]
        },
        {
          "name": "stdout",
          "output_type": "stream",
          "text": [
            "\n",
            "Evaluating at step 600\n"
          ]
        },
        {
          "name": "stderr",
          "output_type": "stream",
          "text": [
            "BLEU: 0.141 - ROUGE: 0.342 - F1: 0.502 - ACC: 0.093 - PREC: 0.156 - REC: 0.093: 100%|██████████| 1000/1000 [09:47<00:00,  1.70it/s]\n"
          ]
        },
        {
          "name": "stdout",
          "output_type": "stream",
          "text": [
            "\n",
            "Examples:\n",
            "\n",
            "Example 1:\n",
            "Ground Truth: sugar, vanilla, unflavored gelatin, cold water\n",
            "Generated: strawberries, sugar, whipping, vanilla\n",
            "\n",
            "Example 2:\n",
            "Ground Truth: oil, potato, peas, cumin, salt, chili, chilli, garam masala, gin, coriander, flour, water, cold water, oil\n",
            "Generated: onion, flour, baking powder, salt, egg, oil\n",
            "\n",
            "Example 3:\n",
            "Ground Truth: salmon, brown sugar, lemon, lemon, soy, water, oil\n",
            "Generated: fish, soy, oil, garlic, sugar, lemon, lemon, lemon\n",
            "Saving checkpoint at step 600\n"
          ]
        },
        {
          "name": "stderr",
          "output_type": "stream",
          "text": [
            "  9%|▉         | 800/8521 [57:26<2:44:42,  1.28s/it, lr=0.00188, loss=0.1721]   "
          ]
        },
        {
          "name": "stdout",
          "output_type": "stream",
          "text": [
            "\n",
            "Evaluating at step 800\n"
          ]
        },
        {
          "name": "stderr",
          "output_type": "stream",
          "text": [
            "BLEU: 0.533 - ROUGE: 0.631 - F1: 0.686 - ACC: 0.507 - PREC: 0.705 - REC: 0.507: 100%|██████████| 1000/1000 [04:21<00:00,  3.82it/s]\n"
          ]
        },
        {
          "name": "stdout",
          "output_type": "stream",
          "text": [
            "\n",
            "Examples:\n",
            "\n",
            "Example 1:\n",
            "Ground Truth: pork, orange, lime, black pepper, cumin, cayenne pepper, garlic, oregano, oil, onion, garlic, white wine\n",
            "Generated: pork, onion, garlic, tomato, tomato, soy, sugar, black pepper, garlic, ketchup, canola oil, egg, toothpick, worcestershire, salt, bread\n",
            "\n",
            "Example 2:\n",
            "Ground Truth: cocoa, brown sugar, milk, vanilla\n",
            "Generated: vanilla, salt, egg, sugar, ice\n",
            "\n",
            "Example 3:\n",
            "Ground Truth: fat, steak, gin, shallot, parsley, capers, worcestershire, egg, black pepper, crostini\n",
            "Generated: salmon, brown sugar, lemon, lemon, soy, water, oil\n",
            "Saving checkpoint at step 800\n"
          ]
        },
        {
          "name": "stderr",
          "output_type": "stream",
          "text": [
            " 12%|█▏        | 1000/8521 [1:08:14<2:40:48,  1.28s/it, lr=0.00200, loss=0.1147]  "
          ]
        },
        {
          "name": "stdout",
          "output_type": "stream",
          "text": [
            "\n",
            "Evaluating at step 1000\n"
          ]
        },
        {
          "name": "stderr",
          "output_type": "stream",
          "text": [
            "BLEU: 0.690 - ROUGE: 0.742 - F1: 0.768 - ACC: 0.691 - PREC: 0.798 - REC: 0.691: 100%|██████████| 1000/1000 [04:20<00:00,  3.83it/s]\n"
          ]
        },
        {
          "name": "stdout",
          "output_type": "stream",
          "text": [
            "\n",
            "Examples:\n",
            "\n",
            "Example 1:\n",
            "Ground Truth: tomato, cherry, onion, cucumber, pepper, lettuce, thyme, chives, feta, olive, oil, red wine, oregano, salt, black pepper\n",
            "Generated: tomato, cherry, onion, cucumber, pepper, lettuce, thyme, chives, feta, olive, oil, red wine, oregano, salt, black pepper\n",
            "\n",
            "Example 2:\n",
            "Ground Truth: flour, egg, cold water, salt, konbu dashi, dashi, soy, octopus, onion, pie, cheese\n",
            "Generated: foie gras, salt, milk\n",
            "\n",
            "Example 3:\n",
            "Ground Truth: nut, spray, sugar, butter, egg, flour, baking powder, baking powder, salt, nut, butter, glaze, sugar, fat, maple syrup, colored sprinkles\n",
            "Generated: nut, cinnamon, bread, butter, phyllo dough, sugar, honey, lemon, baklava\n",
            "Saving checkpoint at step 1000\n"
          ]
        },
        {
          "name": "stderr",
          "output_type": "stream",
          "text": [
            " 14%|█▍        | 1200/8521 [1:18:41<2:36:16,  1.28s/it, lr=0.00199, loss=0.0921]   "
          ]
        },
        {
          "name": "stdout",
          "output_type": "stream",
          "text": [
            "\n",
            "Evaluating at step 1200\n"
          ]
        },
        {
          "name": "stderr",
          "output_type": "stream",
          "text": [
            "BLEU: 0.770 - ROUGE: 0.815 - F1: 0.839 - ACC: 0.777 - PREC: 0.874 - REC: 0.777: 100%|██████████| 1000/1000 [04:39<00:00,  3.57it/s]\n"
          ]
        },
        {
          "name": "stdout",
          "output_type": "stream",
          "text": [
            "\n",
            "Examples:\n",
            "\n",
            "Example 1:\n",
            "Ground Truth: spaghetti, beef, pancetta, tomato, tomato, red wine, carrot, celery, onion, garlic, cheese, basil, oregano, bay, oil, salt, black pepper, cheese\n",
            "Generated: spaghetti, beef, pancetta, tomato, tomato, red wine, carrot, celery, onion, garlic, cheese, basil, oregano, bay, oil, salt, black pepper, cheese\n",
            "\n",
            "Example 2:\n",
            "Ground Truth: chicken, soy, garlic, sugar\n",
            "Generated: chicken, brown sugar, lemon, oregano, cloves, soy, oil, onion, garlic, corn starch, water, salt, pepper, bread\n",
            "\n",
            "Example 3:\n",
            "Ground Truth: butter, egg, sugar, whipping, vanilla, berries\n",
            "Generated: butter, egg, sugar, whipping, vanilla, berries\n",
            "Saving checkpoint at step 1200\n"
          ]
        },
        {
          "name": "stderr",
          "output_type": "stream",
          "text": [
            " 16%|█▋        | 1400/8521 [1:29:20<2:31:53,  1.28s/it, lr=0.00197, loss=0.0138]   "
          ]
        },
        {
          "name": "stdout",
          "output_type": "stream",
          "text": [
            "\n",
            "Evaluating at step 1400\n"
          ]
        },
        {
          "name": "stderr",
          "output_type": "stream",
          "text": [
            "BLEU: 0.800 - ROUGE: 0.837 - F1: 0.855 - ACC: 0.804 - PREC: 0.887 - REC: 0.804: 100%|██████████| 1000/1000 [05:00<00:00,  3.33it/s]\n"
          ]
        },
        {
          "name": "stdout",
          "output_type": "stream",
          "text": [
            "\n",
            "Examples:\n",
            "\n",
            "Example 1:\n",
            "Ground Truth: water, butter, salt, sugar, flour, egg, oil, cinnamon\n",
            "Generated: water, butter, salt, sugar, flour, egg, oil, cinnamon\n",
            "\n",
            "Example 2:\n",
            "Ground Truth: tomato, cherry, onion, cucumber, pepper, lettuce, thyme, chives, feta, olive, oil, red wine, oregano, salt, black pepper\n",
            "Generated: tomato, cherry, onion, cucumber, pepper, lettuce, thyme, chives, feta, olive, oil, red wine, oregano, salt, black pepper\n",
            "\n",
            "Example 3:\n",
            "Ground Truth: spaghetti, egg, cheese, bacon, garlic, salt, black pepper, parsley\n",
            "Generated: spaghetti, egg, cheese, bacon, garlic, salt, black pepper, parsley\n",
            "Saving checkpoint at step 1400\n"
          ]
        },
        {
          "name": "stderr",
          "output_type": "stream",
          "text": [
            " 19%|█▉        | 1600/8521 [1:40:46<2:32:19,  1.32s/it, lr=0.00195, loss=0.0809]   "
          ]
        },
        {
          "name": "stdout",
          "output_type": "stream",
          "text": [
            "\n",
            "Evaluating at step 1600\n"
          ]
        },
        {
          "name": "stderr",
          "output_type": "stream",
          "text": [
            "BLEU: 0.838 - ROUGE: 0.868 - F1: 0.884 - ACC: 0.844 - PREC: 0.899 - REC: 0.844: 100%|██████████| 1000/1000 [04:59<00:00,  3.34it/s]\n"
          ]
        },
        {
          "name": "stdout",
          "output_type": "stream",
          "text": [
            "\n",
            "Examples:\n",
            "\n",
            "Example 1:\n",
            "Ground Truth: butter, celery, shallot, oyster, black pepper, cayenne pepper\n",
            "Generated: butter, celery, shallot, oyster, black pepper, cayenne pepper\n",
            "\n",
            "Example 2:\n",
            "Ground Truth: noodles, miso, tofu, cress, onion, cilantro, pepper, miso, apple, gin, turmeric, water\n",
            "Generated: noodles, miso, tofu, cress, onion, cilantro, pepper, miso, apple, gin, turmeric, water\n",
            "\n",
            "Example 3:\n",
            "Ground Truth: chicken, black pepper, salt, curry, oil, onion, cloves, gin, broth, corn starch, sugar, peas, greek yogurt, cilantro\n",
            "Generated: grain, filet, mirin, oil, garlic, oxo, soy, sugar, pepper\n",
            "Saving checkpoint at step 1600\n"
          ]
        },
        {
          "name": "stderr",
          "output_type": "stream",
          "text": [
            " 21%|██        | 1800/8521 [1:52:15<2:15:05,  1.21s/it, lr=0.00193, loss=0.1207]   "
          ]
        },
        {
          "name": "stdout",
          "output_type": "stream",
          "text": [
            "\n",
            "Evaluating at step 1800\n"
          ]
        },
        {
          "name": "stderr",
          "output_type": "stream",
          "text": [
            "BLEU: 0.812 - ROUGE: 0.843 - F1: 0.859 - ACC: 0.816 - PREC: 0.875 - REC: 0.816: 100%|██████████| 1000/1000 [04:38<00:00,  3.59it/s]\n"
          ]
        },
        {
          "name": "stdout",
          "output_type": "stream",
          "text": [
            "\n",
            "Examples:\n",
            "\n",
            "Example 1:\n",
            "Ground Truth: bacon, morningstar farms chick'n patties, fat, bread, lettuce, cheddar, tomato\n",
            "Generated: bacon, morningstar farms chick'n patties, fat, bread, lettuce, cheddar, tomato\n",
            "\n",
            "Example 2:\n",
            "Ground Truth: spaghetti, egg, cheese, bacon, garlic, salt, black pepper, parsley\n",
            "Generated: spaghetti, beef, pancetta, tomato, tomato, red wine, carrot, celery, onion, garlic, cheese, basil, oregano, bay, oil, salt, black pepper, cheese\n",
            "\n",
            "Example 3:\n",
            "Ground Truth: balsamic vinegar, tomato, cheese, basil, oil, black pepper, salt\n",
            "Generated: egg, tartar, egg, cloves\n"
          ]
        },
        {
          "name": "stderr",
          "output_type": "stream",
          "text": [
            " 23%|██▎       | 2000/8521 [2:00:56<2:10:53,  1.20s/it, lr=0.00189, loss=0.0269]  "
          ]
        },
        {
          "name": "stdout",
          "output_type": "stream",
          "text": [
            "\n",
            "Evaluating at step 2000\n"
          ]
        },
        {
          "name": "stderr",
          "output_type": "stream",
          "text": [
            "BLEU: 0.802 - ROUGE: 0.836 - F1: 0.853 - ACC: 0.812 - PREC: 0.869 - REC: 0.812: 100%|██████████| 1000/1000 [04:17<00:00,  3.89it/s]\n"
          ]
        },
        {
          "name": "stdout",
          "output_type": "stream",
          "text": [
            "\n",
            "Examples:\n",
            "\n",
            "Example 1:\n",
            "Ground Truth: flour, baking powder, sugar, butter, egg, cake, bacon, onion, tomato, cheese, chives, parsley, salt, black pepper, maple syrup, oil, butter\n",
            "Generated: flour, baking powder, sugar, butter, egg, cake, bacon, onion, tomato, cheese, chives, parsley, salt, black pepper, maple syrup, oil, butter\n",
            "\n",
            "Example 2:\n",
            "Ground Truth: foie gras, salt, milk\n",
            "Generated: foie gras, salt, milk\n",
            "\n",
            "Example 3:\n",
            "Ground Truth: avocado, onion, jalapeno chilies, cilantro, salt, lime\n",
            "Generated: avocado, onion, jalapeno chilies, cilantro, salt, lime\n"
          ]
        },
        {
          "name": "stderr",
          "output_type": "stream",
          "text": [
            " 26%|██▌       | 2200/8521 [2:09:38<2:18:50,  1.32s/it, lr=0.00185, loss=0.1019]  "
          ]
        },
        {
          "name": "stdout",
          "output_type": "stream",
          "text": [
            "\n",
            "Evaluating at step 2200\n"
          ]
        },
        {
          "name": "stderr",
          "output_type": "stream",
          "text": [
            "BLEU: 0.818 - ROUGE: 0.850 - F1: 0.866 - ACC: 0.826 - PREC: 0.877 - REC: 0.826: 100%|██████████| 1000/1000 [04:40<00:00,  3.57it/s]\n"
          ]
        },
        {
          "name": "stdout",
          "output_type": "stream",
          "text": [
            "\n",
            "Examples:\n",
            "\n",
            "Example 1:\n",
            "Ground Truth: cocoa, brown sugar, milk, vanilla\n",
            "Generated: cocoa, brown sugar, milk, vanilla\n",
            "\n",
            "Example 2:\n",
            "Ground Truth: marrow, oxtail, beef, clove, anise, cinnamon, cardamom, black pepper, coriander, fennel, gin, onion, shallot, fish, sugar, noodles, scallions, eye round, cilantro, basil, beans, lime, bird chile, chile, hoisin\n",
            "Generated: marrow, oxtail, beef, clove, anise, cinnamon, cardamom, black pepper, coriander, fennel, gin, onion, shallot, fish, sugar, noodles, scallions, eye round, cilantro, basil, beans, lime, bird chile, chile, hoisin\n",
            "\n",
            "Example 3:\n",
            "Ground Truth: brown rice, oil, peas, carrot, garlic, egg, soy\n",
            "Generated: egg, oil, cheese, chilli, chives, dill, salmon\n"
          ]
        },
        {
          "name": "stderr",
          "output_type": "stream",
          "text": [
            " 28%|██▊       | 2400/8521 [2:18:42<2:14:27,  1.32s/it, lr=0.00181, loss=0.0176]  "
          ]
        },
        {
          "name": "stdout",
          "output_type": "stream",
          "text": [
            "\n",
            "Evaluating at step 2400\n"
          ]
        },
        {
          "name": "stderr",
          "output_type": "stream",
          "text": [
            "BLEU: 0.840 - ROUGE: 0.871 - F1: 0.886 - ACC: 0.848 - PREC: 0.883 - REC: 0.848: 100%|██████████| 1000/1000 [04:40<00:00,  3.56it/s]\n"
          ]
        },
        {
          "name": "stdout",
          "output_type": "stream",
          "text": [
            "\n",
            "Examples:\n",
            "\n",
            "Example 1:\n",
            "Ground Truth: spaghetti, beef, pancetta, tomato, tomato, red wine, carrot, celery, onion, garlic, cheese, basil, oregano, bay, oil, salt, black pepper, cheese\n",
            "Generated: spaghetti, beef, pancetta, tomato, tomato, red wine, carrot, celery, onion, garlic, cheese, basil, oregano, bay, oil, salt, black pepper, cheese\n",
            "\n",
            "Example 2:\n",
            "Ground Truth: snails, butter, mushroom, garlic, cheese, parsley\n",
            "Generated: foie gras, salt, milk\n",
            "\n",
            "Example 3:\n",
            "Ground Truth: sugar, vanilla, unflavored gelatin, cold water\n",
            "Generated: sugar, vanilla, unflavored gelatin, cold water\n",
            "Saving checkpoint at step 2400\n"
          ]
        },
        {
          "name": "stderr",
          "output_type": "stream",
          "text": [
            " 31%|███       | 2600/8521 [2:29:41<2:10:16,  1.32s/it, lr=0.00175, loss=0.0151]   "
          ]
        },
        {
          "name": "stdout",
          "output_type": "stream",
          "text": [
            "\n",
            "Evaluating at step 2600\n"
          ]
        },
        {
          "name": "stderr",
          "output_type": "stream",
          "text": [
            "BLEU: 0.845 - ROUGE: 0.877 - F1: 0.891 - ACC: 0.856 - PREC: 0.895 - REC: 0.856: 100%|██████████| 1000/1000 [05:14<00:00,  3.18it/s]\n"
          ]
        },
        {
          "name": "stdout",
          "output_type": "stream",
          "text": [
            "\n",
            "Examples:\n",
            "\n",
            "Example 1:\n",
            "Ground Truth: beef, lemon, gin, salt, pepper, baby arugula, asiago\n",
            "Generated: balsamic vinegar, tomato, cheese, basil, oil, black pepper, salt\n",
            "\n",
            "Example 2:\n",
            "Ground Truth: oil, potato, beer, flour, cod, pepper, chili, old bay, vinegar\n",
            "Generated: balsamic vinegar, tomato, cheese, basil, oil, black pepper, salt\n",
            "\n",
            "Example 3:\n",
            "Ground Truth: chips, beef, beans, salsa, cheese, onion, cilantro, jalapeno chilies, pickle\n",
            "Generated: chips, beef, beans, salsa, cheese, onion, cilantro, jalapeno chilies, pickle\n",
            "Saving checkpoint at step 2600\n"
          ]
        },
        {
          "name": "stderr",
          "output_type": "stream",
          "text": [
            " 33%|███▎      | 2800/8521 [2:40:41<1:55:30,  1.21s/it, lr=0.00170, loss=0.0142]   "
          ]
        },
        {
          "name": "stdout",
          "output_type": "stream",
          "text": [
            "\n",
            "Evaluating at step 2800\n"
          ]
        },
        {
          "name": "stderr",
          "output_type": "stream",
          "text": [
            "BLEU: 0.830 - ROUGE: 0.861 - F1: 0.875 - ACC: 0.838 - PREC: 0.868 - REC: 0.838: 100%|██████████| 1000/1000 [04:17<00:00,  3.88it/s]\n"
          ]
        },
        {
          "name": "stdout",
          "output_type": "stream",
          "text": [
            "\n",
            "Examples:\n",
            "\n",
            "Example 1:\n",
            "Ground Truth: milk, sugar, vanilla\n",
            "Generated: milk, sugar, vanilla\n",
            "\n",
            "Example 2:\n",
            "Ground Truth: spring roll wrappers, noodles, carrot, cucumber, onion, soy, oil, seeds\n",
            "Generated: spring roll wrappers, noodles, carrot, cucumber, onion, soy, oil, seeds\n",
            "\n",
            "Example 3:\n",
            "Ground Truth: chicken, black pepper, salt, curry, oil, onion, cloves, gin, broth, corn starch, sugar, peas, greek yogurt, cilantro\n",
            "Generated: chicken, black pepper, salt, curry, oil, onion, cloves, gin, broth, corn starch, sugar, peas, greek yogurt, cilantro\n"
          ]
        },
        {
          "name": "stderr",
          "output_type": "stream",
          "text": [
            " 35%|███▌      | 3000/8521 [2:49:00<1:50:58,  1.21s/it, lr=0.00164, loss=0.0036]  "
          ]
        },
        {
          "name": "stdout",
          "output_type": "stream",
          "text": [
            "\n",
            "Evaluating at step 3000\n"
          ]
        },
        {
          "name": "stderr",
          "output_type": "stream",
          "text": [
            "BLEU: 0.868 - ROUGE: 0.896 - F1: 0.907 - ACC: 0.876 - PREC: 0.907 - REC: 0.876: 100%|██████████| 1000/1000 [04:18<00:00,  3.86it/s]\n"
          ]
        },
        {
          "name": "stdout",
          "output_type": "stream",
          "text": [
            "\n",
            "Examples:\n",
            "\n",
            "Example 1:\n",
            "Ground Truth: rice, water, rice, sugar, salt\n",
            "Generated: rice, water, rice, sugar, salt\n",
            "\n",
            "Example 2:\n",
            "Ground Truth: sugar, cheese, almond, chocolate, liqueur, cannoli shells, cocoa, cocktail\n",
            "Generated: sugar, cheese, almond, chocolate, liqueur, cannoli shells, cocoa, cocktail\n",
            "\n",
            "Example 3:\n",
            "Ground Truth: chicken, soy, garlic, sugar\n",
            "Generated: chicken, soy, garlic, sugar\n",
            "Saving checkpoint at step 3000\n"
          ]
        },
        {
          "name": "stderr",
          "output_type": "stream",
          "text": [
            " 38%|███▊      | 3200/8521 [2:59:27<1:47:25,  1.21s/it, lr=0.00157, loss=0.0371]   "
          ]
        },
        {
          "name": "stdout",
          "output_type": "stream",
          "text": [
            "\n",
            "Evaluating at step 3200\n"
          ]
        },
        {
          "name": "stderr",
          "output_type": "stream",
          "text": [
            "BLEU: 0.860 - ROUGE: 0.888 - F1: 0.899 - ACC: 0.868 - PREC: 0.897 - REC: 0.868: 100%|██████████| 1000/1000 [04:19<00:00,  3.86it/s]\n"
          ]
        },
        {
          "name": "stdout",
          "output_type": "stream",
          "text": [
            "\n",
            "Examples:\n",
            "\n",
            "Example 1:\n",
            "Ground Truth: bread, milk, sugar, butter, salt, egg, vanilla\n",
            "Generated: bread, milk, sugar, butter, salt, egg, vanilla\n",
            "\n",
            "Example 2:\n",
            "Ground Truth: oil, arborio rice, risotto, broth, butter, cheese\n",
            "Generated: oil, arborio rice, risotto, broth, butter, cheese\n",
            "\n",
            "Example 3:\n",
            "Ground Truth: rice, water, rice, sugar, salt\n",
            "Generated: rice, water, rice, sugar, salt\n"
          ]
        },
        {
          "name": "stderr",
          "output_type": "stream",
          "text": [
            " 40%|███▉      | 3400/8521 [3:07:48<1:42:33,  1.20s/it, lr=0.00150, loss=0.0052]  "
          ]
        },
        {
          "name": "stdout",
          "output_type": "stream",
          "text": [
            "\n",
            "Evaluating at step 3400\n"
          ]
        },
        {
          "name": "stderr",
          "output_type": "stream",
          "text": [
            "BLEU: 0.844 - ROUGE: 0.874 - F1: 0.889 - ACC: 0.851 - PREC: 0.881 - REC: 0.851: 100%|██████████| 1000/1000 [04:18<00:00,  3.87it/s]\n"
          ]
        },
        {
          "name": "stdout",
          "output_type": "stream",
          "text": [
            "\n",
            "Examples:\n",
            "\n",
            "Example 1:\n",
            "Ground Truth: bacon, morningstar farms chick'n patties, fat, bread, lettuce, cheddar, tomato\n",
            "Generated: bacon, morningstar farms chick'n patties, fat, bread, lettuce, cheddar, tomato\n",
            "\n",
            "Example 2:\n",
            "Ground Truth: red snapper, lime, lemon, onion, tomato, serrano chilies, salt, oregano, pepper, cayenne pepper, cilantro, avocado, tortillas\n",
            "Generated: red snapper, lime, lemon, onion, tomato, serrano chilies, salt, oregano, pepper, cayenne pepper, cilantro, avocado, tortillas\n",
            "\n",
            "Example 3:\n",
            "Ground Truth: onion, flour, baking powder, egg, bread, oil\n",
            "Generated: crab, butter, shallot, salt, egg, worcestershire, paprika, black pepper, tartar, lemon, pepper, parsley, bread, bread\n"
          ]
        },
        {
          "name": "stderr",
          "output_type": "stream",
          "text": [
            " 42%|████▏     | 3600/8521 [3:16:07<1:38:35,  1.20s/it, lr=0.00143, loss=0.0345]  "
          ]
        },
        {
          "name": "stdout",
          "output_type": "stream",
          "text": [
            "\n",
            "Evaluating at step 3600\n"
          ]
        },
        {
          "name": "stderr",
          "output_type": "stream",
          "text": [
            "BLEU: 0.873 - ROUGE: 0.898 - F1: 0.907 - ACC: 0.883 - PREC: 0.905 - REC: 0.883: 100%|██████████| 1000/1000 [04:17<00:00,  3.89it/s]\n"
          ]
        },
        {
          "name": "stdout",
          "output_type": "stream",
          "text": [
            "\n",
            "Examples:\n",
            "\n",
            "Example 1:\n",
            "Ground Truth: paella, chorizo, chicken, onion, garlic, chicken, tomato, saffron, paprika, oil, parsley, salt, pepper, shrimp, mussels, clams, lemon\n",
            "Generated: paella, chorizo, chicken, onion, garlic, chicken, tomato, saffron, paprika, oil, parsley, salt, pepper, shrimp, mussels, clams, lemon\n",
            "\n",
            "Example 2:\n",
            "Ground Truth: english muffin, bacon, egg, butter, lemon, cayenne pepper\n",
            "Generated: english muffin, bacon, egg, butter, lemon, cayenne pepper\n",
            "\n",
            "Example 3:\n",
            "Ground Truth: seaweed, seeds, tomato, rice\n",
            "Generated: beef, lemon, gin, salt, pepper, baby arugula, asiago\n",
            "Saving checkpoint at step 3600\n"
          ]
        },
        {
          "name": "stderr",
          "output_type": "stream",
          "text": [
            " 45%|████▍     | 3800/8521 [3:26:24<1:34:51,  1.21s/it, lr=0.00136, loss=0.0086]   "
          ]
        },
        {
          "name": "stdout",
          "output_type": "stream",
          "text": [
            "\n",
            "Evaluating at step 3800\n"
          ]
        },
        {
          "name": "stderr",
          "output_type": "stream",
          "text": [
            "BLEU: 0.872 - ROUGE: 0.902 - F1: 0.912 - ACC: 0.885 - PREC: 0.912 - REC: 0.885: 100%|██████████| 1000/1000 [04:18<00:00,  3.87it/s]\n"
          ]
        },
        {
          "name": "stdout",
          "output_type": "stream",
          "text": [
            "\n",
            "Examples:\n",
            "\n",
            "Example 1:\n",
            "Ground Truth: beef, cheese, mayonnaise, ketchup, mustard, dill, black pepper, onion, tomato, lettuce\n",
            "Generated: beef, cheese, mayonnaise, ketchup, mustard, dill, black pepper, onion, tomato, lettuce\n",
            "\n",
            "Example 2:\n",
            "Ground Truth: dogs, dog bun, chili, onion, cheddar, mayonnaise, mustard, relish\n",
            "Generated: dogs, dog bun, chili, onion, cheddar, mayonnaise, mustard, relish\n",
            "\n",
            "Example 3:\n",
            "Ground Truth: onion, flour, baking powder, egg, bread, oil\n",
            "Generated: onion, flour, baking powder, egg, bread, oil\n",
            "Saving checkpoint at step 3800\n"
          ]
        },
        {
          "name": "stderr",
          "output_type": "stream",
          "text": [
            " 47%|████▋     | 4000/8521 [3:36:45<1:30:52,  1.21s/it, lr=0.00128, loss=0.0223]   "
          ]
        },
        {
          "name": "stdout",
          "output_type": "stream",
          "text": [
            "\n",
            "Evaluating at step 4000\n"
          ]
        },
        {
          "name": "stderr",
          "output_type": "stream",
          "text": [
            "BLEU: 0.881 - ROUGE: 0.903 - F1: 0.915 - ACC: 0.888 - PREC: 0.907 - REC: 0.888: 100%|██████████| 1000/1000 [04:19<00:00,  3.85it/s]\n"
          ]
        },
        {
          "name": "stdout",
          "output_type": "stream",
          "text": [
            "\n",
            "Examples:\n",
            "\n",
            "Example 1:\n",
            "Ground Truth: baby back ribs, apple, salt, mustard, brown sugar, worcestershire, gin, chili\n",
            "Generated: fig, brie, honey\n",
            "\n",
            "Example 2:\n",
            "Ground Truth: sashimi, rice, mirin, oil, gin\n",
            "Generated: sashimi, rice, mirin, oil, gin\n",
            "\n",
            "Example 3:\n",
            "Ground Truth: seaweed, seeds, tomato, rice\n",
            "Generated: seaweed, seeds, tomato, rice\n",
            "Saving checkpoint at step 4000\n"
          ]
        },
        {
          "name": "stderr",
          "output_type": "stream",
          "text": [
            " 49%|████▉     | 4200/8521 [3:46:08<1:26:48,  1.21s/it, lr=0.00120, loss=0.0043]  "
          ]
        },
        {
          "name": "stdout",
          "output_type": "stream",
          "text": [
            "\n",
            "Evaluating at step 4200\n"
          ]
        },
        {
          "name": "stderr",
          "output_type": "stream",
          "text": [
            "BLEU: 0.879 - ROUGE: 0.902 - F1: 0.912 - ACC: 0.886 - PREC: 0.908 - REC: 0.886: 100%|██████████| 1000/1000 [04:23<00:00,  3.80it/s]\n"
          ]
        },
        {
          "name": "stdout",
          "output_type": "stream",
          "text": [
            "\n",
            "Examples:\n",
            "\n",
            "Example 1:\n",
            "Ground Truth: avocado, onion, jalapeno chilies, cilantro, salt, lime\n",
            "Generated: avocado, onion, jalapeno chilies, cilantro, salt, lime\n",
            "\n",
            "Example 2:\n",
            "Ground Truth: mayonnaise, dijon mustard, celery, lemon, old bay, lobster, lettuce, dog rolls\n",
            "Generated: mayonnaise, dijon mustard, celery, lemon, old bay, lobster, lettuce, dog rolls\n",
            "\n",
            "Example 3:\n",
            "Ground Truth: brown rice, oil, peas, carrot, garlic, egg, soy\n",
            "Generated: brown rice, oil, peas, carrot, garlic, egg, soy\n"
          ]
        },
        {
          "name": "stderr",
          "output_type": "stream",
          "text": [
            " 52%|█████▏    | 4400/8521 [3:54:33<1:22:45,  1.20s/it, lr=0.00112, loss=0.0201] "
          ]
        },
        {
          "name": "stdout",
          "output_type": "stream",
          "text": [
            "\n",
            "Evaluating at step 4400\n"
          ]
        },
        {
          "name": "stderr",
          "output_type": "stream",
          "text": [
            "BLEU: 0.865 - ROUGE: 0.892 - F1: 0.904 - ACC: 0.874 - PREC: 0.896 - REC: 0.874: 100%|██████████| 1000/1000 [04:33<00:00,  3.66it/s]\n"
          ]
        },
        {
          "name": "stdout",
          "output_type": "stream",
          "text": [
            "\n",
            "Examples:\n",
            "\n",
            "Example 1:\n",
            "Ground Truth: milk, sugar, vanilla\n",
            "Generated: milk, sugar, vanilla\n",
            "\n",
            "Example 2:\n",
            "Ground Truth: avocado, onion, jalapeno chilies, cilantro, salt, lime\n",
            "Generated: avocado, onion, jalapeno chilies, cilantro, salt, lime\n",
            "\n",
            "Example 3:\n",
            "Ground Truth: beans, onion, parsley, garlic, flour, salt, cumin, coriander, black pepper, cayenne pepper, cardamom, oil\n",
            "Generated: beans, onion, parsley, garlic, flour, salt, cumin, coriander, black pepper, cayenne pepper, cardamom, oil\n"
          ]
        },
        {
          "name": "stderr",
          "output_type": "stream",
          "text": [
            " 54%|█████▍    | 4600/8521 [4:03:35<1:27:12,  1.33s/it, lr=0.00104, loss=0.0486] "
          ]
        },
        {
          "name": "stdout",
          "output_type": "stream",
          "text": [
            "\n",
            "Evaluating at step 4600\n"
          ]
        },
        {
          "name": "stderr",
          "output_type": "stream",
          "text": [
            "BLEU: 0.873 - ROUGE: 0.896 - F1: 0.906 - ACC: 0.880 - PREC: 0.902 - REC: 0.880: 100%|██████████| 1000/1000 [04:48<00:00,  3.47it/s]\n"
          ]
        },
        {
          "name": "stdout",
          "output_type": "stream",
          "text": [
            "\n",
            "Examples:\n",
            "\n",
            "Example 1:\n",
            "Ground Truth: baby back ribs, apple, salt, mustard, brown sugar, worcestershire, gin, chili\n",
            "Generated: baby back ribs, apple, salt, mustard, brown sugar, worcestershire, gin, chili\n",
            "\n",
            "Example 2:\n",
            "Ground Truth: sugar, almond, sugar, egg\n",
            "Generated: sugar, almond, sugar, egg\n",
            "\n",
            "Example 3:\n",
            "Ground Truth: egg, tartar, egg, cloves\n",
            "Generated: egg, tartar, egg, cloves\n"
          ]
        },
        {
          "name": "stderr",
          "output_type": "stream",
          "text": [
            " 56%|█████▋    | 4800/8521 [4:12:52<1:22:58,  1.34s/it, lr=0.00095, loss=0.0127] "
          ]
        },
        {
          "name": "stdout",
          "output_type": "stream",
          "text": [
            "\n",
            "Evaluating at step 4800\n"
          ]
        },
        {
          "name": "stderr",
          "output_type": "stream",
          "text": [
            "BLEU: 0.879 - ROUGE: 0.905 - F1: 0.913 - ACC: 0.891 - PREC: 0.908 - REC: 0.891: 100%|██████████| 1000/1000 [04:27<00:00,  3.73it/s]\n"
          ]
        },
        {
          "name": "stdout",
          "output_type": "stream",
          "text": [
            "\n",
            "Examples:\n",
            "\n",
            "Example 1:\n",
            "Ground Truth: bacon, morningstar farms chick'n patties, fat, bread, lettuce, cheddar, tomato\n",
            "Generated: bacon, morningstar farms chick'n patties, fat, bread, lettuce, cheddar, tomato\n",
            "\n",
            "Example 2:\n",
            "Ground Truth: strawberries, sugar, whipping, vanilla, honey, biscuits\n",
            "Generated: strawberries, sugar, whipping, vanilla, honey, biscuits\n",
            "\n",
            "Example 3:\n",
            "Ground Truth: spaghetti, beef, pancetta, tomato, tomato, red wine, carrot, celery, onion, garlic, cheese, basil, oregano, bay, oil, salt, black pepper, cheese\n",
            "Generated: spaghetti, beef, pancetta, tomato, tomato, red wine, carrot, celery, onion, garlic, cheese, basil, oregano, bay, oil, salt, black pepper, cheese\n"
          ]
        },
        {
          "name": "stderr",
          "output_type": "stream",
          "text": [
            " 59%|█████▊    | 5000/8521 [4:21:31<1:14:18,  1.27s/it, lr=0.00087, loss=0.0186] "
          ]
        },
        {
          "name": "stdout",
          "output_type": "stream",
          "text": [
            "\n",
            "Evaluating at step 5000\n"
          ]
        },
        {
          "name": "stderr",
          "output_type": "stream",
          "text": [
            "BLEU: 0.866 - ROUGE: 0.893 - F1: 0.903 - ACC: 0.875 - PREC: 0.893 - REC: 0.875: 100%|██████████| 1000/1000 [04:21<00:00,  3.83it/s]\n"
          ]
        },
        {
          "name": "stdout",
          "output_type": "stream",
          "text": [
            "\n",
            "Examples:\n",
            "\n",
            "Example 1:\n",
            "Ground Truth: brown rice, oil, peas, carrot, garlic, egg, soy\n",
            "Generated: brown rice, oil, peas, carrot, garlic, egg, soy\n",
            "\n",
            "Example 2:\n",
            "Ground Truth: filet, oil, garlic, gin, salt, pepper\n",
            "Generated: filet, oil, garlic, gin, salt, pepper\n",
            "\n",
            "Example 3:\n",
            "Ground Truth: spaghetti, egg, cheese, bacon, garlic, salt, black pepper, parsley\n",
            "Generated: spaghetti, egg, cheese, bacon, garlic, salt, black pepper, parsley\n"
          ]
        },
        {
          "name": "stderr",
          "output_type": "stream",
          "text": [
            " 61%|██████    | 5200/8521 [4:30:24<1:15:03,  1.36s/it, lr=0.00079, loss=0.0044] "
          ]
        },
        {
          "name": "stdout",
          "output_type": "stream",
          "text": [
            "\n",
            "Evaluating at step 5200\n"
          ]
        },
        {
          "name": "stderr",
          "output_type": "stream",
          "text": [
            "BLEU: 0.864 - ROUGE: 0.896 - F1: 0.907 - ACC: 0.876 - PREC: 0.895 - REC: 0.876: 100%|██████████| 1000/1000 [04:47<00:00,  3.48it/s]\n"
          ]
        },
        {
          "name": "stdout",
          "output_type": "stream",
          "text": [
            "\n",
            "Examples:\n",
            "\n",
            "Example 1:\n",
            "Ground Truth: pork, onion, garlic, tomato, tomato, italian, fennel, black pepper, noodles, egg, cheese, cheese, cheese\n",
            "Generated: pork, onion, garlic, tomato, tomato, italian, fennel, black pepper, noodles, egg, cheese, cheese, cheese\n",
            "\n",
            "Example 2:\n",
            "Ground Truth: flour, egg, cold water, salt, konbu dashi, dashi, soy, octopus, onion, pie, cheese\n",
            "Generated: flour, egg, cold water, salt, konbu dashi, dashi, soy, octopus, onion, pie, cheese\n",
            "\n",
            "Example 3:\n",
            "Ground Truth: potato, egg, flour, salt\n",
            "Generated: potato, egg, flour, salt\n"
          ]
        },
        {
          "name": "stderr",
          "output_type": "stream",
          "text": [
            " 63%|██████▎   | 5400/8521 [4:39:40<1:09:13,  1.33s/it, lr=0.00071, loss=0.0072] "
          ]
        },
        {
          "name": "stdout",
          "output_type": "stream",
          "text": [
            "\n",
            "Evaluating at step 5400\n"
          ]
        },
        {
          "name": "stderr",
          "output_type": "stream",
          "text": [
            "BLEU: 0.863 - ROUGE: 0.890 - F1: 0.901 - ACC: 0.872 - PREC: 0.889 - REC: 0.872: 100%|██████████| 1000/1000 [04:49<00:00,  3.46it/s]\n"
          ]
        },
        {
          "name": "stdout",
          "output_type": "stream",
          "text": [
            "\n",
            "Examples:\n",
            "\n",
            "Example 1:\n",
            "Ground Truth: seaweed, seeds, tomato, rice\n",
            "Generated: seaweed, seeds, tomato, rice\n",
            "\n",
            "Example 2:\n",
            "Ground Truth: egg, tartar, egg, cloves\n",
            "Generated: egg, tartar, egg, cloves\n",
            "\n",
            "Example 3:\n",
            "Ground Truth: oil, cloves, tomato, mussels, white wine, parsley, bread\n",
            "Generated: oil, cloves, tomato, mussels, white wine, parsley, bread\n"
          ]
        },
        {
          "name": "stderr",
          "output_type": "stream",
          "text": [
            " 66%|██████▌   | 5600/8521 [4:48:39<1:01:05,  1.25s/it, lr=0.00063, loss=0.0060] "
          ]
        },
        {
          "name": "stdout",
          "output_type": "stream",
          "text": [
            "\n",
            "Evaluating at step 5600\n"
          ]
        },
        {
          "name": "stderr",
          "output_type": "stream",
          "text": [
            "BLEU: 0.879 - ROUGE: 0.908 - F1: 0.919 - ACC: 0.893 - PREC: 0.909 - REC: 0.893: 100%|██████████| 1000/1000 [04:26<00:00,  3.75it/s]\n"
          ]
        },
        {
          "name": "stdout",
          "output_type": "stream",
          "text": [
            "\n",
            "Examples:\n",
            "\n",
            "Example 1:\n",
            "Ground Truth: seaweed, seeds, tomato, rice\n",
            "Generated: seaweed, seeds, tomato, rice\n",
            "\n",
            "Example 2:\n",
            "Ground Truth: english muffin, bacon, egg, butter, lemon, cayenne pepper\n",
            "Generated: english muffin, bacon, egg, butter, lemon, cayenne pepper\n",
            "\n",
            "Example 3:\n",
            "Ground Truth: garlic, plain greek yogurt, cheese, worcestershire, dijon mustard, lemon, anchovy, salt, pepper, lettuce, croutons\n",
            "Generated: butter, flour, milk, cheese, thyme, nut, salt, pepper, bread, dijon mustard, bacon, egg\n",
            "Saving checkpoint at step 5600\n"
          ]
        },
        {
          "name": "stderr",
          "output_type": "stream",
          "text": [
            " 68%|██████▊   | 5800/8521 [4:59:30<56:45,  1.25s/it, lr=0.00056, loss=0.0797]    "
          ]
        },
        {
          "name": "stdout",
          "output_type": "stream",
          "text": [
            "\n",
            "Evaluating at step 5800\n"
          ]
        },
        {
          "name": "stderr",
          "output_type": "stream",
          "text": [
            "BLEU: 0.874 - ROUGE: 0.899 - F1: 0.910 - ACC: 0.883 - PREC: 0.900 - REC: 0.883: 100%|██████████| 1000/1000 [04:31<00:00,  3.69it/s]\n"
          ]
        },
        {
          "name": "stdout",
          "output_type": "stream",
          "text": [
            "\n",
            "Examples:\n",
            "\n",
            "Example 1:\n",
            "Ground Truth: sashimi, rice, mirin, oil, gin\n",
            "Generated: sashimi, rice, mirin, oil, gin\n",
            "\n",
            "Example 2:\n",
            "Ground Truth: scallop, cajun, oil, butter, cayenne pepper, salt, pepper, greens\n",
            "Generated: scallop, cajun, oil, butter, cayenne pepper, salt, pepper, greens\n",
            "\n",
            "Example 3:\n",
            "Ground Truth: filet, oil, garlic, gin, salt, pepper\n",
            "Generated: pork, orange, lime, black pepper, cumin, cayenne pepper, garlic, oregano, oil, onion, garlic, white wine\n"
          ]
        },
        {
          "name": "stderr",
          "output_type": "stream",
          "text": [
            " 70%|███████   | 6000/8521 [5:08:11<52:21,  1.25s/it, lr=0.00049, loss=0.0027]   "
          ]
        },
        {
          "name": "stdout",
          "output_type": "stream",
          "text": [
            "\n",
            "Evaluating at step 6000\n"
          ]
        },
        {
          "name": "stderr",
          "output_type": "stream",
          "text": [
            "BLEU: 0.877 - ROUGE: 0.902 - F1: 0.911 - ACC: 0.889 - PREC: 0.905 - REC: 0.889: 100%|██████████| 1000/1000 [04:32<00:00,  3.68it/s]\n"
          ]
        },
        {
          "name": "stdout",
          "output_type": "stream",
          "text": [
            "\n",
            "Examples:\n",
            "\n",
            "Example 1:\n",
            "Ground Truth: bacon, morningstar farms chick'n patties, fat, bread, lettuce, cheddar, tomato\n",
            "Generated: bacon, morningstar farms chick'n patties, fat, bread, lettuce, cheddar, tomato\n",
            "\n",
            "Example 2:\n",
            "Ground Truth: chickpea, garlic, tahini, lemon, oil, salt, parsley\n",
            "Generated: chickpea, garlic, tahini, lemon, oil, salt, parsley\n",
            "\n",
            "Example 3:\n",
            "Ground Truth: egg, tartar, egg, cloves\n",
            "Generated: egg, tartar, egg, cloves\n"
          ]
        },
        {
          "name": "stderr",
          "output_type": "stream",
          "text": [
            " 73%|███████▎  | 6200/8521 [5:16:54<48:13,  1.25s/it, lr=0.00042, loss=0.0070]   "
          ]
        },
        {
          "name": "stdout",
          "output_type": "stream",
          "text": [
            "\n",
            "Evaluating at step 6200\n"
          ]
        },
        {
          "name": "stderr",
          "output_type": "stream",
          "text": [
            "BLEU: 0.864 - ROUGE: 0.892 - F1: 0.903 - ACC: 0.874 - PREC: 0.891 - REC: 0.874: 100%|██████████| 1000/1000 [04:26<00:00,  3.75it/s]\n"
          ]
        },
        {
          "name": "stdout",
          "output_type": "stream",
          "text": [
            "\n",
            "Examples:\n",
            "\n",
            "Example 1:\n",
            "Ground Truth: oil, calamari, flour, masa harina, parsley, lemon, parsley, salt, lemon, mayonnaise\n",
            "Generated: oil, calamari, flour, masa harina, parsley, lemon, parsley, salt, lemon, mayonnaise\n",
            "\n",
            "Example 2:\n",
            "Ground Truth: milk, sugar, vanilla\n",
            "Generated: milk, sugar, vanilla\n",
            "\n",
            "Example 3:\n",
            "Ground Truth: vanilla, salt, egg, sugar, chocolate, chocolate\n",
            "Generated: strawberries, sugar, whipping, vanilla, honey, biscuits\n"
          ]
        },
        {
          "name": "stderr",
          "output_type": "stream",
          "text": [
            " 75%|███████▌  | 6400/8521 [5:25:30<44:25,  1.26s/it, lr=0.00035, loss=0.0505]   "
          ]
        },
        {
          "name": "stdout",
          "output_type": "stream",
          "text": [
            "\n",
            "Evaluating at step 6400\n"
          ]
        },
        {
          "name": "stderr",
          "output_type": "stream",
          "text": [
            "BLEU: 0.862 - ROUGE: 0.891 - F1: 0.902 - ACC: 0.872 - PREC: 0.890 - REC: 0.872: 100%|██████████| 1000/1000 [04:19<00:00,  3.85it/s]\n"
          ]
        },
        {
          "name": "stdout",
          "output_type": "stream",
          "text": [
            "\n",
            "Examples:\n",
            "\n",
            "Example 1:\n",
            "Ground Truth: baking powder, shortening, flour, milk, salt\n",
            "Generated: baking powder, shortening, flour, milk, salt\n",
            "\n",
            "Example 2:\n",
            "Ground Truth: cheese, pasta, cheese, cheese\n",
            "Generated: cheese, pasta, cheese, cheese\n",
            "\n",
            "Example 3:\n",
            "Ground Truth: flour, baking powder, sugar, butter, egg, cake, bacon, onion, tomato, cheese, chives, parsley, salt, black pepper, maple syrup, oil, butter\n",
            "Generated: flour, baking powder, sugar, butter, egg, cake, bacon, onion, tomato, cheese, chives, parsley, salt, black pepper, maple syrup, oil, butter\n"
          ]
        },
        {
          "name": "stderr",
          "output_type": "stream",
          "text": [
            " 77%|███████▋  | 6600/8521 [5:34:04<47:36,  1.49s/it, lr=0.00029, loss=0.0036]   "
          ]
        },
        {
          "name": "stdout",
          "output_type": "stream",
          "text": [
            "\n",
            "Evaluating at step 6600\n"
          ]
        },
        {
          "name": "stderr",
          "output_type": "stream",
          "text": [
            "BLEU: 0.878 - ROUGE: 0.907 - F1: 0.918 - ACC: 0.892 - PREC: 0.904 - REC: 0.892: 100%|██████████| 1000/1000 [04:49<00:00,  3.46it/s]\n"
          ]
        },
        {
          "name": "stdout",
          "output_type": "stream",
          "text": [
            "\n",
            "Examples:\n",
            "\n",
            "Example 1:\n",
            "Ground Truth: red snapper, lime, lemon, onion, tomato, serrano chilies, salt, oregano, pepper, cayenne pepper, cilantro, avocado, tortillas\n",
            "Generated: red snapper, lime, lemon, onion, tomato, serrano chilies, salt, oregano, pepper, cayenne pepper, cilantro, avocado, tortillas\n",
            "\n",
            "Example 2:\n",
            "Ground Truth: flour, egg, cold water, salt, konbu dashi, dashi, soy, octopus, onion, pie, cheese\n",
            "Generated: flour, egg, cold water, salt, konbu dashi, dashi, soy, octopus, onion, pie, cheese\n",
            "\n",
            "Example 3:\n",
            "Ground Truth: onion, garlic, beef, chili, salt, sugar, corn tortillas, salsa, cilantro, lime\n",
            "Generated: onion, garlic, beef, chili, salt, sugar, corn tortillas, salsa, cilantro, lime\n"
          ]
        },
        {
          "name": "stderr",
          "output_type": "stream",
          "text": [
            " 80%|███████▉  | 6800/8521 [5:43:21<38:01,  1.33s/it, lr=0.00024, loss=0.0039]   "
          ]
        },
        {
          "name": "stdout",
          "output_type": "stream",
          "text": [
            "\n",
            "Evaluating at step 6800\n"
          ]
        },
        {
          "name": "stderr",
          "output_type": "stream",
          "text": [
            "BLEU: 0.890 - ROUGE: 0.915 - F1: 0.924 - ACC: 0.900 - PREC: 0.912 - REC: 0.900: 100%|██████████| 1000/1000 [04:41<00:00,  3.56it/s]\n"
          ]
        },
        {
          "name": "stdout",
          "output_type": "stream",
          "text": [
            "\n",
            "Examples:\n",
            "\n",
            "Example 1:\n",
            "Ground Truth: sushi grade tuna, scallions, tomato, cilantro, gin, soy, oil, cucumber\n",
            "Generated: salmon, brown sugar, lemon, lemon, soy, water, oil\n",
            "\n",
            "Example 2:\n",
            "Ground Truth: ham, sugar, butter, cheese, egg, vanilla\n",
            "Generated: ham, sugar, butter, cheese, egg, vanilla\n",
            "\n",
            "Example 3:\n",
            "Ground Truth: onion, butter, oil, salt, sugar, flour, beef, vermouth, pepper, baguette, cloves, cheese\n",
            "Generated: onion, butter, oil, salt, sugar, flour, beef, vermouth, pepper, baguette, cloves, cheese\n",
            "Saving checkpoint at step 6800\n"
          ]
        },
        {
          "name": "stderr",
          "output_type": "stream",
          "text": [
            " 82%|████████▏ | 7000/8521 [5:54:12<31:39,  1.25s/it, lr=0.00019, loss=0.0481]    "
          ]
        },
        {
          "name": "stdout",
          "output_type": "stream",
          "text": [
            "\n",
            "Evaluating at step 7000\n"
          ]
        },
        {
          "name": "stderr",
          "output_type": "stream",
          "text": [
            "BLEU: 0.874 - ROUGE: 0.900 - F1: 0.909 - ACC: 0.885 - PREC: 0.902 - REC: 0.885: 100%|██████████| 1000/1000 [04:56<00:00,  3.37it/s]\n"
          ]
        },
        {
          "name": "stdout",
          "output_type": "stream",
          "text": [
            "\n",
            "Examples:\n",
            "\n",
            "Example 1:\n",
            "Ground Truth: crab, butter, shallot, salt, egg, worcestershire, paprika, black pepper, tartar, lemon, pepper, parsley, bread, bread\n",
            "Generated: crab, butter, shallot, salt, egg, worcestershire, paprika, black pepper, tartar, lemon, pepper, parsley, bread, bread\n",
            "\n",
            "Example 2:\n",
            "Ground Truth: oil, calamari, flour, masa harina, parsley, lemon, parsley, salt, lemon, mayonnaise\n",
            "Generated: oil, calamari, flour, masa harina, parsley, lemon, parsley, salt, lemon, mayonnaise\n",
            "\n",
            "Example 3:\n",
            "Ground Truth: oil, arborio rice, risotto, broth, butter, cheese\n",
            "Generated: oil, arborio rice, risotto, broth, butter, cheese\n"
          ]
        },
        {
          "name": "stderr",
          "output_type": "stream",
          "text": [
            " 84%|████████▍ | 7200/8521 [6:03:19<27:27,  1.25s/it, lr=0.00014, loss=0.0122]   "
          ]
        },
        {
          "name": "stdout",
          "output_type": "stream",
          "text": [
            "\n",
            "Evaluating at step 7200\n"
          ]
        },
        {
          "name": "stderr",
          "output_type": "stream",
          "text": [
            "BLEU: 0.867 - ROUGE: 0.895 - F1: 0.905 - ACC: 0.877 - PREC: 0.894 - REC: 0.877: 100%|██████████| 1000/1000 [04:33<00:00,  3.66it/s]\n"
          ]
        },
        {
          "name": "stdout",
          "output_type": "stream",
          "text": [
            "\n",
            "Examples:\n",
            "\n",
            "Example 1:\n",
            "Ground Truth: parsley, thyme, bay, lobster, butter, gin, bran, shallot, carrot, celery, garlic, onion, salt, tomato, white wine, fish, cayenne pepper, corn starch, egg, chives\n",
            "Generated: flour, egg, cold water, salt, konbu dashi, dashi, soy, octopus, onion, pie, cheese\n",
            "\n",
            "Example 2:\n",
            "Ground Truth: oil, potato, peas, cumin, salt, chili, chilli, garam masala, gin, coriander, flour, water, cold water, oil\n",
            "Generated: oil, potato, peas, cumin, salt, chili, chilli, garam masala, gin, coriander, flour, water, cold water, oil\n",
            "\n",
            "Example 3:\n",
            "Ground Truth: bacon, morningstar farms chick'n patties, fat, bread, lettuce, cheddar, tomato\n",
            "Generated: bread, cheddar, tomato, onion, oil\n"
          ]
        },
        {
          "name": "stderr",
          "output_type": "stream",
          "text": [
            " 87%|████████▋ | 7400/8521 [6:12:02<23:15,  1.24s/it, lr=0.00010, loss=0.0242]   "
          ]
        },
        {
          "name": "stdout",
          "output_type": "stream",
          "text": [
            "\n",
            "Evaluating at step 7400\n"
          ]
        },
        {
          "name": "stderr",
          "output_type": "stream",
          "text": [
            "BLEU: 0.874 - ROUGE: 0.901 - F1: 0.912 - ACC: 0.884 - PREC: 0.899 - REC: 0.884: 100%|██████████| 1000/1000 [04:25<00:00,  3.77it/s]\n"
          ]
        },
        {
          "name": "stdout",
          "output_type": "stream",
          "text": [
            "\n",
            "Examples:\n",
            "\n",
            "Example 1:\n",
            "Ground Truth: onion, garlic, beef, chili, salt, sugar, corn tortillas, salsa, cilantro, lime\n",
            "Generated: onion, garlic, beef, chili, salt, sugar, corn tortillas, salsa, cilantro, lime\n",
            "\n",
            "Example 2:\n",
            "Ground Truth: flour, baking powder, cinnamon, salt, sugar, egg, oil, apple, vanilla, carrot, cheese, butter, sugar, milk\n",
            "Generated: flour, baking powder, cinnamon, salt, sugar, egg, oil, apple, vanilla, carrot, cheese, butter, sugar, milk\n",
            "\n",
            "Example 3:\n",
            "Ground Truth: oil, potato, beer, flour, cod, pepper, chili, old bay, vinegar\n",
            "Generated: oil, potato, beer, flour, cod, pepper, chili, old bay, vinegar\n"
          ]
        },
        {
          "name": "stderr",
          "output_type": "stream",
          "text": [
            " 89%|████████▉ | 7600/8521 [6:20:38<19:13,  1.25s/it, lr=0.00007, loss=0.0042]   "
          ]
        },
        {
          "name": "stdout",
          "output_type": "stream",
          "text": [
            "\n",
            "Evaluating at step 7600\n"
          ]
        },
        {
          "name": "stderr",
          "output_type": "stream",
          "text": [
            "BLEU: 0.880 - ROUGE: 0.907 - F1: 0.916 - ACC: 0.890 - PREC: 0.905 - REC: 0.890: 100%|██████████| 1000/1000 [04:28<00:00,  3.73it/s]\n"
          ]
        },
        {
          "name": "stdout",
          "output_type": "stream",
          "text": [
            "\n",
            "Examples:\n",
            "\n",
            "Example 1:\n",
            "Ground Truth: oil, potato, peas, cumin, salt, chili, chilli, garam masala, gin, coriander, flour, water, cold water, oil\n",
            "Generated: baking powder, shortening, flour, milk, salt\n",
            "\n",
            "Example 2:\n",
            "Ground Truth: dogs, dog bun, chili, onion, cheddar, mayonnaise, mustard, relish\n",
            "Generated: dogs, dog bun, chili, onion, cheddar, mayonnaise, mustard, relish\n",
            "\n",
            "Example 3:\n",
            "Ground Truth: egg, sugar, mascarpone, brewed espresso, frangelico, rum, lady fingers, cocoa\n",
            "Generated: cake, butter, caster sugar, flour, soda, baking powder, vanilla essence, milk, icing, sugar\n"
          ]
        },
        {
          "name": "stderr",
          "output_type": "stream",
          "text": [
            " 92%|█████████▏| 7800/8521 [6:29:16<15:08,  1.26s/it, lr=0.00004, loss=0.0250]   "
          ]
        },
        {
          "name": "stdout",
          "output_type": "stream",
          "text": [
            "\n",
            "Evaluating at step 7800\n"
          ]
        },
        {
          "name": "stderr",
          "output_type": "stream",
          "text": [
            "BLEU: 0.864 - ROUGE: 0.889 - F1: 0.899 - ACC: 0.871 - PREC: 0.888 - REC: 0.871: 100%|██████████| 1000/1000 [04:26<00:00,  3.75it/s]\n"
          ]
        },
        {
          "name": "stdout",
          "output_type": "stream",
          "text": [
            "\n",
            "Examples:\n",
            "\n",
            "Example 1:\n",
            "Ground Truth: bread, cheddar, tomato, onion, oil\n",
            "Generated: bread, cheddar, tomato, onion, oil\n",
            "\n",
            "Example 2:\n",
            "Ground Truth: salt, flour, milk, fat, onion, celery, potato, clam, butter\n",
            "Generated: salt, flour, milk, fat, onion, celery, potato, clam, butter\n",
            "\n",
            "Example 3:\n",
            "Ground Truth: cake, butter, caster sugar, flour, soda, baking powder, vanilla essence, milk, icing, sugar\n",
            "Generated: cake, butter, caster sugar, flour, soda, baking powder, vanilla essence, milk, icing, sugar\n"
          ]
        },
        {
          "name": "stderr",
          "output_type": "stream",
          "text": [
            " 94%|█████████▍| 8000/8521 [6:37:53<10:52,  1.25s/it, lr=0.00002, loss=0.0034]   "
          ]
        },
        {
          "name": "stdout",
          "output_type": "stream",
          "text": [
            "\n",
            "Evaluating at step 8000\n"
          ]
        },
        {
          "name": "stderr",
          "output_type": "stream",
          "text": [
            "BLEU: 0.875 - ROUGE: 0.899 - F1: 0.907 - ACC: 0.882 - PREC: 0.897 - REC: 0.882: 100%|██████████| 1000/1000 [04:37<00:00,  3.60it/s]\n"
          ]
        },
        {
          "name": "stdout",
          "output_type": "stream",
          "text": [
            "\n",
            "Examples:\n",
            "\n",
            "Example 1:\n",
            "Ground Truth: shiitake, gin, dashi, noodles, egg, baby bok choy, radish, miso, soy, oil, scallions, pepper\n",
            "Generated: shiitake, gin, dashi, noodles, egg, baby bok choy, radish, miso, soy, oil, scallions, pepper\n",
            "\n",
            "Example 2:\n",
            "Ground Truth: plum, garlic, gin, balsamic vinegar, basil, salt, black pepper, baguette\n",
            "Generated: plum, garlic, gin, balsamic vinegar, basil, salt, black pepper, baguette\n",
            "\n",
            "Example 3:\n",
            "Ground Truth: pizza, cherry, olive, oregano, basil, salt, oil, cheese\n",
            "Generated: pizza, cherry, olive, oregano, basil, salt, oil, cheese\n"
          ]
        },
        {
          "name": "stderr",
          "output_type": "stream",
          "text": [
            " 96%|█████████▌| 8200/8521 [6:46:53<06:56,  1.30s/it, lr=0.00001, loss=0.0315]   "
          ]
        },
        {
          "name": "stdout",
          "output_type": "stream",
          "text": [
            "\n",
            "Evaluating at step 8200\n"
          ]
        },
        {
          "name": "stderr",
          "output_type": "stream",
          "text": [
            "BLEU: 0.882 - ROUGE: 0.908 - F1: 0.917 - ACC: 0.892 - PREC: 0.903 - REC: 0.892: 100%|██████████| 1000/1000 [04:37<00:00,  3.61it/s]\n"
          ]
        },
        {
          "name": "stdout",
          "output_type": "stream",
          "text": [
            "\n",
            "Examples:\n",
            "\n",
            "Example 1:\n",
            "Ground Truth: pork, onion, garlic, tomato, tomato, italian, fennel, black pepper, noodles, egg, cheese, cheese, cheese\n",
            "Generated: pork, onion, garlic, tomato, tomato, italian, fennel, black pepper, noodles, egg, cheese, cheese, cheese\n",
            "\n",
            "Example 2:\n",
            "Ground Truth: bread, milk, sugar, butter, salt, egg, vanilla\n",
            "Generated: bread, milk, sugar, butter, salt, egg, vanilla\n",
            "\n",
            "Example 3:\n",
            "Ground Truth: chicken, soy, garlic, sugar\n",
            "Generated: chicken, soy, garlic, sugar\n"
          ]
        },
        {
          "name": "stderr",
          "output_type": "stream",
          "text": [
            " 99%|█████████▊| 8400/8521 [6:55:52<02:38,  1.31s/it, lr=0.00000, loss=0.0080]  "
          ]
        },
        {
          "name": "stdout",
          "output_type": "stream",
          "text": [
            "\n",
            "Evaluating at step 8400\n"
          ]
        },
        {
          "name": "stderr",
          "output_type": "stream",
          "text": [
            "BLEU: 0.875 - ROUGE: 0.900 - F1: 0.911 - ACC: 0.882 - PREC: 0.891 - REC: 0.882: 100%|██████████| 1000/1000 [04:18<00:00,  3.87it/s]\n"
          ]
        },
        {
          "name": "stdout",
          "output_type": "stream",
          "text": [
            "\n",
            "Examples:\n",
            "\n",
            "Example 1:\n",
            "Ground Truth: sushi grade tuna, scallions, tomato, cilantro, gin, soy, oil, cucumber\n",
            "Generated: sushi grade tuna, scallions, tomato, cilantro, gin, soy, oil, cucumber\n",
            "\n",
            "Example 2:\n",
            "Ground Truth: milk, sugar, vanilla\n",
            "Generated: vanilla, salt, egg, sugar, chocolate, chocolate\n",
            "\n",
            "Example 3:\n",
            "Ground Truth: bread, cheddar, tomato, onion, oil\n",
            "Generated: bread, cheddar, tomato, onion, oil\n"
          ]
        },
        {
          "name": "stderr",
          "output_type": "stream",
          "text": [
            "100%|██████████| 8521/8521 [7:02:37<00:00,  2.98s/it, lr=0.00000, loss=0.0231]  \n"
          ]
        }
      ],
      "source": [
        "# BATCH_SIZE = 8\n",
        "# LEARNING_RATE = 0.002\n",
        "# EPOCHS = 1\n",
        "# MAX_EXAMPLES = -1  # -1 to use all training data\n",
        "# EVAL_STEPS = 200  # Evaluate every n steps\n",
        "# VALIDATION_BATCH_SIZE = 4\n",
        "# VALIDATION_EXAMPLES = 1000  # set to None to use all validation data\n",
        "\n",
        "# def count_dataset_entries(jsonl_file_path):\n",
        "#     with open(jsonl_file_path, 'r') as file:\n",
        "#         return sum(1 for _ in file)\n",
        "\n",
        "# train_entries = count_dataset_entries('food-ingredients-101/train.jsonl')\n",
        "\n",
        "# if MAX_EXAMPLES != -1:\n",
        "#     train_entries = min(train_entries, MAX_EXAMPLES)\n",
        "# print(\"Number of training examples:\", train_entries)\n",
        "\n",
        "# TRAIN_STEPS = train_entries // BATCH_SIZE\n",
        "\n",
        "# train_data_it = train_data_iterator()\n",
        "\n",
        "# sched_fn = big_vision.utils.create_learning_rate_schedule(\n",
        "#     total_steps=TRAIN_STEPS+1, base=LEARNING_RATE,\n",
        "#     decay_type=\"cosine\", warmup_percent=0.10)\n",
        "\n",
        "# pbar = tqdm(total=TRAIN_STEPS, dynamic_ncols=True)\n",
        "\n",
        "# loss_values = []\n",
        "# best_f1 = 0\n",
        "\n",
        "# # Logging setup\n",
        "# import wandb\n",
        "\n",
        "# wandb.init(project=\"paligemma-jax-local\", config={\n",
        "#     \"model\": \"paligemma-3b-pt-224\",\n",
        "#     \"batch_size\": BATCH_SIZE,\n",
        "#     \"learning_rate\": LEARNING_RATE,\n",
        "#     \"train_steps\": TRAIN_STEPS,\n",
        "#     \"seq_len\": SEQLEN,\n",
        "#     \"ckpt_dir\": ckpt_dir,\n",
        "#     \"decay_type\": \"cosine\",\n",
        "#     \"warmup_percent\": 0.10,\n",
        "#     \"epochs\": EPOCHS,\n",
        "# })\n",
        "\n",
        "# for step in range(1, TRAIN_STEPS+1):\n",
        "#     # Make list of N training examples.\n",
        "#     examples = [next(train_data_it) for _ in range(BATCH_SIZE)]\n",
        "\n",
        "#     # Convert list of examples into a dict of np.arrays and load onto devices.\n",
        "#     batch = jax.tree.map(lambda *x: np.stack(x), *examples)\n",
        "#     batch = big_vision.utils.reshard(batch, data_sharding)\n",
        "\n",
        "#     # Training step and report training loss\n",
        "#     learning_rate = sched_fn(step)\n",
        "#     params, loss = update_fn(params, batch, learning_rate)\n",
        "\n",
        "#     loss = jax.device_get(loss)\n",
        "#     loss_values.append(loss)\n",
        "\n",
        "#     # Log loss to wandb\n",
        "#     wandb.log({\"train_loss\": loss, \"learning_rate\": learning_rate})\n",
        "\n",
        "#     pbar.set_postfix({'lr': f'{learning_rate:.5f}', 'loss': f'{loss:.4f}'}, refresh=True)\n",
        "#     pbar.update()\n",
        "\n",
        "#     if (step % EVAL_STEPS) == 0:\n",
        "#         print(f\"\\nEvaluating at step {step}\")\n",
        "        \n",
        "#         # Calculate validation scores\n",
        "#         val_results = evaluate_model_batch(\n",
        "#             params, \n",
        "#             batch_size=VALIDATION_BATCH_SIZE, \n",
        "#             num_examples=VALIDATION_EXAMPLES,\n",
        "#             ordered=False,\n",
        "#             data_iterator=batch_val_score_iterator\n",
        "#         )\n",
        "        \n",
        "#         # Log validation scores to wandb\n",
        "#         wandb.log({\n",
        "#             \"val_bleu\": val_results['bleu'],\n",
        "#             \"val_rouge\": val_results['rouge'],\n",
        "#             \"val_f1\": val_results['ingredient_overlap'],\n",
        "#             \"val_accuracy\": val_results['accuracy'],\n",
        "#             \"val_precision\": val_results['precision'],\n",
        "#             \"val_recall\": val_results['recall']\n",
        "#         })\n",
        "\n",
        "#         # Print a few examples\n",
        "#         print(\"\\nExamples:\")\n",
        "#         for i, (ground_truth, generated_caption) in enumerate(val_results['examples'][:3]):\n",
        "#             print(f\"\\nExample {i+1}:\")\n",
        "#             print(f\"Ground Truth: {ground_truth}\")\n",
        "#             print(f\"Generated: {generated_caption}\")\n",
        "\n",
        "#         # Visual inspection of predictions (using the first validation iterator)\n",
        "#         # print(\"\\nVisual inspection of predictions:\")\n",
        "#         # html_out = \"\"\n",
        "#         # for image, caption in make_predictions(\n",
        "#         #     validation_data_iterator(), num_examples=4, batch_size=4):\n",
        "#         #     html_out += render_example(image, caption)\n",
        "#         # display(HTML(html_out))\n",
        "\n",
        "#         # Save checkpoint if the validation score improves\n",
        "#         current_f1 = val_results['ingredient_overlap']\n",
        "#         if current_f1 >= best_f1:\n",
        "#             print(f\"Saving checkpoint at step {step}\")\n",
        "#             ckpt = {\"params\": params}\n",
        "#             save_args = orbax_utils.save_args_from_target(ckpt)\n",
        "#             checkpoint_manager.save(\n",
        "#                 step, \n",
        "#                 ckpt, \n",
        "#                 save_kwargs={'save_args': save_args}\n",
        "#             )\n",
        "#             best_f1 = current_f1\n",
        "\n",
        "# pbar.close()"
      ]
    },
    {
      "cell_type": "code",
      "execution_count": null,
      "metadata": {},
      "outputs": [],
      "source": [
        "# # save the final checkpoint\n",
        "\n",
        "# ckpt = {\"params\": params}\n",
        "# save_args = orbax_utils.save_args_from_target(ckpt)\n",
        "# checkpoint_manager.save(\n",
        "#     step, \n",
        "#     ckpt, \n",
        "#     save_kwargs={'save_args': save_args}\n",
        "#     )"
      ]
    },
    {
      "cell_type": "markdown",
      "metadata": {},
      "source": [
        "## Validation"
      ]
    },
    {
      "cell_type": "code",
      "execution_count": 22,
      "metadata": {},
      "outputs": [
        {
          "name": "stderr",
          "output_type": "stream",
          "text": [
            "/home/simon/miniconda3/envs/anja-ma/lib/python3.11/site-packages/orbax/checkpoint/type_handlers.py:1442: UserWarning: Couldn't find sharding info under RestoreArgs. Populating sharding info from sharding file. Please note restoration time will be slightly increased due to reading from file instead of directly from RestoreArgs. Note also that this option is unsafe when restoring on a different topology than the checkpoint was saved with.\n",
            "  warnings.warn(\n"
          ]
        }
      ],
      "source": [
        "# Load latest checkpoint\n",
        "best_step = checkpoint_manager.best_step()\n",
        "# best_step = 200\n",
        "best_ckpt = checkpoint_manager.restore(best_step)\n",
        "params = best_ckpt['params']"
      ]
    },
    {
      "cell_type": "code",
      "execution_count": 23,
      "metadata": {},
      "outputs": [
        {
          "data": {
            "text/plain": [
              "6800"
            ]
          },
          "execution_count": 23,
          "metadata": {},
          "output_type": "execute_result"
        }
      ],
      "source": [
        "best_step"
      ]
    },
    {
      "cell_type": "code",
      "execution_count": 24,
      "metadata": {},
      "outputs": [
        {
          "name": "stderr",
          "output_type": "stream",
          "text": [
            "BLEU: 0.914 - ROUGE: 0.937 - F1_ORIG: 0.944 - ACC: 0.925 - PREC: 0.928 - REC: 0.925 - F1_SKL: 0.944 - F1_SAMP: 0.944 - F1_WGT: 0.945 - F1_MAC: 0.877: 100%|██████████| 25250/25250 [10:27:43<00:00,  1.49s/it] \n"
          ]
        },
        {
          "name": "stdout",
          "output_type": "stream",
          "text": [
            "\n",
            "Validation Results:\n",
            "\tBLEU: 0.9142\n",
            "\tROUGE: 0.9367\n",
            "\tF1_ORIG: 0.9436\n",
            "\tF1_SKL: 0.9436\n",
            "\tF1_SAMP: 0.9436\n",
            "\tF1_WGT: 0.9446\n",
            "\tF1_MAC: 0.8768\n",
            "\tAccuracy: 0.9253\n",
            "\tPrecision: 0.9282\n",
            "\tRecall: 0.9253\n",
            "\n",
            "Examples:\n",
            "\n",
            "Example 1:\n",
            "Ground Truth: snails, butter, mushroom, garlic, cheese, parsley\n",
            "Generated: snails, butter, mushroom, garlic, cheese, parsley\n",
            "\n",
            "Example 2:\n",
            "Ground Truth: chicken, soy, garlic, sugar\n",
            "Generated: chicken, soy, garlic, sugar\n",
            "\n",
            "Example 3:\n",
            "Ground Truth: nut, spray, sugar, butter, egg, flour, baking powder, baking powder, salt, nut, butter, glaze, sugar, fat, maple syrup, colored sprinkles\n",
            "Generated: cake, butter, caster sugar, flour, soda, baking powder, vanilla essence, milk, icing, sugar\n",
            "\n",
            "Example 4:\n",
            "Ground Truth: egg, sugar, mascarpone, brewed espresso, frangelico, rum, lady fingers, cocoa\n",
            "Generated: egg, sugar, mascarpone, brewed espresso, frangelico, rum, lady fingers, cocoa\n",
            "\n",
            "Example 5:\n",
            "Ground Truth: chicken, soy, garlic, sugar\n",
            "Generated: chicken, soy, garlic, sugar\n"
          ]
        }
      ],
      "source": [
        "# Evaluate the model\n",
        "results = evaluate_model_batch(\n",
        "    params, \n",
        "    batch_size=8,  # 8\n",
        "    # num_examples=4,\n",
        "    ordered=False,\n",
        "    data_iterator=batch_test_score_iterator\n",
        ")\n",
        "print(f\"\\nValidation Results:\")\n",
        "print(f\"\\tBLEU: {results['bleu']:.4f}\")\n",
        "print(f\"\\tROUGE: {results['rouge']:.4f}\")\n",
        "print(f\"\\tF1_ORIG: {results['ingredient_overlap']:.4f}\")\n",
        "print(f\"\\tF1_SKL: {results['f1_sklearn']:.4f}\")\n",
        "print(f\"\\tF1_SAMP: {results['f1_sample']:.4f}\")\n",
        "print(f\"\\tF1_WGT: {results['f1_weighted']:.4f}\")\n",
        "print(f\"\\tF1_MAC: {results['f1_macro']:.4f}\")\n",
        "print(f\"\\tAccuracy: {results['accuracy']:.4f}\") \n",
        "print(f\"\\tPrecision: {results['precision']:.4f}\")\n",
        "print(f\"\\tRecall: {results['recall']:.4f}\")\n",
        "\n",
        "# Print a few examples\n",
        "print(\"\\nExamples:\")\n",
        "for i, (ground_truth, generated_caption) in enumerate(results['examples'][:5]):\n",
        "    print(f\"\\nExample {i+1}:\")\n",
        "    print(f\"Ground Truth: {ground_truth}\")\n",
        "    print(f\"Generated: {generated_caption}\")"
      ]
    },
    {
      "cell_type": "markdown",
      "metadata": {},
      "source": [
        "Validation Results:\n",
        "\n",
        "\tBLEU: 0.9142\n",
        "\tROUGE: 0.9367\n",
        "\tF1_ORIG: 0.9436\n",
        "\tF1_SKL: 0.9436\n",
        "\tF1_SAMP: 0.9436\n",
        "\tF1_WGT: 0.9446\n",
        "\tF1_MAC: 0.8768\n",
        "\tAccuracy: 0.9253\n",
        "\tPrecision: 0.9282\n",
        "\tRecall: 0.9253\n",
        "\n",
        "Examples:\n",
        "\n",
        "Example 1:\n",
        "- Ground Truth: snails, butter, mushroom, garlic, cheese, parsley\n",
        "- Generated: snails, butter, mushroom, garlic, cheese, parsley\n",
        "\n",
        "Example 2:\n",
        "- Ground Truth: chicken, soy, garlic, sugar\n",
        "- Generated: chicken, soy, garlic, sugar\n",
        "\n",
        "Example 3:\n",
        "- Ground Truth: nut, spray, sugar, butter, egg, flour, baking powder, baking powder, salt, nut, butter, glaze, sugar, fat, maple syrup, colored sprinkles\n",
        "- Generated: cake, butter, caster sugar, flour, soda, baking powder, vanilla essence, milk, icing, sugar\n",
        "\n",
        "Example 4:\n",
        "- Ground Truth: egg, sugar, mascarpone, brewed espresso, frangelico, rum, lady fingers, cocoa\n",
        "- Generated: egg, sugar, mascarpone, brewed espresso, frangelico, rum, lady fingers, cocoa\n",
        "\n",
        "Example 5:\n",
        "- Ground Truth: chicken, soy, garlic, sugar\n",
        "- Generated: chicken, soy, garlic, sugar"
      ]
    },
    {
      "cell_type": "markdown",
      "metadata": {},
      "source": [
        "### Evaluating on same same subset as gpt-4o-mini (500 examples - sratified)"
      ]
    },
    {
      "cell_type": "code",
      "execution_count": 34,
      "metadata": {},
      "outputs": [],
      "source": [
        "FULL_VALIDATION_SIZE = 500"
      ]
    },
    {
      "cell_type": "code",
      "execution_count": 39,
      "metadata": {},
      "outputs": [
        {
          "name": "stderr",
          "output_type": "stream",
          "text": [
            "\n",
            "\n",
            "\n",
            "\u001b[A\u001b[A\u001b[A"
          ]
        },
        {
          "name": "stdout",
          "output_type": "stream",
          "text": [
            "Classes and their sample counts:\n",
            "garlic_bread: 5\n",
            "steak: 5\n",
            "takoyaki: 5\n",
            "fish_and_chips: 5\n",
            "guacamole: 5\n",
            "pad_thai: 5\n",
            "sashimi: 5\n",
            "panna_cotta: 5\n",
            "gyoza: 5\n",
            "beef_tartare: 5\n",
            "prime_rib: 5\n",
            "caprese_salad: 5\n",
            "hummus: 5\n",
            "pancakes: 5\n",
            "scallops: 5\n",
            "club_sandwich: 5\n",
            "huevos_rancheros: 5\n",
            "foie_gras: 5\n",
            "nachos: 5\n",
            "hamburger: 5\n",
            "ceviche: 5\n",
            "escargots: 5\n",
            "baklava: 5\n",
            "shrimp_and_grits: 5\n",
            "breakfast_burrito: 5\n",
            "omelette: 5\n",
            "grilled_cheese_sandwich: 5\n",
            "gnocchi: 5\n",
            "apple_pie: 5\n",
            "crab_cakes: 5\n",
            "seaweed_salad: 5\n",
            "churros: 5\n",
            "oysters: 5\n",
            "samosa: 5\n",
            "bread_pudding: 5\n",
            "grilled_salmon: 5\n",
            "tacos: 5\n",
            "french_toast: 5\n",
            "ramen: 5\n",
            "falafel: 5\n",
            "onion_rings: 5\n",
            "beet_salad: 5\n",
            "baby_back_ribs: 5\n",
            "chicken_quesadilla: 5\n",
            "risotto: 5\n",
            "ravioli: 5\n",
            "hot_and_sour_soup: 5\n",
            "beignets: 5\n",
            "cup_cakes: 5\n",
            "hot_dog: 5\n",
            "chocolate_cake: 5\n",
            "chicken_wings: 5\n",
            "chicken_curry: 5\n",
            "fried_calamari: 5\n",
            "creme_brulee: 5\n",
            "miso_soup: 5\n",
            "lasagna: 5\n",
            "cheesecake: 5\n",
            "croque_madame: 5\n",
            "cannoli: 5\n",
            "peking_duck: 5\n",
            "lobster_bisque: 5\n",
            "deviled_eggs: 5\n",
            "lobster_roll_sandwich: 5\n",
            "paella: 5\n",
            "macarons: 5\n",
            "red_velvet_cake: 5\n",
            "strawberry_shortcake: 5\n",
            "macaroni_and_cheese: 5\n",
            "tiramisu: 5\n",
            "spring_rolls: 5\n",
            "spaghetti_bolognese: 5\n",
            "eggs_benedict: 5\n",
            "edamame: 5\n",
            "donuts: 5\n",
            "pizza: 5\n",
            "bruschetta: 5\n",
            "chocolate_mousse: 5\n",
            "carrot_cake: 5\n",
            "cheese_plate: 5\n",
            "ice_cream: 5\n",
            "tuna_tartare: 5\n",
            "poutine: 5\n",
            "caesar_salad: 5\n",
            "clam_chowder: 5\n",
            "spaghetti_carbonara: 5\n",
            "greek_salad: 5\n",
            "beef_carpaccio: 5\n",
            "sushi: 5\n",
            "bibimbap: 5\n",
            "dumplings: 5\n",
            "pho: 5\n",
            "french_fries: 5\n",
            "waffles: 5\n",
            "filet_mignon: 5\n",
            "frozen_yogurt: 5\n",
            "french_onion_soup: 4\n",
            "pork_chop: 4\n",
            "fried_rice: 4\n",
            "mussels: 4\n",
            "pulled_pork_sandwich: 4\n"
          ]
        },
        {
          "name": "stderr",
          "output_type": "stream",
          "text": [
            "\n",
            "\n",
            "\n",
            "\u001b[A\u001b[A\u001b[A\n",
            "\n",
            "\n",
            "\u001b[A\u001b[A\u001b[A\n",
            "\n",
            "\n",
            "\u001b[A\u001b[A\u001b[A\n",
            "\n",
            "\n",
            "\u001b[A\u001b[A\u001b[A\n",
            "\n",
            "\n",
            "\u001b[A\u001b[A\u001b[A\n",
            "\n",
            "\n",
            "\u001b[A\u001b[A\u001b[A\n",
            "\n",
            "\n",
            "\u001b[A\u001b[A\u001b[A\n",
            "\n",
            "\n",
            "\u001b[A\u001b[A\u001b[A\n",
            "\n",
            "\n",
            "\u001b[A\u001b[A\u001b[A\n",
            "\n",
            "\n",
            "\u001b[A\u001b[A\u001b[A\n",
            "\n",
            "\n",
            "\u001b[A\u001b[A\u001b[A\n",
            "\n",
            "\n",
            "\u001b[A\u001b[A\u001b[A\n",
            "\n",
            "\n",
            "\u001b[A\u001b[A\u001b[A\n",
            "\n",
            "\n",
            "\u001b[A\u001b[A\u001b[A\n",
            "\n",
            "\n",
            "\u001b[A\u001b[A\u001b[A\n",
            "\n",
            "\n",
            "\u001b[A\u001b[A\u001b[A\n",
            "\n",
            "\n",
            "\u001b[A\u001b[A\u001b[A\n",
            "\n",
            "\n",
            "\u001b[A\u001b[A\u001b[A\n",
            "\n",
            "\n",
            "\u001b[A\u001b[A\u001b[A\n",
            "\n",
            "\n",
            "\u001b[A\u001b[A\u001b[A\n",
            "\n",
            "\n",
            "\u001b[A\u001b[A\u001b[A\n",
            "\n",
            "\n",
            "\u001b[A\u001b[A\u001b[A\n",
            "\n",
            "\n",
            "\u001b[A\u001b[A\u001b[A\n",
            "\n",
            "\n",
            "\u001b[A\u001b[A\u001b[A\n",
            "\n",
            "\n",
            "\u001b[A\u001b[A\u001b[A\n",
            "\n",
            "\n",
            "\u001b[A\u001b[A\u001b[A\n",
            "\n",
            "\n",
            "\u001b[A\u001b[A\u001b[A\n",
            "\n",
            "\n",
            "\u001b[A\u001b[A\u001b[A\n",
            "\n",
            "\n",
            "\u001b[A\u001b[A\u001b[A\n",
            "\n",
            "\n",
            "\u001b[A\u001b[A\u001b[A\n",
            "\n",
            "\n",
            "\u001b[A\u001b[A\u001b[A\n",
            "\n",
            "\n",
            "\u001b[A\u001b[A\u001b[A\n",
            "\n",
            "\n",
            "\u001b[A\u001b[A\u001b[A\n",
            "\n",
            "\n",
            "\u001b[A\u001b[A\u001b[A\n",
            "\n",
            "\n",
            "\u001b[A\u001b[A\u001b[A\n",
            "\n",
            "\n",
            "\u001b[A\u001b[A\u001b[A\n",
            "\n",
            "\n",
            "\u001b[A\u001b[A\u001b[A\n",
            "\n",
            "\n",
            "\u001b[A\u001b[A\u001b[A\n",
            "\n",
            "\n",
            "\u001b[A\u001b[A\u001b[A\n",
            "\n",
            "\n",
            "\u001b[A\u001b[A\u001b[A\n",
            "\n",
            "\n",
            "\u001b[A\u001b[A\u001b[A\n",
            "\n",
            "\n",
            "\u001b[A\u001b[A\u001b[A\n",
            "\n",
            "\n",
            "\u001b[A\u001b[A\u001b[A\n",
            "\n",
            "\n",
            "\u001b[A\u001b[A\u001b[A\n",
            "\n",
            "\n",
            "\u001b[A\u001b[A\u001b[A\n",
            "\n",
            "\n",
            "\u001b[A\u001b[A\u001b[A\n",
            "\n",
            "\n",
            "\u001b[A\u001b[A\u001b[A\n",
            "\n",
            "\n",
            "\u001b[A\u001b[A\u001b[A\n",
            "\n",
            "\n",
            "\u001b[A\u001b[A\u001b[A\n",
            "\n",
            "\n",
            "\u001b[A\u001b[A\u001b[A\n",
            "\n",
            "\n",
            "\u001b[A\u001b[A\u001b[A\n",
            "\n",
            "\n",
            "\u001b[A\u001b[A\u001b[A\n",
            "\n",
            "\n",
            "\u001b[A\u001b[A\u001b[A\n",
            "\n",
            "\n",
            "\u001b[A\u001b[A\u001b[A\n",
            "\n",
            "\n",
            "\u001b[A\u001b[A\u001b[A\n",
            "\n",
            "\n",
            "\u001b[A\u001b[A\u001b[A\n",
            "\n",
            "\n",
            "\u001b[A\u001b[A\u001b[A\n",
            "\n",
            "\n",
            "\u001b[A\u001b[A\u001b[A\n",
            "\n",
            "\n",
            "\u001b[A\u001b[A\u001b[A\n",
            "\n",
            "\n",
            "\u001b[A\u001b[A\u001b[A\n",
            "\n",
            "\n",
            "\u001b[A\u001b[A\u001b[A\n",
            "\n",
            "\n",
            "\u001b[A\u001b[A\u001b[A\n",
            "\n",
            "\n",
            "\u001b[A\u001b[A\u001b[A\n",
            "\n",
            "\n",
            "\u001b[A\u001b[A\u001b[A\n",
            "\n",
            "\n",
            "\u001b[A\u001b[A\u001b[A\n",
            "\n",
            "\n",
            "\u001b[A\u001b[A\u001b[A\n",
            "\n",
            "\n",
            "\u001b[A\u001b[A\u001b[A\n",
            "\n",
            "\n",
            "\u001b[A\u001b[A\u001b[A\n",
            "\n",
            "\n",
            "\u001b[A\u001b[A\u001b[A\n",
            "\n",
            "\n",
            "\u001b[A\u001b[A\u001b[A\n",
            "\n",
            "\n",
            "\u001b[A\u001b[A\u001b[A\n",
            "\n",
            "\n",
            "\u001b[A\u001b[A\u001b[A\n",
            "\n",
            "\n",
            "\u001b[A\u001b[A\u001b[A\n",
            "\n",
            "\n",
            "\u001b[A\u001b[A\u001b[A\n",
            "\n",
            "\n",
            "\u001b[A\u001b[A\u001b[A\n",
            "\n",
            "\n",
            "\u001b[A\u001b[A\u001b[A\n",
            "\n",
            "\n",
            "\u001b[A\u001b[A\u001b[A\n",
            "\n",
            "\n",
            "\u001b[A\u001b[A\u001b[A\n",
            "\n",
            "\n",
            "\u001b[A\u001b[A\u001b[A\n",
            "\n",
            "\n",
            "\u001b[A\u001b[A\u001b[A\n",
            "\n",
            "\n",
            "\u001b[A\u001b[A\u001b[A\n",
            "\n",
            "\n",
            "\u001b[A\u001b[A\u001b[A\n",
            "\n",
            "\n",
            "\u001b[A\u001b[A\u001b[A\n",
            "\n",
            "\n",
            "\u001b[A\u001b[A\u001b[A\n",
            "\n",
            "\n",
            "\u001b[A\u001b[A\u001b[A\n",
            "\n",
            "\n",
            "\u001b[A\u001b[A\u001b[A\n",
            "\n",
            "\n",
            "\u001b[A\u001b[A\u001b[A\n",
            "\n",
            "\n",
            "\u001b[A\u001b[A\u001b[A\n",
            "\n",
            "\n",
            "\u001b[A\u001b[A\u001b[A\n",
            "\n",
            "\n",
            "\u001b[A\u001b[A\u001b[A\n",
            "\n",
            "\n",
            "\u001b[A\u001b[A\u001b[A\n",
            "\n",
            "\n",
            "\u001b[A\u001b[A\u001b[A\n",
            "\n",
            "\n",
            "\u001b[A\u001b[A\u001b[A\n",
            "\n",
            "\n",
            "\u001b[A\u001b[A\u001b[A\n",
            "\n",
            "\n",
            "\u001b[A\u001b[A\u001b[A\n",
            "\n",
            "\n",
            "\u001b[A\u001b[A\u001b[A\n",
            "\n",
            "\n",
            "\u001b[A\u001b[A\u001b[A\n",
            "\n",
            "\n",
            "\u001b[A\u001b[A\u001b[A\n",
            "\n",
            "\n",
            "\u001b[A\u001b[A\u001b[A\n",
            "\n",
            "\n",
            "\u001b[A\u001b[A\u001b[A\n",
            "\n",
            "\n",
            "\u001b[A\u001b[A\u001b[A\n",
            "\n",
            "\n",
            "\u001b[A\u001b[A\u001b[A\n",
            "\n",
            "\n",
            "\u001b[A\u001b[A\u001b[A\n",
            "\n",
            "\n",
            "\u001b[A\u001b[A\u001b[A\n",
            "\n",
            "\n",
            "\u001b[A\u001b[A\u001b[A\n",
            "\n",
            "\n",
            "\u001b[A\u001b[A\u001b[A\n",
            "\n",
            "\n",
            "\u001b[A\u001b[A\u001b[A\n",
            "\n",
            "\n",
            "\u001b[A\u001b[A\u001b[A\n",
            "\n",
            "\n",
            "\u001b[A\u001b[A\u001b[A\n",
            "\n",
            "\n",
            "\u001b[A\u001b[A\u001b[A\n",
            "\n",
            "\n",
            "\u001b[A\u001b[A\u001b[A\n",
            "\n",
            "\n",
            "\u001b[A\u001b[A\u001b[A\n",
            "\n",
            "\n",
            "\u001b[A\u001b[A\u001b[A\n",
            "\n",
            "\n",
            "\u001b[A\u001b[A\u001b[A\n",
            "\n",
            "\n",
            "\u001b[A\u001b[A\u001b[A\n",
            "\n",
            "\n",
            "\u001b[A\u001b[A\u001b[A\n",
            "\n",
            "\n",
            "\u001b[A\u001b[A\u001b[A\n",
            "\n",
            "\n",
            "\u001b[A\u001b[A\u001b[A\n",
            "\n",
            "\n",
            "\u001b[A\u001b[A\u001b[A\n",
            "\n",
            "\n",
            "\u001b[A\u001b[A\u001b[A\n",
            "\n",
            "\n",
            "\u001b[A\u001b[A\u001b[A\n",
            "\n",
            "\n",
            "\u001b[A\u001b[A\u001b[A\n",
            "\n",
            "\n",
            "\u001b[A\u001b[A\u001b[A\n",
            "\n",
            "\n",
            "\u001b[A\u001b[A\u001b[A\n",
            "\n",
            "\n",
            "\u001b[A\u001b[A\u001b[A\n",
            "\n",
            "\n",
            "BLEU: 0.918 - ROUGE: 0.942 - F1_ORIG: 0.949 - ACC: 0.930 - PREC: 0.941 - REC: 0.930 - F1_SKL: 0.949 - F1_SAMP: 0.949 - F1_WGT: 0.946 - F1_MAC: 0.938: 100%|██████████| 500/500 [01:55<00:00,  4.33it/s]\n"
          ]
        },
        {
          "name": "stdout",
          "output_type": "stream",
          "text": [
            "\n",
            "Comprehensive Validation Results (500 examples):\n",
            "\tBLEU: 0.9185\n",
            "\tROUGE: 0.9417\n",
            "\tF1_ORIG: 0.9492\n",
            "\tF1_SKL: 0.9492\n",
            "\tF1_SAMP: 0.9492\n",
            "\tF1_WGT: 0.9464\n",
            "\tF1_MAC: 0.9380\n",
            "\tAccuracy: 0.9300\n",
            "\tPrecision: 0.9409\n",
            "\tRecall: 0.9300\n",
            "\n",
            "Examples from Comprehensive Validation:\n",
            "\n",
            "Example 1:\n",
            "Ground Truth: egg, tartar, egg, cloves\n",
            "Generated: egg, tartar, egg, cloves\n",
            "\n",
            "Example 2:\n",
            "Ground Truth: egg, tartar, egg, cloves\n",
            "Generated: egg, tartar, egg, cloves\n",
            "\n",
            "Example 3:\n",
            "Ground Truth: egg, tartar, egg, cloves\n",
            "Generated: egg, tartar, egg, cloves\n",
            "\n",
            "Example 4:\n",
            "Ground Truth: egg, tartar, egg, cloves\n",
            "Generated: egg, tartar, egg, cloves\n",
            "\n",
            "Example 5:\n",
            "Ground Truth: oil, garlic, black pepper, salt, sirloin, steak, worcestershire\n",
            "Generated: oil, garlic, black pepper, salt, sirloin, steak, worcestershire\n"
          ]
        }
      ],
      "source": [
        "# Evaluate the model on the comprehensive test set\n",
        "comprehensive_results = evaluate_model_batch(\n",
        "    params, \n",
        "    batch_size=8,\n",
        "    num_examples=FULL_VALIDATION_SIZE,\n",
        "    ordered=False,\n",
        "    data_iterator=stratified_batch_test_score_iterator\n",
        ")\n",
        "\n",
        "print(f\"\\nComprehensive Validation Results (500 examples):\")\n",
        "print(f\"\\tBLEU: {comprehensive_results['bleu']:.4f}\")\n",
        "print(f\"\\tROUGE: {comprehensive_results['rouge']:.4f}\")\n",
        "print(f\"\\tF1_ORIG: {comprehensive_results['ingredient_overlap']:.4f}\")\n",
        "print(f\"\\tF1_SKL: {comprehensive_results['f1_sklearn']:.4f}\")\n",
        "print(f\"\\tF1_SAMP: {comprehensive_results['f1_sample']:.4f}\")\n",
        "print(f\"\\tF1_WGT: {comprehensive_results['f1_weighted']:.4f}\")\n",
        "print(f\"\\tF1_MAC: {comprehensive_results['f1_macro']:.4f}\")\n",
        "print(f\"\\tAccuracy: {comprehensive_results['accuracy']:.4f}\") \n",
        "print(f\"\\tPrecision: {comprehensive_results['precision']:.4f}\")\n",
        "print(f\"\\tRecall: {comprehensive_results['recall']:.4f}\")\n",
        "\n",
        "# Print a few examples\n",
        "print(\"\\nExamples from Comprehensive Validation:\")\n",
        "for i, (ground_truth, generated_caption) in enumerate(comprehensive_results['examples'][:5]):\n",
        "    print(f\"\\nExample {i+1}:\")\n",
        "    print(f\"Ground Truth: {ground_truth}\")\n",
        "    print(f\"Generated: {generated_caption}\")"
      ]
    },
    {
      "cell_type": "code",
      "execution_count": null,
      "metadata": {},
      "outputs": [],
      "source": []
    }
  ],
  "metadata": {
    "accelerator": "GPU",
    "colab": {
      "collapsed_sections": [
        "u71STQRgnQ3a",
        "6U0QUFveqSP2"
      ],
      "gpuType": "T4",
      "provenance": []
    },
    "kernelspec": {
      "display_name": "Python 3",
      "name": "python3"
    },
    "language_info": {
      "codemirror_mode": {
        "name": "ipython",
        "version": 3
      },
      "file_extension": ".py",
      "mimetype": "text/x-python",
      "name": "python",
      "nbconvert_exporter": "python",
      "pygments_lexer": "ipython3",
      "version": "3.11.0"
    }
  },
  "nbformat": 4,
  "nbformat_minor": 0
}
