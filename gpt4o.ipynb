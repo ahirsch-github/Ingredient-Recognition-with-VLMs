{
 "cells": [
  {
   "cell_type": "code",
   "execution_count": 1,
   "metadata": {},
   "outputs": [],
   "source": [
    "# Food Ingredient Prediction with GPT-4\n",
    "# Zero-shot and Few-shot Learning\n",
    "\n",
    "import os\n",
    "import json\n",
    "import random\n",
    "from tqdm import tqdm\n",
    "import numpy as np\n",
    "from sklearn.metrics import accuracy_score, precision_score, recall_score, f1_score\n",
    "from nltk.translate.bleu_score import sentence_bleu, SmoothingFunction\n",
    "from rouge_score import rouge_scorer\n",
    "from openai import OpenAI\n",
    "from dotenv import load_dotenv\n",
    "from PIL import Image\n",
    "from IPython.display import display\n",
    "import base64"
   ]
  },
  {
   "cell_type": "code",
   "execution_count": 2,
   "metadata": {},
   "outputs": [
    {
     "name": "stdout",
     "output_type": "stream",
     "text": [
      "\u001b[32mTraceloop syncing configuration and prompts\u001b[39m\n",
      "\u001b[32mTraceloop exporting traces to https://api.traceloop.com authenticating with bearer token\n",
      "\u001b[39m\n"
     ]
    }
   ],
   "source": [
    "# LLM Tracing\n",
    "\n",
    "from traceloop.sdk import Traceloop\n",
    "\n",
    "Traceloop.init()"
   ]
  },
  {
   "cell_type": "code",
   "execution_count": 3,
   "metadata": {},
   "outputs": [],
   "source": [
    "# Load environment variables\n",
    "load_dotenv()\n",
    "\n",
    "# Initialize OpenAI client\n",
    "client = OpenAI(api_key=os.getenv(\"OPENAI_API_KEY\"))"
   ]
  },
  {
   "cell_type": "code",
   "execution_count": null,
   "metadata": {},
   "outputs": [],
   "source": [
    "# === PARAMETERS ===\n",
    "MODEL = \"gpt-4o\"\n",
    "VALIDATION_SIZE = 15"
   ]
  },
  {
   "cell_type": "code",
   "execution_count": 4,
   "metadata": {},
   "outputs": [
    {
     "data": {
      "text/html": [
       "<img src='data/food-101/images/apple_pie/1005649.jpg' style='width: 256px; height: 256px; margin: 10px;'><div style='display: inline-block; vertical-align: top; margin: 10px; max-width: 256px;'><p>pastry,butter,flour,granulated white sugar,brown s<br>ugar,baking apples,ground cinnamon,nutmeg</p></div><img src='data/food-101/images/apple_pie/1014775.jpg' style='width: 256px; height: 256px; margin: 10px;'><div style='display: inline-block; vertical-align: top; margin: 10px; max-width: 256px;'><p>pastry,butter,flour,granulated white sugar,brown s<br>ugar,baking apples,ground cinnamon,nutmeg</p></div><img src='data/food-101/images/apple_pie/1026328.jpg' style='width: 256px; height: 256px; margin: 10px;'><div style='display: inline-block; vertical-align: top; margin: 10px; max-width: 256px;'><p>pastry,butter,flour,granulated white sugar,brown s<br>ugar,baking apples,ground cinnamon,nutmeg</p></div>"
      ],
      "text/plain": [
       "<IPython.core.display.HTML object>"
      ]
     },
     "metadata": {},
     "output_type": "display_data"
    }
   ],
   "source": [
    "# Load and prepare data\n",
    "def load_data(file_path):\n",
    "    with open(file_path, 'r') as f:\n",
    "        return [json.loads(line) for line in f]\n",
    "\n",
    "train_data = load_data('food-ingredients-101/train.jsonl')\n",
    "test_data = load_data('food-ingredients-101/test.jsonl')\n",
    "\n",
    "# Select a subset of test data for validation\n",
    "validation_data = random.sample(test_data, VALIDATION_SIZE)\n",
    "\n",
    "# show 4 examples from the training set\n",
    "# [{'prefix': '', 'suffix': 'pastry, butter, flour, granulated white sugar, brown sugar, baking apples, ground cinnamon, nutmeg', 'image': 'food-101/images/apple_pie/1005649.jpg'}, {'prefix': '', 'suffix': 'pastry, butter, flour, granulated white sugar, brown sugar, baking apples, ground cinnamon, nutmeg', 'image': 'food-101/images/apple_pie/1014775.jpg'}, {'prefix': '', 'suffix': 'pastry, butter, flour, granulated white sugar, brown sugar, baking apples, ground cinnamon, nutmeg', 'image': 'food-101/images/apple_pie/1026328.jpg'}, {'prefix': '', 'suffix': 'pastry, butter, flour, granulated white sugar, brown sugar, baking apples, ground cinnamon, nutmeg', 'image': 'food-101/images/apple_pie/1028787.jpg'}]\n",
    "def show_examples(data):\n",
    "    from IPython.display import display, HTML\n",
    "    html_content = \"\"\n",
    "    for i in range(3):\n",
    "        image = Image.open(data[i]['image'])\n",
    "        image = image.resize((256, 256))\n",
    "        caption = data[i]['suffix']\n",
    "        wrapped_caption = '<br>'.join([caption[i:i+50] for i in range(0, len(caption), 50)])\n",
    "        html_content += f\"<img src='{data[i]['image']}' style='width: 256px; height: 256px; margin: 10px;'><div style='display: inline-block; vertical-align: top; margin: 10px; max-width: 256px;'><p>{wrapped_caption}</p></div>\"\n",
    "    display(HTML(html_content))\n",
    "\n",
    "show_examples(train_data)"
   ]
  },
  {
   "cell_type": "code",
   "execution_count": 21,
   "metadata": {},
   "outputs": [],
   "source": [
    "# Helper functions for evaluation\n",
    "def calculate_metrics(true_ingredients, pred_ingredients):\n",
    "    true_set = set(true_ingredients.split(','))\n",
    "    pred_set = set(pred_ingredients.split(','))\n",
    "    # stript each ingredient\n",
    "    true_set = set([ingredient.strip() for ingredient in true_set])\n",
    "    pred_set = set([ingredient.strip() for ingredient in pred_set])\n",
    "    \n",
    "    accuracy = len(true_set.intersection(pred_set)) / len(true_set.union(pred_set))\n",
    "    precision = len(true_set.intersection(pred_set)) / len(pred_set) if pred_set else 0\n",
    "    recall = len(true_set.intersection(pred_set)) / len(true_set) if true_set else 0\n",
    "    f1 = 2 * (precision * recall) / (precision + recall) if (precision + recall) > 0 else 0\n",
    "    \n",
    "    return accuracy, precision, recall, f1\n",
    "\n",
    "def calculate_bleu(reference, hypothesis):\n",
    "    return sentence_bleu([reference.split()], hypothesis.split(), smoothing_function=SmoothingFunction().method1)\n",
    "\n",
    "rouge_scorer_obj = rouge_scorer.RougeScorer(['rouge1', 'rouge2', 'rougeL'], use_stemmer=True)\n",
    "\n",
    "def calculate_rouge(reference, hypothesis):\n",
    "    scores = rouge_scorer_obj.score(reference, hypothesis)\n",
    "    return (scores['rouge1'].fmeasure + scores['rouge2'].fmeasure + scores['rougeL'].fmeasure) / 3\n"
   ]
  },
  {
   "cell_type": "code",
   "execution_count": 16,
   "metadata": {},
   "outputs": [],
   "source": [
    "# function for checking valid img data\n",
    "def is_valid_image(image_path):\n",
    "    try:\n",
    "        Image.open(image_path)\n",
    "        return True\n",
    "    except:\n",
    "        return False\n",
    "\n",
    "# Zero-shot prediction\n",
    "def zero_shot_predict(image_path):\n",
    "    # Encode the image\n",
    "    with open(image_path, \"rb\") as image_file:\n",
    "        encoded_image = base64.b64encode(image_file.read()).decode('utf-8')\n",
    "\n",
    "    prompt = f\"\"\"Given an image of a food dish, list the main ingredients used to prepare it. \n",
    "    Provide the ingredients as a comma-separated list.\n",
    "    Ingredients:\"\"\"\n",
    "    \n",
    "    response = client.chat.completions.create(\n",
    "        model=MODEL,\n",
    "        messages=[\n",
    "            {\"role\": \"user\", \"content\": [\n",
    "                {\"type\": \"text\", \"text\": prompt},\n",
    "                {\"type\": \"image_url\", \"image_url\": {\"url\": f\"data:image/jpeg;base64,{encoded_image}\"}}\n",
    "            ]}\n",
    "        ],\n",
    "        max_tokens=200\n",
    "    )\n",
    "    return response.choices[0].message.content.strip()\n",
    "\n",
    "# Few-shot prediction\n",
    "def few_shot_predict(image_path, examples):\n",
    "    prompt = \"Given an image of a food dish, list the main ingredients used to prepare it. Provide the ingredients as a comma-separated list.\\n\\n\"\n",
    "    \n",
    "    messages = []\n",
    "    for example in examples:\n",
    "        with open(example['image'], \"rb\") as image_file:\n",
    "            encoded_image = base64.b64encode(image_file.read()).decode('utf-8')\n",
    "        messages.append({\"role\": \"user\", \"content\": [\n",
    "            {\"type\": \"text\", \"text\": prompt},\n",
    "            {\"type\": \"image_url\", \"image_url\": {\"url\": f\"data:image/jpeg;base64,{encoded_image}\"}}\n",
    "        ]})\n",
    "        messages.append({\"role\": \"assistant\", \"content\": example['suffix']})\n",
    "\n",
    "    with open(image_path, \"rb\") as image_file:\n",
    "        encoded_image = base64.b64encode(image_file.read()).decode('utf-8')\n",
    "\n",
    "    messages.append({\"role\": \"user\", \"content\": [\n",
    "        {\"type\": \"text\", \"text\": prompt},\n",
    "        {\"type\": \"image_url\", \"image_url\": {\"url\": f\"data:image/jpeg;base64,{encoded_image}\"}}\n",
    "    ]})\n",
    "\n",
    "    response = client.chat.completions.create(\n",
    "        model=MODEL,\n",
    "        messages=messages,\n",
    "        max_tokens=200\n",
    "    )\n",
    "\n",
    "    return response.choices[-1].message.content.strip()"
   ]
  },
  {
   "cell_type": "code",
   "execution_count": 17,
   "metadata": {},
   "outputs": [],
   "source": [
    "# Evaluation function\n",
    "def evaluate(predictions, ground_truth):\n",
    "    accuracies, precisions, recalls, f1_scores = [], [], [], []\n",
    "    bleu_scores, rouge_scores = [], []\n",
    "    \n",
    "    for pred, true in zip(predictions, ground_truth):\n",
    "        acc, prec, rec, f1 = calculate_metrics(true, pred)\n",
    "        accuracies.append(acc)\n",
    "        precisions.append(prec)\n",
    "        recalls.append(rec)\n",
    "        f1_scores.append(f1)\n",
    "        \n",
    "        bleu_scores.append(calculate_bleu(true, pred))\n",
    "        rouge_scores.append(calculate_rouge(true, pred))\n",
    "    \n",
    "    return {\n",
    "        \"accuracy\": np.mean(accuracies),\n",
    "        \"precision\": np.mean(precisions),\n",
    "        \"recall\": np.mean(recalls),\n",
    "        \"f1\": np.mean(f1_scores),\n",
    "        \"bleu\": np.mean(bleu_scores),\n",
    "        \"rouge\": np.mean(rouge_scores)\n",
    "    }"
   ]
  },
  {
   "cell_type": "code",
   "execution_count": null,
   "metadata": {},
   "outputs": [],
   "source": [
    "# Run zero-shot prediction\n",
    "print(\"Running zero-shot prediction...\")\n",
    "zero_shot_predictions = []\n",
    "for sample in tqdm(validation_data):\n",
    "    prediction = zero_shot_predict(sample['image'])\n",
    "    zero_shot_predictions.append(prediction)"
   ]
  },
  {
   "cell_type": "code",
   "execution_count": 22,
   "metadata": {},
   "outputs": [
    {
     "name": "stdout",
     "output_type": "stream",
     "text": [
      "Zero-shot results:\n",
      "accuracy: 0.08761904761904762\n",
      "precision: 0.18846801346801348\n",
      "recall: 0.11907647907647909\n",
      "f1: 0.14271163477045828\n",
      "bleu: 0.006039121591405535\n",
      "rouge: 0.23952407377984639\n"
     ]
    }
   ],
   "source": [
    "# Evaluate zero-shot results\n",
    "zero_shot_results = evaluate(zero_shot_predictions, [sample['suffix'] for sample in validation_data])\n",
    "print(\"Zero-shot results:\")\n",
    "for key, value in zero_shot_results.items():\n",
    "    print(f\"{key}: {value}\")\n"
   ]
  },
  {
   "cell_type": "code",
   "execution_count": null,
   "metadata": {},
   "outputs": [],
   "source": [
    "# Run few-shot prediction\n",
    "NUM_EXAMPLES = 5\n",
    "print(\"\\nRunning few-shot prediction...\")\n",
    "few_shot_predictions = []\n",
    "for sample in tqdm(validation_data[:VALIDATION_SIZE]):\n",
    "    examples = random.sample(train_data, NUM_EXAMPLES)\n",
    "    prediction = few_shot_predict(sample['image'], examples)\n",
    "    few_shot_predictions.append(prediction)"
   ]
  },
  {
   "cell_type": "code",
   "execution_count": 23,
   "metadata": {},
   "outputs": [
    {
     "name": "stdout",
     "output_type": "stream",
     "text": [
      "Few-shot results:\n",
      "accuracy: 0.16640290868551738\n",
      "precision: 0.27748917748917745\n",
      "recall: 0.2688888888888889\n",
      "f1: 0.2630343077401901\n",
      "bleu: 0.005951763151998081\n",
      "rouge: 0.3576921539611045\n"
     ]
    }
   ],
   "source": [
    "# Evaluate few-shot results\n",
    "few_shot_results = evaluate(few_shot_predictions, [sample['suffix'] for sample in validation_data[:VALIDATION_SIZE]])\n",
    "print(\"Few-shot results:\")\n",
    "for key, value in few_shot_results.items():\n",
    "    print(f\"{key}: {value}\")"
   ]
  },
  {
   "cell_type": "code",
   "execution_count": null,
   "metadata": {},
   "outputs": [],
   "source": [
    "# Run many-shot prediction\n",
    "NUM_EXAMPLES_MANY = 30\n",
    "print(\"\\nRunning many-shot prediction...\")\n",
    "many_shot_predictions = []\n",
    "for sample in tqdm(validation_data[:VALIDATION_SIZE]):\n",
    "    examples = random.sample(train_data, NUM_EXAMPLES_MANY)\n",
    "    prediction = few_shot_predict(sample['image'], examples)\n",
    "    many_shot_predictions.append(prediction)"
   ]
  },
  {
   "cell_type": "code",
   "execution_count": 24,
   "metadata": {},
   "outputs": [
    {
     "name": "stdout",
     "output_type": "stream",
     "text": [
      "Many-shot results:\n",
      "accuracy: 0.19266128073246577\n",
      "precision: 0.3114570614570615\n",
      "recall: 0.3184968734968735\n",
      "f1: 0.30275347021060933\n",
      "bleu: 0.010647551299182155\n",
      "rouge: 0.34736562988793857\n"
     ]
    }
   ],
   "source": [
    "# Evaluate many-shot results\n",
    "many_shot_results = evaluate(many_shot_predictions, [sample['suffix'] for sample in validation_data[:VALIDATION_SIZE]])\n",
    "print(\"Many-shot results:\")\n",
    "for key, value in many_shot_results.items():\n",
    "    print(f\"{key}: {value}\")"
   ]
  },
  {
   "cell_type": "code",
   "execution_count": 25,
   "metadata": {},
   "outputs": [
    {
     "name": "stdout",
     "output_type": "stream",
     "text": [
      "\n",
      "Example predictions:\n",
      "\n",
      "Image: data/food-101/images/lobster_roll_sandwich/1616254.jpg\n",
      "Ground truth: mayonnaise,dijon mustard,celery,fresh lemon juice,old bay seasoning,lobster meat,lettuce leaves,hot dog rolls\n",
      "Zero-shot prediction: Lobster, hot dog bun, mayonnaise, celery, chives, parsley.\n",
      "Few-shot prediction: lobster meat, mayonnaise, lemon juice, celery, chives, hot dog buns, butter, salt, pepper, parsley\n",
      "Many-shot prediction: lobster,hot dog bun,butter,mayonnaise,lemon juice,celery,salt,pepper,parsley\n",
      "\n",
      "Image: data/food-101/images/chocolate_cake/1377583.jpg\n",
      "Ground truth: whipping cream,dark chocolate,powdered sugar,unsalted butter\n",
      "Zero-shot prediction: Chocolate, butter, eggs, sugar, flour, vanilla ice cream, mint leaves\n",
      "Few-shot prediction: chocolate,flour,sugar,eggs,butter,vanilla extract,cream,salt,mint leaves\n",
      "Many-shot prediction: dark chocolate,cocoa powder,baking powder,salt,unsalted butter,eggs,sugar,vanilla extract,vanilla ice cream,mint leaves\n",
      "\n",
      "Image: data/food-101/images/panna_cotta/3306805.jpg\n",
      "Ground truth: heavy cream,sugar,vanilla extract,unflavored gelatin,cold water\n",
      "Zero-shot prediction: Milk pudding, whipped cream, passion fruit sauce\n",
      "Few-shot prediction: cream, sugar, gelatin, vanilla extract, passion fruit, water, whipped cream\n",
      "Many-shot prediction: gelatin,sugar,milk,heavy cream,vanilla extract,passion fruit,whipped cream\n"
     ]
    }
   ],
   "source": [
    "# Print some example predictions\n",
    "print(\"\\nExample predictions:\")\n",
    "for i in range(3):\n",
    "    print(f\"\\nImage: {validation_data[i]['image']}\")\n",
    "    print(f\"Ground truth: {validation_data[i]['suffix']}\")\n",
    "    print(f\"Zero-shot prediction: {zero_shot_predictions[i]}\")\n",
    "    print(f\"Few-shot prediction: {few_shot_predictions[i]}\")\n",
    "    print(f\"Many-shot prediction: {many_shot_predictions[i]}\")"
   ]
  },
  {
   "cell_type": "code",
   "execution_count": 26,
   "metadata": {},
   "outputs": [
    {
     "data": {
      "image/png": "[encoded data removed]",
      "text/plain": [
       "<Figure size 1200x400 with 1 Axes>"
      ]
     },
     "metadata": {},
     "output_type": "display_data"
    }
   ],
   "source": [
    "# Visualize results\n",
    "import matplotlib.pyplot as plt\n",
    "\n",
    "metrics = ['accuracy', 'precision', 'recall', 'f1', 'bleu', 'rouge']\n",
    "zero_shot_scores = [zero_shot_results[metric] for metric in metrics]\n",
    "few_shot_scores = [few_shot_results[metric] for metric in metrics]\n",
    "many_shot_scores = [many_shot_results[metric] for metric in metrics]\n",
    "\n",
    "x = range(len(metrics))\n",
    "width = 0.25  # Reduced width to accommodate three bars\n",
    "\n",
    "fig, ax = plt.subplots(figsize=(12, 4))\n",
    "ax.bar([i - width for i in x], zero_shot_scores, width, label='Zero-shot')\n",
    "ax.bar([i for i in x], few_shot_scores, width, label='Few-shot')\n",
    "ax.bar([i + width for i in x], many_shot_scores, width, label='Many-shot')\n",
    "\n",
    "ax.set_ylabel('Scores')\n",
    "ax.set_title('Zero-shot vs Few-shot vs Many-shot Performance')\n",
    "ax.set_xticks(x)\n",
    "ax.set_xticklabels(metrics)\n",
    "ax.legend()\n",
    "\n",
    "ax.set_ylim(0.0, 1.0)  # Ensure y axis goes from 0.0 to 1.0\n",
    "plt.tight_layout()\n",
    "plt.show()"
   ]
  },
  {
   "cell_type": "code",
   "execution_count": null,
   "metadata": {},
   "outputs": [],
   "source": []
  },
  {
   "cell_type": "code",
   "execution_count": null,
   "metadata": {},
   "outputs": [],
   "source": []
  }
 ],
 "metadata": {
  "kernelspec": {
   "display_name": "anja-ma-oai",
   "language": "python",
   "name": "python3"
  },
  "language_info": {
   "codemirror_mode": {
    "name": "ipython",
    "version": 3
   },
   "file_extension": ".py",
   "mimetype": "text/x-python",
   "name": "python",
   "nbconvert_exporter": "python",
   "pygments_lexer": "ipython3",
   "version": "3.11.9"
  }
 },
 "nbformat": 4,
 "nbformat_minor": 2
}
