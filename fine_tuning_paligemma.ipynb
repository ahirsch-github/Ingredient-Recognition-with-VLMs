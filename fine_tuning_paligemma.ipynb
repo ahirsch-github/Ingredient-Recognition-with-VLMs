{
  "cells": [
    {
      "cell_type": "markdown",
      "metadata": {
        "id": "u71STQRgnQ3a"
      },
      "source": [
        "## Ingredient Recognition with PaliGemma\n",
        "\n",
        "In this notebook, the vision-language model PaliGemma is used to recognize ingredients in pictures of meals. For this purpose, fine-tuning was performed on the Food-101 dataset in combination with the Ingredients-101 dataset. The implementation was based on the notebook from [Google](https://ai.google.dev/gemma/docs/paligemma/fine-tuning-paligemma), which shows how to perform fine-tuning with PaliGemma."
      ]
    },
    {
      "cell_type": "markdown",
      "metadata": {},
      "source": [
        "## Set up the Environment"
      ]
    },
    {
      "cell_type": "markdown",
      "metadata": {},
      "source": [
        "### Install the required dependencies"
      ]
    },
    {
      "cell_type": "markdown",
      "metadata": {},
      "source": [
        "\n",
        "1. In this notebook, `Python==3.11` is used. \n",
        "\n",
        "2. The following packages are required to run the notebook:\n",
        "```bash\n",
        "pip install python-dotenv kagglehub transformers gdown jax[cuda12] pillow ipykernel ipywidgets tensorflow ml-dtypes flax tqdm orbax-checkpoint matplotlib scikit-learn nltk rouge-score -U\n",
        "```\n",
        "3. The dataset \n",
        "\n",
        "Also, move `data/food-ingredients-101`, `data/food-101` & `data/ingredients-101` to root dir.\n",
        "\n",
        "If `data/food-ingredients-101` is not present, create it using `merging_food101_ingredients101.ipynb`\n",
        "\n",
        "3. Install gsutil https://cloud.google.com/storage/docs/gsutil_install?hl=de#linux"
      ]
    },
    {
      "cell_type": "markdown",
      "metadata": {},
      "source": [
        "### Import the required libraries"
      ]
    },
    {
      "cell_type": "code",
      "execution_count": null,
      "metadata": {
        "colab": {
          "base_uri": "https://localhost:8080/"
        },
        "id": "dTfe2k8J4Bw0",
        "outputId": "70f6ec33-aa49-4950-fbab-faf18c46880a"
      },
      "outputs": [],
      "source": [
        "import os\n",
        "import warnings\n",
        "warnings.filterwarnings('ignore')\n",
        "from dotenv import load_dotenv\n",
        "import sys\n",
        "\n",
        "import gdown\n",
        "\n",
        "import base64\n",
        "import functools\n",
        "import html\n",
        "import io\n",
        "import warnings\n",
        "import random\n",
        "import kagglehub\n",
        "import jax\n",
        "import jax.numpy as jnp\n",
        "import numpy as np\n",
        "import ml_collections\n",
        "import json\n",
        "\n",
        "\n",
        "from PIL import Image\n",
        "import tensorflow as tf\n",
        "import sentencepiece\n",
        "\n",
        "from IPython.core.display import display, HTML\n",
        "from PIL import Image\n",
        "\n",
        "# === Additional imports ===\n",
        "import numpy as np\n",
        "from nltk.translate.bleu_score import sentence_bleu, SmoothingFunction\n",
        "from sklearn.metrics import accuracy_score, precision_score, recall_score\n",
        "from rouge_score import rouge_scorer\n",
        "from tqdm import tqdm\n",
        "\n",
        "# Don't let TF use the GPU or TPUs\n",
        "tf.config.set_visible_devices([], \"GPU\")\n",
        "tf.config.set_visible_devices([], \"TPU\")\n",
        "\n",
        "backend = jax.lib.xla_bridge.get_backend()\n",
        "print(f\"JAX version:  {jax.__version__}\")\n",
        "print(f\"JAX platform: {backend.platform}\")\n",
        "print(f\"JAX devices:  {jax.device_count()}\")\n",
        "\n",
        "from flax.training import orbax_utils\n",
        "import orbax.checkpoint\n",
        "\n",
        "from sklearn.metrics import f1_score, accuracy_score, precision_score, recall_score\n",
        "from sklearn.preprocessing import MultiLabelBinarizer"
      ]
    },
    {
      "cell_type": "markdown",
      "metadata": {
        "id": "qOJ3BeYFVrOX"
      },
      "source": [
        "### Set environment variables"
      ]
    },
    {
      "cell_type": "code",
      "execution_count": 2,
      "metadata": {},
      "outputs": [],
      "source": [
        "os.environ[\"CUDA_VISIBLE_DEVICES\"] = \"0\""
      ]
    },
    {
      "cell_type": "code",
      "execution_count": 3,
      "metadata": {
        "id": "zGLIp1Cx3_CX"
      },
      "outputs": [],
      "source": [
        "load_dotenv()\n",
        "os.environ[\"KAGGLE_USERNAME\"] = os.getenv('KAGGLE_USERNAME')\n",
        "os.environ[\"KAGGLE_KEY\"] = os.getenv('KAGGLE_KEY')"
      ]
    },
    {
      "cell_type": "code",
      "execution_count": 4,
      "metadata": {},
      "outputs": [],
      "source": [
        "!export KAGGLE_USERNAME\n",
        "!export KAGGLE_KEY"
      ]
    },
    {
      "cell_type": "markdown",
      "metadata": {
        "id": "rCd__uzW_eK-"
      },
      "source": [
        "### Prepare the `big_vision` repository"
      ]
    },
    {
      "cell_type": "code",
      "execution_count": 5,
      "metadata": {
        "colab": {
          "base_uri": "https://localhost:8080/"
        },
        "id": "DfxKb3F839Ks",
        "outputId": "63c656bc-ede0-41fd-d957-161ebba7128d"
      },
      "outputs": [],
      "source": [
        "if not os.path.exists(\"big_vision_repo\"):\n",
        "  !git clone --quiet --branch=main --depth=1 \\\n",
        "     https://github.com/google-research/big_vision big_vision_repo\n",
        "\n",
        "if \"big_vision_repo\" not in sys.path:\n",
        "  sys.path.append(\"big_vision_repo\")\n",
        "\n",
        "!pip3 install -q \"overrides\" \"ml_collections\" \"einops~=0.7\" \"sentencepiece\""
      ]
    },
    {
      "cell_type": "code",
      "execution_count": null,
      "metadata": {},
      "outputs": [],
      "source": [
        "# import big vision modules\n",
        "from big_vision.models.proj.paligemma import paligemma\n",
        "from big_vision.trainers.proj.paligemma import predict_fns\n",
        "\n",
        "import big_vision.datasets.jsonl\n",
        "import big_vision.utils\n",
        "import big_vision.sharding"
      ]
    },
    {
      "cell_type": "markdown",
      "metadata": {
        "id": "b9kSadtIhjlX"
      },
      "source": [
        "## Prepare the model"
      ]
    },
    {
      "cell_type": "markdown",
      "metadata": {
        "id": "7tvcc0oQHl4v"
      },
      "source": [
        "### Download the model\n",
        "\n",
        "The model is downloaded from Kaggle using the Kaggle API. The used model version is `google/paligemma/jax/paligemma-3b-pt-224`."
      ]
    },
    {
      "cell_type": "code",
      "execution_count": 8,
      "metadata": {
        "colab": {
          "base_uri": "https://localhost:8080/"
        },
        "id": "qndVS3vetWom",
        "outputId": "b5aeeb6a-07d4-4c0f-8d1a-51bc7df5e183"
      },
      "outputs": [
        {
          "name": "stdout",
          "output_type": "stream",
          "text": [
            "Downloading the checkpoint from Kaggle, this could take a few minutes....\n",
            "Warning: Looks like you're using an outdated `kagglehub` version, please consider updating (latest version: 0.2.9)\n"
          ]
        }
      ],
      "source": [
        "MODEL_PATH = \"./pt_224_128.params.f16.npz\"\n",
        "if not os.path.exists(MODEL_PATH):\n",
        "  print(\"Downloading the checkpoint from Kaggle, this could take a few minutes....\")\n",
        "  MODEL_PATH = kagglehub.model_download('google/paligemma/jax/paligemma-3b-pt-224', 'paligemma-3b-pt-224.f16.npz')\n",
        "\n",
        "TOKENIZER_PATH = \"./paligemma_tokenizer.model\"\n",
        "if not os.path.exists(TOKENIZER_PATH):\n",
        "  print(\"Downloading the model tokenizer...\")\n",
        "  !gsutil cp gs://big_vision/paligemma_tokenizer.model {TOKENIZER_PATH}\n",
        "  print(f\"Tokenizer path: {TOKENIZER_PATH}\")"
      ]
    },
    {
      "cell_type": "code",
      "execution_count": 9,
      "metadata": {
        "colab": {
          "base_uri": "https://localhost:8080/"
        },
        "id": "gQNOTfF24AV4",
        "outputId": "1620e8a5-8ddb-4733-b450-557f677c615e"
      },
      "outputs": [],
      "source": [
        "FOOD_DATA_DIR=\"./food-101\"\n",
        "if not os.path.exists(FOOD_DATA_DIR):\n",
        "  print(\"Downloading the dataset...\")\n",
        "  !kaggle datasets download -d kmader/food41\n",
        "  !unzip -q food41.zip -d ./food-101\n",
        "  print(f\"Data path: {FOOD_DATA_DIR}\")\n",
        "\n",
        "INGREDIENTS_DATA_DIR = \"./ingredients-101\"\n",
        "if not os.path.exists(INGREDIENTS_DATA_DIR):\n",
        "    os.makedirs(INGREDIENTS_DATA_DIR)  # Ensure the target directory exists\n",
        "    print(\"Downloading the dataset...\")\n",
        "    # Define the URL of the Google Drive file\n",
        "    url = 'https://drive.google.com/uc?id=14ztu2gjdowZdMdCvo1tAZJ0aK5rMs4kb'\n",
        "    # Define the output file path\n",
        "    output = 'Ingredients101.zip'\n",
        "    # Download the file\n",
        "    gdown.download(url, output, quiet=False)\n",
        "    # Unzip only the contents of the \"Ingredients101\" directory directly into the target directory\n",
        "    os.system(f'unzip -q {output} \"Ingredients101/*\" -d {INGREDIENTS_DATA_DIR}')\n",
        "    # Move contents up from the nested \"Ingredients101\" directory and remove it\n",
        "    nested_dir = os.path.join(INGREDIENTS_DATA_DIR, 'Ingredients101')\n",
        "    for filename in os.listdir(nested_dir):\n",
        "        os.rename(os.path.join(nested_dir, filename), os.path.join(INGREDIENTS_DATA_DIR, filename))\n",
        "    os.rmdir(nested_dir)\n",
        "    # Clean up the zip file after extraction\n",
        "    os.remove(output)\n",
        "    print(f\"Data path: {INGREDIENTS_DATA_DIR}\")"
      ]
    },
    {
      "cell_type": "markdown",
      "metadata": {
        "id": "rv7w-cGuLj5o"
      },
      "source": [
        "### Configure the model\n",
        "\n",
        "Due to the model's considerable size, certain parameters are frozen to reduce memory requirements and focus training on only the most relevant ones. Following this, the model parameters are loaded and a decoding function is defined, allowing outputs to be generated from the model efficiently within the given resource constraints."
      ]
    },
    {
      "cell_type": "code",
      "execution_count": 10,
      "metadata": {
        "id": "1aghcULcEdtv"
      },
      "outputs": [],
      "source": [
        "# Define model for frozen config\n",
        "model_config = ml_collections.FrozenConfigDict({\n",
        "    \"llm\": {\"vocab_size\": 257_152},\n",
        "    \"img\": {\"variant\": \"So400m/14\", \"pool_type\": \"none\", \"scan\": True, \"dtype_mm\": \"float16\"}\n",
        "})\n",
        "model = paligemma.Model(**model_config)\n",
        "tokenizer = sentencepiece.SentencePieceProcessor(TOKENIZER_PATH)\n",
        "\n",
        "# Load params\n",
        "params = paligemma.load(None, MODEL_PATH, model_config)\n",
        "\n",
        "# Define decode function\n",
        "decode_fn = predict_fns.get_all(model)['decode']\n",
        "decode = functools.partial(decode_fn, devices=jax.devices(), eos_token=tokenizer.eos_id())"
      ]
    },
    {
      "cell_type": "markdown",
      "metadata": {
        "id": "uidBwmb8LwZ5"
      },
      "source": [
        "### Move model parameters into GPU memory\n",
        "\n",
        "This section implements parameter management across available GPUs, sharding and loading them sequentially to address memory limitations. Then it differentiates between trainable and frozen parameters, converting them to appropriate data types to optimize training efficiency and memory usage."
      ]
    },
    {
      "cell_type": "code",
      "execution_count": 11,
      "metadata": {
        "colab": {
          "base_uri": "https://localhost:8080/"
        },
        "id": "RWOdf_fw2SAO",
        "outputId": "30ac53ae-b724-42c5-c486-03ed42b8bc25"
      },
      "outputs": [
        {
          "name": "stderr",
          "output_type": "stream",
          "text": [
            "2024-08-05 15:12:59.456147: W external/xla/xla/service/gpu/nvptx_compiler.cc:765] The NVIDIA driver's CUDA version is 12.4 which is older than the ptxas CUDA version (12.5.82). Because the driver is older than the ptxas version, XLA is disabling parallel compilation, which may slow down compilation. You should update your NVIDIA driver or use the NVIDIA-provided CUDA forward compatibility packages.\n"
          ]
        }
      ],
      "source": [
        "# Define what params should be trained\n",
        "def is_trainable_param(name, param):\n",
        "  if name.startswith(\"llm/layers/attn/\"):  return True\n",
        "  if name.startswith(\"llm/\"):              return False\n",
        "  if name.startswith(\"img/\"):              return False\n",
        "  raise ValueError(f\"Unexpected param name {name}\")\n",
        "trainable_mask = big_vision.utils.tree_map_with_names(is_trainable_param, params)\n",
        "\n",
        "mesh = jax.sharding.Mesh(jax.devices(), (\"data\"))\n",
        "\n",
        "data_sharding = jax.sharding.NamedSharding(\n",
        "    mesh, jax.sharding.PartitionSpec(\"data\"))\n",
        "\n",
        "params_sharding = big_vision.sharding.infer_sharding(\n",
        "    params, strategy=[('.*', 'fsdp(axis=\"data\")')], mesh=mesh)\n",
        "\n",
        "warnings.filterwarnings(\n",
        "    \"ignore\", message=\"Some donated buffers were not usable\")\n",
        "\n",
        "@functools.partial(jax.jit, donate_argnums=(0,), static_argnums=(1,))\n",
        "def maybe_cast_to_f32(params, trainable):\n",
        "  return jax.tree.map(lambda p, m: p.astype(jnp.float32) if m else p,\n",
        "                      params, trainable)\n",
        "\n",
        "params, treedef = jax.tree.flatten(params)\n",
        "sharding_leaves = jax.tree.leaves(params_sharding)\n",
        "trainable_leaves = jax.tree.leaves(trainable_mask)\n",
        "for idx, (sharding, trainable) in enumerate(zip(sharding_leaves, trainable_leaves)):\n",
        "  params[idx] = big_vision.utils.reshard(params[idx], sharding)\n",
        "  params[idx] = maybe_cast_to_f32(params[idx], trainable)\n",
        "  params[idx].block_until_ready()\n",
        "params = jax.tree.unflatten(treedef, params)\n",
        "\n",
        "def parameter_overview(params):\n",
        "  for path, arr in big_vision.utils.tree_flatten_with_names(params)[0]:\n",
        "    print(f\"{path:80s} {str(arr.shape):22s} {arr.dtype}\")\n",
        "\n",
        "# print(\" == Model params == \")\n",
        "# parameter_overview(params)"
      ]
    },
    {
      "cell_type": "markdown",
      "metadata": {
        "id": "iD_9XXQkn1Mv"
      },
      "source": [
        "## Prepare to tune the model\n",
        "\n",
        "Now that your model is configured, you can tune it. In this step, you'll create your model's inputs as well as the training and validation iterators, view the training examples, and define the training and validation loops."
      ]
    },
    {
      "cell_type": "markdown",
      "metadata": {
        "id": "83ZcnbddJKdx"
      },
      "source": [
        "### Create model inputs\n",
        "\n",
        "Three essential functions are defined for preprocessing and postprocessing model inputs. These functions handle the normalization of image data, processing of token sequences with specific flags for prefix and suffix tokens, and cleaning of output tokens. "
      ]
    },
    {
      "cell_type": "code",
      "execution_count": 12,
      "metadata": {
        "id": "8SRW0NuU4UcW"
      },
      "outputs": [],
      "source": [
        "def preprocess_image(image, size=224):\n",
        "  image = np.asarray(image)\n",
        "  if image.ndim == 2: \n",
        "    image = np.stack((image,)*3, axis=-1)\n",
        "  image = image[..., :3]\n",
        "  assert image.shape[-1] == 3\n",
        "\n",
        "  image = tf.constant(image)\n",
        "  image = tf.image.resize(image, (size, size), method='bilinear', antialias=True)\n",
        "  return image.numpy() / 127.5 - 1.0 \n",
        "\n",
        "def preprocess_tokens(prefix, suffix=None, seqlen=None):\n",
        "    separator = \"\\n\"\n",
        "    tokens = tokenizer.encode(prefix, add_bos=True) + tokenizer.encode(separator)\n",
        "    mask_ar = [0] * len(tokens)\n",
        "    mask_loss = [0] * len(tokens)\n",
        "\n",
        "    if suffix:\n",
        "        suffix_tokens = tokenizer.encode(suffix, add_eos=True)\n",
        "        tokens += suffix_tokens\n",
        "        mask_ar += [1] * len(suffix_tokens)\n",
        "        mask_loss += [1] * len(suffix_tokens)\n",
        "\n",
        "    mask_input = [1] * len(tokens)\n",
        "    if seqlen:\n",
        "        padding = [0] * max(0, seqlen - len(tokens))\n",
        "        tokens = tokens[:seqlen] + padding\n",
        "        mask_ar = mask_ar[:seqlen] + padding\n",
        "        mask_loss = mask_loss[:seqlen] + padding\n",
        "        mask_input = mask_input[:seqlen] + padding\n",
        "\n",
        "    return jax.tree.map(np.array, (tokens, mask_ar, mask_loss, mask_input))\n",
        "\n",
        "def postprocess_tokens(tokens):\n",
        "  tokens = tokens.tolist()\n",
        "  try:\n",
        "    eos_pos = tokens.index(tokenizer.eos_id())\n",
        "    tokens = tokens[:eos_pos]\n",
        "  except ValueError:\n",
        "    pass\n",
        "  return tokenizer.decode(tokens)"
      ]
    },
    {
      "cell_type": "markdown",
      "metadata": {
        "id": "ovgWBgdHJZq3"
      },
      "source": [
        "### Create the training and validation iterators\n",
        "\n",
        "Next, the training, validation, and testing datasets are prepared. Two iterators are created to manage data flow during model training and evaluation. The training iterator processes data in chunks with pre-processing capabilities, while the validation iterator allows for periodic assessment of the tuned model's performance against provided results."
      ]
    },
    {
      "cell_type": "code",
      "execution_count": 14,
      "metadata": {
        "id": "uk-DEf8-veZo"
      },
      "outputs": [],
      "source": [
        "DATA_DIR = './food-ingredients-101'"
      ]
    },
    {
      "cell_type": "code",
      "execution_count": 15,
      "metadata": {
        "id": "zWWmYmPvyxk8"
      },
      "outputs": [],
      "source": [
        "def merge_data(food_data_dir, ingredients_data_dir, data_dir):\n",
        "    os.makedirs(data_dir, exist_ok=True)\n",
        "\n",
        "    # Define the paths to the required files\n",
        "    food_train_file = os.path.join(food_data_dir, 'meta', 'train.json')\n",
        "    food_test_file = os.path.join(food_data_dir, 'meta', 'test.json')\n",
        "    food_val_file = os.path.join(food_data_dir, 'meta', 'valid.json')\n",
        "    ingredients_train_images = os.path.join(ingredients_data_dir, 'Annotations', 'train_images.txt')\n",
        "    ingredients_train_labels = os.path.join(ingredients_data_dir, 'Annotations', 'train_labels.txt')\n",
        "    ingredients_test_images = os.path.join(ingredients_data_dir, 'Annotations', 'test_images.txt')\n",
        "    ingredients_test_labels = os.path.join(ingredients_data_dir, 'Annotations', 'test_labels.txt')\n",
        "    ingredients_val_images = os.path.join(ingredients_data_dir, 'Annotations', 'val_images.txt')\n",
        "    ingredients_val_labels = os.path.join(ingredients_data_dir, 'Annotations', 'val_labels.txt')\n",
        "    ingredients_file = os.path.join(ingredients_data_dir, 'Annotations', 'ingredients.txt')\n",
        "\n",
        "    # Load the ingredients data\n",
        "    with open(ingredients_file, 'r') as f:\n",
        "        ingredients_list = [line.strip() for line in f.readlines()]\n",
        "\n",
        "    # Create a dictionary to map each class to its ingredients\n",
        "    class_to_ingredients = {i: ingredients for i, ingredients in enumerate(ingredients_list)}\n",
        "\n",
        "    def create_jsonl(image_file, label_file, split):\n",
        "        with open(image_file, 'r') as f:\n",
        "            image_paths = [line.strip() for line in f.readlines()]\n",
        "\n",
        "        with open(label_file, 'r') as f:\n",
        "            labels = [int(line.strip()) for line in f.readlines()]\n",
        "\n",
        "        if len(image_paths) != len(labels):\n",
        "            raise ValueError(\"The number of images and labels do not match.\")\n",
        "\n",
        "        output_file = os.path.join(data_dir, f'{split}.jsonl')\n",
        "        with open(output_file, 'w') as f_out:\n",
        "            for image_path, label in zip(image_paths, labels):\n",
        "                ingredients = class_to_ingredients[label]\n",
        "                suffix = ', '.join(ingredients.split(','))\n",
        "                record = {\n",
        "                    \"prefix\": \"\",\n",
        "                    \"suffix\": suffix,\n",
        "                    \"image\": food_data_dir + '/images/' + image_path + '.jpg',\n",
        "                }\n",
        "                f_out.write(json.dumps(record) + '\\n')\n",
        "\n",
        "    create_jsonl(ingredients_train_images, ingredients_train_labels, 'train')\n",
        "    create_jsonl(ingredients_test_images, ingredients_test_labels, 'test')\n",
        "    create_jsonl(ingredients_val_images, ingredients_val_labels, 'val')\n",
        "\n",
        "if not os.path.exists(DATA_DIR) or len(os.listdir(DATA_DIR)) == 0:  \n",
        "    merge_data('food-101', 'ingredients-101', 'food-ingredients-101')"
      ]
    },
    {
      "cell_type": "code",
      "execution_count": 16,
      "metadata": {
        "id": "whzWOojGOtzi"
      },
      "outputs": [],
      "source": [
        "SEQLEN = 128\n",
        "\n",
        "train_dataset = big_vision.datasets.jsonl.DataSource(\n",
        "    os.path.join(DATA_DIR, \"train.jsonl\"),\n",
        "    # fopen_keys={\"image\": FOOD_DATA_DIR}\n",
        "    )\n",
        "\n",
        "val_dataset = big_vision.datasets.jsonl.DataSource(\n",
        "    os.path.join(DATA_DIR, \"val.jsonl\"),\n",
        "    # fopen_keys={\"image\": FOOD_DATA_DIR}\n",
        "    )\n",
        "\n",
        "test_dataset = big_vision.datasets.jsonl.DataSource(\n",
        "    os.path.join(DATA_DIR, \"test.jsonl\"),\n",
        "    # fopen_keys={\"image\": FOOD_DATA_DIR}\n",
        "    )"
      ]
    },
    {
      "cell_type": "code",
      "execution_count": null,
      "metadata": {},
      "outputs": [],
      "source": [
        "def train_data_iterator():\n",
        "    dataset = train_dataset.get_tfdata().shuffle(1_000).repeat()\n",
        "    for example in dataset.as_numpy_iterator():\n",
        "        try:\n",
        "            image_path = example[\"image\"].decode()\n",
        "            image = Image.open(image_path)\n",
        "            image = preprocess_image(image)\n",
        "        except Exception as e:\n",
        "            print(f\"Error opening image at {image_path}: {e}\")\n",
        "            continue\n",
        "\n",
        "        prefix = \"caption en\"\n",
        "        suffix = example[\"suffix\"].decode().lower()\n",
        "        tokens, mask_ar, mask_loss, _ = preprocess_tokens(prefix, suffix, SEQLEN)\n",
        "\n",
        "        yield {\n",
        "            \"image\": np.asarray(image),\n",
        "            \"text\": np.asarray(tokens),\n",
        "            \"mask_ar\": np.asarray(mask_ar),\n",
        "            \"mask_loss\": np.asarray(mask_loss),\n",
        "        }\n",
        "\n",
        "\n",
        "def validation_data_iterator():\n",
        "  \"\"\"Single iterator over validation examples.\"\"\"\n",
        "  for example in val_dataset.get_tfdata(ordered=True).as_numpy_iterator():\n",
        "    try:\n",
        "        image_path = example[\"image\"].decode()\n",
        "        image = Image.open(image_path)\n",
        "        image = preprocess_image(image)\n",
        "    except Exception as e:\n",
        "        continue\n",
        "\n",
        "    prefix = \"caption en\"\n",
        "    tokens, mask_ar, _, mask_input = preprocess_tokens(prefix, seqlen=SEQLEN)\n",
        "\n",
        "    yield {\n",
        "        \"image\": np.asarray(image),\n",
        "        \"text\": np.asarray(tokens),\n",
        "        \"mask_ar\": np.asarray(mask_ar),\n",
        "        \"mask_input\": np.asarray(mask_input),\n",
        "    }\n",
        "\n",
        "\n",
        "def test_data_iterator():\n",
        "  \"\"\"Single iterator over test examples.\"\"\"\n",
        "  for example in test_dataset.get_tfdata(ordered=True).as_numpy_iterator():\n",
        "    try:\n",
        "        image_path = example[\"image\"].decode()\n",
        "        image = Image.open(image_path)\n",
        "        image = preprocess_image(image)\n",
        "    except Exception as e:\n",
        "        continue\n",
        "\n",
        "    prefix = \"caption en\"\n",
        "    tokens, mask_ar, _, mask_input = preprocess_tokens(prefix, seqlen=SEQLEN)\n",
        "\n",
        "    yield {\n",
        "        \"image\": np.asarray(image),\n",
        "        \"text\": np.asarray(tokens),\n",
        "        \"mask_ar\": np.asarray(mask_ar),\n",
        "        \"mask_input\": np.asarray(mask_input),\n",
        "    }"
      ]
    },
    {
      "cell_type": "markdown",
      "metadata": {
        "id": "84olaM5dCiAl"
      },
      "source": [
        "### View training examples"
      ]
    },
    {
      "cell_type": "code",
      "execution_count": 17,
      "metadata": {
        "colab": {
          "base_uri": "https://localhost:8080/",
          "height": 563
        },
        "id": "BzJfb5t0nsLq",
        "outputId": "158d03ec-f326-464d-f76a-e261b96ceaa7"
      },
      "outputs": [
        {
          "name": "stdout",
          "output_type": "stream",
          "text": [
            "Training examples\n"
          ]
        },
        {
          "data": {
            "text/html": [
              "\n",
              "    <div style=\"display: inline-flex; align-items: center; justify-content: center;\">\n",
              "        <img style=\"width:128px; height:128px;\" src=\"data:image/jpeg;base64,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\" />\n",
              "        <p style=\"width:256px; margin:10px; font-size:small;\">butter, egg, sugar, whipping, vanilla, berries</p>\n",
              "    </div>\n",
              "    \n",
              "    <div style=\"display: inline-flex; align-items: center; justify-content: center;\">\n",
              "        <img style=\"width:128px; height:128px;\" src=\"data:image/jpeg;base64,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\" />\n",
              "        <p style=\"width:256px; margin:10px; font-size:small;\">chicken, cheddar, cumin, jalapeno chilies, wheat tortillas, salsa</p>\n",
              "    </div>\n",
              "    \n",
              "    <div style=\"display: inline-flex; align-items: center; justify-content: center;\">\n",
              "        <img style=\"width:128px; height:128px;\" src=\"data:image/jpeg;base64,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\" />\n",
              "        <p style=\"width:256px; margin:10px; font-size:small;\">filet, oil, garlic, gin, salt, pepper</p>\n",
              "    </div>\n",
              "    \n",
              "    <div style=\"display: inline-flex; align-items: center; justify-content: center;\">\n",
              "        <img style=\"width:128px; height:128px;\" src=\"data:image/jpeg;base64,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\" />\n",
              "        <p style=\"width:256px; margin:10px; font-size:small;\">macaroni, cheddar, butter, milk, salt, pepper</p>\n",
              "    </div>\n",
              "    \n",
              "    <div style=\"display: inline-flex; align-items: center; justify-content: center;\">\n",
              "        <img style=\"width:128px; height:128px;\" src=\"data:image/jpeg;base64,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\" />\n",
              "        <p style=\"width:256px; margin:10px; font-size:small;\">duck, cinnamon, gin, nut, pepper, cloves, soy, honey, orange, parsley, onion, jam, sugar, vinegar, chutney</p>\n",
              "    </div>\n",
              "    \n",
              "    <div style=\"display: inline-flex; align-items: center; justify-content: center;\">\n",
              "        <img style=\"width:128px; height:128px;\" src=\"data:image/jpeg;base64,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\" />\n",
              "        <p style=\"width:256px; margin:10px; font-size:small;\">foie gras, salt, milk</p>\n",
              "    </div>\n",
              "    \n",
              "    <div style=\"display: inline-flex; align-items: center; justify-content: center;\">\n",
              "        <img style=\"width:128px; height:128px;\" src=\"data:image/jpeg;base64,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\" />\n",
              "        <p style=\"width:256px; margin:10px; font-size:small;\">oil, calamari, flour, masa harina, parsley, lemon, parsley, salt, lemon, mayonnaise</p>\n",
              "    </div>\n",
              "    \n",
              "    <div style=\"display: inline-flex; align-items: center; justify-content: center;\">\n",
              "        <img style=\"width:128px; height:128px;\" src=\"data:image/jpeg;base64,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\" />\n",
              "        <p style=\"width:256px; margin:10px; font-size:small;\">potato, corn starch, oil, cheese</p>\n",
              "    </div>\n",
              "    "
            ],
            "text/plain": [
              "<IPython.core.display.HTML object>"
            ]
          },
          "metadata": {},
          "output_type": "display_data"
        }
      ],
      "source": [
        "def render_inline(image, resize=(128, 128)):\n",
        "  image = Image.fromarray(image)\n",
        "  image.resize(resize)\n",
        "  with io.BytesIO() as buffer:\n",
        "    image.save(buffer, format='jpeg')\n",
        "    image_b64 = str(base64.b64encode(buffer.getvalue()), \"utf-8\")\n",
        "    return f\"data:image/jpeg;base64,{image_b64}\"\n",
        "\n",
        "def render_example(image, caption):\n",
        "  image = ((image + 1)/2 * 255).astype(np.uint8)\n",
        "  return f\"\"\"\n",
        "    <div style=\"display: inline-flex; align-items: center; justify-content: center;\">\n",
        "        <img style=\"width:128px; height:128px;\" src=\"{render_inline(image, resize=(64,64))}\" />\n",
        "        <p style=\"width:256px; margin:10px; font-size:small;\">{html.escape(caption)}</p>\n",
        "    </div>\n",
        "    \"\"\"\n",
        "\n",
        "html_out = \"\"\n",
        "for idx, example in zip(range(8), train_data_iterator()):\n",
        "  caption = postprocess_tokens(example[\"text\"]) \n",
        "  caption = caption[len(\"caption en\\n\"):]        \n",
        "  html_out += render_example(example[\"image\"], caption)\n",
        "\n",
        "print(\"Training examples\")\n",
        "display(HTML(html_out))"
      ]
    },
    {
      "cell_type": "markdown",
      "metadata": {
        "id": "N2BwpXkfI8OT"
      },
      "source": [
        "### Define the training and evaluation loops\n",
        "\n",
        "To train the model, the training and evaluation loops need to be defined. The update_fn function implements the training loop, calculating loss per example while accounting for masked tokens and applying stochastic gradient descent to optimize trainable parameters. The make_predictions function sets up the evaluation loop, handling batched predictions and accommodating the small dataset size by padding examples when necessary."
      ]
    },
    {
      "cell_type": "code",
      "execution_count": 18,
      "metadata": {
        "id": "dwUV_imW3WQJ"
      },
      "outputs": [],
      "source": [
        "@functools.partial(jax.jit, donate_argnums=(0,))\n",
        "def update_fn(params, batch, learning_rate):\n",
        "  imgs, txts, mask_ar = batch[\"image\"], batch[\"text\"], batch[\"mask_ar\"]\n",
        "\n",
        "  def loss_fn(params):\n",
        "    text_logits, _ = model.apply({\"params\": params}, imgs, txts[:, :-1], mask_ar[:, :-1], train=True)\n",
        "    logp = jax.nn.log_softmax(text_logits, axis=-1)\n",
        "\n",
        "    mask_loss = batch[\"mask_loss\"][:, 1:]\n",
        "    targets = jax.nn.one_hot(txts[:, 1:], text_logits.shape[-1])\n",
        "\n",
        "    token_pplx = jnp.sum(logp * targets, axis=-1)\n",
        "    example_loss = -jnp.sum(token_pplx * mask_loss, axis=-1) \n",
        "    example_loss /= jnp.clip(jnp.sum(mask_loss, -1), 1)\n",
        "\n",
        "    return jnp.mean(example_loss)\n",
        "\n",
        "  loss, grads = jax.value_and_grad(loss_fn)(params)\n",
        "\n",
        "  def apply_grad(param, gradient, trainable):\n",
        "    if not trainable: return param\n",
        "    return param - learning_rate * gradient\n",
        "\n",
        "  params = jax.tree_util.tree_map(apply_grad, params, grads, trainable_mask)\n",
        "\n",
        "  return params, loss\n",
        "\n",
        "def make_predictions(data_iterator, *, num_examples=None,\n",
        "                     batch_size=4, seqlen=SEQLEN, sampler=\"greedy\"):\n",
        "  outputs = []\n",
        "  while True:\n",
        "    examples = []\n",
        "    try:\n",
        "      for _ in range(batch_size):\n",
        "        examples.append(next(data_iterator))\n",
        "        examples[-1][\"_mask\"] = np.array(True)\n",
        "    except StopIteration:\n",
        "      if len(examples) == 0:\n",
        "        return outputs\n",
        "\n",
        "    while len(examples) % batch_size:\n",
        "      examples.append(dict(examples[-1]))\n",
        "      examples[-1][\"_mask\"] = np.array(False)\n",
        "\n",
        "    batch = jax.tree.map(lambda *x: np.stack(x), *examples)\n",
        "    batch = big_vision.utils.reshard(batch, data_sharding)\n",
        "\n",
        "    tokens = decode({\"params\": params}, batch=batch,\n",
        "                    max_decode_len=seqlen, sampler=sampler)\n",
        "\n",
        "    tokens, mask = jax.device_get((tokens, batch[\"_mask\"]))\n",
        "    tokens = tokens[mask] \n",
        "    responses = [postprocess_tokens(t) for t in tokens]\n",
        "\n",
        "    for example, response in zip(examples, responses):\n",
        "      outputs.append((example[\"image\"], response))\n",
        "      if num_examples and len(outputs) >= num_examples:\n",
        "        return outputs"
      ]
    },
    {
      "cell_type": "markdown",
      "metadata": {
        "id": "n9r9V1jwJvu9"
      },
      "source": [
        "## Tune the model\n",
        "\n",
        "Now the model is nearly ready to be tuned. In this step, a checkpoint manager is defined to save the model's parameters during training and a evaluation pipeline is implemented for the trained model. Functions for data preparation, metric calculation, and batch evaluation are also defined. The pipeline allows for a detailed evaluation of the model's performance by calculating various metrics such as BLEU, ROUGE, and several F1 score variants.\n",
        "\n",
        "Then, a training loop is set up, including learning rate scheduling, progress tracking, and integration with Weights & Biases for experiment logging. The training process incorporates evaluation on a validation set every 200 steps, allowing for model checkpointing based on improvements in the F1 score."
      ]
    },
    {
      "cell_type": "code",
      "execution_count": 20,
      "metadata": {},
      "outputs": [
        {
          "name": "stderr",
          "output_type": "stream",
          "text": [
            "WARNING:absl:Configured `CheckpointManager` using deprecated legacy API. Please follow the instructions at https://orbax.readthedocs.io/en/latest/api_refactor.html to migrate by August 1st, 2024.\n"
          ]
        }
      ],
      "source": [
        "# setup the checkpoint manager to save the model\n",
        "\n",
        "ckpt_dir = os.path.join(os.getcwd(), 'checkpoints')\n",
        "\n",
        "pytree_checkpointer = orbax.checkpoint.PyTreeCheckpointer()\n",
        "\n",
        "options = orbax.checkpoint.CheckpointManagerOptions(\n",
        "    max_to_keep=3,\n",
        "    create=True\n",
        ")\n",
        "\n",
        "checkpoint_manager = orbax.checkpoint.CheckpointManager(\n",
        "    ckpt_dir, pytree_checkpointer, options\n",
        ")"
      ]
    },
    {
      "cell_type": "code",
      "execution_count": 21,
      "metadata": {},
      "outputs": [],
      "source": [
        "# function to batchwise iterate over the validation data\n",
        "def batch_val_score_iterator(batch_size=4, num_examples=None, seed=42):\n",
        "    random.seed(seed)\n",
        "    \n",
        "    all_examples = []\n",
        "    class_examples = {}\n",
        "    \n",
        "    for example in val_dataset.get_tfdata().as_numpy_iterator():\n",
        "        try:\n",
        "            image_path = example[\"image\"].decode()\n",
        "            image_class = image_path.split('/images/')[1].split('/')[0]\n",
        "            \n",
        "            image = Image.open(image_path)\n",
        "            image = preprocess_image(image)\n",
        "            \n",
        "            prefix = \"caption en\"\n",
        "            suffix = example[\"suffix\"].decode().lower()\n",
        "            tokens, mask_ar, _, mask_input = preprocess_tokens(prefix, seqlen=SEQLEN)\n",
        "            \n",
        "            processed_example = {\n",
        "                \"image\": np.asarray(image),\n",
        "                \"text\": np.asarray(tokens),\n",
        "                \"mask_ar\": np.asarray(mask_ar),\n",
        "                \"mask_input\": np.asarray(mask_input),\n",
        "                \"suffix\": suffix,\n",
        "                \"class\": image_class,\n",
        "                \"image_path\": image_path\n",
        "            }\n",
        "            \n",
        "            all_examples.append(processed_example)\n",
        "            \n",
        "            if image_class not in class_examples:\n",
        "                class_examples[image_class] = []\n",
        "            class_examples[image_class].append(processed_example)\n",
        "            \n",
        "        except Exception as e:\n",
        "            print(f\"Error processing image: {e}\")\n",
        "            continue\n",
        "    \n",
        "    if num_examples is None:\n",
        "        num_examples = len(all_examples)\n",
        "    \n",
        "    # Ensure at least one example from each class\n",
        "    selected_examples = []\n",
        "    for examples in class_examples.values():\n",
        "        if examples:\n",
        "            selected_examples.append(random.choice(examples))\n",
        "    \n",
        "    # Distribute remaining examples while maintaining class balance\n",
        "    remaining_slots = num_examples - len(selected_examples)\n",
        "    selected_image_paths = set(ex['image_path'] for ex in selected_examples)\n",
        "    \n",
        "    while remaining_slots > 0:\n",
        "        for class_name, examples in class_examples.items():\n",
        "            if remaining_slots > 0:\n",
        "                remaining_class_examples = [ex for ex in examples if ex['image_path'] not in selected_image_paths]\n",
        "                if remaining_class_examples:\n",
        "                    selected_example = random.choice(remaining_class_examples)\n",
        "                    selected_examples.append(selected_example)\n",
        "                    selected_image_paths.add(selected_example['image_path'])\n",
        "                    remaining_slots -= 1\n",
        "            if remaining_slots == 0:\n",
        "                break\n",
        "    \n",
        "    random.shuffle(selected_examples)\n",
        "    \n",
        "    # Yield batches\n",
        "    for i in range(0, len(selected_examples), batch_size):\n",
        "        yield selected_examples[i:i+batch_size]\n",
        "\n",
        "# function to batchwise iterate over the test data\n",
        "def batch_test_score_iterator(batch_size=4, ordered=False):\n",
        "    examples = []\n",
        "    for example in test_dataset.get_tfdata(ordered=ordered).as_numpy_iterator():\n",
        "        try:\n",
        "            image_path = example[\"image\"].decode()\n",
        "            image = Image.open(image_path)\n",
        "            image = preprocess_image(image)\n",
        "            \n",
        "            prefix = \"caption en\"\n",
        "            suffix = example[\"suffix\"].decode().lower()\n",
        "            tokens, mask_ar, _, mask_input = preprocess_tokens(prefix, seqlen=SEQLEN)\n",
        "            \n",
        "            examples.append({\n",
        "                \"image\": np.asarray(image),\n",
        "                \"text\": np.asarray(tokens),\n",
        "                \"mask_ar\": np.asarray(mask_ar),\n",
        "                \"mask_input\": np.asarray(mask_input),\n",
        "                \"suffix\": suffix,\n",
        "            })\n",
        "            \n",
        "            if len(examples) == batch_size:\n",
        "                yield examples\n",
        "                examples = []\n",
        "        except Exception as e:\n",
        "            print(f\"Error processing image: {e}\")\n",
        "            continue\n",
        "    \n",
        "    if examples:\n",
        "        yield examples\n",
        "\n",
        "# function for stratified batchwise iteration over the test data\n",
        "def stratified_batch_test_score_iterator(batch_size=4, num_examples=None, ordered=False, seed=42):\n",
        "    random.seed(seed)\n",
        "    \n",
        "    # Get all data\n",
        "    all_data = list(test_dataset.get_tfdata(ordered=ordered).as_numpy_iterator())\n",
        "    \n",
        "    # Group the data by class\n",
        "    classes = {}\n",
        "    for item in all_data:\n",
        "        class_name = item['image'].decode().split('/')[3]  # Adjust this index if necessary\n",
        "        if class_name not in classes:\n",
        "            classes[class_name] = []\n",
        "        classes[class_name].append(item)\n",
        "\n",
        "    # Calculate the number of samples per class\n",
        "    num_classes = len(classes)\n",
        "    samples_per_class = num_examples // num_classes if num_examples else len(all_data) // num_classes\n",
        "\n",
        "    # Perform stratified sampling with validation\n",
        "    stratified_sample = []\n",
        "    class_counts = {}\n",
        "    for class_name, items in classes.items():\n",
        "        valid_items = [item for item in items if is_valid_image(item['image'].decode())]\n",
        "        if len(valid_items) >= samples_per_class:\n",
        "            selected = random.sample(valid_items, samples_per_class)\n",
        "            stratified_sample.extend(selected)\n",
        "            class_counts[class_name] = len(selected)\n",
        "        else:\n",
        "            stratified_sample.extend(valid_items)\n",
        "            class_counts[class_name] = len(valid_items)\n",
        "    \n",
        "    # If there aren't enough samples, add more from classes with extra valid samples\n",
        "    while len(stratified_sample) < (num_examples or len(all_data)):\n",
        "        for class_name, items in classes.items():\n",
        "            if len(stratified_sample) >= (num_examples or len(all_data)):\n",
        "                break\n",
        "            valid_items = [item for item in items if is_valid_image(item['image'].decode()) and item not in stratified_sample]\n",
        "            if valid_items:\n",
        "                stratified_sample.append(random.choice(valid_items))\n",
        "                class_counts[class_name] += 1\n",
        "\n",
        "    print(\"Classes and their sample counts:\")\n",
        "    for class_name, count in class_counts.items():\n",
        "        print(f\"{class_name}: {count}\")\n",
        "\n",
        "    # Yield batches\n",
        "    examples = []\n",
        "    for item in stratified_sample:\n",
        "        try:\n",
        "            image_path = item[\"image\"].decode()\n",
        "            image = Image.open(image_path)\n",
        "            image = preprocess_image(image)\n",
        "            \n",
        "            prefix = \"caption en\"\n",
        "            suffix = item[\"suffix\"].decode().lower()\n",
        "            tokens, mask_ar, _, mask_input = preprocess_tokens(prefix, seqlen=SEQLEN)\n",
        "            \n",
        "            examples.append({\n",
        "                \"image\": np.asarray(image),\n",
        "                \"text\": np.asarray(tokens),\n",
        "                \"mask_ar\": np.asarray(mask_ar),\n",
        "                \"mask_input\": np.asarray(mask_input),\n",
        "                \"suffix\": suffix,\n",
        "            })\n",
        "            \n",
        "            if len(examples) == batch_size:\n",
        "                yield examples\n",
        "                examples = []\n",
        "        except Exception as e:\n",
        "            print(f\"Error processing image: {e}\")\n",
        "            continue\n",
        "    \n",
        "    if examples:\n",
        "        yield examples"
      ]
    },
    {
      "cell_type": "code",
      "execution_count": null,
      "metadata": {},
      "outputs": [],
      "source": [
        "# function to calculate the ROUGE score\n",
        "def compute_rouge(reference, candidate):\n",
        "    scorer = rouge_scorer.RougeScorer(['rouge1', 'rouge2', 'rougeL'], use_stemmer=True)\n",
        "    scores = scorer.score(reference, candidate)\n",
        "    return (scores['rouge1'].fmeasure + scores['rouge2'].fmeasure + scores['rougeL'].fmeasure) / 3\n",
        "\n",
        "# function to calculate the F1-Score via ingredient overlap (old implementation)\n",
        "def ingredient_overlap_f1_score(reference, candidate):\n",
        "    ref_ingredients = set(reference.lower().split(', '))\n",
        "    cand_ingredients = set(candidate.lower().split(', '))\n",
        "    overlap = ref_ingredients.intersection(cand_ingredients)\n",
        "    precision = len(overlap) / len(cand_ingredients) if cand_ingredients else 0\n",
        "    recall = len(overlap) / len(ref_ingredients) if ref_ingredients else 0\n",
        "    f1 = 2 * (precision * recall) / (precision + recall) if (precision + recall) > 0 else 0\n",
        "    return f1\n",
        "\n",
        "# function to calculate the F1-Score using sklearn\n",
        "def ingredient_overlap_f1_sklearn(references, candidates, method):\n",
        "    mlb = MultiLabelBinarizer()\n",
        "    \n",
        "    # Fit on both references and candidates to include all possible ingredients\n",
        "    all_ingredients = set()\n",
        "    for ref, cand in zip(references, candidates):\n",
        "        all_ingredients.update(ref.lower().split(', '))\n",
        "        all_ingredients.update(cand.lower().split(', '))\n",
        "    \n",
        "    mlb.fit([all_ingredients])\n",
        "    \n",
        "    y_true = mlb.transform([set(ref.lower().split(', ')) for ref in references])\n",
        "    y_pred = mlb.transform([set(cand.lower().split(', ')) for cand in candidates])\n",
        "    \n",
        "    if method == 'sklearn':\n",
        "        # Calculate F1 score for each sample individually\n",
        "        f1_scores = []\n",
        "        for yt, yp in zip(y_true, y_pred):\n",
        "            if np.sum(yt) == 0 and np.sum(yp) == 0:\n",
        "                f1_scores.append(1.0)  # Both true and predicted are empty sets\n",
        "            elif np.sum(yt) == 0 or np.sum(yp) == 0:\n",
        "                f1_scores.append(0.0)  # One is empty, the other is not\n",
        "            else:\n",
        "                f1_scores.append(f1_score(yt, yp, average='binary', zero_division=0))\n",
        "        return np.mean(f1_scores)\n",
        "    elif method in ['weighted', 'macro', 'samples']:\n",
        "        return f1_score(y_true, y_pred, average=method, zero_division=0)\n",
        "    else:\n",
        "        raise ValueError(\"Invalid method. Choose 'sklearn', 'weighted', 'macro', or 'samples'.\")\n",
        "\n",
        "# function to evaluate the model on a batch of examples\n",
        "def evaluate_model_batch(params, batch_size=4, num_examples=None, ordered=False, data_iterator=batch_val_score_iterator):\n",
        "    bleu_scores = []\n",
        "    rouge_scores = []\n",
        "    ingredient_overlap_scores = []\n",
        "    examples = []\n",
        "    all_ground_truths = []\n",
        "    all_predictions = []\n",
        "    \n",
        "    smoother = SmoothingFunction().method1\n",
        "    scorer = rouge_scorer.RougeScorer(['rouge1', 'rouge2', 'rougeL'], use_stemmer=True)\n",
        "    \n",
        "    total_processed = 0\n",
        "    \n",
        "    # If num_examples is not provided, use the entire dataset\n",
        "    if num_examples is None:\n",
        "        num_examples = sum(1 for _ in data_iterator(batch_size=1))  # Count total examples\n",
        "    \n",
        "    pbar = tqdm(total=num_examples)\n",
        "    \n",
        "    for batch in data_iterator(batch_size=batch_size, ordered=ordered, num_examples=num_examples):\n",
        "        batch_images = np.stack([ex['image'] for ex in batch])\n",
        "        batch_tokens = np.stack([ex['text'] for ex in batch])\n",
        "        batch_mask_ar = np.stack([ex['mask_ar'] for ex in batch])\n",
        "        batch_mask_input = np.stack([ex['mask_input'] for ex in batch])\n",
        "        ground_truths = [ex['suffix'] for ex in batch]\n",
        "        \n",
        "        # Generate captions\n",
        "        batch_input = {\n",
        "            \"image\": batch_images,\n",
        "            \"text\": batch_tokens,\n",
        "            \"mask_ar\": batch_mask_ar,\n",
        "            \"mask_input\": batch_mask_input,\n",
        "            \"_mask\": np.ones(len(batch), dtype=bool)\n",
        "        }\n",
        "        generated_tokens = decode({\"params\": params}, \n",
        "                                  batch=batch_input, \n",
        "                                  max_decode_len=SEQLEN, \n",
        "                                  sampler=\"greedy\")\n",
        "        \n",
        "        generated_captions = [postprocess_tokens(tokens) for tokens in generated_tokens]\n",
        "        \n",
        "        batch_bleu = []\n",
        "        batch_rouge = []\n",
        "        batch_ingredient_overlap = []\n",
        "        \n",
        "        for ground_truth, generated_caption in zip(ground_truths, generated_captions):\n",
        "            # Compute BLEU\n",
        "            bleu = sentence_bleu([ground_truth.split()], generated_caption.split(), \n",
        "                                 smoothing_function=smoother, weights=(0.25, 0.25, 0.25, 0.25))\n",
        "            batch_bleu.append(bleu)\n",
        "            \n",
        "            # Compute ROUGE\n",
        "            rouge = compute_rouge(ground_truth, generated_caption)\n",
        "            batch_rouge.append(rouge)\n",
        "            \n",
        "            # Compute ingredient overlap score (original implementation)\n",
        "            ingredient_overlap = ingredient_overlap_f1_score(ground_truth, generated_caption)\n",
        "            batch_ingredient_overlap.append(ingredient_overlap)\n",
        "            \n",
        "            # Store example\n",
        "            examples.append((ground_truth, generated_caption))\n",
        "        \n",
        "        bleu_scores.extend(batch_bleu)\n",
        "        rouge_scores.extend(batch_rouge)\n",
        "        ingredient_overlap_scores.extend(batch_ingredient_overlap)\n",
        "        all_ground_truths.extend(ground_truths)\n",
        "        all_predictions.extend(generated_captions)\n",
        "        \n",
        "        total_processed += len(batch)\n",
        "        pbar.update(len(batch))\n",
        "        \n",
        "        # Calculate dynamic metrics\n",
        "        if all_ground_truths and all_predictions:\n",
        "            accuracy = accuracy_score(all_ground_truths, all_predictions)\n",
        "            precision = precision_score(all_ground_truths, all_predictions, average='weighted', zero_division=0)\n",
        "            recall = recall_score(all_ground_truths, all_predictions, average='weighted', zero_division=0)\n",
        "            f1_original = np.mean(ingredient_overlap_scores)\n",
        "            f1_sklearn = ingredient_overlap_f1_sklearn(all_ground_truths, all_predictions, method='sklearn')\n",
        "            f1_sample = ingredient_overlap_f1_sklearn(all_ground_truths, all_predictions, method='samples')\n",
        "            f1_weighted = ingredient_overlap_f1_sklearn(all_ground_truths, all_predictions, method='weighted')\n",
        "            f1_macro = ingredient_overlap_f1_sklearn(all_ground_truths, all_predictions, method='macro')\n",
        "        else:\n",
        "            accuracy = precision = recall = f1_original = f1_sklearn = f1_sample = f1_weighted = f1_macro = 0\n",
        "        \n",
        "        # Update progress bar with current average scores and new metrics\n",
        "        avg_bleu = np.mean(bleu_scores)\n",
        "        avg_rouge = np.mean(rouge_scores)\n",
        "        \n",
        "        pbar.set_description(f\"BLEU: {avg_bleu:.3f} - ROUGE: {avg_rouge:.3f} - \"\n",
        "                             f\"F1_ORIG: {f1_original:.3f} - ACC: {accuracy:.3f} - \"\n",
        "                             f\"PREC: {precision:.3f} - REC: {recall:.3f} - \"\n",
        "                             f\"F1_SKL: {f1_sklearn:.3f} - F1_SAMP: {f1_sample:.3f} - F1_WGT: {f1_weighted:.3f} - F1_MAC: {f1_macro:.3f}\")\n",
        "        \n",
        "        if total_processed >= num_examples:\n",
        "            break\n",
        "    \n",
        "    pbar.close()\n",
        "    \n",
        "    # Ensure we only use the requested number of examples\n",
        "    all_ground_truths = all_ground_truths[:num_examples]\n",
        "    all_predictions = all_predictions[:num_examples]\n",
        "    \n",
        "    # Final calculation for all metrics\n",
        "    final_accuracy = accuracy_score(all_ground_truths, all_predictions)\n",
        "    final_precision = precision_score(all_ground_truths, all_predictions, average='weighted', zero_division=0)\n",
        "    final_recall = recall_score(all_ground_truths, all_predictions, average='weighted', zero_division=0)\n",
        "    final_f1_original = np.mean([ingredient_overlap_f1_score(gt, pred) for gt, pred in zip(all_ground_truths, all_predictions)])\n",
        "    final_f1_sklearn = ingredient_overlap_f1_sklearn(all_ground_truths, all_predictions, method='sklearn')\n",
        "    final_f1_sample = ingredient_overlap_f1_sklearn(all_ground_truths, all_predictions, method='samples')\n",
        "    final_f1_weighted = ingredient_overlap_f1_sklearn(all_ground_truths, all_predictions, method='weighted')\n",
        "    final_f1_macro = ingredient_overlap_f1_sklearn(all_ground_truths, all_predictions, method='macro')\n",
        "    \n",
        "    return {\n",
        "        \"bleu\": np.mean(bleu_scores),\n",
        "        \"rouge\": np.mean(rouge_scores),\n",
        "        \"ingredient_overlap\": final_f1_original,\n",
        "        \"accuracy\": final_accuracy,\n",
        "        \"precision\": final_precision,\n",
        "        \"recall\": final_recall,\n",
        "        \"f1_original\": final_f1_original,\n",
        "        \"f1_sklearn\": final_f1_sklearn,\n",
        "        \"f1_sample\": final_f1_sample,\n",
        "        \"f1_weighted\": final_f1_weighted,\n",
        "        \"f1_macro\": final_f1_macro,\n",
        "        \"examples\": examples[:num_examples],\n",
        "        \"predictions\": all_predictions,\n",
        "        \"ground_truths\": all_ground_truths\n",
        "    }"
      ]
    },
    {
      "cell_type": "code",
      "execution_count": 21,
      "metadata": {
        "colab": {
          "base_uri": "https://localhost:8080/",
          "height": 1000
        },
        "id": "067wj_6bZAG3",
        "outputId": "78641606-05a2-4fd9-f275-41f8590042a7"
      },
      "outputs": [
        {
          "name": "stdout",
          "output_type": "stream",
          "text": [
            "Number of training examples: 68175\n"
          ]
        },
        {
          "name": "stderr",
          "output_type": "stream",
          "text": [
            "  0%|          | 0/8521 [00:00<?, ?it/s]"
          ]
        },
        {
          "name": "stderr",
          "output_type": "stream",
          "text": [
            "ERROR:wandb.jupyter:Failed to detect the name of this notebook, you can set it manually with the WANDB_NOTEBOOK_NAME environment variable to enable code saving.\n",
            "\u001b[34m\u001b[1mwandb\u001b[0m: Currently logged in as: \u001b[33mahirsch\u001b[0m (\u001b[33mhtwbe\u001b[0m). Use \u001b[1m`wandb login --relogin`\u001b[0m to force relogin\n"
          ]
        },
        {
          "data": {
            "text/html": [
              "Tracking run with wandb version 0.17.5"
            ],
            "text/plain": [
              "<IPython.core.display.HTML object>"
            ]
          },
          "metadata": {},
          "output_type": "display_data"
        },
        {
          "data": {
            "text/html": [
              "Run data is saved locally in <code>/home/simon/Projects/MA/wandb/run-20240723_095413-8mwhoi8g</code>"
            ],
            "text/plain": [
              "<IPython.core.display.HTML object>"
            ]
          },
          "metadata": {},
          "output_type": "display_data"
        },
        {
          "data": {
            "text/html": [
              "Syncing run <strong><a href='https://wandb.ai/htwbe/paligemma-jax-local/runs/8mwhoi8g' target=\"_blank\">happy-forest-39</a></strong> to <a href='https://wandb.ai/htwbe/paligemma-jax-local' target=\"_blank\">Weights & Biases</a> (<a href='https://wandb.me/run' target=\"_blank\">docs</a>)<br/>"
            ],
            "text/plain": [
              "<IPython.core.display.HTML object>"
            ]
          },
          "metadata": {},
          "output_type": "display_data"
        },
        {
          "data": {
            "text/html": [
              " View project at <a href='https://wandb.ai/htwbe/paligemma-jax-local' target=\"_blank\">https://wandb.ai/htwbe/paligemma-jax-local</a>"
            ],
            "text/plain": [
              "<IPython.core.display.HTML object>"
            ]
          },
          "metadata": {},
          "output_type": "display_data"
        },
        {
          "data": {
            "text/html": [
              " View run at <a href='https://wandb.ai/htwbe/paligemma-jax-local/runs/8mwhoi8g' target=\"_blank\">https://wandb.ai/htwbe/paligemma-jax-local/runs/8mwhoi8g</a>"
            ],
            "text/plain": [
              "<IPython.core.display.HTML object>"
            ]
          },
          "metadata": {},
          "output_type": "display_data"
        },
        {
          "name": "stderr",
          "output_type": "stream",
          "text": [
            "2024-07-23 09:54:38.072793: W external/xla/xla/service/hlo_rematerialization.cc:3005] Can't reduce memory use below 5.69GiB (6109164802 bytes) by rematerialization; only reduced to 8.15GiB (8755312304 bytes), down from 8.15GiB (8755324592 bytes) originally\n",
            "  2%|▏         | 200/8521 [04:49<3:01:12,  1.31s/it, lr=0.00047, loss=2.2749]"
          ]
        },
        {
          "name": "stdout",
          "output_type": "stream",
          "text": [
            "\n",
            "Evaluating at step 200\n"
          ]
        },
        {
          "name": "stderr",
          "output_type": "stream",
          "text": [
            "BLEU: 0.016 - ROUGE: 0.133 - F1: 0.354 - ACC: 0.000 - PREC: 0.000 - REC: 0.000: 100%|██████████| 1000/1000 [15:13<00:00,  1.09it/s]\n",
            "WARNING:absl:SaveArgs.aggregate is deprecated, please use custom TypeHandler (https://orbax.readthedocs.io/en/latest/custom_handlers.html#typehandler) or contact Orbax team to migrate before August 1st, 2024.\n",
            "WARNING:absl:The `aggregate` option is deprecated and will be ignored.\n",
            "WARNING:absl:The `aggregate` option is deprecated and will be ignored.\n",
            "WARNING:absl:The `aggregate` option is deprecated and will be ignored.\n",
            "WARNING:absl:The `aggregate` option is deprecated and will be ignored.\n",
            "WARNING:absl:The `aggregate` option is deprecated and will be ignored.\n"
          ]
        },
        {
          "name": "stdout",
          "output_type": "stream",
          "text": [
            "\n",
            "Examples:\n",
            "\n",
            "Example 1:\n",
            "Ground Truth: grain, steak, soybean sprouts, spinach, cucumber, zucchini, carrot, garlic, scallions, soy, oil, seeds, salt, pepper, oil, egg, pepper, sugar, water\n",
            "Generated: beef, onion, tomato, lettuce, bun, ketchup, mustard, mayo, cheese, egg\n",
            "\n",
            "Example 2:\n",
            "Ground Truth: salt, edam, salt\n",
            "Generated: soy, soy, soy\n",
            "\n",
            "Example 3:\n",
            "Ground Truth: oil, garlic, black pepper, salt, sirloin, steak, worcestershire\n",
            "Generated: steak, potato, onion, garlic, salt, pepper, oil, butter, pepper, pepper, pepper, pepper, pepper, pepper, pepper, pepper, pepper, pepper, pepper, pepper, pepper, pepper, pepper, pepper, pepper, pepper, pepper, pepper, pepper, pepper, pepper, pepper, pepper, pepper, pepper, pepper, pepper, pepper, pepper, pepper, pepper, pepper, pepper, pepper, pepper, pepper, pepper, pepper, pepper, pepper, pepper, pepper, pepper, pepper, pepper, pepper, pepper, pepper, pepper, pepper, pepper, pepper, pepper, pepper,\n",
            "Saving checkpoint at step 200\n"
          ]
        },
        {
          "name": "stderr",
          "output_type": "stream",
          "text": [
            "  5%|▍         | 400/8521 [26:04<2:42:26,  1.20s/it, lr=0.00094, loss=1.7718]   "
          ]
        },
        {
          "name": "stdout",
          "output_type": "stream",
          "text": [
            "\n",
            "Evaluating at step 400\n"
          ]
        },
        {
          "name": "stderr",
          "output_type": "stream",
          "text": [
            "BLEU: 0.034 - ROUGE: 0.230 - F1: 0.406 - ACC: 0.003 - PREC: 0.003 - REC: 0.003: 100%|██████████| 1000/1000 [09:39<00:00,  1.73it/s]\n"
          ]
        },
        {
          "name": "stdout",
          "output_type": "stream",
          "text": [
            "\n",
            "Examples:\n",
            "\n",
            "Example 1:\n",
            "Ground Truth: baby back ribs, apple, salt, mustard, brown sugar, worcestershire, gin, chili\n",
            "Generated: ribs, sugar, oil, salt, pepper, garlic, onion, worcestershire, cola, beer, tomato, mustard, vinegar, paprika, cumin, cayenne pepper, black pepper, salt, sugar, oil, butter, parsley, lemon, lemon juice, parsley, parsley, parsley, parsley, parsley, parsley, parsley, parsley, parsley, parsley, parsley, parsley, parsley, parsley, parsley, parsley, parsley, parsley, parsley, parsley, parsley, parsley, parsley, parsley, parsley, parsley, parsley, parsley, parsley, parsley, parsley, parsley, parsley, parsley, parsley, parsley, parsley, parsley,\n",
            "\n",
            "Example 2:\n",
            "Ground Truth: onion, garlic, jalapeno chilies, chipotle, tomato, dijon mustard, vinegar, paprika, ketchup, worcestershire, brown sugar, bay leaf, salt, shoulder roast, buns\n",
            "Generated: ham, bread, cheese, mustard, mayo, salt, pepper\n",
            "\n",
            "Example 3:\n",
            "Ground Truth: red snapper, lime, lemon, onion, tomato, serrano chilies, salt, oregano, pepper, cayenne pepper, cilantro, avocado, tortillas\n",
            "Generated: fish, lime, salt, cilantro, onion, tomato, corn, potato, oil, lemon\n",
            "Saving checkpoint at step 400\n"
          ]
        },
        {
          "name": "stderr",
          "output_type": "stream",
          "text": [
            "  7%|▋         | 600/8521 [41:33<2:38:06,  1.20s/it, lr=0.00141, loss=0.9410]   "
          ]
        },
        {
          "name": "stdout",
          "output_type": "stream",
          "text": [
            "\n",
            "Evaluating at step 600\n"
          ]
        },
        {
          "name": "stderr",
          "output_type": "stream",
          "text": [
            "BLEU: 0.141 - ROUGE: 0.342 - F1: 0.502 - ACC: 0.093 - PREC: 0.156 - REC: 0.093: 100%|██████████| 1000/1000 [09:47<00:00,  1.70it/s]\n"
          ]
        },
        {
          "name": "stdout",
          "output_type": "stream",
          "text": [
            "\n",
            "Examples:\n",
            "\n",
            "Example 1:\n",
            "Ground Truth: sugar, vanilla, unflavored gelatin, cold water\n",
            "Generated: strawberries, sugar, whipping, vanilla\n",
            "\n",
            "Example 2:\n",
            "Ground Truth: oil, potato, peas, cumin, salt, chili, chilli, garam masala, gin, coriander, flour, water, cold water, oil\n",
            "Generated: onion, flour, baking powder, salt, egg, oil\n",
            "\n",
            "Example 3:\n",
            "Ground Truth: salmon, brown sugar, lemon, lemon, soy, water, oil\n",
            "Generated: fish, soy, oil, garlic, sugar, lemon, lemon, lemon\n",
            "Saving checkpoint at step 600\n"
          ]
        },
        {
          "name": "stderr",
          "output_type": "stream",
          "text": [
            "  9%|▉         | 800/8521 [57:26<2:44:42,  1.28s/it, lr=0.00188, loss=0.1721]   "
          ]
        },
        {
          "name": "stdout",
          "output_type": "stream",
          "text": [
            "\n",
            "Evaluating at step 800\n"
          ]
        },
        {
          "name": "stderr",
          "output_type": "stream",
          "text": [
            "BLEU: 0.533 - ROUGE: 0.631 - F1: 0.686 - ACC: 0.507 - PREC: 0.705 - REC: 0.507: 100%|██████████| 1000/1000 [04:21<00:00,  3.82it/s]\n"
          ]
        },
        {
          "name": "stdout",
          "output_type": "stream",
          "text": [
            "\n",
            "Examples:\n",
            "\n",
            "Example 1:\n",
            "Ground Truth: pork, orange, lime, black pepper, cumin, cayenne pepper, garlic, oregano, oil, onion, garlic, white wine\n",
            "Generated: pork, onion, garlic, tomato, tomato, soy, sugar, black pepper, garlic, ketchup, canola oil, egg, toothpick, worcestershire, salt, bread\n",
            "\n",
            "Example 2:\n",
            "Ground Truth: cocoa, brown sugar, milk, vanilla\n",
            "Generated: vanilla, salt, egg, sugar, ice\n",
            "\n",
            "Example 3:\n",
            "Ground Truth: fat, steak, gin, shallot, parsley, capers, worcestershire, egg, black pepper, crostini\n",
            "Generated: salmon, brown sugar, lemon, lemon, soy, water, oil\n",
            "Saving checkpoint at step 800\n"
          ]
        },
        {
          "name": "stderr",
          "output_type": "stream",
          "text": [
            " 12%|█▏        | 1000/8521 [1:08:14<2:40:48,  1.28s/it, lr=0.00200, loss=0.1147]  "
          ]
        },
        {
          "name": "stdout",
          "output_type": "stream",
          "text": [
            "\n",
            "Evaluating at step 1000\n"
          ]
        },
        {
          "name": "stderr",
          "output_type": "stream",
          "text": [
            "BLEU: 0.690 - ROUGE: 0.742 - F1: 0.768 - ACC: 0.691 - PREC: 0.798 - REC: 0.691: 100%|██████████| 1000/1000 [04:20<00:00,  3.83it/s]\n"
          ]
        },
        {
          "name": "stdout",
          "output_type": "stream",
          "text": [
            "\n",
            "Examples:\n",
            "\n",
            "Example 1:\n",
            "Ground Truth: tomato, cherry, onion, cucumber, pepper, lettuce, thyme, chives, feta, olive, oil, red wine, oregano, salt, black pepper\n",
            "Generated: tomato, cherry, onion, cucumber, pepper, lettuce, thyme, chives, feta, olive, oil, red wine, oregano, salt, black pepper\n",
            "\n",
            "Example 2:\n",
            "Ground Truth: flour, egg, cold water, salt, konbu dashi, dashi, soy, octopus, onion, pie, cheese\n",
            "Generated: foie gras, salt, milk\n",
            "\n",
            "Example 3:\n",
            "Ground Truth: nut, spray, sugar, butter, egg, flour, baking powder, baking powder, salt, nut, butter, glaze, sugar, fat, maple syrup, colored sprinkles\n",
            "Generated: nut, cinnamon, bread, butter, phyllo dough, sugar, honey, lemon, baklava\n",
            "Saving checkpoint at step 1000\n"
          ]
        },
        {
          "name": "stderr",
          "output_type": "stream",
          "text": [
            " 14%|█▍        | 1200/8521 [1:18:41<2:36:16,  1.28s/it, lr=0.00199, loss=0.0921]   "
          ]
        },
        {
          "name": "stdout",
          "output_type": "stream",
          "text": [
            "\n",
            "Evaluating at step 1200\n"
          ]
        },
        {
          "name": "stderr",
          "output_type": "stream",
          "text": [
            "BLEU: 0.770 - ROUGE: 0.815 - F1: 0.839 - ACC: 0.777 - PREC: 0.874 - REC: 0.777: 100%|██████████| 1000/1000 [04:39<00:00,  3.57it/s]\n"
          ]
        },
        {
          "name": "stdout",
          "output_type": "stream",
          "text": [
            "\n",
            "Examples:\n",
            "\n",
            "Example 1:\n",
            "Ground Truth: spaghetti, beef, pancetta, tomato, tomato, red wine, carrot, celery, onion, garlic, cheese, basil, oregano, bay, oil, salt, black pepper, cheese\n",
            "Generated: spaghetti, beef, pancetta, tomato, tomato, red wine, carrot, celery, onion, garlic, cheese, basil, oregano, bay, oil, salt, black pepper, cheese\n",
            "\n",
            "Example 2:\n",
            "Ground Truth: chicken, soy, garlic, sugar\n",
            "Generated: chicken, brown sugar, lemon, oregano, cloves, soy, oil, onion, garlic, corn starch, water, salt, pepper, bread\n",
            "\n",
            "Example 3:\n",
            "Ground Truth: butter, egg, sugar, whipping, vanilla, berries\n",
            "Generated: butter, egg, sugar, whipping, vanilla, berries\n",
            "Saving checkpoint at step 1200\n"
          ]
        },
        {
          "name": "stderr",
          "output_type": "stream",
          "text": [
            " 16%|█▋        | 1400/8521 [1:29:20<2:31:53,  1.28s/it, lr=0.00197, loss=0.0138]   "
          ]
        },
        {
          "name": "stdout",
          "output_type": "stream",
          "text": [
            "\n",
            "Evaluating at step 1400\n"
          ]
        },
        {
          "name": "stderr",
          "output_type": "stream",
          "text": [
            "BLEU: 0.800 - ROUGE: 0.837 - F1: 0.855 - ACC: 0.804 - PREC: 0.887 - REC: 0.804: 100%|██████████| 1000/1000 [05:00<00:00,  3.33it/s]\n"
          ]
        },
        {
          "name": "stdout",
          "output_type": "stream",
          "text": [
            "\n",
            "Examples:\n",
            "\n",
            "Example 1:\n",
            "Ground Truth: water, butter, salt, sugar, flour, egg, oil, cinnamon\n",
            "Generated: water, butter, salt, sugar, flour, egg, oil, cinnamon\n",
            "\n",
            "Example 2:\n",
            "Ground Truth: tomato, cherry, onion, cucumber, pepper, lettuce, thyme, chives, feta, olive, oil, red wine, oregano, salt, black pepper\n",
            "Generated: tomato, cherry, onion, cucumber, pepper, lettuce, thyme, chives, feta, olive, oil, red wine, oregano, salt, black pepper\n",
            "\n",
            "Example 3:\n",
            "Ground Truth: spaghetti, egg, cheese, bacon, garlic, salt, black pepper, parsley\n",
            "Generated: spaghetti, egg, cheese, bacon, garlic, salt, black pepper, parsley\n",
            "Saving checkpoint at step 1400\n"
          ]
        },
        {
          "name": "stderr",
          "output_type": "stream",
          "text": [
            " 19%|█▉        | 1600/8521 [1:40:46<2:32:19,  1.32s/it, lr=0.00195, loss=0.0809]   "
          ]
        },
        {
          "name": "stdout",
          "output_type": "stream",
          "text": [
            "\n",
            "Evaluating at step 1600\n"
          ]
        },
        {
          "name": "stderr",
          "output_type": "stream",
          "text": [
            "BLEU: 0.838 - ROUGE: 0.868 - F1: 0.884 - ACC: 0.844 - PREC: 0.899 - REC: 0.844: 100%|██████████| 1000/1000 [04:59<00:00,  3.34it/s]\n"
          ]
        },
        {
          "name": "stdout",
          "output_type": "stream",
          "text": [
            "\n",
            "Examples:\n",
            "\n",
            "Example 1:\n",
            "Ground Truth: butter, celery, shallot, oyster, black pepper, cayenne pepper\n",
            "Generated: butter, celery, shallot, oyster, black pepper, cayenne pepper\n",
            "\n",
            "Example 2:\n",
            "Ground Truth: noodles, miso, tofu, cress, onion, cilantro, pepper, miso, apple, gin, turmeric, water\n",
            "Generated: noodles, miso, tofu, cress, onion, cilantro, pepper, miso, apple, gin, turmeric, water\n",
            "\n",
            "Example 3:\n",
            "Ground Truth: chicken, black pepper, salt, curry, oil, onion, cloves, gin, broth, corn starch, sugar, peas, greek yogurt, cilantro\n",
            "Generated: grain, filet, mirin, oil, garlic, oxo, soy, sugar, pepper\n",
            "Saving checkpoint at step 1600\n"
          ]
        },
        {
          "name": "stderr",
          "output_type": "stream",
          "text": [
            " 21%|██        | 1800/8521 [1:52:15<2:15:05,  1.21s/it, lr=0.00193, loss=0.1207]   "
          ]
        },
        {
          "name": "stdout",
          "output_type": "stream",
          "text": [
            "\n",
            "Evaluating at step 1800\n"
          ]
        },
        {
          "name": "stderr",
          "output_type": "stream",
          "text": [
            "BLEU: 0.812 - ROUGE: 0.843 - F1: 0.859 - ACC: 0.816 - PREC: 0.875 - REC: 0.816: 100%|██████████| 1000/1000 [04:38<00:00,  3.59it/s]\n"
          ]
        },
        {
          "name": "stdout",
          "output_type": "stream",
          "text": [
            "\n",
            "Examples:\n",
            "\n",
            "Example 1:\n",
            "Ground Truth: bacon, morningstar farms chick'n patties, fat, bread, lettuce, cheddar, tomato\n",
            "Generated: bacon, morningstar farms chick'n patties, fat, bread, lettuce, cheddar, tomato\n",
            "\n",
            "Example 2:\n",
            "Ground Truth: spaghetti, egg, cheese, bacon, garlic, salt, black pepper, parsley\n",
            "Generated: spaghetti, beef, pancetta, tomato, tomato, red wine, carrot, celery, onion, garlic, cheese, basil, oregano, bay, oil, salt, black pepper, cheese\n",
            "\n",
            "Example 3:\n",
            "Ground Truth: balsamic vinegar, tomato, cheese, basil, oil, black pepper, salt\n",
            "Generated: egg, tartar, egg, cloves\n"
          ]
        },
        {
          "name": "stderr",
          "output_type": "stream",
          "text": [
            " 23%|██▎       | 2000/8521 [2:00:56<2:10:53,  1.20s/it, lr=0.00189, loss=0.0269]  "
          ]
        },
        {
          "name": "stdout",
          "output_type": "stream",
          "text": [
            "\n",
            "Evaluating at step 2000\n"
          ]
        },
        {
          "name": "stderr",
          "output_type": "stream",
          "text": [
            "BLEU: 0.802 - ROUGE: 0.836 - F1: 0.853 - ACC: 0.812 - PREC: 0.869 - REC: 0.812: 100%|██████████| 1000/1000 [04:17<00:00,  3.89it/s]\n"
          ]
        },
        {
          "name": "stdout",
          "output_type": "stream",
          "text": [
            "\n",
            "Examples:\n",
            "\n",
            "Example 1:\n",
            "Ground Truth: flour, baking powder, sugar, butter, egg, cake, bacon, onion, tomato, cheese, chives, parsley, salt, black pepper, maple syrup, oil, butter\n",
            "Generated: flour, baking powder, sugar, butter, egg, cake, bacon, onion, tomato, cheese, chives, parsley, salt, black pepper, maple syrup, oil, butter\n",
            "\n",
            "Example 2:\n",
            "Ground Truth: foie gras, salt, milk\n",
            "Generated: foie gras, salt, milk\n",
            "\n",
            "Example 3:\n",
            "Ground Truth: avocado, onion, jalapeno chilies, cilantro, salt, lime\n",
            "Generated: avocado, onion, jalapeno chilies, cilantro, salt, lime\n"
          ]
        },
        {
          "name": "stderr",
          "output_type": "stream",
          "text": [
            " 26%|██▌       | 2200/8521 [2:09:38<2:18:50,  1.32s/it, lr=0.00185, loss=0.1019]  "
          ]
        },
        {
          "name": "stdout",
          "output_type": "stream",
          "text": [
            "\n",
            "Evaluating at step 2200\n"
          ]
        },
        {
          "name": "stderr",
          "output_type": "stream",
          "text": [
            "BLEU: 0.818 - ROUGE: 0.850 - F1: 0.866 - ACC: 0.826 - PREC: 0.877 - REC: 0.826: 100%|██████████| 1000/1000 [04:40<00:00,  3.57it/s]\n"
          ]
        },
        {
          "name": "stdout",
          "output_type": "stream",
          "text": [
            "\n",
            "Examples:\n",
            "\n",
            "Example 1:\n",
            "Ground Truth: cocoa, brown sugar, milk, vanilla\n",
            "Generated: cocoa, brown sugar, milk, vanilla\n",
            "\n",
            "Example 2:\n",
            "Ground Truth: marrow, oxtail, beef, clove, anise, cinnamon, cardamom, black pepper, coriander, fennel, gin, onion, shallot, fish, sugar, noodles, scallions, eye round, cilantro, basil, beans, lime, bird chile, chile, hoisin\n",
            "Generated: marrow, oxtail, beef, clove, anise, cinnamon, cardamom, black pepper, coriander, fennel, gin, onion, shallot, fish, sugar, noodles, scallions, eye round, cilantro, basil, beans, lime, bird chile, chile, hoisin\n",
            "\n",
            "Example 3:\n",
            "Ground Truth: brown rice, oil, peas, carrot, garlic, egg, soy\n",
            "Generated: egg, oil, cheese, chilli, chives, dill, salmon\n"
          ]
        },
        {
          "name": "stderr",
          "output_type": "stream",
          "text": [
            " 28%|██▊       | 2400/8521 [2:18:42<2:14:27,  1.32s/it, lr=0.00181, loss=0.0176]  "
          ]
        },
        {
          "name": "stdout",
          "output_type": "stream",
          "text": [
            "\n",
            "Evaluating at step 2400\n"
          ]
        },
        {
          "name": "stderr",
          "output_type": "stream",
          "text": [
            "BLEU: 0.840 - ROUGE: 0.871 - F1: 0.886 - ACC: 0.848 - PREC: 0.883 - REC: 0.848: 100%|██████████| 1000/1000 [04:40<00:00,  3.56it/s]\n"
          ]
        },
        {
          "name": "stdout",
          "output_type": "stream",
          "text": [
            "\n",
            "Examples:\n",
            "\n",
            "Example 1:\n",
            "Ground Truth: spaghetti, beef, pancetta, tomato, tomato, red wine, carrot, celery, onion, garlic, cheese, basil, oregano, bay, oil, salt, black pepper, cheese\n",
            "Generated: spaghetti, beef, pancetta, tomato, tomato, red wine, carrot, celery, onion, garlic, cheese, basil, oregano, bay, oil, salt, black pepper, cheese\n",
            "\n",
            "Example 2:\n",
            "Ground Truth: snails, butter, mushroom, garlic, cheese, parsley\n",
            "Generated: foie gras, salt, milk\n",
            "\n",
            "Example 3:\n",
            "Ground Truth: sugar, vanilla, unflavored gelatin, cold water\n",
            "Generated: sugar, vanilla, unflavored gelatin, cold water\n",
            "Saving checkpoint at step 2400\n"
          ]
        },
        {
          "name": "stderr",
          "output_type": "stream",
          "text": [
            " 31%|███       | 2600/8521 [2:29:41<2:10:16,  1.32s/it, lr=0.00175, loss=0.0151]   "
          ]
        },
        {
          "name": "stdout",
          "output_type": "stream",
          "text": [
            "\n",
            "Evaluating at step 2600\n"
          ]
        },
        {
          "name": "stderr",
          "output_type": "stream",
          "text": [
            "BLEU: 0.845 - ROUGE: 0.877 - F1: 0.891 - ACC: 0.856 - PREC: 0.895 - REC: 0.856: 100%|██████████| 1000/1000 [05:14<00:00,  3.18it/s]\n"
          ]
        },
        {
          "name": "stdout",
          "output_type": "stream",
          "text": [
            "\n",
            "Examples:\n",
            "\n",
            "Example 1:\n",
            "Ground Truth: beef, lemon, gin, salt, pepper, baby arugula, asiago\n",
            "Generated: balsamic vinegar, tomato, cheese, basil, oil, black pepper, salt\n",
            "\n",
            "Example 2:\n",
            "Ground Truth: oil, potato, beer, flour, cod, pepper, chili, old bay, vinegar\n",
            "Generated: balsamic vinegar, tomato, cheese, basil, oil, black pepper, salt\n",
            "\n",
            "Example 3:\n",
            "Ground Truth: chips, beef, beans, salsa, cheese, onion, cilantro, jalapeno chilies, pickle\n",
            "Generated: chips, beef, beans, salsa, cheese, onion, cilantro, jalapeno chilies, pickle\n",
            "Saving checkpoint at step 2600\n"
          ]
        },
        {
          "name": "stderr",
          "output_type": "stream",
          "text": [
            " 33%|███▎      | 2800/8521 [2:40:41<1:55:30,  1.21s/it, lr=0.00170, loss=0.0142]   "
          ]
        },
        {
          "name": "stdout",
          "output_type": "stream",
          "text": [
            "\n",
            "Evaluating at step 2800\n"
          ]
        },
        {
          "name": "stderr",
          "output_type": "stream",
          "text": [
            "BLEU: 0.830 - ROUGE: 0.861 - F1: 0.875 - ACC: 0.838 - PREC: 0.868 - REC: 0.838: 100%|██████████| 1000/1000 [04:17<00:00,  3.88it/s]\n"
          ]
        },
        {
          "name": "stdout",
          "output_type": "stream",
          "text": [
            "\n",
            "Examples:\n",
            "\n",
            "Example 1:\n",
            "Ground Truth: milk, sugar, vanilla\n",
            "Generated: milk, sugar, vanilla\n",
            "\n",
            "Example 2:\n",
            "Ground Truth: spring roll wrappers, noodles, carrot, cucumber, onion, soy, oil, seeds\n",
            "Generated: spring roll wrappers, noodles, carrot, cucumber, onion, soy, oil, seeds\n",
            "\n",
            "Example 3:\n",
            "Ground Truth: chicken, black pepper, salt, curry, oil, onion, cloves, gin, broth, corn starch, sugar, peas, greek yogurt, cilantro\n",
            "Generated: chicken, black pepper, salt, curry, oil, onion, cloves, gin, broth, corn starch, sugar, peas, greek yogurt, cilantro\n"
          ]
        },
        {
          "name": "stderr",
          "output_type": "stream",
          "text": [
            " 35%|███▌      | 3000/8521 [2:49:00<1:50:58,  1.21s/it, lr=0.00164, loss=0.0036]  "
          ]
        },
        {
          "name": "stdout",
          "output_type": "stream",
          "text": [
            "\n",
            "Evaluating at step 3000\n"
          ]
        },
        {
          "name": "stderr",
          "output_type": "stream",
          "text": [
            "BLEU: 0.868 - ROUGE: 0.896 - F1: 0.907 - ACC: 0.876 - PREC: 0.907 - REC: 0.876: 100%|██████████| 1000/1000 [04:18<00:00,  3.86it/s]\n"
          ]
        },
        {
          "name": "stdout",
          "output_type": "stream",
          "text": [
            "\n",
            "Examples:\n",
            "\n",
            "Example 1:\n",
            "Ground Truth: rice, water, rice, sugar, salt\n",
            "Generated: rice, water, rice, sugar, salt\n",
            "\n",
            "Example 2:\n",
            "Ground Truth: sugar, cheese, almond, chocolate, liqueur, cannoli shells, cocoa, cocktail\n",
            "Generated: sugar, cheese, almond, chocolate, liqueur, cannoli shells, cocoa, cocktail\n",
            "\n",
            "Example 3:\n",
            "Ground Truth: chicken, soy, garlic, sugar\n",
            "Generated: chicken, soy, garlic, sugar\n",
            "Saving checkpoint at step 3000\n"
          ]
        },
        {
          "name": "stderr",
          "output_type": "stream",
          "text": [
            " 38%|███▊      | 3200/8521 [2:59:27<1:47:25,  1.21s/it, lr=0.00157, loss=0.0371]   "
          ]
        },
        {
          "name": "stdout",
          "output_type": "stream",
          "text": [
            "\n",
            "Evaluating at step 3200\n"
          ]
        },
        {
          "name": "stderr",
          "output_type": "stream",
          "text": [
            "BLEU: 0.860 - ROUGE: 0.888 - F1: 0.899 - ACC: 0.868 - PREC: 0.897 - REC: 0.868: 100%|██████████| 1000/1000 [04:19<00:00,  3.86it/s]\n"
          ]
        },
        {
          "name": "stdout",
          "output_type": "stream",
          "text": [
            "\n",
            "Examples:\n",
            "\n",
            "Example 1:\n",
            "Ground Truth: bread, milk, sugar, butter, salt, egg, vanilla\n",
            "Generated: bread, milk, sugar, butter, salt, egg, vanilla\n",
            "\n",
            "Example 2:\n",
            "Ground Truth: oil, arborio rice, risotto, broth, butter, cheese\n",
            "Generated: oil, arborio rice, risotto, broth, butter, cheese\n",
            "\n",
            "Example 3:\n",
            "Ground Truth: rice, water, rice, sugar, salt\n",
            "Generated: rice, water, rice, sugar, salt\n"
          ]
        },
        {
          "name": "stderr",
          "output_type": "stream",
          "text": [
            " 40%|███▉      | 3400/8521 [3:07:48<1:42:33,  1.20s/it, lr=0.00150, loss=0.0052]  "
          ]
        },
        {
          "name": "stdout",
          "output_type": "stream",
          "text": [
            "\n",
            "Evaluating at step 3400\n"
          ]
        },
        {
          "name": "stderr",
          "output_type": "stream",
          "text": [
            "BLEU: 0.844 - ROUGE: 0.874 - F1: 0.889 - ACC: 0.851 - PREC: 0.881 - REC: 0.851: 100%|██████████| 1000/1000 [04:18<00:00,  3.87it/s]\n"
          ]
        },
        {
          "name": "stdout",
          "output_type": "stream",
          "text": [
            "\n",
            "Examples:\n",
            "\n",
            "Example 1:\n",
            "Ground Truth: bacon, morningstar farms chick'n patties, fat, bread, lettuce, cheddar, tomato\n",
            "Generated: bacon, morningstar farms chick'n patties, fat, bread, lettuce, cheddar, tomato\n",
            "\n",
            "Example 2:\n",
            "Ground Truth: red snapper, lime, lemon, onion, tomato, serrano chilies, salt, oregano, pepper, cayenne pepper, cilantro, avocado, tortillas\n",
            "Generated: red snapper, lime, lemon, onion, tomato, serrano chilies, salt, oregano, pepper, cayenne pepper, cilantro, avocado, tortillas\n",
            "\n",
            "Example 3:\n",
            "Ground Truth: onion, flour, baking powder, egg, bread, oil\n",
            "Generated: crab, butter, shallot, salt, egg, worcestershire, paprika, black pepper, tartar, lemon, pepper, parsley, bread, bread\n"
          ]
        },
        {
          "name": "stderr",
          "output_type": "stream",
          "text": [
            " 42%|████▏     | 3600/8521 [3:16:07<1:38:35,  1.20s/it, lr=0.00143, loss=0.0345]  "
          ]
        },
        {
          "name": "stdout",
          "output_type": "stream",
          "text": [
            "\n",
            "Evaluating at step 3600\n"
          ]
        },
        {
          "name": "stderr",
          "output_type": "stream",
          "text": [
            "BLEU: 0.873 - ROUGE: 0.898 - F1: 0.907 - ACC: 0.883 - PREC: 0.905 - REC: 0.883: 100%|██████████| 1000/1000 [04:17<00:00,  3.89it/s]\n"
          ]
        },
        {
          "name": "stdout",
          "output_type": "stream",
          "text": [
            "\n",
            "Examples:\n",
            "\n",
            "Example 1:\n",
            "Ground Truth: paella, chorizo, chicken, onion, garlic, chicken, tomato, saffron, paprika, oil, parsley, salt, pepper, shrimp, mussels, clams, lemon\n",
            "Generated: paella, chorizo, chicken, onion, garlic, chicken, tomato, saffron, paprika, oil, parsley, salt, pepper, shrimp, mussels, clams, lemon\n",
            "\n",
            "Example 2:\n",
            "Ground Truth: english muffin, bacon, egg, butter, lemon, cayenne pepper\n",
            "Generated: english muffin, bacon, egg, butter, lemon, cayenne pepper\n",
            "\n",
            "Example 3:\n",
            "Ground Truth: seaweed, seeds, tomato, rice\n",
            "Generated: beef, lemon, gin, salt, pepper, baby arugula, asiago\n",
            "Saving checkpoint at step 3600\n"
          ]
        },
        {
          "name": "stderr",
          "output_type": "stream",
          "text": [
            " 45%|████▍     | 3800/8521 [3:26:24<1:34:51,  1.21s/it, lr=0.00136, loss=0.0086]   "
          ]
        },
        {
          "name": "stdout",
          "output_type": "stream",
          "text": [
            "\n",
            "Evaluating at step 3800\n"
          ]
        },
        {
          "name": "stderr",
          "output_type": "stream",
          "text": [
            "BLEU: 0.872 - ROUGE: 0.902 - F1: 0.912 - ACC: 0.885 - PREC: 0.912 - REC: 0.885: 100%|██████████| 1000/1000 [04:18<00:00,  3.87it/s]\n"
          ]
        },
        {
          "name": "stdout",
          "output_type": "stream",
          "text": [
            "\n",
            "Examples:\n",
            "\n",
            "Example 1:\n",
            "Ground Truth: beef, cheese, mayonnaise, ketchup, mustard, dill, black pepper, onion, tomato, lettuce\n",
            "Generated: beef, cheese, mayonnaise, ketchup, mustard, dill, black pepper, onion, tomato, lettuce\n",
            "\n",
            "Example 2:\n",
            "Ground Truth: dogs, dog bun, chili, onion, cheddar, mayonnaise, mustard, relish\n",
            "Generated: dogs, dog bun, chili, onion, cheddar, mayonnaise, mustard, relish\n",
            "\n",
            "Example 3:\n",
            "Ground Truth: onion, flour, baking powder, egg, bread, oil\n",
            "Generated: onion, flour, baking powder, egg, bread, oil\n",
            "Saving checkpoint at step 3800\n"
          ]
        },
        {
          "name": "stderr",
          "output_type": "stream",
          "text": [
            " 47%|████▋     | 4000/8521 [3:36:45<1:30:52,  1.21s/it, lr=0.00128, loss=0.0223]   "
          ]
        },
        {
          "name": "stdout",
          "output_type": "stream",
          "text": [
            "\n",
            "Evaluating at step 4000\n"
          ]
        },
        {
          "name": "stderr",
          "output_type": "stream",
          "text": [
            "BLEU: 0.881 - ROUGE: 0.903 - F1: 0.915 - ACC: 0.888 - PREC: 0.907 - REC: 0.888: 100%|██████████| 1000/1000 [04:19<00:00,  3.85it/s]\n"
          ]
        },
        {
          "name": "stdout",
          "output_type": "stream",
          "text": [
            "\n",
            "Examples:\n",
            "\n",
            "Example 1:\n",
            "Ground Truth: baby back ribs, apple, salt, mustard, brown sugar, worcestershire, gin, chili\n",
            "Generated: fig, brie, honey\n",
            "\n",
            "Example 2:\n",
            "Ground Truth: sashimi, rice, mirin, oil, gin\n",
            "Generated: sashimi, rice, mirin, oil, gin\n",
            "\n",
            "Example 3:\n",
            "Ground Truth: seaweed, seeds, tomato, rice\n",
            "Generated: seaweed, seeds, tomato, rice\n",
            "Saving checkpoint at step 4000\n"
          ]
        },
        {
          "name": "stderr",
          "output_type": "stream",
          "text": [
            " 49%|████▉     | 4200/8521 [3:46:08<1:26:48,  1.21s/it, lr=0.00120, loss=0.0043]  "
          ]
        },
        {
          "name": "stdout",
          "output_type": "stream",
          "text": [
            "\n",
            "Evaluating at step 4200\n"
          ]
        },
        {
          "name": "stderr",
          "output_type": "stream",
          "text": [
            "BLEU: 0.879 - ROUGE: 0.902 - F1: 0.912 - ACC: 0.886 - PREC: 0.908 - REC: 0.886: 100%|██████████| 1000/1000 [04:23<00:00,  3.80it/s]\n"
          ]
        },
        {
          "name": "stdout",
          "output_type": "stream",
          "text": [
            "\n",
            "Examples:\n",
            "\n",
            "Example 1:\n",
            "Ground Truth: avocado, onion, jalapeno chilies, cilantro, salt, lime\n",
            "Generated: avocado, onion, jalapeno chilies, cilantro, salt, lime\n",
            "\n",
            "Example 2:\n",
            "Ground Truth: mayonnaise, dijon mustard, celery, lemon, old bay, lobster, lettuce, dog rolls\n",
            "Generated: mayonnaise, dijon mustard, celery, lemon, old bay, lobster, lettuce, dog rolls\n",
            "\n",
            "Example 3:\n",
            "Ground Truth: brown rice, oil, peas, carrot, garlic, egg, soy\n",
            "Generated: brown rice, oil, peas, carrot, garlic, egg, soy\n"
          ]
        },
        {
          "name": "stderr",
          "output_type": "stream",
          "text": [
            " 52%|█████▏    | 4400/8521 [3:54:33<1:22:45,  1.20s/it, lr=0.00112, loss=0.0201] "
          ]
        },
        {
          "name": "stdout",
          "output_type": "stream",
          "text": [
            "\n",
            "Evaluating at step 4400\n"
          ]
        },
        {
          "name": "stderr",
          "output_type": "stream",
          "text": [
            "BLEU: 0.865 - ROUGE: 0.892 - F1: 0.904 - ACC: 0.874 - PREC: 0.896 - REC: 0.874: 100%|██████████| 1000/1000 [04:33<00:00,  3.66it/s]\n"
          ]
        },
        {
          "name": "stdout",
          "output_type": "stream",
          "text": [
            "\n",
            "Examples:\n",
            "\n",
            "Example 1:\n",
            "Ground Truth: milk, sugar, vanilla\n",
            "Generated: milk, sugar, vanilla\n",
            "\n",
            "Example 2:\n",
            "Ground Truth: avocado, onion, jalapeno chilies, cilantro, salt, lime\n",
            "Generated: avocado, onion, jalapeno chilies, cilantro, salt, lime\n",
            "\n",
            "Example 3:\n",
            "Ground Truth: beans, onion, parsley, garlic, flour, salt, cumin, coriander, black pepper, cayenne pepper, cardamom, oil\n",
            "Generated: beans, onion, parsley, garlic, flour, salt, cumin, coriander, black pepper, cayenne pepper, cardamom, oil\n"
          ]
        },
        {
          "name": "stderr",
          "output_type": "stream",
          "text": [
            " 54%|█████▍    | 4600/8521 [4:03:35<1:27:12,  1.33s/it, lr=0.00104, loss=0.0486] "
          ]
        },
        {
          "name": "stdout",
          "output_type": "stream",
          "text": [
            "\n",
            "Evaluating at step 4600\n"
          ]
        },
        {
          "name": "stderr",
          "output_type": "stream",
          "text": [
            "BLEU: 0.873 - ROUGE: 0.896 - F1: 0.906 - ACC: 0.880 - PREC: 0.902 - REC: 0.880: 100%|██████████| 1000/1000 [04:48<00:00,  3.47it/s]\n"
          ]
        },
        {
          "name": "stdout",
          "output_type": "stream",
          "text": [
            "\n",
            "Examples:\n",
            "\n",
            "Example 1:\n",
            "Ground Truth: baby back ribs, apple, salt, mustard, brown sugar, worcestershire, gin, chili\n",
            "Generated: baby back ribs, apple, salt, mustard, brown sugar, worcestershire, gin, chili\n",
            "\n",
            "Example 2:\n",
            "Ground Truth: sugar, almond, sugar, egg\n",
            "Generated: sugar, almond, sugar, egg\n",
            "\n",
            "Example 3:\n",
            "Ground Truth: egg, tartar, egg, cloves\n",
            "Generated: egg, tartar, egg, cloves\n"
          ]
        },
        {
          "name": "stderr",
          "output_type": "stream",
          "text": [
            " 56%|█████▋    | 4800/8521 [4:12:52<1:22:58,  1.34s/it, lr=0.00095, loss=0.0127] "
          ]
        },
        {
          "name": "stdout",
          "output_type": "stream",
          "text": [
            "\n",
            "Evaluating at step 4800\n"
          ]
        },
        {
          "name": "stderr",
          "output_type": "stream",
          "text": [
            "BLEU: 0.879 - ROUGE: 0.905 - F1: 0.913 - ACC: 0.891 - PREC: 0.908 - REC: 0.891: 100%|██████████| 1000/1000 [04:27<00:00,  3.73it/s]\n"
          ]
        },
        {
          "name": "stdout",
          "output_type": "stream",
          "text": [
            "\n",
            "Examples:\n",
            "\n",
            "Example 1:\n",
            "Ground Truth: bacon, morningstar farms chick'n patties, fat, bread, lettuce, cheddar, tomato\n",
            "Generated: bacon, morningstar farms chick'n patties, fat, bread, lettuce, cheddar, tomato\n",
            "\n",
            "Example 2:\n",
            "Ground Truth: strawberries, sugar, whipping, vanilla, honey, biscuits\n",
            "Generated: strawberries, sugar, whipping, vanilla, honey, biscuits\n",
            "\n",
            "Example 3:\n",
            "Ground Truth: spaghetti, beef, pancetta, tomato, tomato, red wine, carrot, celery, onion, garlic, cheese, basil, oregano, bay, oil, salt, black pepper, cheese\n",
            "Generated: spaghetti, beef, pancetta, tomato, tomato, red wine, carrot, celery, onion, garlic, cheese, basil, oregano, bay, oil, salt, black pepper, cheese\n"
          ]
        },
        {
          "name": "stderr",
          "output_type": "stream",
          "text": [
            " 59%|█████▊    | 5000/8521 [4:21:31<1:14:18,  1.27s/it, lr=0.00087, loss=0.0186] "
          ]
        },
        {
          "name": "stdout",
          "output_type": "stream",
          "text": [
            "\n",
            "Evaluating at step 5000\n"
          ]
        },
        {
          "name": "stderr",
          "output_type": "stream",
          "text": [
            "BLEU: 0.866 - ROUGE: 0.893 - F1: 0.903 - ACC: 0.875 - PREC: 0.893 - REC: 0.875: 100%|██████████| 1000/1000 [04:21<00:00,  3.83it/s]\n"
          ]
        },
        {
          "name": "stdout",
          "output_type": "stream",
          "text": [
            "\n",
            "Examples:\n",
            "\n",
            "Example 1:\n",
            "Ground Truth: brown rice, oil, peas, carrot, garlic, egg, soy\n",
            "Generated: brown rice, oil, peas, carrot, garlic, egg, soy\n",
            "\n",
            "Example 2:\n",
            "Ground Truth: filet, oil, garlic, gin, salt, pepper\n",
            "Generated: filet, oil, garlic, gin, salt, pepper\n",
            "\n",
            "Example 3:\n",
            "Ground Truth: spaghetti, egg, cheese, bacon, garlic, salt, black pepper, parsley\n",
            "Generated: spaghetti, egg, cheese, bacon, garlic, salt, black pepper, parsley\n"
          ]
        },
        {
          "name": "stderr",
          "output_type": "stream",
          "text": [
            " 61%|██████    | 5200/8521 [4:30:24<1:15:03,  1.36s/it, lr=0.00079, loss=0.0044] "
          ]
        },
        {
          "name": "stdout",
          "output_type": "stream",
          "text": [
            "\n",
            "Evaluating at step 5200\n"
          ]
        },
        {
          "name": "stderr",
          "output_type": "stream",
          "text": [
            "BLEU: 0.864 - ROUGE: 0.896 - F1: 0.907 - ACC: 0.876 - PREC: 0.895 - REC: 0.876: 100%|██████████| 1000/1000 [04:47<00:00,  3.48it/s]\n"
          ]
        },
        {
          "name": "stdout",
          "output_type": "stream",
          "text": [
            "\n",
            "Examples:\n",
            "\n",
            "Example 1:\n",
            "Ground Truth: pork, onion, garlic, tomato, tomato, italian, fennel, black pepper, noodles, egg, cheese, cheese, cheese\n",
            "Generated: pork, onion, garlic, tomato, tomato, italian, fennel, black pepper, noodles, egg, cheese, cheese, cheese\n",
            "\n",
            "Example 2:\n",
            "Ground Truth: flour, egg, cold water, salt, konbu dashi, dashi, soy, octopus, onion, pie, cheese\n",
            "Generated: flour, egg, cold water, salt, konbu dashi, dashi, soy, octopus, onion, pie, cheese\n",
            "\n",
            "Example 3:\n",
            "Ground Truth: potato, egg, flour, salt\n",
            "Generated: potato, egg, flour, salt\n"
          ]
        },
        {
          "name": "stderr",
          "output_type": "stream",
          "text": [
            " 63%|██████▎   | 5400/8521 [4:39:40<1:09:13,  1.33s/it, lr=0.00071, loss=0.0072] "
          ]
        },
        {
          "name": "stdout",
          "output_type": "stream",
          "text": [
            "\n",
            "Evaluating at step 5400\n"
          ]
        },
        {
          "name": "stderr",
          "output_type": "stream",
          "text": [
            "BLEU: 0.863 - ROUGE: 0.890 - F1: 0.901 - ACC: 0.872 - PREC: 0.889 - REC: 0.872: 100%|██████████| 1000/1000 [04:49<00:00,  3.46it/s]\n"
          ]
        },
        {
          "name": "stdout",
          "output_type": "stream",
          "text": [
            "\n",
            "Examples:\n",
            "\n",
            "Example 1:\n",
            "Ground Truth: seaweed, seeds, tomato, rice\n",
            "Generated: seaweed, seeds, tomato, rice\n",
            "\n",
            "Example 2:\n",
            "Ground Truth: egg, tartar, egg, cloves\n",
            "Generated: egg, tartar, egg, cloves\n",
            "\n",
            "Example 3:\n",
            "Ground Truth: oil, cloves, tomato, mussels, white wine, parsley, bread\n",
            "Generated: oil, cloves, tomato, mussels, white wine, parsley, bread\n"
          ]
        },
        {
          "name": "stderr",
          "output_type": "stream",
          "text": [
            " 66%|██████▌   | 5600/8521 [4:48:39<1:01:05,  1.25s/it, lr=0.00063, loss=0.0060] "
          ]
        },
        {
          "name": "stdout",
          "output_type": "stream",
          "text": [
            "\n",
            "Evaluating at step 5600\n"
          ]
        },
        {
          "name": "stderr",
          "output_type": "stream",
          "text": [
            "BLEU: 0.879 - ROUGE: 0.908 - F1: 0.919 - ACC: 0.893 - PREC: 0.909 - REC: 0.893: 100%|██████████| 1000/1000 [04:26<00:00,  3.75it/s]\n"
          ]
        },
        {
          "name": "stdout",
          "output_type": "stream",
          "text": [
            "\n",
            "Examples:\n",
            "\n",
            "Example 1:\n",
            "Ground Truth: seaweed, seeds, tomato, rice\n",
            "Generated: seaweed, seeds, tomato, rice\n",
            "\n",
            "Example 2:\n",
            "Ground Truth: english muffin, bacon, egg, butter, lemon, cayenne pepper\n",
            "Generated: english muffin, bacon, egg, butter, lemon, cayenne pepper\n",
            "\n",
            "Example 3:\n",
            "Ground Truth: garlic, plain greek yogurt, cheese, worcestershire, dijon mustard, lemon, anchovy, salt, pepper, lettuce, croutons\n",
            "Generated: butter, flour, milk, cheese, thyme, nut, salt, pepper, bread, dijon mustard, bacon, egg\n",
            "Saving checkpoint at step 5600\n"
          ]
        },
        {
          "name": "stderr",
          "output_type": "stream",
          "text": [
            " 68%|██████▊   | 5800/8521 [4:59:30<56:45,  1.25s/it, lr=0.00056, loss=0.0797]    "
          ]
        },
        {
          "name": "stdout",
          "output_type": "stream",
          "text": [
            "\n",
            "Evaluating at step 5800\n"
          ]
        },
        {
          "name": "stderr",
          "output_type": "stream",
          "text": [
            "BLEU: 0.874 - ROUGE: 0.899 - F1: 0.910 - ACC: 0.883 - PREC: 0.900 - REC: 0.883: 100%|██████████| 1000/1000 [04:31<00:00,  3.69it/s]\n"
          ]
        },
        {
          "name": "stdout",
          "output_type": "stream",
          "text": [
            "\n",
            "Examples:\n",
            "\n",
            "Example 1:\n",
            "Ground Truth: sashimi, rice, mirin, oil, gin\n",
            "Generated: sashimi, rice, mirin, oil, gin\n",
            "\n",
            "Example 2:\n",
            "Ground Truth: scallop, cajun, oil, butter, cayenne pepper, salt, pepper, greens\n",
            "Generated: scallop, cajun, oil, butter, cayenne pepper, salt, pepper, greens\n",
            "\n",
            "Example 3:\n",
            "Ground Truth: filet, oil, garlic, gin, salt, pepper\n",
            "Generated: pork, orange, lime, black pepper, cumin, cayenne pepper, garlic, oregano, oil, onion, garlic, white wine\n"
          ]
        },
        {
          "name": "stderr",
          "output_type": "stream",
          "text": [
            " 70%|███████   | 6000/8521 [5:08:11<52:21,  1.25s/it, lr=0.00049, loss=0.0027]   "
          ]
        },
        {
          "name": "stdout",
          "output_type": "stream",
          "text": [
            "\n",
            "Evaluating at step 6000\n"
          ]
        },
        {
          "name": "stderr",
          "output_type": "stream",
          "text": [
            "BLEU: 0.877 - ROUGE: 0.902 - F1: 0.911 - ACC: 0.889 - PREC: 0.905 - REC: 0.889: 100%|██████████| 1000/1000 [04:32<00:00,  3.68it/s]\n"
          ]
        },
        {
          "name": "stdout",
          "output_type": "stream",
          "text": [
            "\n",
            "Examples:\n",
            "\n",
            "Example 1:\n",
            "Ground Truth: bacon, morningstar farms chick'n patties, fat, bread, lettuce, cheddar, tomato\n",
            "Generated: bacon, morningstar farms chick'n patties, fat, bread, lettuce, cheddar, tomato\n",
            "\n",
            "Example 2:\n",
            "Ground Truth: chickpea, garlic, tahini, lemon, oil, salt, parsley\n",
            "Generated: chickpea, garlic, tahini, lemon, oil, salt, parsley\n",
            "\n",
            "Example 3:\n",
            "Ground Truth: egg, tartar, egg, cloves\n",
            "Generated: egg, tartar, egg, cloves\n"
          ]
        },
        {
          "name": "stderr",
          "output_type": "stream",
          "text": [
            " 73%|███████▎  | 6200/8521 [5:16:54<48:13,  1.25s/it, lr=0.00042, loss=0.0070]   "
          ]
        },
        {
          "name": "stdout",
          "output_type": "stream",
          "text": [
            "\n",
            "Evaluating at step 6200\n"
          ]
        },
        {
          "name": "stderr",
          "output_type": "stream",
          "text": [
            "BLEU: 0.864 - ROUGE: 0.892 - F1: 0.903 - ACC: 0.874 - PREC: 0.891 - REC: 0.874: 100%|██████████| 1000/1000 [04:26<00:00,  3.75it/s]\n"
          ]
        },
        {
          "name": "stdout",
          "output_type": "stream",
          "text": [
            "\n",
            "Examples:\n",
            "\n",
            "Example 1:\n",
            "Ground Truth: oil, calamari, flour, masa harina, parsley, lemon, parsley, salt, lemon, mayonnaise\n",
            "Generated: oil, calamari, flour, masa harina, parsley, lemon, parsley, salt, lemon, mayonnaise\n",
            "\n",
            "Example 2:\n",
            "Ground Truth: milk, sugar, vanilla\n",
            "Generated: milk, sugar, vanilla\n",
            "\n",
            "Example 3:\n",
            "Ground Truth: vanilla, salt, egg, sugar, chocolate, chocolate\n",
            "Generated: strawberries, sugar, whipping, vanilla, honey, biscuits\n"
          ]
        },
        {
          "name": "stderr",
          "output_type": "stream",
          "text": [
            " 75%|███████▌  | 6400/8521 [5:25:30<44:25,  1.26s/it, lr=0.00035, loss=0.0505]   "
          ]
        },
        {
          "name": "stdout",
          "output_type": "stream",
          "text": [
            "\n",
            "Evaluating at step 6400\n"
          ]
        },
        {
          "name": "stderr",
          "output_type": "stream",
          "text": [
            "BLEU: 0.862 - ROUGE: 0.891 - F1: 0.902 - ACC: 0.872 - PREC: 0.890 - REC: 0.872: 100%|██████████| 1000/1000 [04:19<00:00,  3.85it/s]\n"
          ]
        },
        {
          "name": "stdout",
          "output_type": "stream",
          "text": [
            "\n",
            "Examples:\n",
            "\n",
            "Example 1:\n",
            "Ground Truth: baking powder, shortening, flour, milk, salt\n",
            "Generated: baking powder, shortening, flour, milk, salt\n",
            "\n",
            "Example 2:\n",
            "Ground Truth: cheese, pasta, cheese, cheese\n",
            "Generated: cheese, pasta, cheese, cheese\n",
            "\n",
            "Example 3:\n",
            "Ground Truth: flour, baking powder, sugar, butter, egg, cake, bacon, onion, tomato, cheese, chives, parsley, salt, black pepper, maple syrup, oil, butter\n",
            "Generated: flour, baking powder, sugar, butter, egg, cake, bacon, onion, tomato, cheese, chives, parsley, salt, black pepper, maple syrup, oil, butter\n"
          ]
        },
        {
          "name": "stderr",
          "output_type": "stream",
          "text": [
            " 77%|███████▋  | 6600/8521 [5:34:04<47:36,  1.49s/it, lr=0.00029, loss=0.0036]   "
          ]
        },
        {
          "name": "stdout",
          "output_type": "stream",
          "text": [
            "\n",
            "Evaluating at step 6600\n"
          ]
        },
        {
          "name": "stderr",
          "output_type": "stream",
          "text": [
            "BLEU: 0.878 - ROUGE: 0.907 - F1: 0.918 - ACC: 0.892 - PREC: 0.904 - REC: 0.892: 100%|██████████| 1000/1000 [04:49<00:00,  3.46it/s]\n"
          ]
        },
        {
          "name": "stdout",
          "output_type": "stream",
          "text": [
            "\n",
            "Examples:\n",
            "\n",
            "Example 1:\n",
            "Ground Truth: red snapper, lime, lemon, onion, tomato, serrano chilies, salt, oregano, pepper, cayenne pepper, cilantro, avocado, tortillas\n",
            "Generated: red snapper, lime, lemon, onion, tomato, serrano chilies, salt, oregano, pepper, cayenne pepper, cilantro, avocado, tortillas\n",
            "\n",
            "Example 2:\n",
            "Ground Truth: flour, egg, cold water, salt, konbu dashi, dashi, soy, octopus, onion, pie, cheese\n",
            "Generated: flour, egg, cold water, salt, konbu dashi, dashi, soy, octopus, onion, pie, cheese\n",
            "\n",
            "Example 3:\n",
            "Ground Truth: onion, garlic, beef, chili, salt, sugar, corn tortillas, salsa, cilantro, lime\n",
            "Generated: onion, garlic, beef, chili, salt, sugar, corn tortillas, salsa, cilantro, lime\n"
          ]
        },
        {
          "name": "stderr",
          "output_type": "stream",
          "text": [
            " 80%|███████▉  | 6800/8521 [5:43:21<38:01,  1.33s/it, lr=0.00024, loss=0.0039]   "
          ]
        },
        {
          "name": "stdout",
          "output_type": "stream",
          "text": [
            "\n",
            "Evaluating at step 6800\n"
          ]
        },
        {
          "name": "stderr",
          "output_type": "stream",
          "text": [
            "BLEU: 0.890 - ROUGE: 0.915 - F1: 0.924 - ACC: 0.900 - PREC: 0.912 - REC: 0.900: 100%|██████████| 1000/1000 [04:41<00:00,  3.56it/s]\n"
          ]
        },
        {
          "name": "stdout",
          "output_type": "stream",
          "text": [
            "\n",
            "Examples:\n",
            "\n",
            "Example 1:\n",
            "Ground Truth: sushi grade tuna, scallions, tomato, cilantro, gin, soy, oil, cucumber\n",
            "Generated: salmon, brown sugar, lemon, lemon, soy, water, oil\n",
            "\n",
            "Example 2:\n",
            "Ground Truth: ham, sugar, butter, cheese, egg, vanilla\n",
            "Generated: ham, sugar, butter, cheese, egg, vanilla\n",
            "\n",
            "Example 3:\n",
            "Ground Truth: onion, butter, oil, salt, sugar, flour, beef, vermouth, pepper, baguette, cloves, cheese\n",
            "Generated: onion, butter, oil, salt, sugar, flour, beef, vermouth, pepper, baguette, cloves, cheese\n",
            "Saving checkpoint at step 6800\n"
          ]
        },
        {
          "name": "stderr",
          "output_type": "stream",
          "text": [
            " 82%|████████▏ | 7000/8521 [5:54:12<31:39,  1.25s/it, lr=0.00019, loss=0.0481]    "
          ]
        },
        {
          "name": "stdout",
          "output_type": "stream",
          "text": [
            "\n",
            "Evaluating at step 7000\n"
          ]
        },
        {
          "name": "stderr",
          "output_type": "stream",
          "text": [
            "BLEU: 0.874 - ROUGE: 0.900 - F1: 0.909 - ACC: 0.885 - PREC: 0.902 - REC: 0.885: 100%|██████████| 1000/1000 [04:56<00:00,  3.37it/s]\n"
          ]
        },
        {
          "name": "stdout",
          "output_type": "stream",
          "text": [
            "\n",
            "Examples:\n",
            "\n",
            "Example 1:\n",
            "Ground Truth: crab, butter, shallot, salt, egg, worcestershire, paprika, black pepper, tartar, lemon, pepper, parsley, bread, bread\n",
            "Generated: crab, butter, shallot, salt, egg, worcestershire, paprika, black pepper, tartar, lemon, pepper, parsley, bread, bread\n",
            "\n",
            "Example 2:\n",
            "Ground Truth: oil, calamari, flour, masa harina, parsley, lemon, parsley, salt, lemon, mayonnaise\n",
            "Generated: oil, calamari, flour, masa harina, parsley, lemon, parsley, salt, lemon, mayonnaise\n",
            "\n",
            "Example 3:\n",
            "Ground Truth: oil, arborio rice, risotto, broth, butter, cheese\n",
            "Generated: oil, arborio rice, risotto, broth, butter, cheese\n"
          ]
        },
        {
          "name": "stderr",
          "output_type": "stream",
          "text": [
            " 84%|████████▍ | 7200/8521 [6:03:19<27:27,  1.25s/it, lr=0.00014, loss=0.0122]   "
          ]
        },
        {
          "name": "stdout",
          "output_type": "stream",
          "text": [
            "\n",
            "Evaluating at step 7200\n"
          ]
        },
        {
          "name": "stderr",
          "output_type": "stream",
          "text": [
            "BLEU: 0.867 - ROUGE: 0.895 - F1: 0.905 - ACC: 0.877 - PREC: 0.894 - REC: 0.877: 100%|██████████| 1000/1000 [04:33<00:00,  3.66it/s]\n"
          ]
        },
        {
          "name": "stdout",
          "output_type": "stream",
          "text": [
            "\n",
            "Examples:\n",
            "\n",
            "Example 1:\n",
            "Ground Truth: parsley, thyme, bay, lobster, butter, gin, bran, shallot, carrot, celery, garlic, onion, salt, tomato, white wine, fish, cayenne pepper, corn starch, egg, chives\n",
            "Generated: flour, egg, cold water, salt, konbu dashi, dashi, soy, octopus, onion, pie, cheese\n",
            "\n",
            "Example 2:\n",
            "Ground Truth: oil, potato, peas, cumin, salt, chili, chilli, garam masala, gin, coriander, flour, water, cold water, oil\n",
            "Generated: oil, potato, peas, cumin, salt, chili, chilli, garam masala, gin, coriander, flour, water, cold water, oil\n",
            "\n",
            "Example 3:\n",
            "Ground Truth: bacon, morningstar farms chick'n patties, fat, bread, lettuce, cheddar, tomato\n",
            "Generated: bread, cheddar, tomato, onion, oil\n"
          ]
        },
        {
          "name": "stderr",
          "output_type": "stream",
          "text": [
            " 87%|████████▋ | 7400/8521 [6:12:02<23:15,  1.24s/it, lr=0.00010, loss=0.0242]   "
          ]
        },
        {
          "name": "stdout",
          "output_type": "stream",
          "text": [
            "\n",
            "Evaluating at step 7400\n"
          ]
        },
        {
          "name": "stderr",
          "output_type": "stream",
          "text": [
            "BLEU: 0.874 - ROUGE: 0.901 - F1: 0.912 - ACC: 0.884 - PREC: 0.899 - REC: 0.884: 100%|██████████| 1000/1000 [04:25<00:00,  3.77it/s]\n"
          ]
        },
        {
          "name": "stdout",
          "output_type": "stream",
          "text": [
            "\n",
            "Examples:\n",
            "\n",
            "Example 1:\n",
            "Ground Truth: onion, garlic, beef, chili, salt, sugar, corn tortillas, salsa, cilantro, lime\n",
            "Generated: onion, garlic, beef, chili, salt, sugar, corn tortillas, salsa, cilantro, lime\n",
            "\n",
            "Example 2:\n",
            "Ground Truth: flour, baking powder, cinnamon, salt, sugar, egg, oil, apple, vanilla, carrot, cheese, butter, sugar, milk\n",
            "Generated: flour, baking powder, cinnamon, salt, sugar, egg, oil, apple, vanilla, carrot, cheese, butter, sugar, milk\n",
            "\n",
            "Example 3:\n",
            "Ground Truth: oil, potato, beer, flour, cod, pepper, chili, old bay, vinegar\n",
            "Generated: oil, potato, beer, flour, cod, pepper, chili, old bay, vinegar\n"
          ]
        },
        {
          "name": "stderr",
          "output_type": "stream",
          "text": [
            " 89%|████████▉ | 7600/8521 [6:20:38<19:13,  1.25s/it, lr=0.00007, loss=0.0042]   "
          ]
        },
        {
          "name": "stdout",
          "output_type": "stream",
          "text": [
            "\n",
            "Evaluating at step 7600\n"
          ]
        },
        {
          "name": "stderr",
          "output_type": "stream",
          "text": [
            "BLEU: 0.880 - ROUGE: 0.907 - F1: 0.916 - ACC: 0.890 - PREC: 0.905 - REC: 0.890: 100%|██████████| 1000/1000 [04:28<00:00,  3.73it/s]\n"
          ]
        },
        {
          "name": "stdout",
          "output_type": "stream",
          "text": [
            "\n",
            "Examples:\n",
            "\n",
            "Example 1:\n",
            "Ground Truth: oil, potato, peas, cumin, salt, chili, chilli, garam masala, gin, coriander, flour, water, cold water, oil\n",
            "Generated: baking powder, shortening, flour, milk, salt\n",
            "\n",
            "Example 2:\n",
            "Ground Truth: dogs, dog bun, chili, onion, cheddar, mayonnaise, mustard, relish\n",
            "Generated: dogs, dog bun, chili, onion, cheddar, mayonnaise, mustard, relish\n",
            "\n",
            "Example 3:\n",
            "Ground Truth: egg, sugar, mascarpone, brewed espresso, frangelico, rum, lady fingers, cocoa\n",
            "Generated: cake, butter, caster sugar, flour, soda, baking powder, vanilla essence, milk, icing, sugar\n"
          ]
        },
        {
          "name": "stderr",
          "output_type": "stream",
          "text": [
            " 92%|█████████▏| 7800/8521 [6:29:16<15:08,  1.26s/it, lr=0.00004, loss=0.0250]   "
          ]
        },
        {
          "name": "stdout",
          "output_type": "stream",
          "text": [
            "\n",
            "Evaluating at step 7800\n"
          ]
        },
        {
          "name": "stderr",
          "output_type": "stream",
          "text": [
            "BLEU: 0.864 - ROUGE: 0.889 - F1: 0.899 - ACC: 0.871 - PREC: 0.888 - REC: 0.871: 100%|██████████| 1000/1000 [04:26<00:00,  3.75it/s]\n"
          ]
        },
        {
          "name": "stdout",
          "output_type": "stream",
          "text": [
            "\n",
            "Examples:\n",
            "\n",
            "Example 1:\n",
            "Ground Truth: bread, cheddar, tomato, onion, oil\n",
            "Generated: bread, cheddar, tomato, onion, oil\n",
            "\n",
            "Example 2:\n",
            "Ground Truth: salt, flour, milk, fat, onion, celery, potato, clam, butter\n",
            "Generated: salt, flour, milk, fat, onion, celery, potato, clam, butter\n",
            "\n",
            "Example 3:\n",
            "Ground Truth: cake, butter, caster sugar, flour, soda, baking powder, vanilla essence, milk, icing, sugar\n",
            "Generated: cake, butter, caster sugar, flour, soda, baking powder, vanilla essence, milk, icing, sugar\n"
          ]
        },
        {
          "name": "stderr",
          "output_type": "stream",
          "text": [
            " 94%|█████████▍| 8000/8521 [6:37:53<10:52,  1.25s/it, lr=0.00002, loss=0.0034]   "
          ]
        },
        {
          "name": "stdout",
          "output_type": "stream",
          "text": [
            "\n",
            "Evaluating at step 8000\n"
          ]
        },
        {
          "name": "stderr",
          "output_type": "stream",
          "text": [
            "BLEU: 0.875 - ROUGE: 0.899 - F1: 0.907 - ACC: 0.882 - PREC: 0.897 - REC: 0.882: 100%|██████████| 1000/1000 [04:37<00:00,  3.60it/s]\n"
          ]
        },
        {
          "name": "stdout",
          "output_type": "stream",
          "text": [
            "\n",
            "Examples:\n",
            "\n",
            "Example 1:\n",
            "Ground Truth: shiitake, gin, dashi, noodles, egg, baby bok choy, radish, miso, soy, oil, scallions, pepper\n",
            "Generated: shiitake, gin, dashi, noodles, egg, baby bok choy, radish, miso, soy, oil, scallions, pepper\n",
            "\n",
            "Example 2:\n",
            "Ground Truth: plum, garlic, gin, balsamic vinegar, basil, salt, black pepper, baguette\n",
            "Generated: plum, garlic, gin, balsamic vinegar, basil, salt, black pepper, baguette\n",
            "\n",
            "Example 3:\n",
            "Ground Truth: pizza, cherry, olive, oregano, basil, salt, oil, cheese\n",
            "Generated: pizza, cherry, olive, oregano, basil, salt, oil, cheese\n"
          ]
        },
        {
          "name": "stderr",
          "output_type": "stream",
          "text": [
            " 96%|█████████▌| 8200/8521 [6:46:53<06:56,  1.30s/it, lr=0.00001, loss=0.0315]   "
          ]
        },
        {
          "name": "stdout",
          "output_type": "stream",
          "text": [
            "\n",
            "Evaluating at step 8200\n"
          ]
        },
        {
          "name": "stderr",
          "output_type": "stream",
          "text": [
            "BLEU: 0.882 - ROUGE: 0.908 - F1: 0.917 - ACC: 0.892 - PREC: 0.903 - REC: 0.892: 100%|██████████| 1000/1000 [04:37<00:00,  3.61it/s]\n"
          ]
        },
        {
          "name": "stdout",
          "output_type": "stream",
          "text": [
            "\n",
            "Examples:\n",
            "\n",
            "Example 1:\n",
            "Ground Truth: pork, onion, garlic, tomato, tomato, italian, fennel, black pepper, noodles, egg, cheese, cheese, cheese\n",
            "Generated: pork, onion, garlic, tomato, tomato, italian, fennel, black pepper, noodles, egg, cheese, cheese, cheese\n",
            "\n",
            "Example 2:\n",
            "Ground Truth: bread, milk, sugar, butter, salt, egg, vanilla\n",
            "Generated: bread, milk, sugar, butter, salt, egg, vanilla\n",
            "\n",
            "Example 3:\n",
            "Ground Truth: chicken, soy, garlic, sugar\n",
            "Generated: chicken, soy, garlic, sugar\n"
          ]
        },
        {
          "name": "stderr",
          "output_type": "stream",
          "text": [
            " 99%|█████████▊| 8400/8521 [6:55:52<02:38,  1.31s/it, lr=0.00000, loss=0.0080]  "
          ]
        },
        {
          "name": "stdout",
          "output_type": "stream",
          "text": [
            "\n",
            "Evaluating at step 8400\n"
          ]
        },
        {
          "name": "stderr",
          "output_type": "stream",
          "text": [
            "BLEU: 0.875 - ROUGE: 0.900 - F1: 0.911 - ACC: 0.882 - PREC: 0.891 - REC: 0.882: 100%|██████████| 1000/1000 [04:18<00:00,  3.87it/s]\n"
          ]
        },
        {
          "name": "stdout",
          "output_type": "stream",
          "text": [
            "\n",
            "Examples:\n",
            "\n",
            "Example 1:\n",
            "Ground Truth: sushi grade tuna, scallions, tomato, cilantro, gin, soy, oil, cucumber\n",
            "Generated: sushi grade tuna, scallions, tomato, cilantro, gin, soy, oil, cucumber\n",
            "\n",
            "Example 2:\n",
            "Ground Truth: milk, sugar, vanilla\n",
            "Generated: vanilla, salt, egg, sugar, chocolate, chocolate\n",
            "\n",
            "Example 3:\n",
            "Ground Truth: bread, cheddar, tomato, onion, oil\n",
            "Generated: bread, cheddar, tomato, onion, oil\n"
          ]
        },
        {
          "name": "stderr",
          "output_type": "stream",
          "text": [
            "100%|██████████| 8521/8521 [7:02:37<00:00,  2.98s/it, lr=0.00000, loss=0.0231]  \n"
          ]
        }
      ],
      "source": [
        "## UNCOMMENT TO TRAIN THE MODEL\n",
        "\n",
        "# BATCH_SIZE = 8\n",
        "# LEARNING_RATE = 0.002\n",
        "# EPOCHS = 1\n",
        "# MAX_EXAMPLES = -1  # -1 to use all training data\n",
        "# EVAL_STEPS = 200  # Evaluate every n steps\n",
        "# VALIDATION_BATCH_SIZE = 4\n",
        "# VALIDATION_EXAMPLES = 1000  # set to None to use all validation data\n",
        "\n",
        "# def count_dataset_entries(jsonl_file_path):\n",
        "#     with open(jsonl_file_path, 'r') as file:\n",
        "#         return sum(1 for _ in file)\n",
        "\n",
        "# train_entries = count_dataset_entries('food-ingredients-101/train.jsonl')\n",
        "\n",
        "# if MAX_EXAMPLES != -1:\n",
        "#     train_entries = min(train_entries, MAX_EXAMPLES)\n",
        "# print(\"Number of training examples:\", train_entries)\n",
        "\n",
        "# TRAIN_STEPS = train_entries // BATCH_SIZE\n",
        "\n",
        "# train_data_it = train_data_iterator()\n",
        "\n",
        "# sched_fn = big_vision.utils.create_learning_rate_schedule(\n",
        "#     total_steps=TRAIN_STEPS+1, base=LEARNING_RATE,\n",
        "#     decay_type=\"cosine\", warmup_percent=0.10)\n",
        "\n",
        "# pbar = tqdm(total=TRAIN_STEPS, dynamic_ncols=True)\n",
        "\n",
        "# loss_values = []\n",
        "# best_f1 = 0\n",
        "\n",
        "# # Logging setup\n",
        "# import wandb\n",
        "\n",
        "# wandb.init(project=\"paligemma-jax-local\", config={\n",
        "#     \"model\": \"paligemma-3b-pt-224\",\n",
        "#     \"batch_size\": BATCH_SIZE,\n",
        "#     \"learning_rate\": LEARNING_RATE,\n",
        "#     \"train_steps\": TRAIN_STEPS,\n",
        "#     \"seq_len\": SEQLEN,\n",
        "#     \"ckpt_dir\": ckpt_dir,\n",
        "#     \"decay_type\": \"cosine\",\n",
        "#     \"warmup_percent\": 0.10,\n",
        "#     \"epochs\": EPOCHS,\n",
        "# })\n",
        "\n",
        "# for step in range(1, TRAIN_STEPS+1):\n",
        "#     # Make list of N training examples.\n",
        "#     examples = [next(train_data_it) for _ in range(BATCH_SIZE)]\n",
        "\n",
        "#     # Convert list of examples into a dict of np.arrays and load onto devices.\n",
        "#     batch = jax.tree.map(lambda *x: np.stack(x), *examples)\n",
        "#     batch = big_vision.utils.reshard(batch, data_sharding)\n",
        "\n",
        "#     # Training step and report training loss\n",
        "#     learning_rate = sched_fn(step)\n",
        "#     params, loss = update_fn(params, batch, learning_rate)\n",
        "\n",
        "#     loss = jax.device_get(loss)\n",
        "#     loss_values.append(loss)\n",
        "\n",
        "#     # Log loss to wandb\n",
        "#     wandb.log({\"train_loss\": loss, \"learning_rate\": learning_rate})\n",
        "\n",
        "#     pbar.set_postfix({'lr': f'{learning_rate:.5f}', 'loss': f'{loss:.4f}'}, refresh=True)\n",
        "#     pbar.update()\n",
        "\n",
        "#     if (step % EVAL_STEPS) == 0:\n",
        "#         print(f\"\\nEvaluating at step {step}\")\n",
        "        \n",
        "#         # Calculate validation scores\n",
        "#         val_results = evaluate_model_batch(\n",
        "#             params, \n",
        "#             batch_size=VALIDATION_BATCH_SIZE, \n",
        "#             num_examples=VALIDATION_EXAMPLES,\n",
        "#             ordered=False,\n",
        "#             data_iterator=batch_val_score_iterator\n",
        "#         )\n",
        "        \n",
        "#         # Log validation scores to wandb\n",
        "#         wandb.log({\n",
        "#             \"val_bleu\": val_results['bleu'],\n",
        "#             \"val_rouge\": val_results['rouge'],\n",
        "#             \"val_f1\": val_results['ingredient_overlap'],\n",
        "#             \"val_accuracy\": val_results['accuracy'],\n",
        "#             \"val_precision\": val_results['precision'],\n",
        "#             \"val_recall\": val_results['recall']\n",
        "#         })\n",
        "\n",
        "#         # Print a few examples\n",
        "#         print(\"\\nExamples:\")\n",
        "#         for i, (ground_truth, generated_caption) in enumerate(val_results['examples'][:3]):\n",
        "#             print(f\"\\nExample {i+1}:\")\n",
        "#             print(f\"Ground Truth: {ground_truth}\")\n",
        "#             print(f\"Generated: {generated_caption}\")\n",
        "\n",
        "#         # Visual inspection of predictions (using the first validation iterator)\n",
        "#         # print(\"\\nVisual inspection of predictions:\")\n",
        "#         # html_out = \"\"\n",
        "#         # for image, caption in make_predictions(\n",
        "#         #     validation_data_iterator(), num_examples=4, batch_size=4):\n",
        "#         #     html_out += render_example(image, caption)\n",
        "#         # display(HTML(html_out))\n",
        "\n",
        "#         # Save checkpoint if the validation score improves\n",
        "#         current_f1 = val_results['ingredient_overlap']\n",
        "#         if current_f1 >= best_f1:\n",
        "#             print(f\"Saving checkpoint at step {step}\")\n",
        "#             ckpt = {\"params\": params}\n",
        "#             save_args = orbax_utils.save_args_from_target(ckpt)\n",
        "#             checkpoint_manager.save(\n",
        "#                 step, \n",
        "#                 ckpt, \n",
        "#                 save_kwargs={'save_args': save_args}\n",
        "#             )\n",
        "#             best_f1 = current_f1\n",
        "\n",
        "# pbar.close()"
      ]
    },
    {
      "cell_type": "markdown",
      "metadata": {},
      "source": [
        "#### Output"
      ]
    },
    {
      "cell_type": "markdown",
      "metadata": {},
      "source": [
        "\n",
        "Number of training examples: 68175\n",
        "  0%|          | 0/8521 [00:00<?, ?it/s]ERROR:wandb.jupyter:Failed to detect the name of this notebook, you can set it manually with the WANDB_NOTEBOOK_NAME environment variable to enable code saving.\n",
        "\u001b[34m\u001b[1mwandb\u001b[0m: Currently logged in as: \u001b[33mahirsch\u001b[0m (\u001b[33mhtwbe\u001b[0m). Use \u001b[1m`wandb login --relogin`\u001b[0m to force relogin\n",
        "\n",
        "Tracking run with wandb version 0.17.5\n",
        "Syncing run <strong><a href='https://wandb.ai/htwbe/paligemma-jax-local/runs/8mwhoi8g' target=\"_blank\">happy-forest-39</a></strong> to <a href='https://wandb.ai/htwbe/paligemma-jax-local' target=\"_blank\">Weights & Biases</a> (<a href='https://wandb.me/run' target=\"_blank\">docs</a>)<br/>\n",
        "View project at <a href='https://wandb.ai/htwbe/paligemma-jax-local' target=\"_blank\">https://wandb.ai/htwbe/paligemma-jax-local</a>\n",
        "View run at <a href='https://wandb.ai/htwbe/paligemma-jax-local/runs/8mwhoi8g' target=\"_blank\">https://wandb.ai/htwbe/paligemma-jax-local/runs/8mwhoi8g</a>\n",
        "\n",
        "\n",
        "2024-07-23 09:54:38.072793: W external/xla/xla/service/hlo_rematerialization.cc:3005] Can't reduce memory use below 5.69GiB (6109164802 bytes) by rematerialization; only reduced to 8.15GiB (8755312304 bytes), down from 8.15GiB (8755324592 bytes) originally\n",
        "  2%|▏         | 200/8521 [04:49<3:01:12,  1.31s/it, lr=0.00047, loss=2.2749]\n",
        "Evaluating at step 200\n",
        "BLEU: 0.016 - ROUGE: 0.133 - F1: 0.354 - ACC: 0.000 - PREC: 0.000 - REC: 0.000: 100%|██████████| 1000/1000 [15:13<00:00,  1.09it/s]\n",
        "\n",
        "Examples:\n",
        "\n",
        "Example 1:\n",
        "Ground Truth: grain, steak, soybean sprouts, spinach, cucumber, zucchini, carrot, garlic, scallions, soy, oil, seeds, salt, pepper, oil, egg, pepper, sugar, water\n",
        "Generated: beef, onion, tomato, lettuce, bun, ketchup, mustard, mayo, cheese, egg\n",
        "\n",
        "Example 2:\n",
        "Ground Truth: salt, edam, salt\n",
        "Generated: soy, soy, soy\n",
        "\n",
        "Example 3:\n",
        "Ground Truth: oil, garlic, black pepper, salt, sirloin, steak, worcestershire\n",
        "Generated: steak, potato, onion, garlic, salt, pepper, oil, butter, pepper, pepper, pepper, pepper, pepper, pepper, pepper, pepper, pepper, pepper, pepper, pepper, pepper, pepper, pepper, pepper, pepper, pepper, pepper, pepper, pepper, pepper, pepper, pepper, pepper, pepper, pepper, pepper, pepper, pepper, pepper, pepper, pepper, pepper, pepper, pepper, pepper, pepper, pepper, pepper, pepper, pepper, pepper, pepper, pepper, pepper, pepper, pepper, pepper, pepper, pepper, pepper, pepper, pepper, pepper, pepper,\n",
        "Saving checkpoint at step 200\n",
        "  5%|▍         | 400/8521 [26:04<2:42:26,  1.20s/it, lr=0.00094, loss=1.7718]   \n",
        "Evaluating at step 400\n",
        "BLEU: 0.034 - ROUGE: 0.230 - F1: 0.406 - ACC: 0.003 - PREC: 0.003 - REC: 0.003: 100%|██████████| 1000/1000 [09:39<00:00,  1.73it/s]\n",
        "\n",
        "Examples:\n",
        "\n",
        "Example 1:\n",
        "Ground Truth: baby back ribs, apple, salt, mustard, brown sugar, worcestershire, gin, chili\n",
        "Generated: ribs, sugar, oil, salt, pepper, garlic, onion, worcestershire, cola, beer, tomato, mustard, vinegar, paprika, cumin, cayenne pepper, black pepper, salt, sugar, oil, butter, parsley, lemon, lemon juice, parsley, parsley, parsley, parsley, parsley, parsley, parsley, parsley, parsley, parsley, parsley, parsley, parsley, parsley, parsley, parsley, parsley, parsley, parsley, parsley, parsley, parsley, parsley, parsley, parsley, parsley, parsley, parsley, parsley, parsley, parsley, parsley, parsley, parsley, parsley, parsley, parsley, parsley,\n",
        "\n",
        "Example 2:\n",
        "Ground Truth: onion, garlic, jalapeno chilies, chipotle, tomato, dijon mustard, vinegar, paprika, ketchup, worcestershire, brown sugar, bay leaf, salt, shoulder roast, buns\n",
        "Generated: ham, bread, cheese, mustard, mayo, salt, pepper\n",
        "\n",
        "Example 3:\n",
        "Ground Truth: red snapper, lime, lemon, onion, tomato, serrano chilies, salt, oregano, pepper, cayenne pepper, cilantro, avocado, tortillas\n",
        "Generated: fish, lime, salt, cilantro, onion, tomato, corn, potato, oil, lemon\n",
        "Saving checkpoint at step 400\n",
        "  7%|▋         | 600/8521 [41:33<2:38:06,  1.20s/it, lr=0.00141, loss=0.9410]   \n",
        "Evaluating at step 600\n",
        "BLEU: 0.141 - ROUGE: 0.342 - F1: 0.502 - ACC: 0.093 - PREC: 0.156 - REC: 0.093: 100%|██████████| 1000/1000 [09:47<00:00,  1.70it/s]\n",
        "\n",
        "Examples:\n",
        "\n",
        "Example 1:\n",
        "Ground Truth: sugar, vanilla, unflavored gelatin, cold water\n",
        "Generated: strawberries, sugar, whipping, vanilla\n",
        "\n",
        "Example 2:\n",
        "Ground Truth: oil, potato, peas, cumin, salt, chili, chilli, garam masala, gin, coriander, flour, water, cold water, oil\n",
        "Generated: onion, flour, baking powder, salt, egg, oil\n",
        "\n",
        "Example 3:\n",
        "Ground Truth: salmon, brown sugar, lemon, lemon, soy, water, oil\n",
        "Generated: fish, soy, oil, garlic, sugar, lemon, lemon, lemon\n",
        "Saving checkpoint at step 600\n",
        "  9%|▉         | 800/8521 [57:26<2:44:42,  1.28s/it, lr=0.00188, loss=0.1721]   \n",
        "Evaluating at step 800\n",
        "BLEU: 0.533 - ROUGE: 0.631 - F1: 0.686 - ACC: 0.507 - PREC: 0.705 - REC: 0.507: 100%|██████████| 1000/1000 [04:21<00:00,  3.82it/s]\n",
        "\n",
        "Examples:\n",
        "\n",
        "Example 1:\n",
        "Ground Truth: pork, orange, lime, black pepper, cumin, cayenne pepper, garlic, oregano, oil, onion, garlic, white wine\n",
        "Generated: pork, onion, garlic, tomato, tomato, soy, sugar, black pepper, garlic, ketchup, canola oil, egg, toothpick, worcestershire, salt, bread\n",
        "\n",
        "Example 2:\n",
        "Ground Truth: cocoa, brown sugar, milk, vanilla\n",
        "Generated: vanilla, salt, egg, sugar, ice\n",
        "\n",
        "Example 3:\n",
        "Ground Truth: fat, steak, gin, shallot, parsley, capers, worcestershire, egg, black pepper, crostini\n",
        "Generated: salmon, brown sugar, lemon, lemon, soy, water, oil\n",
        "Saving checkpoint at step 800\n",
        " 12%|█▏        | 1000/8521 [1:08:14<2:40:48,  1.28s/it, lr=0.00200, loss=0.1147]  \n",
        "Evaluating at step 1000\n",
        "BLEU: 0.690 - ROUGE: 0.742 - F1: 0.768 - ACC: 0.691 - PREC: 0.798 - REC: 0.691: 100%|██████████| 1000/1000 [04:20<00:00,  3.83it/s]\n",
        "\n",
        "Examples:\n",
        "\n",
        "Example 1:\n",
        "Ground Truth: tomato, cherry, onion, cucumber, pepper, lettuce, thyme, chives, feta, olive, oil, red wine, oregano, salt, black pepper\n",
        "Generated: tomato, cherry, onion, cucumber, pepper, lettuce, thyme, chives, feta, olive, oil, red wine, oregano, salt, black pepper\n",
        "\n",
        "Example 2:\n",
        "Ground Truth: flour, egg, cold water, salt, konbu dashi, dashi, soy, octopus, onion, pie, cheese\n",
        "Generated: foie gras, salt, milk\n",
        "\n",
        "Example 3:\n",
        "Ground Truth: nut, spray, sugar, butter, egg, flour, baking powder, baking powder, salt, nut, butter, glaze, sugar, fat, maple syrup, colored sprinkles\n",
        "Generated: nut, cinnamon, bread, butter, phyllo dough, sugar, honey, lemon, baklava\n",
        "Saving checkpoint at step 1000\n",
        " 14%|█▍        | 1200/8521 [1:18:41<2:36:16,  1.28s/it, lr=0.00199, loss=0.0921]   \n",
        "Evaluating at step 1200\n",
        "BLEU: 0.770 - ROUGE: 0.815 - F1: 0.839 - ACC: 0.777 - PREC: 0.874 - REC: 0.777: 100%|██████████| 1000/1000 [04:39<00:00,  3.57it/s]\n",
        "\n",
        "Examples:\n",
        "\n",
        "Example 1:\n",
        "Ground Truth: spaghetti, beef, pancetta, tomato, tomato, red wine, carrot, celery, onion, garlic, cheese, basil, oregano, bay, oil, salt, black pepper, cheese\n",
        "Generated: spaghetti, beef, pancetta, tomato, tomato, red wine, carrot, celery, onion, garlic, cheese, basil, oregano, bay, oil, salt, black pepper, cheese\n",
        "\n",
        "Example 2:\n",
        "Ground Truth: chicken, soy, garlic, sugar\n",
        "Generated: chicken, brown sugar, lemon, oregano, cloves, soy, oil, onion, garlic, corn starch, water, salt, pepper, bread\n",
        "\n",
        "Example 3:\n",
        "Ground Truth: butter, egg, sugar, whipping, vanilla, berries\n",
        "Generated: butter, egg, sugar, whipping, vanilla, berries\n",
        "Saving checkpoint at step 1200\n",
        " 16%|█▋        | 1400/8521 [1:29:20<2:31:53,  1.28s/it, lr=0.00197, loss=0.0138]   \n",
        "Evaluating at step 1400\n",
        "BLEU: 0.800 - ROUGE: 0.837 - F1: 0.855 - ACC: 0.804 - PREC: 0.887 - REC: 0.804: 100%|██████████| 1000/1000 [05:00<00:00,  3.33it/s]\n",
        "\n",
        "Examples:\n",
        "\n",
        "Example 1:\n",
        "Ground Truth: water, butter, salt, sugar, flour, egg, oil, cinnamon\n",
        "Generated: water, butter, salt, sugar, flour, egg, oil, cinnamon\n",
        "\n",
        "Example 2:\n",
        "Ground Truth: tomato, cherry, onion, cucumber, pepper, lettuce, thyme, chives, feta, olive, oil, red wine, oregano, salt, black pepper\n",
        "Generated: tomato, cherry, onion, cucumber, pepper, lettuce, thyme, chives, feta, olive, oil, red wine, oregano, salt, black pepper\n",
        "\n",
        "Example 3:\n",
        "Ground Truth: spaghetti, egg, cheese, bacon, garlic, salt, black pepper, parsley\n",
        "Generated: spaghetti, egg, cheese, bacon, garlic, salt, black pepper, parsley\n",
        "Saving checkpoint at step 1400\n",
        " 19%|█▉        | 1600/8521 [1:40:46<2:32:19,  1.32s/it, lr=0.00195, loss=0.0809]   \n",
        "Evaluating at step 1600\n",
        "BLEU: 0.838 - ROUGE: 0.868 - F1: 0.884 - ACC: 0.844 - PREC: 0.899 - REC: 0.844: 100%|██████████| 1000/1000 [04:59<00:00,  3.34it/s]\n",
        "\n",
        "Examples:\n",
        "\n",
        "Example 1:\n",
        "Ground Truth: butter, celery, shallot, oyster, black pepper, cayenne pepper\n",
        "Generated: butter, celery, shallot, oyster, black pepper, cayenne pepper\n",
        "\n",
        "Example 2:\n",
        "Ground Truth: noodles, miso, tofu, cress, onion, cilantro, pepper, miso, apple, gin, turmeric, water\n",
        "Generated: noodles, miso, tofu, cress, onion, cilantro, pepper, miso, apple, gin, turmeric, water\n",
        "\n",
        "Example 3:\n",
        "Ground Truth: chicken, black pepper, salt, curry, oil, onion, cloves, gin, broth, corn starch, sugar, peas, greek yogurt, cilantro\n",
        "Generated: grain, filet, mirin, oil, garlic, oxo, soy, sugar, pepper\n",
        "Saving checkpoint at step 1600\n",
        " 21%|██        | 1800/8521 [1:52:15<2:15:05,  1.21s/it, lr=0.00193, loss=0.1207]   \n",
        "Evaluating at step 1800\n",
        "BLEU: 0.812 - ROUGE: 0.843 - F1: 0.859 - ACC: 0.816 - PREC: 0.875 - REC: 0.816: 100%|██████████| 1000/1000 [04:38<00:00,  3.59it/s]\n",
        "\n",
        "Examples:\n",
        "\n",
        "Example 1:\n",
        "Ground Truth: bacon, morningstar farms chick'n patties, fat, bread, lettuce, cheddar, tomato\n",
        "Generated: bacon, morningstar farms chick'n patties, fat, bread, lettuce, cheddar, tomato\n",
        "\n",
        "Example 2:\n",
        "Ground Truth: spaghetti, egg, cheese, bacon, garlic, salt, black pepper, parsley\n",
        "Generated: spaghetti, beef, pancetta, tomato, tomato, red wine, carrot, celery, onion, garlic, cheese, basil, oregano, bay, oil, salt, black pepper, cheese\n",
        "\n",
        "Example 3:\n",
        "Ground Truth: balsamic vinegar, tomato, cheese, basil, oil, black pepper, salt\n",
        "Generated: egg, tartar, egg, cloves\n",
        " 23%|██▎       | 2000/8521 [2:00:56<2:10:53,  1.20s/it, lr=0.00189, loss=0.0269]  \n",
        "Evaluating at step 2000\n",
        "BLEU: 0.802 - ROUGE: 0.836 - F1: 0.853 - ACC: 0.812 - PREC: 0.869 - REC: 0.812: 100%|██████████| 1000/1000 [04:17<00:00,  3.89it/s]\n",
        "\n",
        "Examples:\n",
        "\n",
        "Example 1:\n",
        "Ground Truth: flour, baking powder, sugar, butter, egg, cake, bacon, onion, tomato, cheese, chives, parsley, salt, black pepper, maple syrup, oil, butter\n",
        "Generated: flour, baking powder, sugar, butter, egg, cake, bacon, onion, tomato, cheese, chives, parsley, salt, black pepper, maple syrup, oil, butter\n",
        "\n",
        "Example 2:\n",
        "Ground Truth: foie gras, salt, milk\n",
        "Generated: foie gras, salt, milk\n",
        "\n",
        "Example 3:\n",
        "Ground Truth: avocado, onion, jalapeno chilies, cilantro, salt, lime\n",
        "Generated: avocado, onion, jalapeno chilies, cilantro, salt, lime\n",
        " 26%|██▌       | 2200/8521 [2:09:38<2:18:50,  1.32s/it, lr=0.00185, loss=0.1019]  \n",
        "Evaluating at step 2200\n",
        "BLEU: 0.818 - ROUGE: 0.850 - F1: 0.866 - ACC: 0.826 - PREC: 0.877 - REC: 0.826: 100%|██████████| 1000/1000 [04:40<00:00,  3.57it/s]\n",
        "\n",
        "Examples:\n",
        "\n",
        "Example 1:\n",
        "Ground Truth: cocoa, brown sugar, milk, vanilla\n",
        "Generated: cocoa, brown sugar, milk, vanilla\n",
        "\n",
        "Example 2:\n",
        "Ground Truth: marrow, oxtail, beef, clove, anise, cinnamon, cardamom, black pepper, coriander, fennel, gin, onion, shallot, fish, sugar, noodles, scallions, eye round, cilantro, basil, beans, lime, bird chile, chile, hoisin\n",
        "Generated: marrow, oxtail, beef, clove, anise, cinnamon, cardamom, black pepper, coriander, fennel, gin, onion, shallot, fish, sugar, noodles, scallions, eye round, cilantro, basil, beans, lime, bird chile, chile, hoisin\n",
        "\n",
        "Example 3:\n",
        "Ground Truth: brown rice, oil, peas, carrot, garlic, egg, soy\n",
        "Generated: egg, oil, cheese, chilli, chives, dill, salmon\n",
        " 28%|██▊       | 2400/8521 [2:18:42<2:14:27,  1.32s/it, lr=0.00181, loss=0.0176]  \n",
        "Evaluating at step 2400\n",
        "BLEU: 0.840 - ROUGE: 0.871 - F1: 0.886 - ACC: 0.848 - PREC: 0.883 - REC: 0.848: 100%|██████████| 1000/1000 [04:40<00:00,  3.56it/s]\n",
        "\n",
        "Examples:\n",
        "\n",
        "Example 1:\n",
        "Ground Truth: spaghetti, beef, pancetta, tomato, tomato, red wine, carrot, celery, onion, garlic, cheese, basil, oregano, bay, oil, salt, black pepper, cheese\n",
        "Generated: spaghetti, beef, pancetta, tomato, tomato, red wine, carrot, celery, onion, garlic, cheese, basil, oregano, bay, oil, salt, black pepper, cheese\n",
        "\n",
        "Example 2:\n",
        "Ground Truth: snails, butter, mushroom, garlic, cheese, parsley\n",
        "Generated: foie gras, salt, milk\n",
        "\n",
        "Example 3:\n",
        "Ground Truth: sugar, vanilla, unflavored gelatin, cold water\n",
        "Generated: sugar, vanilla, unflavored gelatin, cold water\n",
        "Saving checkpoint at step 2400\n",
        " 31%|███       | 2600/8521 [2:29:41<2:10:16,  1.32s/it, lr=0.00175, loss=0.0151]   \n",
        "Evaluating at step 2600\n",
        "BLEU: 0.845 - ROUGE: 0.877 - F1: 0.891 - ACC: 0.856 - PREC: 0.895 - REC: 0.856: 100%|██████████| 1000/1000 [05:14<00:00,  3.18it/s]\n",
        "\n",
        "Examples:\n",
        "\n",
        "Example 1:\n",
        "Ground Truth: beef, lemon, gin, salt, pepper, baby arugula, asiago\n",
        "Generated: balsamic vinegar, tomato, cheese, basil, oil, black pepper, salt\n",
        "\n",
        "Example 2:\n",
        "Ground Truth: oil, potato, beer, flour, cod, pepper, chili, old bay, vinegar\n",
        "Generated: balsamic vinegar, tomato, cheese, basil, oil, black pepper, salt\n",
        "\n",
        "Example 3:\n",
        "Ground Truth: chips, beef, beans, salsa, cheese, onion, cilantro, jalapeno chilies, pickle\n",
        "Generated: chips, beef, beans, salsa, cheese, onion, cilantro, jalapeno chilies, pickle\n",
        "Saving checkpoint at step 2600\n",
        " 33%|███▎      | 2800/8521 [2:40:41<1:55:30,  1.21s/it, lr=0.00170, loss=0.0142]   \n",
        "Evaluating at step 2800\n",
        "BLEU: 0.830 - ROUGE: 0.861 - F1: 0.875 - ACC: 0.838 - PREC: 0.868 - REC: 0.838: 100%|██████████| 1000/1000 [04:17<00:00,  3.88it/s]\n",
        "\n",
        "Examples:\n",
        "\n",
        "Example 1:\n",
        "Ground Truth: milk, sugar, vanilla\n",
        "Generated: milk, sugar, vanilla\n",
        "\n",
        "Example 2:\n",
        "Ground Truth: spring roll wrappers, noodles, carrot, cucumber, onion, soy, oil, seeds\n",
        "Generated: spring roll wrappers, noodles, carrot, cucumber, onion, soy, oil, seeds\n",
        "\n",
        "Example 3:\n",
        "Ground Truth: chicken, black pepper, salt, curry, oil, onion, cloves, gin, broth, corn starch, sugar, peas, greek yogurt, cilantro\n",
        "Generated: chicken, black pepper, salt, curry, oil, onion, cloves, gin, broth, corn starch, sugar, peas, greek yogurt, cilantro\n",
        " 35%|███▌      | 3000/8521 [2:49:00<1:50:58,  1.21s/it, lr=0.00164, loss=0.0036]  \n",
        "Evaluating at step 3000\n",
        "BLEU: 0.868 - ROUGE: 0.896 - F1: 0.907 - ACC: 0.876 - PREC: 0.907 - REC: 0.876: 100%|██████████| 1000/1000 [04:18<00:00,  3.86it/s]\n",
        "\n",
        "Examples:\n",
        "\n",
        "Example 1:\n",
        "Ground Truth: rice, water, rice, sugar, salt\n",
        "Generated: rice, water, rice, sugar, salt\n",
        "\n",
        "Example 2:\n",
        "Ground Truth: sugar, cheese, almond, chocolate, liqueur, cannoli shells, cocoa, cocktail\n",
        "Generated: sugar, cheese, almond, chocolate, liqueur, cannoli shells, cocoa, cocktail\n",
        "\n",
        "Example 3:\n",
        "Ground Truth: chicken, soy, garlic, sugar\n",
        "Generated: chicken, soy, garlic, sugar\n",
        "Saving checkpoint at step 3000\n",
        " 38%|███▊      | 3200/8521 [2:59:27<1:47:25,  1.21s/it, lr=0.00157, loss=0.0371]   \n",
        "Evaluating at step 3200\n",
        "BLEU: 0.860 - ROUGE: 0.888 - F1: 0.899 - ACC: 0.868 - PREC: 0.897 - REC: 0.868: 100%|██████████| 1000/1000 [04:19<00:00,  3.86it/s]\n",
        "\n",
        "Examples:\n",
        "\n",
        "Example 1:\n",
        "Ground Truth: bread, milk, sugar, butter, salt, egg, vanilla\n",
        "Generated: bread, milk, sugar, butter, salt, egg, vanilla\n",
        "\n",
        "Example 2:\n",
        "Ground Truth: oil, arborio rice, risotto, broth, butter, cheese\n",
        "Generated: oil, arborio rice, risotto, broth, butter, cheese\n",
        "\n",
        "Example 3:\n",
        "Ground Truth: rice, water, rice, sugar, salt\n",
        "Generated: rice, water, rice, sugar, salt\n",
        " 40%|███▉      | 3400/8521 [3:07:48<1:42:33,  1.20s/it, lr=0.00150, loss=0.0052]  \n",
        "Evaluating at step 3400\n",
        "BLEU: 0.844 - ROUGE: 0.874 - F1: 0.889 - ACC: 0.851 - PREC: 0.881 - REC: 0.851: 100%|██████████| 1000/1000 [04:18<00:00,  3.87it/s]\n",
        "\n",
        "Examples:\n",
        "\n",
        "Example 1:\n",
        "Ground Truth: bacon, morningstar farms chick'n patties, fat, bread, lettuce, cheddar, tomato\n",
        "Generated: bacon, morningstar farms chick'n patties, fat, bread, lettuce, cheddar, tomato\n",
        "\n",
        "Example 2:\n",
        "Ground Truth: red snapper, lime, lemon, onion, tomato, serrano chilies, salt, oregano, pepper, cayenne pepper, cilantro, avocado, tortillas\n",
        "Generated: red snapper, lime, lemon, onion, tomato, serrano chilies, salt, oregano, pepper, cayenne pepper, cilantro, avocado, tortillas\n",
        "\n",
        "Example 3:\n",
        "Ground Truth: onion, flour, baking powder, egg, bread, oil\n",
        "Generated: crab, butter, shallot, salt, egg, worcestershire, paprika, black pepper, tartar, lemon, pepper, parsley, bread, bread\n",
        " 42%|████▏     | 3600/8521 [3:16:07<1:38:35,  1.20s/it, lr=0.00143, loss=0.0345]  \n",
        "Evaluating at step 3600\n",
        "BLEU: 0.873 - ROUGE: 0.898 - F1: 0.907 - ACC: 0.883 - PREC: 0.905 - REC: 0.883: 100%|██████████| 1000/1000 [04:17<00:00,  3.89it/s]\n",
        "\n",
        "Examples:\n",
        "\n",
        "Example 1:\n",
        "Ground Truth: paella, chorizo, chicken, onion, garlic, chicken, tomato, saffron, paprika, oil, parsley, salt, pepper, shrimp, mussels, clams, lemon\n",
        "Generated: paella, chorizo, chicken, onion, garlic, chicken, tomato, saffron, paprika, oil, parsley, salt, pepper, shrimp, mussels, clams, lemon\n",
        "\n",
        "Example 2:\n",
        "Ground Truth: english muffin, bacon, egg, butter, lemon, cayenne pepper\n",
        "Generated: english muffin, bacon, egg, butter, lemon, cayenne pepper\n",
        "\n",
        "Example 3:\n",
        "Ground Truth: seaweed, seeds, tomato, rice\n",
        "Generated: beef, lemon, gin, salt, pepper, baby arugula, asiago\n",
        "Saving checkpoint at step 3600\n",
        " 45%|████▍     | 3800/8521 [3:26:24<1:34:51,  1.21s/it, lr=0.00136, loss=0.0086]   \n",
        "Evaluating at step 3800\n",
        "BLEU: 0.872 - ROUGE: 0.902 - F1: 0.912 - ACC: 0.885 - PREC: 0.912 - REC: 0.885: 100%|██████████| 1000/1000 [04:18<00:00,  3.87it/s]\n",
        "\n",
        "Examples:\n",
        "\n",
        "Example 1:\n",
        "Ground Truth: beef, cheese, mayonnaise, ketchup, mustard, dill, black pepper, onion, tomato, lettuce\n",
        "Generated: beef, cheese, mayonnaise, ketchup, mustard, dill, black pepper, onion, tomato, lettuce\n",
        "\n",
        "Example 2:\n",
        "Ground Truth: dogs, dog bun, chili, onion, cheddar, mayonnaise, mustard, relish\n",
        "Generated: dogs, dog bun, chili, onion, cheddar, mayonnaise, mustard, relish\n",
        "\n",
        "Example 3:\n",
        "Ground Truth: onion, flour, baking powder, egg, bread, oil\n",
        "Generated: onion, flour, baking powder, egg, bread, oil\n",
        "Saving checkpoint at step 3800\n",
        " 47%|████▋     | 4000/8521 [3:36:45<1:30:52,  1.21s/it, lr=0.00128, loss=0.0223]   \n",
        "Evaluating at step 4000\n",
        "BLEU: 0.881 - ROUGE: 0.903 - F1: 0.915 - ACC: 0.888 - PREC: 0.907 - REC: 0.888: 100%|██████████| 1000/1000 [04:19<00:00,  3.85it/s]\n",
        "\n",
        "Examples:\n",
        "\n",
        "Example 1:\n",
        "Ground Truth: baby back ribs, apple, salt, mustard, brown sugar, worcestershire, gin, chili\n",
        "Generated: fig, brie, honey\n",
        "\n",
        "Example 2:\n",
        "Ground Truth: sashimi, rice, mirin, oil, gin\n",
        "Generated: sashimi, rice, mirin, oil, gin\n",
        "\n",
        "Example 3:\n",
        "Ground Truth: seaweed, seeds, tomato, rice\n",
        "Generated: seaweed, seeds, tomato, rice\n",
        "Saving checkpoint at step 4000\n",
        " 49%|████▉     | 4200/8521 [3:46:08<1:26:48,  1.21s/it, lr=0.00120, loss=0.0043]  \n",
        "Evaluating at step 4200\n",
        "BLEU: 0.879 - ROUGE: 0.902 - F1: 0.912 - ACC: 0.886 - PREC: 0.908 - REC: 0.886: 100%|██████████| 1000/1000 [04:23<00:00,  3.80it/s]\n",
        "\n",
        "Examples:\n",
        "\n",
        "Example 1:\n",
        "Ground Truth: avocado, onion, jalapeno chilies, cilantro, salt, lime\n",
        "Generated: avocado, onion, jalapeno chilies, cilantro, salt, lime\n",
        "\n",
        "Example 2:\n",
        "Ground Truth: mayonnaise, dijon mustard, celery, lemon, old bay, lobster, lettuce, dog rolls\n",
        "Generated: mayonnaise, dijon mustard, celery, lemon, old bay, lobster, lettuce, dog rolls\n",
        "\n",
        "Example 3:\n",
        "Ground Truth: brown rice, oil, peas, carrot, garlic, egg, soy\n",
        "Generated: brown rice, oil, peas, carrot, garlic, egg, soy\n",
        " 52%|█████▏    | 4400/8521 [3:54:33<1:22:45,  1.20s/it, lr=0.00112, loss=0.0201] \n",
        "Evaluating at step 4400\n",
        "BLEU: 0.865 - ROUGE: 0.892 - F1: 0.904 - ACC: 0.874 - PREC: 0.896 - REC: 0.874: 100%|██████████| 1000/1000 [04:33<00:00,  3.66it/s]\n",
        "\n",
        "Examples:\n",
        "\n",
        "Example 1:\n",
        "Ground Truth: milk, sugar, vanilla\n",
        "Generated: milk, sugar, vanilla\n",
        "\n",
        "Example 2:\n",
        "Ground Truth: avocado, onion, jalapeno chilies, cilantro, salt, lime\n",
        "Generated: avocado, onion, jalapeno chilies, cilantro, salt, lime\n",
        "\n",
        "Example 3:\n",
        "Ground Truth: beans, onion, parsley, garlic, flour, salt, cumin, coriander, black pepper, cayenne pepper, cardamom, oil\n",
        "Generated: beans, onion, parsley, garlic, flour, salt, cumin, coriander, black pepper, cayenne pepper, cardamom, oil\n",
        " 54%|█████▍    | 4600/8521 [4:03:35<1:27:12,  1.33s/it, lr=0.00104, loss=0.0486] \n",
        "Evaluating at step 4600\n",
        "BLEU: 0.873 - ROUGE: 0.896 - F1: 0.906 - ACC: 0.880 - PREC: 0.902 - REC: 0.880: 100%|██████████| 1000/1000 [04:48<00:00,  3.47it/s]\n",
        "\n",
        "Examples:\n",
        "\n",
        "Example 1:\n",
        "Ground Truth: baby back ribs, apple, salt, mustard, brown sugar, worcestershire, gin, chili\n",
        "Generated: baby back ribs, apple, salt, mustard, brown sugar, worcestershire, gin, chili\n",
        "\n",
        "Example 2:\n",
        "Ground Truth: sugar, almond, sugar, egg\n",
        "Generated: sugar, almond, sugar, egg\n",
        "\n",
        "Example 3:\n",
        "Ground Truth: egg, tartar, egg, cloves\n",
        "Generated: egg, tartar, egg, cloves\n",
        " 56%|█████▋    | 4800/8521 [4:12:52<1:22:58,  1.34s/it, lr=0.00095, loss=0.0127] \n",
        "Evaluating at step 4800\n",
        "BLEU: 0.879 - ROUGE: 0.905 - F1: 0.913 - ACC: 0.891 - PREC: 0.908 - REC: 0.891: 100%|██████████| 1000/1000 [04:27<00:00,  3.73it/s]\n",
        "\n",
        "Examples:\n",
        "\n",
        "Example 1:\n",
        "Ground Truth: bacon, morningstar farms chick'n patties, fat, bread, lettuce, cheddar, tomato\n",
        "Generated: bacon, morningstar farms chick'n patties, fat, bread, lettuce, cheddar, tomato\n",
        "\n",
        "Example 2:\n",
        "Ground Truth: strawberries, sugar, whipping, vanilla, honey, biscuits\n",
        "Generated: strawberries, sugar, whipping, vanilla, honey, biscuits\n",
        "\n",
        "Example 3:\n",
        "Ground Truth: spaghetti, beef, pancetta, tomato, tomato, red wine, carrot, celery, onion, garlic, cheese, basil, oregano, bay, oil, salt, black pepper, cheese\n",
        "Generated: spaghetti, beef, pancetta, tomato, tomato, red wine, carrot, celery, onion, garlic, cheese, basil, oregano, bay, oil, salt, black pepper, cheese\n",
        " 59%|█████▊    | 5000/8521 [4:21:31<1:14:18,  1.27s/it, lr=0.00087, loss=0.0186] \n",
        "Evaluating at step 5000\n",
        "BLEU: 0.866 - ROUGE: 0.893 - F1: 0.903 - ACC: 0.875 - PREC: 0.893 - REC: 0.875: 100%|██████████| 1000/1000 [04:21<00:00,  3.83it/s]\n",
        "\n",
        "Examples:\n",
        "\n",
        "Example 1:\n",
        "Ground Truth: brown rice, oil, peas, carrot, garlic, egg, soy\n",
        "Generated: brown rice, oil, peas, carrot, garlic, egg, soy\n",
        "\n",
        "Example 2:\n",
        "Ground Truth: filet, oil, garlic, gin, salt, pepper\n",
        "Generated: filet, oil, garlic, gin, salt, pepper\n",
        "\n",
        "Example 3:\n",
        "Ground Truth: spaghetti, egg, cheese, bacon, garlic, salt, black pepper, parsley\n",
        "Generated: spaghetti, egg, cheese, bacon, garlic, salt, black pepper, parsley\n",
        " 61%|██████    | 5200/8521 [4:30:24<1:15:03,  1.36s/it, lr=0.00079, loss=0.0044] \n",
        "Evaluating at step 5200\n",
        "BLEU: 0.864 - ROUGE: 0.896 - F1: 0.907 - ACC: 0.876 - PREC: 0.895 - REC: 0.876: 100%|██████████| 1000/1000 [04:47<00:00,  3.48it/s]\n",
        "\n",
        "Examples:\n",
        "\n",
        "Example 1:\n",
        "Ground Truth: pork, onion, garlic, tomato, tomato, italian, fennel, black pepper, noodles, egg, cheese, cheese, cheese\n",
        "Generated: pork, onion, garlic, tomato, tomato, italian, fennel, black pepper, noodles, egg, cheese, cheese, cheese\n",
        "\n",
        "Example 2:\n",
        "Ground Truth: flour, egg, cold water, salt, konbu dashi, dashi, soy, octopus, onion, pie, cheese\n",
        "Generated: flour, egg, cold water, salt, konbu dashi, dashi, soy, octopus, onion, pie, cheese\n",
        "\n",
        "Example 3:\n",
        "Ground Truth: potato, egg, flour, salt\n",
        "Generated: potato, egg, flour, salt\n",
        " 63%|██████▎   | 5400/8521 [4:39:40<1:09:13,  1.33s/it, lr=0.00071, loss=0.0072] \n",
        "Evaluating at step 5400\n",
        "BLEU: 0.863 - ROUGE: 0.890 - F1: 0.901 - ACC: 0.872 - PREC: 0.889 - REC: 0.872: 100%|██████████| 1000/1000 [04:49<00:00,  3.46it/s]\n",
        "\n",
        "Examples:\n",
        "\n",
        "Example 1:\n",
        "Ground Truth: seaweed, seeds, tomato, rice\n",
        "Generated: seaweed, seeds, tomato, rice\n",
        "\n",
        "Example 2:\n",
        "Ground Truth: egg, tartar, egg, cloves\n",
        "Generated: egg, tartar, egg, cloves\n",
        "\n",
        "Example 3:\n",
        "Ground Truth: oil, cloves, tomato, mussels, white wine, parsley, bread\n",
        "Generated: oil, cloves, tomato, mussels, white wine, parsley, bread\n",
        " 66%|██████▌   | 5600/8521 [4:48:39<1:01:05,  1.25s/it, lr=0.00063, loss=0.0060] \n",
        "Evaluating at step 5600\n",
        "BLEU: 0.879 - ROUGE: 0.908 - F1: 0.919 - ACC: 0.893 - PREC: 0.909 - REC: 0.893: 100%|██████████| 1000/1000 [04:26<00:00,  3.75it/s]\n",
        "\n",
        "Examples:\n",
        "\n",
        "Example 1:\n",
        "Ground Truth: seaweed, seeds, tomato, rice\n",
        "Generated: seaweed, seeds, tomato, rice\n",
        "\n",
        "Example 2:\n",
        "Ground Truth: english muffin, bacon, egg, butter, lemon, cayenne pepper\n",
        "Generated: english muffin, bacon, egg, butter, lemon, cayenne pepper\n",
        "\n",
        "Example 3:\n",
        "Ground Truth: garlic, plain greek yogurt, cheese, worcestershire, dijon mustard, lemon, anchovy, salt, pepper, lettuce, croutons\n",
        "Generated: butter, flour, milk, cheese, thyme, nut, salt, pepper, bread, dijon mustard, bacon, egg\n",
        "Saving checkpoint at step 5600\n",
        " 68%|██████▊   | 5800/8521 [4:59:30<56:45,  1.25s/it, lr=0.00056, loss=0.0797]    \n",
        "Evaluating at step 5800\n",
        "BLEU: 0.874 - ROUGE: 0.899 - F1: 0.910 - ACC: 0.883 - PREC: 0.900 - REC: 0.883: 100%|██████████| 1000/1000 [04:31<00:00,  3.69it/s]\n",
        "\n",
        "Examples:\n",
        "\n",
        "Example 1:\n",
        "Ground Truth: sashimi, rice, mirin, oil, gin\n",
        "Generated: sashimi, rice, mirin, oil, gin\n",
        "\n",
        "Example 2:\n",
        "Ground Truth: scallop, cajun, oil, butter, cayenne pepper, salt, pepper, greens\n",
        "Generated: scallop, cajun, oil, butter, cayenne pepper, salt, pepper, greens\n",
        "\n",
        "Example 3:\n",
        "Ground Truth: filet, oil, garlic, gin, salt, pepper\n",
        "Generated: pork, orange, lime, black pepper, cumin, cayenne pepper, garlic, oregano, oil, onion, garlic, white wine\n",
        " 70%|███████   | 6000/8521 [5:08:11<52:21,  1.25s/it, lr=0.00049, loss=0.0027]   \n",
        "Evaluating at step 6000\n",
        "BLEU: 0.877 - ROUGE: 0.902 - F1: 0.911 - ACC: 0.889 - PREC: 0.905 - REC: 0.889: 100%|██████████| 1000/1000 [04:32<00:00,  3.68it/s]\n",
        "\n",
        "Examples:\n",
        "\n",
        "Example 1:\n",
        "Ground Truth: bacon, morningstar farms chick'n patties, fat, bread, lettuce, cheddar, tomato\n",
        "Generated: bacon, morningstar farms chick'n patties, fat, bread, lettuce, cheddar, tomato\n",
        "\n",
        "Example 2:\n",
        "Ground Truth: chickpea, garlic, tahini, lemon, oil, salt, parsley\n",
        "Generated: chickpea, garlic, tahini, lemon, oil, salt, parsley\n",
        "\n",
        "Example 3:\n",
        "Ground Truth: egg, tartar, egg, cloves\n",
        "Generated: egg, tartar, egg, cloves\n",
        " 73%|███████▎  | 6200/8521 [5:16:54<48:13,  1.25s/it, lr=0.00042, loss=0.0070]   \n",
        "Evaluating at step 6200\n",
        "BLEU: 0.864 - ROUGE: 0.892 - F1: 0.903 - ACC: 0.874 - PREC: 0.891 - REC: 0.874: 100%|██████████| 1000/1000 [04:26<00:00,  3.75it/s]\n",
        "\n",
        "Examples:\n",
        "\n",
        "Example 1:\n",
        "Ground Truth: oil, calamari, flour, masa harina, parsley, lemon, parsley, salt, lemon, mayonnaise\n",
        "Generated: oil, calamari, flour, masa harina, parsley, lemon, parsley, salt, lemon, mayonnaise\n",
        "\n",
        "Example 2:\n",
        "Ground Truth: milk, sugar, vanilla\n",
        "Generated: milk, sugar, vanilla\n",
        "\n",
        "Example 3:\n",
        "Ground Truth: vanilla, salt, egg, sugar, chocolate, chocolate\n",
        "Generated: strawberries, sugar, whipping, vanilla, honey, biscuits\n",
        " 75%|███████▌  | 6400/8521 [5:25:30<44:25,  1.26s/it, lr=0.00035, loss=0.0505]   \n",
        "Evaluating at step 6400\n",
        "BLEU: 0.862 - ROUGE: 0.891 - F1: 0.902 - ACC: 0.872 - PREC: 0.890 - REC: 0.872: 100%|██████████| 1000/1000 [04:19<00:00,  3.85it/s]\n",
        "\n",
        "Examples:\n",
        "\n",
        "Example 1:\n",
        "Ground Truth: baking powder, shortening, flour, milk, salt\n",
        "Generated: baking powder, shortening, flour, milk, salt\n",
        "\n",
        "Example 2:\n",
        "Ground Truth: cheese, pasta, cheese, cheese\n",
        "Generated: cheese, pasta, cheese, cheese\n",
        "\n",
        "Example 3:\n",
        "Ground Truth: flour, baking powder, sugar, butter, egg, cake, bacon, onion, tomato, cheese, chives, parsley, salt, black pepper, maple syrup, oil, butter\n",
        "Generated: flour, baking powder, sugar, butter, egg, cake, bacon, onion, tomato, cheese, chives, parsley, salt, black pepper, maple syrup, oil, butter\n",
        " 77%|███████▋  | 6600/8521 [5:34:04<47:36,  1.49s/it, lr=0.00029, loss=0.0036]   \n",
        "Evaluating at step 6600\n",
        "BLEU: 0.878 - ROUGE: 0.907 - F1: 0.918 - ACC: 0.892 - PREC: 0.904 - REC: 0.892: 100%|██████████| 1000/1000 [04:49<00:00,  3.46it/s]\n",
        "\n",
        "Examples:\n",
        "\n",
        "Example 1:\n",
        "Ground Truth: red snapper, lime, lemon, onion, tomato, serrano chilies, salt, oregano, pepper, cayenne pepper, cilantro, avocado, tortillas\n",
        "Generated: red snapper, lime, lemon, onion, tomato, serrano chilies, salt, oregano, pepper, cayenne pepper, cilantro, avocado, tortillas\n",
        "\n",
        "Example 2:\n",
        "Ground Truth: flour, egg, cold water, salt, konbu dashi, dashi, soy, octopus, onion, pie, cheese\n",
        "Generated: flour, egg, cold water, salt, konbu dashi, dashi, soy, octopus, onion, pie, cheese\n",
        "\n",
        "Example 3:\n",
        "Ground Truth: onion, garlic, beef, chili, salt, sugar, corn tortillas, salsa, cilantro, lime\n",
        "Generated: onion, garlic, beef, chili, salt, sugar, corn tortillas, salsa, cilantro, lime\n",
        " 80%|███████▉  | 6800/8521 [5:43:21<38:01,  1.33s/it, lr=0.00024, loss=0.0039]   \n",
        "Evaluating at step 6800\n",
        "BLEU: 0.890 - ROUGE: 0.915 - F1: 0.924 - ACC: 0.900 - PREC: 0.912 - REC: 0.900: 100%|██████████| 1000/1000 [04:41<00:00,  3.56it/s]\n",
        "\n",
        "Examples:\n",
        "\n",
        "Example 1:\n",
        "Ground Truth: sushi grade tuna, scallions, tomato, cilantro, gin, soy, oil, cucumber\n",
        "Generated: salmon, brown sugar, lemon, lemon, soy, water, oil\n",
        "\n",
        "Example 2:\n",
        "Ground Truth: ham, sugar, butter, cheese, egg, vanilla\n",
        "Generated: ham, sugar, butter, cheese, egg, vanilla\n",
        "\n",
        "Example 3:\n",
        "Ground Truth: onion, butter, oil, salt, sugar, flour, beef, vermouth, pepper, baguette, cloves, cheese\n",
        "Generated: onion, butter, oil, salt, sugar, flour, beef, vermouth, pepper, baguette, cloves, cheese\n",
        "Saving checkpoint at step 6800\n",
        " 82%|████████▏ | 7000/8521 [5:54:12<31:39,  1.25s/it, lr=0.00019, loss=0.0481]    \n",
        "Evaluating at step 7000\n",
        "BLEU: 0.874 - ROUGE: 0.900 - F1: 0.909 - ACC: 0.885 - PREC: 0.902 - REC: 0.885: 100%|██████████| 1000/1000 [04:56<00:00,  3.37it/s]\n",
        "\n",
        "Examples:\n",
        "\n",
        "Example 1:\n",
        "Ground Truth: crab, butter, shallot, salt, egg, worcestershire, paprika, black pepper, tartar, lemon, pepper, parsley, bread, bread\n",
        "Generated: crab, butter, shallot, salt, egg, worcestershire, paprika, black pepper, tartar, lemon, pepper, parsley, bread, bread\n",
        "\n",
        "Example 2:\n",
        "Ground Truth: oil, calamari, flour, masa harina, parsley, lemon, parsley, salt, lemon, mayonnaise\n",
        "Generated: oil, calamari, flour, masa harina, parsley, lemon, parsley, salt, lemon, mayonnaise\n",
        "\n",
        "Example 3:\n",
        "Ground Truth: oil, arborio rice, risotto, broth, butter, cheese\n",
        "Generated: oil, arborio rice, risotto, broth, butter, cheese\n",
        " 84%|████████▍ | 7200/8521 [6:03:19<27:27,  1.25s/it, lr=0.00014, loss=0.0122]   \n",
        "Evaluating at step 7200\n",
        "BLEU: 0.867 - ROUGE: 0.895 - F1: 0.905 - ACC: 0.877 - PREC: 0.894 - REC: 0.877: 100%|██████████| 1000/1000 [04:33<00:00,  3.66it/s]\n",
        "\n",
        "Examples:\n",
        "\n",
        "Example 1:\n",
        "Ground Truth: parsley, thyme, bay, lobster, butter, gin, bran, shallot, carrot, celery, garlic, onion, salt, tomato, white wine, fish, cayenne pepper, corn starch, egg, chives\n",
        "Generated: flour, egg, cold water, salt, konbu dashi, dashi, soy, octopus, onion, pie, cheese\n",
        "\n",
        "Example 2:\n",
        "Ground Truth: oil, potato, peas, cumin, salt, chili, chilli, garam masala, gin, coriander, flour, water, cold water, oil\n",
        "Generated: oil, potato, peas, cumin, salt, chili, chilli, garam masala, gin, coriander, flour, water, cold water, oil\n",
        "\n",
        "Example 3:\n",
        "Ground Truth: bacon, morningstar farms chick'n patties, fat, bread, lettuce, cheddar, tomato\n",
        "Generated: bread, cheddar, tomato, onion, oil\n",
        " 87%|████████▋ | 7400/8521 [6:12:02<23:15,  1.24s/it, lr=0.00010, loss=0.0242]   \n",
        "Evaluating at step 7400\n",
        "BLEU: 0.874 - ROUGE: 0.901 - F1: 0.912 - ACC: 0.884 - PREC: 0.899 - REC: 0.884: 100%|██████████| 1000/1000 [04:25<00:00,  3.77it/s]\n",
        "\n",
        "Examples:\n",
        "\n",
        "Example 1:\n",
        "Ground Truth: onion, garlic, beef, chili, salt, sugar, corn tortillas, salsa, cilantro, lime\n",
        "Generated: onion, garlic, beef, chili, salt, sugar, corn tortillas, salsa, cilantro, lime\n",
        "\n",
        "Example 2:\n",
        "Ground Truth: flour, baking powder, cinnamon, salt, sugar, egg, oil, apple, vanilla, carrot, cheese, butter, sugar, milk\n",
        "Generated: flour, baking powder, cinnamon, salt, sugar, egg, oil, apple, vanilla, carrot, cheese, butter, sugar, milk\n",
        "\n",
        "Example 3:\n",
        "Ground Truth: oil, potato, beer, flour, cod, pepper, chili, old bay, vinegar\n",
        "Generated: oil, potato, beer, flour, cod, pepper, chili, old bay, vinegar\n",
        " 89%|████████▉ | 7600/8521 [6:20:38<19:13,  1.25s/it, lr=0.00007, loss=0.0042]   \n",
        "Evaluating at step 7600\n",
        "BLEU: 0.880 - ROUGE: 0.907 - F1: 0.916 - ACC: 0.890 - PREC: 0.905 - REC: 0.890: 100%|██████████| 1000/1000 [04:28<00:00,  3.73it/s]\n",
        "\n",
        "Examples:\n",
        "\n",
        "Example 1:\n",
        "Ground Truth: oil, potato, peas, cumin, salt, chili, chilli, garam masala, gin, coriander, flour, water, cold water, oil\n",
        "Generated: baking powder, shortening, flour, milk, salt\n",
        "\n",
        "Example 2:\n",
        "Ground Truth: dogs, dog bun, chili, onion, cheddar, mayonnaise, mustard, relish\n",
        "Generated: dogs, dog bun, chili, onion, cheddar, mayonnaise, mustard, relish\n",
        "\n",
        "Example 3:\n",
        "Ground Truth: egg, sugar, mascarpone, brewed espresso, frangelico, rum, lady fingers, cocoa\n",
        "Generated: cake, butter, caster sugar, flour, soda, baking powder, vanilla essence, milk, icing, sugar\n",
        " 92%|█████████▏| 7800/8521 [6:29:16<15:08,  1.26s/it, lr=0.00004, loss=0.0250]   \n",
        "Evaluating at step 7800\n",
        "BLEU: 0.864 - ROUGE: 0.889 - F1: 0.899 - ACC: 0.871 - PREC: 0.888 - REC: 0.871: 100%|██████████| 1000/1000 [04:26<00:00,  3.75it/s]\n",
        "\n",
        "Examples:\n",
        "\n",
        "Example 1:\n",
        "Ground Truth: bread, cheddar, tomato, onion, oil\n",
        "Generated: bread, cheddar, tomato, onion, oil\n",
        "\n",
        "Example 2:\n",
        "Ground Truth: salt, flour, milk, fat, onion, celery, potato, clam, butter\n",
        "Generated: salt, flour, milk, fat, onion, celery, potato, clam, butter\n",
        "\n",
        "Example 3:\n",
        "Ground Truth: cake, butter, caster sugar, flour, soda, baking powder, vanilla essence, milk, icing, sugar\n",
        "Generated: cake, butter, caster sugar, flour, soda, baking powder, vanilla essence, milk, icing, sugar\n",
        " 94%|█████████▍| 8000/8521 [6:37:53<10:52,  1.25s/it, lr=0.00002, loss=0.0034]   \n",
        "Evaluating at step 8000\n",
        "BLEU: 0.875 - ROUGE: 0.899 - F1: 0.907 - ACC: 0.882 - PREC: 0.897 - REC: 0.882: 100%|██████████| 1000/1000 [04:37<00:00,  3.60it/s]\n",
        "\n",
        "Examples:\n",
        "\n",
        "Example 1:\n",
        "Ground Truth: shiitake, gin, dashi, noodles, egg, baby bok choy, radish, miso, soy, oil, scallions, pepper\n",
        "Generated: shiitake, gin, dashi, noodles, egg, baby bok choy, radish, miso, soy, oil, scallions, pepper\n",
        "\n",
        "Example 2:\n",
        "Ground Truth: plum, garlic, gin, balsamic vinegar, basil, salt, black pepper, baguette\n",
        "Generated: plum, garlic, gin, balsamic vinegar, basil, salt, black pepper, baguette\n",
        "\n",
        "Example 3:\n",
        "Ground Truth: pizza, cherry, olive, oregano, basil, salt, oil, cheese\n",
        "Generated: pizza, cherry, olive, oregano, basil, salt, oil, cheese\n",
        " 96%|█████████▌| 8200/8521 [6:46:53<06:56,  1.30s/it, lr=0.00001, loss=0.0315]   \n",
        "Evaluating at step 8200\n",
        "BLEU: 0.882 - ROUGE: 0.908 - F1: 0.917 - ACC: 0.892 - PREC: 0.903 - REC: 0.892: 100%|██████████| 1000/1000 [04:37<00:00,  3.61it/s]\n",
        "\n",
        "Examples:\n",
        "\n",
        "Example 1:\n",
        "Ground Truth: pork, onion, garlic, tomato, tomato, italian, fennel, black pepper, noodles, egg, cheese, cheese, cheese\n",
        "Generated: pork, onion, garlic, tomato, tomato, italian, fennel, black pepper, noodles, egg, cheese, cheese, cheese\n",
        "\n",
        "Example 2:\n",
        "Ground Truth: bread, milk, sugar, butter, salt, egg, vanilla\n",
        "Generated: bread, milk, sugar, butter, salt, egg, vanilla\n",
        "\n",
        "Example 3:\n",
        "Ground Truth: chicken, soy, garlic, sugar\n",
        "Generated: chicken, soy, garlic, sugar\n",
        " 99%|█████████▊| 8400/8521 [6:55:52<02:38,  1.31s/it, lr=0.00000, loss=0.0080]  \n",
        "Evaluating at step 8400\n",
        "BLEU: 0.875 - ROUGE: 0.900 - F1: 0.911 - ACC: 0.882 - PREC: 0.891 - REC: 0.882: 100%|██████████| 1000/1000 [04:18<00:00,  3.87it/s]\n",
        "\n",
        "Examples:\n",
        "\n",
        "Example 1:\n",
        "Ground Truth: sushi grade tuna, scallions, tomato, cilantro, gin, soy, oil, cucumber\n",
        "Generated: sushi grade tuna, scallions, tomato, cilantro, gin, soy, oil, cucumber\n",
        "\n",
        "Example 2:\n",
        "Ground Truth: milk, sugar, vanilla\n",
        "Generated: vanilla, salt, egg, sugar, chocolate, chocolate\n",
        "\n",
        "Example 3:\n",
        "Ground Truth: bread, cheddar, tomato, onion, oil\n",
        "Generated: bread, cheddar, tomato, onion, oil\n",
        "100%|██████████| 8521/8521 [7:02:37<00:00,  2.98s/it, lr=0.00000, loss=0.0231]  \n"
      ]
    },
    {
      "cell_type": "code",
      "execution_count": null,
      "metadata": {},
      "outputs": [],
      "source": [
        "## UNCOMMENT FOR TRAINING\n",
        "\n",
        "# # save the final checkpoint\n",
        "\n",
        "# ckpt = {\"params\": params}\n",
        "# save_args = orbax_utils.save_args_from_target(ckpt)\n",
        "# checkpoint_manager.save(\n",
        "#     step, \n",
        "#     ckpt, \n",
        "#     save_kwargs={'save_args': save_args}\n",
        "#     )"
      ]
    },
    {
      "cell_type": "markdown",
      "metadata": {},
      "source": [
        "## Test the model\n",
        "\n",
        "Now that the model has been trained, the final step is to test the model on the test set. Therefore, the model parameters are loaded from the best checkpoint and the model is evaluated on the test set."
      ]
    },
    {
      "cell_type": "code",
      "execution_count": 22,
      "metadata": {},
      "outputs": [],
      "source": [
        "# Load latest checkpoint\n",
        "best_step = checkpoint_manager.best_step()\n",
        "best_ckpt = checkpoint_manager.restore(best_step)\n",
        "params = best_ckpt['params']"
      ]
    },
    {
      "cell_type": "code",
      "execution_count": 23,
      "metadata": {},
      "outputs": [
        {
          "data": {
            "text/plain": [
              "6800"
            ]
          },
          "execution_count": 23,
          "metadata": {},
          "output_type": "execute_result"
        }
      ],
      "source": [
        "best_step"
      ]
    },
    {
      "cell_type": "code",
      "execution_count": 24,
      "metadata": {},
      "outputs": [
        {
          "name": "stderr",
          "output_type": "stream",
          "text": [
            "BLEU: 0.914 - ROUGE: 0.937 - F1_ORIG: 0.944 - ACC: 0.925 - PREC: 0.928 - REC: 0.925 - F1_SKL: 0.944 - F1_SAMP: 0.944 - F1_WGT: 0.945 - F1_MAC: 0.877: 100%|██████████| 25250/25250 [10:27:43<00:00,  1.49s/it] \n"
          ]
        },
        {
          "name": "stdout",
          "output_type": "stream",
          "text": [
            "\n",
            "Validation Results:\n",
            "\tBLEU: 0.9142\n",
            "\tROUGE: 0.9367\n",
            "\tF1_ORIG: 0.9436\n",
            "\tF1_SKL: 0.9436\n",
            "\tF1_SAMP: 0.9436\n",
            "\tF1_WGT: 0.9446\n",
            "\tF1_MAC: 0.8768\n",
            "\tAccuracy: 0.9253\n",
            "\tPrecision: 0.9282\n",
            "\tRecall: 0.9253\n",
            "\n",
            "Examples:\n",
            "\n",
            "Example 1:\n",
            "Ground Truth: snails, butter, mushroom, garlic, cheese, parsley\n",
            "Generated: snails, butter, mushroom, garlic, cheese, parsley\n",
            "\n",
            "Example 2:\n",
            "Ground Truth: chicken, soy, garlic, sugar\n",
            "Generated: chicken, soy, garlic, sugar\n",
            "\n",
            "Example 3:\n",
            "Ground Truth: nut, spray, sugar, butter, egg, flour, baking powder, baking powder, salt, nut, butter, glaze, sugar, fat, maple syrup, colored sprinkles\n",
            "Generated: cake, butter, caster sugar, flour, soda, baking powder, vanilla essence, milk, icing, sugar\n",
            "\n",
            "Example 4:\n",
            "Ground Truth: egg, sugar, mascarpone, brewed espresso, frangelico, rum, lady fingers, cocoa\n",
            "Generated: egg, sugar, mascarpone, brewed espresso, frangelico, rum, lady fingers, cocoa\n",
            "\n",
            "Example 5:\n",
            "Ground Truth: chicken, soy, garlic, sugar\n",
            "Generated: chicken, soy, garlic, sugar\n"
          ]
        }
      ],
      "source": [
        "# Evaluate the model\n",
        "results = evaluate_model_batch(\n",
        "    params, \n",
        "    batch_size=8,  # 8\n",
        "    ordered=False,\n",
        "    data_iterator=batch_test_score_iterator\n",
        ")\n",
        "print(f\"\\nValidation Results:\")\n",
        "print(f\"\\tBLEU: {results['bleu']:.4f}\")\n",
        "print(f\"\\tROUGE: {results['rouge']:.4f}\")\n",
        "print(f\"\\tF1_ORIG: {results['ingredient_overlap']:.4f}\")\n",
        "print(f\"\\tF1_SKL: {results['f1_sklearn']:.4f}\")\n",
        "print(f\"\\tF1_SAMP: {results['f1_sample']:.4f}\")\n",
        "print(f\"\\tF1_WGT: {results['f1_weighted']:.4f}\")\n",
        "print(f\"\\tF1_MAC: {results['f1_macro']:.4f}\")\n",
        "print(f\"\\tAccuracy: {results['accuracy']:.4f}\") \n",
        "print(f\"\\tPrecision: {results['precision']:.4f}\")\n",
        "print(f\"\\tRecall: {results['recall']:.4f}\")\n",
        "\n",
        "# Print a few examples\n",
        "print(\"\\nExamples:\")\n",
        "for i, (ground_truth, generated_caption) in enumerate(results['examples'][:5]):\n",
        "    print(f\"\\nExample {i+1}:\")\n",
        "    print(f\"Ground Truth: {ground_truth}\")\n",
        "    print(f\"Generated: {generated_caption}\")"
      ]
    },
    {
      "cell_type": "markdown",
      "metadata": {},
      "source": [
        "Testing Results:\n",
        "\n",
        "\tBLEU: 0.9142\n",
        "\tROUGE: 0.9367\n",
        "\tF1_ORIG: 0.9436\n",
        "\tF1_SKL: 0.9436\n",
        "\tF1_SAMP: 0.9436\n",
        "\tF1_WGT: 0.9446\n",
        "\tF1_MAC: 0.8768\n",
        "\tAccuracy: 0.9253\n",
        "\tPrecision: 0.9282\n",
        "\tRecall: 0.9253\n",
        "\n",
        "Examples:\n",
        "\n",
        "Example 1:\n",
        "- Ground Truth: snails, butter, mushroom, garlic, cheese, parsley\n",
        "- Generated: snails, butter, mushroom, garlic, cheese, parsley\n",
        "\n",
        "Example 2:\n",
        "- Ground Truth: chicken, soy, garlic, sugar\n",
        "- Generated: chicken, soy, garlic, sugar\n",
        "\n",
        "Example 3:\n",
        "- Ground Truth: nut, spray, sugar, butter, egg, flour, baking powder, baking powder, salt, nut, butter, glaze, sugar, fat, maple syrup, colored sprinkles\n",
        "- Generated: cake, butter, caster sugar, flour, soda, baking powder, vanilla essence, milk, icing, sugar\n",
        "\n",
        "Example 4:\n",
        "- Ground Truth: egg, sugar, mascarpone, brewed espresso, frangelico, rum, lady fingers, cocoa\n",
        "- Generated: egg, sugar, mascarpone, brewed espresso, frangelico, rum, lady fingers, cocoa\n",
        "\n",
        "Example 5:\n",
        "- Ground Truth: chicken, soy, garlic, sugar\n",
        "- Generated: chicken, soy, garlic, sugar"
      ]
    },
    {
      "cell_type": "markdown",
      "metadata": {},
      "source": [
        "### Evaluating on T_500\n",
        "\n",
        "The model is also evaluated on a subset of the test set with 500 samples, called T_500, which means for each category at least 4 samples are included."
      ]
    },
    {
      "cell_type": "code",
      "execution_count": 34,
      "metadata": {},
      "outputs": [],
      "source": [
        "FULL_VALIDATION_SIZE = 500"
      ]
    },
    {
      "cell_type": "code",
      "execution_count": 39,
      "metadata": {},
      "outputs": [
        {
          "name": "stderr",
          "output_type": "stream",
          "text": [
            "\n",
            "\n",
            "\n",
            "\u001b[A\u001b[A\u001b[A"
          ]
        },
        {
          "name": "stdout",
          "output_type": "stream",
          "text": [
            "Classes and their sample counts:\n",
            "garlic_bread: 5\n",
            "steak: 5\n",
            "takoyaki: 5\n",
            "fish_and_chips: 5\n",
            "guacamole: 5\n",
            "pad_thai: 5\n",
            "sashimi: 5\n",
            "panna_cotta: 5\n",
            "gyoza: 5\n",
            "beef_tartare: 5\n",
            "prime_rib: 5\n",
            "caprese_salad: 5\n",
            "hummus: 5\n",
            "pancakes: 5\n",
            "scallops: 5\n",
            "club_sandwich: 5\n",
            "huevos_rancheros: 5\n",
            "foie_gras: 5\n",
            "nachos: 5\n",
            "hamburger: 5\n",
            "ceviche: 5\n",
            "escargots: 5\n",
            "baklava: 5\n",
            "shrimp_and_grits: 5\n",
            "breakfast_burrito: 5\n",
            "omelette: 5\n",
            "grilled_cheese_sandwich: 5\n",
            "gnocchi: 5\n",
            "apple_pie: 5\n",
            "crab_cakes: 5\n",
            "seaweed_salad: 5\n",
            "churros: 5\n",
            "oysters: 5\n",
            "samosa: 5\n",
            "bread_pudding: 5\n",
            "grilled_salmon: 5\n",
            "tacos: 5\n",
            "french_toast: 5\n",
            "ramen: 5\n",
            "falafel: 5\n",
            "onion_rings: 5\n",
            "beet_salad: 5\n",
            "baby_back_ribs: 5\n",
            "chicken_quesadilla: 5\n",
            "risotto: 5\n",
            "ravioli: 5\n",
            "hot_and_sour_soup: 5\n",
            "beignets: 5\n",
            "cup_cakes: 5\n",
            "hot_dog: 5\n",
            "chocolate_cake: 5\n",
            "chicken_wings: 5\n",
            "chicken_curry: 5\n",
            "fried_calamari: 5\n",
            "creme_brulee: 5\n",
            "miso_soup: 5\n",
            "lasagna: 5\n",
            "cheesecake: 5\n",
            "croque_madame: 5\n",
            "cannoli: 5\n",
            "peking_duck: 5\n",
            "lobster_bisque: 5\n",
            "deviled_eggs: 5\n",
            "lobster_roll_sandwich: 5\n",
            "paella: 5\n",
            "macarons: 5\n",
            "red_velvet_cake: 5\n",
            "strawberry_shortcake: 5\n",
            "macaroni_and_cheese: 5\n",
            "tiramisu: 5\n",
            "spring_rolls: 5\n",
            "spaghetti_bolognese: 5\n",
            "eggs_benedict: 5\n",
            "edamame: 5\n",
            "donuts: 5\n",
            "pizza: 5\n",
            "bruschetta: 5\n",
            "chocolate_mousse: 5\n",
            "carrot_cake: 5\n",
            "cheese_plate: 5\n",
            "ice_cream: 5\n",
            "tuna_tartare: 5\n",
            "poutine: 5\n",
            "caesar_salad: 5\n",
            "clam_chowder: 5\n",
            "spaghetti_carbonara: 5\n",
            "greek_salad: 5\n",
            "beef_carpaccio: 5\n",
            "sushi: 5\n",
            "bibimbap: 5\n",
            "dumplings: 5\n",
            "pho: 5\n",
            "french_fries: 5\n",
            "waffles: 5\n",
            "filet_mignon: 5\n",
            "frozen_yogurt: 5\n",
            "french_onion_soup: 4\n",
            "pork_chop: 4\n",
            "fried_rice: 4\n",
            "mussels: 4\n",
            "pulled_pork_sandwich: 4\n"
          ]
        },
        {
          "name": "stderr",
          "output_type": "stream",
          "text": [
            "\n",
            "\n",
            "\n",
            "\u001b[A\u001b[A\u001b[A\n",
            "\n",
            "\n",
            "\u001b[A\u001b[A\u001b[A\n",
            "\n",
            "\n",
            "\u001b[A\u001b[A\u001b[A\n",
            "\n",
            "\n",
            "\u001b[A\u001b[A\u001b[A\n",
            "\n",
            "\n",
            "\u001b[A\u001b[A\u001b[A\n",
            "\n",
            "\n",
            "\u001b[A\u001b[A\u001b[A\n",
            "\n",
            "\n",
            "\u001b[A\u001b[A\u001b[A\n",
            "\n",
            "\n",
            "\u001b[A\u001b[A\u001b[A\n",
            "\n",
            "\n",
            "\u001b[A\u001b[A\u001b[A\n",
            "\n",
            "\n",
            "\u001b[A\u001b[A\u001b[A\n",
            "\n",
            "\n",
            "\u001b[A\u001b[A\u001b[A\n",
            "\n",
            "\n",
            "\u001b[A\u001b[A\u001b[A\n",
            "\n",
            "\n",
            "\u001b[A\u001b[A\u001b[A\n",
            "\n",
            "\n",
            "\u001b[A\u001b[A\u001b[A\n",
            "\n",
            "\n",
            "\u001b[A\u001b[A\u001b[A\n",
            "\n",
            "\n",
            "\u001b[A\u001b[A\u001b[A\n",
            "\n",
            "\n",
            "\u001b[A\u001b[A\u001b[A\n",
            "\n",
            "\n",
            "\u001b[A\u001b[A\u001b[A\n",
            "\n",
            "\n",
            "\u001b[A\u001b[A\u001b[A\n",
            "\n",
            "\n",
            "\u001b[A\u001b[A\u001b[A\n",
            "\n",
            "\n",
            "\u001b[A\u001b[A\u001b[A\n",
            "\n",
            "\n",
            "\u001b[A\u001b[A\u001b[A\n",
            "\n",
            "\n",
            "\u001b[A\u001b[A\u001b[A\n",
            "\n",
            "\n",
            "\u001b[A\u001b[A\u001b[A\n",
            "\n",
            "\n",
            "\u001b[A\u001b[A\u001b[A\n",
            "\n",
            "\n",
            "\u001b[A\u001b[A\u001b[A\n",
            "\n",
            "\n",
            "\u001b[A\u001b[A\u001b[A\n",
            "\n",
            "\n",
            "\u001b[A\u001b[A\u001b[A\n",
            "\n",
            "\n",
            "\u001b[A\u001b[A\u001b[A\n",
            "\n",
            "\n",
            "\u001b[A\u001b[A\u001b[A\n",
            "\n",
            "\n",
            "\u001b[A\u001b[A\u001b[A\n",
            "\n",
            "\n",
            "\u001b[A\u001b[A\u001b[A\n",
            "\n",
            "\n",
            "\u001b[A\u001b[A\u001b[A\n",
            "\n",
            "\n",
            "\u001b[A\u001b[A\u001b[A\n",
            "\n",
            "\n",
            "\u001b[A\u001b[A\u001b[A\n",
            "\n",
            "\n",
            "\u001b[A\u001b[A\u001b[A\n",
            "\n",
            "\n",
            "\u001b[A\u001b[A\u001b[A\n",
            "\n",
            "\n",
            "\u001b[A\u001b[A\u001b[A\n",
            "\n",
            "\n",
            "\u001b[A\u001b[A\u001b[A\n",
            "\n",
            "\n",
            "\u001b[A\u001b[A\u001b[A\n",
            "\n",
            "\n",
            "\u001b[A\u001b[A\u001b[A\n",
            "\n",
            "\n",
            "\u001b[A\u001b[A\u001b[A\n",
            "\n",
            "\n",
            "\u001b[A\u001b[A\u001b[A\n",
            "\n",
            "\n",
            "\u001b[A\u001b[A\u001b[A\n",
            "\n",
            "\n",
            "\u001b[A\u001b[A\u001b[A\n",
            "\n",
            "\n",
            "\u001b[A\u001b[A\u001b[A\n",
            "\n",
            "\n",
            "\u001b[A\u001b[A\u001b[A\n",
            "\n",
            "\n",
            "\u001b[A\u001b[A\u001b[A\n",
            "\n",
            "\n",
            "\u001b[A\u001b[A\u001b[A\n",
            "\n",
            "\n",
            "\u001b[A\u001b[A\u001b[A\n",
            "\n",
            "\n",
            "\u001b[A\u001b[A\u001b[A\n",
            "\n",
            "\n",
            "\u001b[A\u001b[A\u001b[A\n",
            "\n",
            "\n",
            "\u001b[A\u001b[A\u001b[A\n",
            "\n",
            "\n",
            "\u001b[A\u001b[A\u001b[A\n",
            "\n",
            "\n",
            "\u001b[A\u001b[A\u001b[A\n",
            "\n",
            "\n",
            "\u001b[A\u001b[A\u001b[A\n",
            "\n",
            "\n",
            "\u001b[A\u001b[A\u001b[A\n",
            "\n",
            "\n",
            "\u001b[A\u001b[A\u001b[A\n",
            "\n",
            "\n",
            "\u001b[A\u001b[A\u001b[A\n",
            "\n",
            "\n",
            "\u001b[A\u001b[A\u001b[A\n",
            "\n",
            "\n",
            "\u001b[A\u001b[A\u001b[A\n",
            "\n",
            "\n",
            "\u001b[A\u001b[A\u001b[A\n",
            "\n",
            "\n",
            "\u001b[A\u001b[A\u001b[A\n",
            "\n",
            "\n",
            "\u001b[A\u001b[A\u001b[A\n",
            "\n",
            "\n",
            "\u001b[A\u001b[A\u001b[A\n",
            "\n",
            "\n",
            "\u001b[A\u001b[A\u001b[A\n",
            "\n",
            "\n",
            "\u001b[A\u001b[A\u001b[A\n",
            "\n",
            "\n",
            "\u001b[A\u001b[A\u001b[A\n",
            "\n",
            "\n",
            "\u001b[A\u001b[A\u001b[A\n",
            "\n",
            "\n",
            "\u001b[A\u001b[A\u001b[A\n",
            "\n",
            "\n",
            "\u001b[A\u001b[A\u001b[A\n",
            "\n",
            "\n",
            "\u001b[A\u001b[A\u001b[A\n",
            "\n",
            "\n",
            "\u001b[A\u001b[A\u001b[A\n",
            "\n",
            "\n",
            "\u001b[A\u001b[A\u001b[A\n",
            "\n",
            "\n",
            "\u001b[A\u001b[A\u001b[A\n",
            "\n",
            "\n",
            "\u001b[A\u001b[A\u001b[A\n",
            "\n",
            "\n",
            "\u001b[A\u001b[A\u001b[A\n",
            "\n",
            "\n",
            "\u001b[A\u001b[A\u001b[A\n",
            "\n",
            "\n",
            "\u001b[A\u001b[A\u001b[A\n",
            "\n",
            "\n",
            "\u001b[A\u001b[A\u001b[A\n",
            "\n",
            "\n",
            "\u001b[A\u001b[A\u001b[A\n",
            "\n",
            "\n",
            "\u001b[A\u001b[A\u001b[A\n",
            "\n",
            "\n",
            "\u001b[A\u001b[A\u001b[A\n",
            "\n",
            "\n",
            "\u001b[A\u001b[A\u001b[A\n",
            "\n",
            "\n",
            "\u001b[A\u001b[A\u001b[A\n",
            "\n",
            "\n",
            "\u001b[A\u001b[A\u001b[A\n",
            "\n",
            "\n",
            "\u001b[A\u001b[A\u001b[A\n",
            "\n",
            "\n",
            "\u001b[A\u001b[A\u001b[A\n",
            "\n",
            "\n",
            "\u001b[A\u001b[A\u001b[A\n",
            "\n",
            "\n",
            "\u001b[A\u001b[A\u001b[A\n",
            "\n",
            "\n",
            "\u001b[A\u001b[A\u001b[A\n",
            "\n",
            "\n",
            "\u001b[A\u001b[A\u001b[A\n",
            "\n",
            "\n",
            "\u001b[A\u001b[A\u001b[A\n",
            "\n",
            "\n",
            "\u001b[A\u001b[A\u001b[A\n",
            "\n",
            "\n",
            "\u001b[A\u001b[A\u001b[A\n",
            "\n",
            "\n",
            "\u001b[A\u001b[A\u001b[A\n",
            "\n",
            "\n",
            "\u001b[A\u001b[A\u001b[A\n",
            "\n",
            "\n",
            "\u001b[A\u001b[A\u001b[A\n",
            "\n",
            "\n",
            "\u001b[A\u001b[A\u001b[A\n",
            "\n",
            "\n",
            "\u001b[A\u001b[A\u001b[A\n",
            "\n",
            "\n",
            "\u001b[A\u001b[A\u001b[A\n",
            "\n",
            "\n",
            "\u001b[A\u001b[A\u001b[A\n",
            "\n",
            "\n",
            "\u001b[A\u001b[A\u001b[A\n",
            "\n",
            "\n",
            "\u001b[A\u001b[A\u001b[A\n",
            "\n",
            "\n",
            "\u001b[A\u001b[A\u001b[A\n",
            "\n",
            "\n",
            "\u001b[A\u001b[A\u001b[A\n",
            "\n",
            "\n",
            "\u001b[A\u001b[A\u001b[A\n",
            "\n",
            "\n",
            "\u001b[A\u001b[A\u001b[A\n",
            "\n",
            "\n",
            "\u001b[A\u001b[A\u001b[A\n",
            "\n",
            "\n",
            "\u001b[A\u001b[A\u001b[A\n",
            "\n",
            "\n",
            "\u001b[A\u001b[A\u001b[A\n",
            "\n",
            "\n",
            "\u001b[A\u001b[A\u001b[A\n",
            "\n",
            "\n",
            "\u001b[A\u001b[A\u001b[A\n",
            "\n",
            "\n",
            "\u001b[A\u001b[A\u001b[A\n",
            "\n",
            "\n",
            "\u001b[A\u001b[A\u001b[A\n",
            "\n",
            "\n",
            "\u001b[A\u001b[A\u001b[A\n",
            "\n",
            "\n",
            "\u001b[A\u001b[A\u001b[A\n",
            "\n",
            "\n",
            "\u001b[A\u001b[A\u001b[A\n",
            "\n",
            "\n",
            "\u001b[A\u001b[A\u001b[A\n",
            "\n",
            "\n",
            "\u001b[A\u001b[A\u001b[A\n",
            "\n",
            "\n",
            "\u001b[A\u001b[A\u001b[A\n",
            "\n",
            "\n",
            "\u001b[A\u001b[A\u001b[A\n",
            "\n",
            "\n",
            "\u001b[A\u001b[A\u001b[A\n",
            "\n",
            "\n",
            "\u001b[A\u001b[A\u001b[A\n",
            "\n",
            "\n",
            "\u001b[A\u001b[A\u001b[A\n",
            "\n",
            "\n",
            "BLEU: 0.918 - ROUGE: 0.942 - F1_ORIG: 0.949 - ACC: 0.930 - PREC: 0.941 - REC: 0.930 - F1_SKL: 0.949 - F1_SAMP: 0.949 - F1_WGT: 0.946 - F1_MAC: 0.938: 100%|██████████| 500/500 [01:55<00:00,  4.33it/s]\n"
          ]
        },
        {
          "name": "stdout",
          "output_type": "stream",
          "text": [
            "\n",
            "Comprehensive Validation Results (500 examples):\n",
            "\tBLEU: 0.9185\n",
            "\tROUGE: 0.9417\n",
            "\tF1_ORIG: 0.9492\n",
            "\tF1_SKL: 0.9492\n",
            "\tF1_SAMP: 0.9492\n",
            "\tF1_WGT: 0.9464\n",
            "\tF1_MAC: 0.9380\n",
            "\tAccuracy: 0.9300\n",
            "\tPrecision: 0.9409\n",
            "\tRecall: 0.9300\n",
            "\n",
            "Examples from Comprehensive Validation:\n",
            "\n",
            "Example 1:\n",
            "Ground Truth: egg, tartar, egg, cloves\n",
            "Generated: egg, tartar, egg, cloves\n",
            "\n",
            "Example 2:\n",
            "Ground Truth: egg, tartar, egg, cloves\n",
            "Generated: egg, tartar, egg, cloves\n",
            "\n",
            "Example 3:\n",
            "Ground Truth: egg, tartar, egg, cloves\n",
            "Generated: egg, tartar, egg, cloves\n",
            "\n",
            "Example 4:\n",
            "Ground Truth: egg, tartar, egg, cloves\n",
            "Generated: egg, tartar, egg, cloves\n",
            "\n",
            "Example 5:\n",
            "Ground Truth: oil, garlic, black pepper, salt, sirloin, steak, worcestershire\n",
            "Generated: oil, garlic, black pepper, salt, sirloin, steak, worcestershire\n"
          ]
        }
      ],
      "source": [
        "# Evaluate the model on the test set\n",
        "comprehensive_results = evaluate_model_batch(\n",
        "    params, \n",
        "    batch_size=8,\n",
        "    num_examples=FULL_VALIDATION_SIZE,\n",
        "    ordered=False,\n",
        "    data_iterator=stratified_batch_test_score_iterator\n",
        ")\n",
        "\n",
        "print(f\"\\nComprehensive Validation Results (500 examples):\")\n",
        "print(f\"\\tBLEU: {comprehensive_results['bleu']:.4f}\")\n",
        "print(f\"\\tROUGE: {comprehensive_results['rouge']:.4f}\")\n",
        "print(f\"\\tF1_ORIG: {comprehensive_results['ingredient_overlap']:.4f}\")\n",
        "print(f\"\\tF1_SKL: {comprehensive_results['f1_sklearn']:.4f}\")\n",
        "print(f\"\\tF1_SAMP: {comprehensive_results['f1_sample']:.4f}\")\n",
        "print(f\"\\tF1_WGT: {comprehensive_results['f1_weighted']:.4f}\")\n",
        "print(f\"\\tF1_MAC: {comprehensive_results['f1_macro']:.4f}\")\n",
        "print(f\"\\tAccuracy: {comprehensive_results['accuracy']:.4f}\") \n",
        "print(f\"\\tPrecision: {comprehensive_results['precision']:.4f}\")\n",
        "print(f\"\\tRecall: {comprehensive_results['recall']:.4f}\")\n",
        "\n",
        "# Print a few examples\n",
        "print(\"\\nExamples from Comprehensive Validation:\")\n",
        "for i, (ground_truth, generated_caption) in enumerate(comprehensive_results['examples'][:5]):\n",
        "    print(f\"\\nExample {i+1}:\")\n",
        "    print(f\"Ground Truth: {ground_truth}\")\n",
        "    print(f\"Generated: {generated_caption}\")"
      ]
    },
    {
      "cell_type": "markdown",
      "metadata": {},
      "source": [
        "Test Results (T_500):\n",
        "\n",
        "\tBLEU: 0.9185\n",
        "\tROUGE: 0.9417\n",
        "\tF1_ORIG: 0.9492\n",
        "\tF1_SKL: 0.9492\n",
        "\tF1_SAMP: 0.9492\n",
        "\tF1_WGT: 0.9464\n",
        "\tF1_MAC: 0.9380\n",
        "\tAccuracy: 0.9300\n",
        "\tPrecision: 0.9409\n",
        "\tRecall: 0.9300\n",
        "\t\n",
        "Examples:\n",
        "\n",
        "Example 1:\n",
        "- Ground Truth: egg, tartar, egg, cloves\n",
        "- Generated: egg, tartar, egg, cloves\n",
        "\n",
        "Example 2:\n",
        "- Ground Truth: egg, tartar, egg, cloves\n",
        "- Generated: egg, tartar, egg, cloves\n",
        "\n",
        "Example 3:\n",
        "- Ground Truth: egg, tartar, egg, cloves\n",
        "- Generated: egg, tartar, egg, cloves\n",
        "\n",
        "Example 4:\n",
        "- Ground Truth: egg, tartar, egg, cloves\n",
        "- Generated: egg, tartar, egg, cloves\n",
        "\n",
        "Example 5:\n",
        "- Ground Truth: oil, garlic, black pepper, salt, sirloin, steak, worcestershire\n",
        "- Generated: oil, garlic, black pepper, salt, sirloin, steak, worcestershire"
      ]
    }
  ],
  "metadata": {
    "accelerator": "GPU",
    "colab": {
      "collapsed_sections": [
        "u71STQRgnQ3a",
        "6U0QUFveqSP2"
      ],
      "gpuType": "T4",
      "provenance": []
    },
    "kernelspec": {
      "display_name": "Python 3",
      "name": "python3"
    },
    "language_info": {
      "codemirror_mode": {
        "name": "ipython",
        "version": 3
      },
      "file_extension": ".py",
      "mimetype": "text/x-python",
      "name": "python",
      "nbconvert_exporter": "python",
      "pygments_lexer": "ipython3",
      "version": "3.12.1"
    }
  },
  "nbformat": 4,
  "nbformat_minor": 0
}
