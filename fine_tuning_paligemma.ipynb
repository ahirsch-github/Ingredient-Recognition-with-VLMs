{
  "cells": [
    {
      "cell_type": "markdown",
      "metadata": {
        "id": "u71STQRgnQ3a"
      },
      "source": [
        "## Fine-tune PaliGemma with JAX\n",
        "\n",
        "<table class=\"tfo-notebook-buttons\" align=\"left\">\n",
        "<td>\n",
        "<a target=\"_blank\" href=\"https://ai.google.dev/gemma/docs/paligemma/fine-tuning-paligemma\"><img src=\"https://ai.google.dev/static/site-assets/images/docs/notebook-site-button.png\" height=\"32\" width=\"32\" />View on ai.google.dev</a>\n",
        "</td>\n",
        "<td>\n",
        "<a target=\"_blank\" href=\"https://colab.research.google.com/github/google/generative-ai-docs/blob/main/site/en/gemma/docs/paligemma/fine-tuning-paligemma.ipynb\"><img src=\"https://www.tensorflow.org/images/colab_logo_32px.png\" />Run in Google Colab</a>\n",
        "</td>\n",
        "<td>\n",
        "<a target=\"_blank\" href=\"https://github.com/google/generative-ai-docs/blob/main/site/en/gemma/docs/paligemma/fine-tuning-paligemma.ipynb\"><img src=\"https://www.tensorflow.org/images/GitHub-Mark-32px.png\" />View source on GitHub</a>\n",
        "</td>\n",
        "</table>\n"
      ]
    },
    {
      "cell_type": "markdown",
      "metadata": {},
      "source": [
        "## Requirements\n",
        " 1. \n",
        "To run this notebook, you will need to install the following dependencies:\n",
        "\n",
        "`Python==3.11`\n",
        "\n",
        "```bash\n",
        "pip install python-dotenv kagglehub transformers gdown jax[cuda12] pillow ipykernel ipywidgets tensorflow ml-dtypes flax tqdm orbax-checkpoint matplotlib scikit-learn nltk rouge-score -U\n",
        "```\n",
        "\n",
        "2. \n",
        "Also, move `data/food-ingredients-101`, `data/food-101` & `data/ingredients-101` to root dir.\n",
        "\n",
        "If `data/food-ingredients-101` is not present, create it using `merging_food101_ingredients101.ipynb`\n",
        "\n",
        "3.\n",
        "Install gsutil https://cloud.google.com/storage/docs/gsutil_install?hl=de#linux"
      ]
    },
    {
      "cell_type": "markdown",
      "metadata": {
        "id": "qOJ3BeYFVrOX"
      },
      "source": [
        "### Set environment variables\n",
        "\n",
        "Set the environment variables for `KAGGLE_USERNAME` and `KAGGLE_KEY`."
      ]
    },
    {
      "cell_type": "code",
      "execution_count": 1,
      "metadata": {},
      "outputs": [
        {
          "name": "stdout",
          "output_type": "stream",
          "text": [
            "simonbenedict\n"
          ]
        }
      ],
      "source": [
        "import os\n",
        "\n",
        "print(os.getenv('KAGGLE_USERNAME'))"
      ]
    },
    {
      "cell_type": "code",
      "execution_count": 2,
      "metadata": {},
      "outputs": [],
      "source": [
        "# set cuda to only recognize gpu 0\n",
        "os.environ[\"CUDA_VISIBLE_DEVICES\"] = \"0\""
      ]
    },
    {
      "cell_type": "code",
      "execution_count": 3,
      "metadata": {
        "id": "zGLIp1Cx3_CX"
      },
      "outputs": [
        {
          "name": "stdout",
          "output_type": "stream",
          "text": [
            "simonbenedict\n"
          ]
        }
      ],
      "source": [
        "# Note: `userdata.get` is a Colab API. If you're not using Colab, set the env\n",
        "# vars as appropriate or make your credentials available in ~/.kaggle/kaggle.json\n",
        "\n",
        "# for running on colab\n",
        "# from google.colab import userdata\n",
        "# os.environ[\"KAGGLE_USERNAME\"] = userdata.get('KAGGLE_USERNAME')\n",
        "# os.environ[\"KAGGLE_KEY\"] = userdata.get('KAGGLE_KEY')\n",
        "\n",
        "# for running on local\n",
        "from dotenv import load_dotenv\n",
        "load_dotenv()\n",
        "os.environ[\"KAGGLE_USERNAME\"] = os.getenv('KAGGLE_USERNAME')\n",
        "os.environ[\"KAGGLE_KEY\"] = os.getenv('KAGGLE_KEY')\n",
        "\n",
        "print(os.getenv('KAGGLE_USERNAME'))"
      ]
    },
    {
      "cell_type": "code",
      "execution_count": 4,
      "metadata": {},
      "outputs": [],
      "source": [
        "# for linux\n",
        "!export KAGGLE_USERNAME\n",
        "!export KAGGLE_KEY"
      ]
    },
    {
      "cell_type": "markdown",
      "metadata": {
        "id": "rCd__uzW_eK-"
      },
      "source": [
        "### Fetch the `big_vision` repository and install related dependencies\n",
        "\n",
        "Download the `big_vision` repository to your Colab notebook from GitHub and install dependencies related to `big_vision` by running the following code."
      ]
    },
    {
      "cell_type": "code",
      "execution_count": 5,
      "metadata": {
        "colab": {
          "base_uri": "https://localhost:8080/"
        },
        "id": "DfxKb3F839Ks",
        "outputId": "63c656bc-ede0-41fd-d957-161ebba7128d"
      },
      "outputs": [],
      "source": [
        "import os\n",
        "import sys\n",
        "\n",
        "# TPUs with\n",
        "if \"COLAB_TPU_ADDR\" in os.environ:\n",
        "  raise \"It seems you are using Colab with remote TPUs which is not supported.\"\n",
        "\n",
        "# Fetch big_vision repository if python doesn't know about it and install\n",
        "# dependencies needed for this notebook.\n",
        "if not os.path.exists(\"big_vision_repo\"):\n",
        "  !git clone --quiet --branch=main --depth=1 \\\n",
        "     https://github.com/google-research/big_vision big_vision_repo\n",
        "\n",
        "# Append big_vision code to python import path\n",
        "if \"big_vision_repo\" not in sys.path:\n",
        "  sys.path.append(\"big_vision_repo\")\n",
        "\n",
        "# Install missing dependencies. Assume jax~=0.4.25 with GPU available.\n",
        "!pip3 install -q \"overrides\" \"ml_collections\" \"einops~=0.7\" \"sentencepiece\"\n"
      ]
    },
    {
      "cell_type": "markdown",
      "metadata": {
        "id": "zDoq0O77GF30"
      },
      "source": [
        "### Import JAX and other dependencies\n",
        "\n",
        "Import JAX and other dependencies required for PaliGemma, like TensorFlow and NumPy."
      ]
    },
    {
      "cell_type": "code",
      "execution_count": 6,
      "metadata": {
        "colab": {
          "base_uri": "https://localhost:8080/"
        },
        "id": "dTfe2k8J4Bw0",
        "outputId": "70f6ec33-aa49-4950-fbab-faf18c46880a"
      },
      "outputs": [
        {
          "name": "stderr",
          "output_type": "stream",
          "text": [
            "2024-07-23 23:25:52.256057: E external/local_xla/xla/stream_executor/cuda/cuda_fft.cc:485] Unable to register cuFFT factory: Attempting to register factory for plugin cuFFT when one has already been registered\n",
            "2024-07-23 23:25:52.319546: E external/local_xla/xla/stream_executor/cuda/cuda_dnn.cc:8454] Unable to register cuDNN factory: Attempting to register factory for plugin cuDNN when one has already been registered\n",
            "2024-07-23 23:25:52.337015: E external/local_xla/xla/stream_executor/cuda/cuda_blas.cc:1452] Unable to register cuBLAS factory: Attempting to register factory for plugin cuBLAS when one has already been registered\n",
            "2024-07-23 23:25:53.222432: W tensorflow/compiler/tf2tensorrt/utils/py_utils.cc:38] TF-TRT Warning: Could not find TensorRT\n",
            "/tmp/ipykernel_3866/1877585094.py:17: DeprecationWarning: Importing display from IPython.core.display is deprecated since IPython 7.14, please import from IPython display\n",
            "  from IPython.core.display import display, HTML\n"
          ]
        },
        {
          "name": "stdout",
          "output_type": "stream",
          "text": [
            "JAX version:  0.4.30\n",
            "JAX platform: gpu\n",
            "JAX devices:  1\n"
          ]
        },
        {
          "name": "stderr",
          "output_type": "stream",
          "text": [
            "WARNING: All log messages before absl::InitializeLog() is called are written to STDERR\n",
            "I0000 00:00:1721769954.596303    3866 cuda_executor.cc:1015] successful NUMA node read from SysFS had negative value (-1), but there must be at least one NUMA node, so returning NUMA node zero. See more at https://github.com/torvalds/linux/blob/v6.0/Documentation/ABI/testing/sysfs-bus-pci#L344-L355\n",
            "2024-07-23 23:25:54.757780: W tensorflow/core/common_runtime/gpu/gpu_device.cc:2343] Cannot dlopen some GPU libraries. Please make sure the missing libraries mentioned above are installed properly if you would like to use GPU. Follow the guide at https://www.tensorflow.org/install/gpu for how to download and setup the required libraries for your platform.\n",
            "Skipping registering GPU devices...\n"
          ]
        }
      ],
      "source": [
        "import base64\n",
        "import functools\n",
        "import html\n",
        "import io\n",
        "import os\n",
        "import warnings\n",
        "import random\n",
        "\n",
        "import jax\n",
        "import jax.numpy as jnp\n",
        "import numpy as np\n",
        "import ml_collections\n",
        "\n",
        "import tensorflow as tf\n",
        "import sentencepiece\n",
        "\n",
        "from IPython.core.display import display, HTML\n",
        "from PIL import Image\n",
        "\n",
        "# Import model definition from big_vision\n",
        "from big_vision.models.proj.paligemma import paligemma\n",
        "from big_vision.trainers.proj.paligemma import predict_fns\n",
        "\n",
        "# Import big vision utilities\n",
        "import big_vision.datasets.jsonl\n",
        "import big_vision.utils\n",
        "import big_vision.sharding\n",
        "\n",
        "# === Additional imports ===\n",
        "import numpy as np\n",
        "from nltk.translate.bleu_score import sentence_bleu, SmoothingFunction\n",
        "from sklearn.metrics import accuracy_score, precision_score, recall_score\n",
        "from rouge_score import rouge_scorer\n",
        "from tqdm import tqdm\n",
        "\n",
        "# Don't let TF use the GPU or TPUs\n",
        "tf.config.set_visible_devices([], \"GPU\")\n",
        "tf.config.set_visible_devices([], \"TPU\")\n",
        "\n",
        "backend = jax.lib.xla_bridge.get_backend()\n",
        "print(f\"JAX version:  {jax.__version__}\")\n",
        "print(f\"JAX platform: {backend.platform}\")\n",
        "print(f\"JAX devices:  {jax.device_count()}\")"
      ]
    },
    {
      "cell_type": "markdown",
      "metadata": {
        "id": "b9kSadtIhjlX"
      },
      "source": [
        "## Download and configure the model\n",
        "\n",
        "In this step, you'll download the model checkpoint and configure it so that you can fine-tune it later on. This step shows you how to move model parameters into TPU memory, which is useful for fine-tuning models on devices with limited resources."
      ]
    },
    {
      "cell_type": "markdown",
      "metadata": {
        "id": "7tvcc0oQHl4v"
      },
      "source": [
        "### Download the model checkpoint\n",
        "\n",
        "PaliGemma includes several model variations. For this tutorial, you'll use the base [JAX/FLAX PaliGemma 3B weight model](https://www.kaggle.com/models/google/paligemma/jax/paligemma-3b-pt-224).\n",
        "\n",
        "Download the `float16` version of the model checkpoint from Kaggle by running the following code. This process takes several minutes to complete."
      ]
    },
    {
      "cell_type": "code",
      "execution_count": 7,
      "metadata": {
        "id": "8weTFiWGtQVw"
      },
      "outputs": [],
      "source": [
        "import os\n",
        "import kagglehub\n",
        "\n",
        "# from google.colab import auth\n",
        "# auth.authenticate_user()"
      ]
    },
    {
      "cell_type": "code",
      "execution_count": 8,
      "metadata": {
        "colab": {
          "base_uri": "https://localhost:8080/"
        },
        "id": "qndVS3vetWom",
        "outputId": "b5aeeb6a-07d4-4c0f-8d1a-51bc7df5e183"
      },
      "outputs": [
        {
          "name": "stdout",
          "output_type": "stream",
          "text": [
            "Downloading the checkpoint from Kaggle, this could take a few minutes....\n",
            "Model path: /home/simon/.cache/kagglehub/models/google/paligemma/jax/paligemma-3b-pt-224/1/paligemma-3b-pt-224.f16.npz\n"
          ]
        }
      ],
      "source": [
        "MODEL_PATH = \"./pt_224_128.params.f16.npz\"\n",
        "if not os.path.exists(MODEL_PATH):\n",
        "  print(\"Downloading the checkpoint from Kaggle, this could take a few minutes....\")\n",
        "  # Note: kaggle archive contains the same checkpoint in multiple formats.\n",
        "  # Download only the float16 model.\n",
        "  MODEL_PATH = kagglehub.model_download('google/paligemma/jax/paligemma-3b-pt-224', 'paligemma-3b-pt-224.f16.npz')\n",
        "  print(f\"Model path: {MODEL_PATH}\")\n",
        "\n",
        "TOKENIZER_PATH = \"./paligemma_tokenizer.model\"\n",
        "# or download from https://huggingface.co/google/paligemma-3b-pt-224/tree/main\n",
        "if not os.path.exists(TOKENIZER_PATH):\n",
        "  print(\"Downloading the model tokenizer...\")\n",
        "  !gsutil cp gs://big_vision/paligemma_tokenizer.model {TOKENIZER_PATH}\n",
        "  print(f\"Tokenizer path: {TOKENIZER_PATH}\")"
      ]
    },
    {
      "cell_type": "code",
      "execution_count": 9,
      "metadata": {
        "colab": {
          "base_uri": "https://localhost:8080/"
        },
        "id": "gQNOTfF24AV4",
        "outputId": "1620e8a5-8ddb-4733-b450-557f677c615e"
      },
      "outputs": [],
      "source": [
        "DATA_DIR_old=\"./longcap100\"\n",
        "if not os.path.exists(DATA_DIR_old):\n",
        "  print(\"Downloading the dataset...\")\n",
        "  !gsutil -m -q cp -n -r gs://longcap100/ .\n",
        "  print(f\"Data path: {DATA_DIR_old}\")\n",
        "\n",
        "FOOD_DATA_DIR=\"./food-101\"\n",
        "if not os.path.exists(FOOD_DATA_DIR):\n",
        "  print(\"Downloading the dataset...\")\n",
        "  !kaggle datasets download -d kmader/food41\n",
        "  !unzip -q food41.zip -d ./food-101\n",
        "  print(f\"Data path: {FOOD_DATA_DIR}\")\n",
        "\n",
        "import os\n",
        "import gdown\n",
        "\n",
        "INGREDIENTS_DATA_DIR = \"./ingredients-101\"\n",
        "if not os.path.exists(INGREDIENTS_DATA_DIR):\n",
        "    os.makedirs(INGREDIENTS_DATA_DIR)  # Ensure the target directory exists\n",
        "    print(\"Downloading the dataset...\")\n",
        "    # Define the URL of the Google Drive file\n",
        "    url = 'https://drive.google.com/uc?id=14ztu2gjdowZdMdCvo1tAZJ0aK5rMs4kb'\n",
        "    # Define the output file path\n",
        "    output = 'Ingredients101.zip'\n",
        "    # Download the file\n",
        "    gdown.download(url, output, quiet=False)\n",
        "    # Unzip only the contents of the \"Ingredients101\" directory directly into the target directory\n",
        "    os.system(f'unzip -q {output} \"Ingredients101/*\" -d {INGREDIENTS_DATA_DIR}')\n",
        "    # Move contents up from the nested \"Ingredients101\" directory and remove it\n",
        "    nested_dir = os.path.join(INGREDIENTS_DATA_DIR, 'Ingredients101')\n",
        "    for filename in os.listdir(nested_dir):\n",
        "        os.rename(os.path.join(nested_dir, filename), os.path.join(INGREDIENTS_DATA_DIR, filename))\n",
        "    os.rmdir(nested_dir)\n",
        "    # Clean up the zip file after extraction\n",
        "    os.remove(output)\n",
        "    print(f\"Data path: {INGREDIENTS_DATA_DIR}\")"
      ]
    },
    {
      "cell_type": "markdown",
      "metadata": {
        "id": "rv7w-cGuLj5o"
      },
      "source": [
        "### Configure the model\n",
        "\n",
        "It's time to actually start configuring the model that you're going to use.\n",
        "\n",
        "For this notebook, you need to be able to fit your model onto a T4 GPU. Having a limited resource like space constraints means that you have to be mindful of how your model is configured.\n",
        "\n",
        "If you fine-tune every parameter, your model won't be able to run in the notebook environment. As a result, in this part of the notebook, you'll configure your model so that it has the ability to freeze some of the parameters, and only fine-tune the parameters that really need to be fine-tuned for the model to give you accurate results. In LLMs, parameters are said to be *frozen* when they are no longer actively being used to train the model.\n",
        "\n",
        "In order to configure your model, you need to:\n",
        "\n",
        "* Initialize the `model_config` as a [`FrozenConfigDict`](https://github.com/google/ml_collections/tree/master#frozenconfigdict) so that you can freeze some of the parameters and keep memory usage low\n",
        "* Initialize an instance of the PaliGemma `Model` class using the `model_config` as its configurations\n",
        "* Load the model parameters into RAM\n",
        "* Define a `decode` function to sample outputs from the model\n",
        "\n",
        "This code in this cell takes about a minute to run to completion."
      ]
    },
    {
      "cell_type": "code",
      "execution_count": 10,
      "metadata": {
        "id": "1aghcULcEdtv"
      },
      "outputs": [],
      "source": [
        "# Define model\n",
        "model_config = ml_collections.FrozenConfigDict({\n",
        "    \"llm\": {\"vocab_size\": 257_152},\n",
        "    \"img\": {\"variant\": \"So400m/14\", \"pool_type\": \"none\", \"scan\": True, \"dtype_mm\": \"float16\"}\n",
        "})\n",
        "model = paligemma.Model(**model_config)\n",
        "tokenizer = sentencepiece.SentencePieceProcessor(TOKENIZER_PATH)\n",
        "\n",
        "# Load params - this can take up to 1 minute in T4 colabs.\n",
        "params = paligemma.load(None, MODEL_PATH, model_config)\n",
        "\n",
        "# Define `decode` function to sample outputs from the model.\n",
        "decode_fn = predict_fns.get_all(model)['decode']\n",
        "decode = functools.partial(decode_fn, devices=jax.devices(), eos_token=tokenizer.eos_id())"
      ]
    },
    {
      "cell_type": "markdown",
      "metadata": {
        "id": "uidBwmb8LwZ5"
      },
      "source": [
        "### Move model parameters into GPU/TPU memory\n",
        "\n",
        "Now you need to move the model parameters into GPU/TPU memory. First, shard the parameters across the available GPUs, then load the parameters. Here, you'll load the parameters sequentially. This process takes longer than loading them simultaneously, but it requires more RAM than you have available in this notebook.\n",
        "\n",
        "Finally, print out all of the parameters to see what type each individual parameter is cast to. Frozen parameters are kept as `float16`, while the trainable parameters are cast to `float32`. When you inspect the list, you'll see that most of the parameters have been frozen and are `float16`."
      ]
    },
    {
      "cell_type": "code",
      "execution_count": 11,
      "metadata": {
        "colab": {
          "base_uri": "https://localhost:8080/"
        },
        "id": "RWOdf_fw2SAO",
        "outputId": "30ac53ae-b724-42c5-c486-03ed42b8bc25"
      },
      "outputs": [
        {
          "name": "stderr",
          "output_type": "stream",
          "text": [
            "2024-07-23 23:26:24.470006: W external/xla/xla/service/gpu/nvptx_compiler.cc:765] The NVIDIA driver's CUDA version is 12.4 which is older than the ptxas CUDA version (12.5.82). Because the driver is older than the ptxas version, XLA is disabling parallel compilation, which may slow down compilation. You should update your NVIDIA driver or use the NVIDIA-provided CUDA forward compatibility packages.\n"
          ]
        }
      ],
      "source": [
        "# Create a pytree mask of the trainable params.\n",
        "def is_trainable_param(name, param):  # pylint: disable=unused-argument\n",
        "  if name.startswith(\"llm/layers/attn/\"):  return True\n",
        "  if name.startswith(\"llm/\"):              return False\n",
        "  if name.startswith(\"img/\"):              return False\n",
        "  raise ValueError(f\"Unexpected param name {name}\")\n",
        "trainable_mask = big_vision.utils.tree_map_with_names(is_trainable_param, params)\n",
        "\n",
        "# If more than one device is available (e.g. multiple GPUs) the parameters can\n",
        "# be sharded across them to reduce HBM usage per device.\n",
        "mesh = jax.sharding.Mesh(jax.devices(), (\"data\"))\n",
        "\n",
        "data_sharding = jax.sharding.NamedSharding(\n",
        "    mesh, jax.sharding.PartitionSpec(\"data\"))\n",
        "\n",
        "params_sharding = big_vision.sharding.infer_sharding(\n",
        "    params, strategy=[('.*', 'fsdp(axis=\"data\")')], mesh=mesh)\n",
        "\n",
        "# Yes: Some donated buffers are not usable.\n",
        "warnings.filterwarnings(\n",
        "    \"ignore\", message=\"Some donated buffers were not usable\")\n",
        "\n",
        "@functools.partial(jax.jit, donate_argnums=(0,), static_argnums=(1,))\n",
        "def maybe_cast_to_f32(params, trainable):\n",
        "  return jax.tree.map(lambda p, m: p.astype(jnp.float32) if m else p,\n",
        "                      params, trainable)\n",
        "\n",
        "# Loading all params in simultaneous - albeit much faster and more succinct -\n",
        "# requires more RAM than the T4 colab runtimes have by default.\n",
        "# Instead we do it param by param.\n",
        "params, treedef = jax.tree.flatten(params)\n",
        "sharding_leaves = jax.tree.leaves(params_sharding)\n",
        "trainable_leaves = jax.tree.leaves(trainable_mask)\n",
        "for idx, (sharding, trainable) in enumerate(zip(sharding_leaves, trainable_leaves)):\n",
        "  params[idx] = big_vision.utils.reshard(params[idx], sharding)\n",
        "  params[idx] = maybe_cast_to_f32(params[idx], trainable)\n",
        "  params[idx].block_until_ready()\n",
        "params = jax.tree.unflatten(treedef, params)\n",
        "\n",
        "# Print params to show what the model is made of.\n",
        "def parameter_overview(params):\n",
        "  for path, arr in big_vision.utils.tree_flatten_with_names(params)[0]:\n",
        "    print(f\"{path:80s} {str(arr.shape):22s} {arr.dtype}\")\n",
        "\n",
        "# print(\" == Model params == \")\n",
        "# parameter_overview(params)"
      ]
    },
    {
      "cell_type": "markdown",
      "metadata": {
        "id": "iD_9XXQkn1Mv"
      },
      "source": [
        "## Prepare to tune the model\n",
        "\n",
        "Now that your model is configured, you can tune it. In this step, you'll create your model's inputs as well as the training and validation iterators, view the training examples, and define the training and validation loops."
      ]
    },
    {
      "cell_type": "markdown",
      "metadata": {
        "id": "83ZcnbddJKdx"
      },
      "source": [
        "### Create model inputs\n",
        "\n",
        "The model checkpoint you're using has already been trained on images of various aspect ratios that have been resized to 224x224 pixels, and to handle tokenized texts.\n",
        "\n",
        "The code below defines three functions that you'll use in the next step create the model's inputs:\n",
        "\n",
        "* **`preprocess_image`:** Normalizes the image data. In this case, pre-processing converts the passed-in image to greyscale, removes the alpha layer, and resizes the passed-in image to the size required by the model for image inputs (224x224 pixels).\n",
        "* **`preprocess_tokens`:** Splits the tokens up and adds flags to mark whether a token is a prefix or suffix token. These flags will be used later on in the code, during the training step and the evaluation loop.\n",
        "* **`postprocess_tokens`:** Removes any tokens left at and/or after the end-of-sequence (EOS) token and returns the remaining decoded tokens.\n"
      ]
    },
    {
      "cell_type": "code",
      "execution_count": 12,
      "metadata": {
        "id": "8SRW0NuU4UcW"
      },
      "outputs": [],
      "source": [
        "def preprocess_image(image, size=224):\n",
        "  # Model has been trained to handle images of different aspects ratios\n",
        "  # resized to 224x224 in the range [-1, 1]. Bilinear and antialias resize\n",
        "  # options are helpful to improve quality in some tasks.\n",
        "  image = np.asarray(image)\n",
        "  if image.ndim == 2:  # Convert image without last channel into greyscale.\n",
        "    image = np.stack((image,)*3, axis=-1)\n",
        "  image = image[..., :3]  # Remove alpha layer.\n",
        "  assert image.shape[-1] == 3\n",
        "\n",
        "  image = tf.constant(image)\n",
        "  image = tf.image.resize(image, (size, size), method='bilinear', antialias=True)\n",
        "  return image.numpy() / 127.5 - 1.0  # [0, 255]->[-1,1]\n",
        "\n",
        "def preprocess_tokens(prefix, suffix=None, seqlen=None):\n",
        "    separator = \"\\n\"\n",
        "    tokens = tokenizer.encode(prefix, add_bos=True) + tokenizer.encode(separator)\n",
        "    mask_ar = [0] * len(tokens)\n",
        "    mask_loss = [0] * len(tokens)\n",
        "\n",
        "    if suffix:\n",
        "        suffix_tokens = tokenizer.encode(suffix, add_eos=True)\n",
        "        tokens += suffix_tokens\n",
        "        mask_ar += [1] * len(suffix_tokens)\n",
        "        mask_loss += [1] * len(suffix_tokens)\n",
        "\n",
        "    mask_input = [1] * len(tokens)\n",
        "    if seqlen:\n",
        "        padding = [0] * max(0, seqlen - len(tokens))\n",
        "        tokens = tokens[:seqlen] + padding\n",
        "        mask_ar = mask_ar[:seqlen] + padding\n",
        "        mask_loss = mask_loss[:seqlen] + padding\n",
        "        mask_input = mask_input[:seqlen] + padding\n",
        "\n",
        "    return jax.tree.map(np.array, (tokens, mask_ar, mask_loss, mask_input))\n",
        "\n",
        "def postprocess_tokens(tokens):\n",
        "  tokens = tokens.tolist()  # np.array to list[int]\n",
        "  try:  # Remove tokens at and after EOS if any.\n",
        "    eos_pos = tokens.index(tokenizer.eos_id())\n",
        "    tokens = tokens[:eos_pos]\n",
        "  except ValueError:\n",
        "    pass\n",
        "  return tokenizer.decode(tokens)\n"
      ]
    },
    {
      "cell_type": "markdown",
      "metadata": {
        "id": "ovgWBgdHJZq3"
      },
      "source": [
        "### Create the training and validation iterators\n",
        "\n",
        "Create two iterators:\n",
        "\n",
        "*   A **training iterator** to allow the training process to go through the data in chunks rather than processing it all at once\n",
        "    *   This allows you to do some data pre-processing before use\n",
        "*   A **validation iterator** that allows the training process to iterate over the validation dataset to see how well the tuned model aligned with the provided results"
      ]
    },
    {
      "cell_type": "code",
      "execution_count": 13,
      "metadata": {
        "id": "YpwUkjLfWacG"
      },
      "outputs": [],
      "source": [
        "# HERE"
      ]
    },
    {
      "cell_type": "code",
      "execution_count": 14,
      "metadata": {
        "id": "uk-DEf8-veZo"
      },
      "outputs": [],
      "source": [
        "DATA_DIR = './food-ingredients-101'"
      ]
    },
    {
      "cell_type": "code",
      "execution_count": 15,
      "metadata": {
        "id": "zWWmYmPvyxk8"
      },
      "outputs": [],
      "source": [
        "import os\n",
        "import json\n",
        "\n",
        "# def merge_data(food_data_dir, ingredients_data_dir, data_dir):\n",
        "#     # Create the data directory if it doesn't exist\n",
        "#     os.makedirs(data_dir, exist_ok=True)\n",
        "\n",
        "#     # Define the paths to the required files\n",
        "#     food_train_file = os.path.join(food_data_dir, 'meta', 'train.json')\n",
        "#     food_test_file = os.path.join(food_data_dir, 'meta', 'test.json')\n",
        "#     ingredients_train_images = os.path.join(ingredients_data_dir, 'Annotations', 'train_images.txt')\n",
        "#     ingredients_train_labels = os.path.join(ingredients_data_dir, 'Annotations', 'train_labels.txt')\n",
        "#     ingredients_test_images = os.path.join(ingredients_data_dir, 'Annotations', 'test_images.txt')\n",
        "#     ingredients_test_labels = os.path.join(ingredients_data_dir, 'Annotations', 'test_labels.txt')\n",
        "#     ingredients_file = os.path.join(ingredients_data_dir, 'Annotations', 'ingredients.txt')\n",
        "\n",
        "#     # Load the ingredients data\n",
        "#     with open(ingredients_file, 'r') as f:\n",
        "#         ingredients_list = [line.strip() for line in f.readlines()]\n",
        "\n",
        "#     # Create a dictionary to map each class to its ingredients\n",
        "#     class_to_ingredients = {i: ingredients for i, ingredients in enumerate(ingredients_list)}\n",
        "\n",
        "#     def create_jsonl(image_file, label_file, split):\n",
        "#         with open(image_file, 'r') as f:\n",
        "#             image_paths = [line.strip() for line in f.readlines()]\n",
        "\n",
        "#         with open(label_file, 'r') as f:\n",
        "#             labels = [int(line.strip()) for line in f.readlines()]\n",
        "\n",
        "#         if len(image_paths) != len(labels):\n",
        "#             raise ValueError(\"The number of images and labels do not match.\")\n",
        "\n",
        "#         output_file = os.path.join(data_dir, f'{split}.jsonl')\n",
        "#         with open(output_file, 'w') as f_out:\n",
        "#             for image_path, label in zip(image_paths, labels):\n",
        "#                 ingredients = class_to_ingredients[label]\n",
        "#                 suffix = ', '.join(ingredients.split(','))\n",
        "#                 record = {\n",
        "#                     \"prefix\": \"\",\n",
        "#                     \"suffix\": suffix,\n",
        "#                     \"image\": food_data_dir + '/images/' + image_path + '.jpg',\n",
        "#                 }\n",
        "#                 f_out.write(json.dumps(record) + '\\n')\n",
        "\n",
        "#     # Process the train and test splits\n",
        "#     create_jsonl(ingredients_train_images, ingredients_train_labels, 'train')\n",
        "#     create_jsonl(ingredients_test_images, ingredients_test_labels, 'test')\n",
        "\n",
        "# # Example usage\n",
        "# merge_data('food-101', 'ingredients-101', 'food-ingredients-101')"
      ]
    },
    {
      "cell_type": "code",
      "execution_count": 16,
      "metadata": {
        "id": "whzWOojGOtzi"
      },
      "outputs": [],
      "source": [
        "SEQLEN = 128\n",
        "\n",
        "train_dataset = big_vision.datasets.jsonl.DataSource(\n",
        "    os.path.join(DATA_DIR, \"train.jsonl\"),\n",
        "    # fopen_keys={\"image\": FOOD_DATA_DIR}\n",
        "    )\n",
        "\n",
        "val_dataset = big_vision.datasets.jsonl.DataSource(\n",
        "    os.path.join(DATA_DIR, \"val.jsonl\"),\n",
        "    # fopen_keys={\"image\": FOOD_DATA_DIR}\n",
        "    )\n",
        "\n",
        "test_dataset = big_vision.datasets.jsonl.DataSource(\n",
        "    os.path.join(DATA_DIR, \"test.jsonl\"),\n",
        "    # fopen_keys={\"image\": FOOD_DATA_DIR}\n",
        "    )\n",
        "\n",
        "\n",
        "from PIL import Image\n",
        "import os\n",
        "import io\n",
        "\n",
        "def train_data_iterator():\n",
        "    \"\"\"Never ending iterator over training examples.\"\"\"\n",
        "    dataset = train_dataset.get_tfdata().shuffle(1_000).repeat()\n",
        "    for example in dataset.as_numpy_iterator():\n",
        "        try:\n",
        "            # Decode the byte path to a string and form the full image path\n",
        "            image_path = example[\"image\"].decode()\n",
        "            image = Image.open(image_path)\n",
        "            image = preprocess_image(image)\n",
        "        except Exception as e:\n",
        "            # print(f\"Error opening image at {image_path}: {e}\")\n",
        "            continue\n",
        "\n",
        "        prefix = \"caption en\"\n",
        "        suffix = example[\"suffix\"].decode().lower()\n",
        "        tokens, mask_ar, mask_loss, _ = preprocess_tokens(prefix, suffix, SEQLEN)\n",
        "\n",
        "        yield {\n",
        "            \"image\": np.asarray(image),\n",
        "            \"text\": np.asarray(tokens),\n",
        "            \"mask_ar\": np.asarray(mask_ar),\n",
        "            \"mask_loss\": np.asarray(mask_loss),\n",
        "            # \"image_path\": image_path,\n",
        "        }\n",
        "\n",
        "\n",
        "def validation_data_iterator():\n",
        "  \"\"\"Single iterator over validation examples.\"\"\"\n",
        "  for example in val_dataset.get_tfdata(ordered=True).as_numpy_iterator():\n",
        "    try:\n",
        "        image_path = example[\"image\"].decode()\n",
        "        image = Image.open(image_path)\n",
        "        image = preprocess_image(image)\n",
        "    except Exception as e:\n",
        "        continue\n",
        "\n",
        "    prefix = \"caption en\"\n",
        "    tokens, mask_ar, _, mask_input = preprocess_tokens(prefix, seqlen=SEQLEN)\n",
        "\n",
        "    yield {\n",
        "        \"image\": np.asarray(image),\n",
        "        \"text\": np.asarray(tokens),\n",
        "        \"mask_ar\": np.asarray(mask_ar),\n",
        "        \"mask_input\": np.asarray(mask_input),\n",
        "    }\n",
        "\n",
        "\n",
        "def test_data_iterator():\n",
        "  \"\"\"Single iterator over test examples.\"\"\"\n",
        "  for example in test_dataset.get_tfdata(ordered=True).as_numpy_iterator():\n",
        "    try:\n",
        "        image_path = example[\"image\"].decode()\n",
        "        image = Image.open(image_path)\n",
        "        image = preprocess_image(image)\n",
        "    except Exception as e:\n",
        "        continue\n",
        "\n",
        "    prefix = \"caption en\"\n",
        "    tokens, mask_ar, _, mask_input = preprocess_tokens(prefix, seqlen=SEQLEN)\n",
        "\n",
        "    yield {\n",
        "        \"image\": np.asarray(image),\n",
        "        \"text\": np.asarray(tokens),\n",
        "        \"mask_ar\": np.asarray(mask_ar),\n",
        "        \"mask_input\": np.asarray(mask_input),\n",
        "    }"
      ]
    },
    {
      "cell_type": "markdown",
      "metadata": {
        "id": "84olaM5dCiAl"
      },
      "source": [
        "### View training examples\n",
        "\n",
        "In this notebook, the training data contains 90 images that are paired with long descriptions of what's depicted in the image.\n",
        "\n",
        "**Note:** Normal training data sets that are meant to be used for practical use cases should contain more images, but this notebook limits the number of data points so that you can train the model in a reasonable amount of time for an example.\n",
        "\n",
        "The code below prints a random selection of images with their descriptions from the training data set so that you can see what the images and descriptions your model is trained on looks like. Each image is displayed in as a 128x128 pixel JPEG, with the description printed next to the image to the right."
      ]
    },
    {
      "cell_type": "code",
      "execution_count": 17,
      "metadata": {
        "colab": {
          "base_uri": "https://localhost:8080/",
          "height": 563
        },
        "id": "BzJfb5t0nsLq",
        "outputId": "158d03ec-f326-464d-f76a-e261b96ceaa7"
      },
      "outputs": [
        {
          "name": "stdout",
          "output_type": "stream",
          "text": [
            "Training examples\n"
          ]
        },
        {
          "data": {
            "text/html": [
              "\n",
              "    <div style=\"display: inline-flex; align-items: center; justify-content: center;\">\n",
              "        <img style=\"width:128px; height:128px;\" src=\"data:image/jpeg;base64,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\" />\n",
              "        <p style=\"width:256px; margin:10px; font-size:small;\">potato, flour, salt, black pepper, cayenne pepper, oil</p>\n",
              "    </div>\n",
              "    \n",
              "    <div style=\"display: inline-flex; align-items: center; justify-content: center;\">\n",
              "        <img style=\"width:128px; height:128px;\" src=\"data:image/jpeg;base64,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\" />\n",
              "        <p style=\"width:256px; margin:10px; font-size:small;\">onion, flour, baking powder, egg, bread, oil</p>\n",
              "    </div>\n",
              "    \n",
              "    <div style=\"display: inline-flex; align-items: center; justify-content: center;\">\n",
              "        <img style=\"width:128px; height:128px;\" src=\"data:image/jpeg;base64,/9j/4AAQSkZJRgABAQAAAQABAAD/2wBDAAgGBgcGBQgHBwcJCQgKDBQNDAsLDBkSEw8UHRofHh0aHBwgJC4nICIsIxwcKDcpLDAxNDQ0Hyc5PTgyPC4zNDL/2wBDAQkJCQwLDBgNDRgyIRwhMjIyMjIyMjIyMjIyMjIyMjIyMjIyMjIyMjIyMjIyMjIyMjIyMjIyMjIyMjIyMjIyMjL/wAARCADgAOADASIAAhEBAxEB/8QAHwAAAQUBAQEBAQEAAAAAAAAAAAECAwQFBgcICQoL/8QAtRAAAgEDAwIEAwUFBAQAAAF9AQIDAAQRBRIhMUEGE1FhByJxFDKBkaEII0KxwRVS0fAkM2JyggkKFhcYGRolJicoKSo0NTY3ODk6Q0RFRkdISUpTVFVWV1hZWmNkZWZnaGlqc3R1dnd4eXqDhIWGh4iJipKTlJWWl5iZmqKjpKWmp6ipqrKztLW2t7i5usLDxMXGx8jJytLT1NXW19jZ2uHi4+Tl5ufo6erx8vP09fb3+Pn6/8QAHwEAAwEBAQEBAQEBAQAAAAAAAAECAwQFBgcICQoL/8QAtREAAgECBAQDBAcFBAQAAQJ3AAECAxEEBSExBhJBUQdhcRMiMoEIFEKRobHBCSMzUvAVYnLRChYkNOEl8RcYGRomJygpKjU2Nzg5OkNERUZHSElKU1RVVldYWVpjZGVmZ2hpanN0dXZ3eHl6goOEhYaHiImKkpOUlZaXmJmaoqOkpaanqKmqsrO0tba3uLm6wsPExcbHyMnK0tPU1dbX2Nna4uPk5ebn6Onq8vP09fb3+Pn6/9oADAMBAAIRAxEAPwDhrHU4psfMM1Br14q2xUHrXI29w8RyrGn3N29wMMTWcbR0N3dmbIdzk0nOKseVk0vkU+ZEcjKuKMVaEFOFvRzofs2VQDmpFU1aW2qZLaodRFxpMqLGzU4W5DVoLDt7U8RA84qecp07DLcbcV02ll5NoQZIrAhj3ShfevTvDel28Nh9okxnGeadyNjQ8PSvG481cAV00uuW0SlGYdK4aTWkF6YoyAOlYPiHUJrZywY8iicLxM5OXMjodf1iwmZlXG6sJYGnt29O1cWl+811uZj1r0HRiLq3UKR0riqx5Fc7KUpSVjlri2eJzkGs24cgYFegaraQJEQy4auSns4+WohWizX2ErXOceVgeaQSFjV24gQk4xVRl2V1JpoxsSKwqZVzVHdz1qT7QVGBScew7k8hCmoThjUDSMxzSqWzmqUbCbL0UeBTiAtQrI+2nKGfrUNCKs2d3FNQknmrEqCmqqqKu47lJRzUipmlVDUqoapszigWMVIIhSqpqVUNZtmqREIRThDUwQ1IqEmouURLDVmK3z2qWOIDrV63h3MKZPNfYgj0/eOlS/2aOgrVVAq4FR5CSjNWkaKCtdle00JmlDV1YZ4bHyEPOMVlLdui/Ip6Vd0VZLy5Ic8VULXb3sYzsrX0MqLSLw3fnBWIzmr2p6Bc6nbDbGdwFekWFlbxQfvAKv2/2JTtULT9pyxuZzqRlKyPnuTwnf20x3RN+VdL4as7y2uArowFewXFjauN7Rr+VZVylpCpKKoauWdWMtJGkbpaHEeJJEQqD1rnZIUktyQeTW54kjMpLgZrmoxOQRg4rllBXvA76FS8eWRi3Ns6Ox7VQfniujmTcCCOaxLmHY5rupyvuc1Wny6ophOaNmak205VrUwuRCGpUjAqULS7aTYBgY6Uu7A4oIppBqAI2GTTGqUio2UmqQEqW1WY7XNTIvNWUGKUiooomDaacIqtyLnpTViOMmo3NNERJDuqyIAi5qSBBmnSntSehDdyBFy+K1IECJVO3iy2avhTitYx6lQRPCpkkCjvW/aeG2nw5WsSwZY7hSx716XpN3AYFyR0qakJS0RcqqhqZC+GFS3Pyc49KybdF06+ZSMc16SrxvESMYxXnfiEAaixUdPSrwaVKT5jmxF660Ld3rYjjwHxxWVF4jEU4Jl7+tclrd9OpIQNiuad76R8qHxW1WUJ6I4IYepGV2e8f8JPby2QAkG7HrXNX+pTOS0bEiud8OWU0sSm4cgHjmum1a0TTbNWA3ZFcNSKuehGpCG5QgvBct5c6/nT7tba1jOFHIrCn1EKQyrila8+1xYY81g1rod9NJw51szPu50EpIrOuFEq5AqxcoBJinJGCldEXZEyVzIMeDSbKtzxbWqJUJrW5zONmNApcVIIqkWPmk2ibEGKQgYq2YcjiojCe9RdD5SqaQCrDRUzy6q4rF+NasKuaSOMscCrqRLGuW61drjb5SJbcYyaimYLwtTSzZGBVNsk5rN76CvcdG+DUmN7CoF61cjAAzTjG7GlfQmiAUVaXkVUU81OHwtdBulZBJkHKmr9jdX7kJETxWaTk1u+HCTe7cZ471FVtRuhcqe5uWfiKaAJbSD96eMV19noVvc24luYwXcZ5rnH8MmKNtYlGZl5WMV1lnrNvNDGinD7RkHtWN+Vau5zt3d4qxn3ng3SZ+XiAqnc+FtItbNnESAKOpreknDH94evSuf8TywvZ+TcXDRKey/xVyqm6k7vYJ1nCLZxN+6xgm2wFjbgitCfULe8tYILs43jAasy71O0s5I1hjzb9CDyTXL+IdZmuZ4kgheKFGHXv9K1nT/eWgtDhpVHJc0t2dRquh28VqSkqZ7c1X07SoYbEz3LACqN7+/0zETMZSBjJrNZbwwm3+2Byg5XPes1B9zujiZQpuCRau7SG5n/AHLjGaZc2bWirnvWRE1xFPgsQQa1ri4eWFUflgK2vZ2Kw05y3KEi76iEeDVimkVR0Tj1IipFJyKlJxUbEGgxsKrkU7dkVXJIpRJg0lHUVyUrUTJSmTNMZ8VVhXOlNulqhLdaz5py7cdKLi7aU8mqm7mnzXIJiaYTmk3E0AZIFJFD4lJarPSkjUKOafgk1tFWNoRHJ0zUqMCcGkt1LTqgQvnjA71YvLG4sHzPCY1bkZrQryI9tdBo0v2QbsJuHI/2j6Vz0JM02yM8gZFYs73qXTDfIpBzjpXLiveXLexvSXVo95e+iv7KFBPEFYDcNwGKbBpVkXEyTMYyM/KeuK8c0Sx1PVtXgtxLOqMf3jqfurWhqXiC/tLg2qzSxNbkou1umKwjHlftJa3Lhg/bScIO1u57KLpJozthIVeBuXBP0rgPG14LqIwIPLeFskn0rA07xjNHco15cStEfvMDlgfWtbVL601e3aaGRJzjaWTvV05vZ7HNisE4e6cNflxZF3kwMjAHUmnadFPqE0XmuTBAPMdAOM9uawrq5khvZIZFYxBzt9Vrr7O4j06wts71+2MJWGwA7RwAf512xUVTae/Q8V0pQmn0M67eaCOWUttA6AVm20kCwmbzmaZ87l9K6nVpLS70144k3TMygKOecitu18E6ZHpJnlCoep3tiuPmXLqejh6cZPmkefWs4E4LqSM9avzSJJLkHjtTJktEmmFvygbCc9qqNGwy4+6elTFxcrs9aWE5I3giyVwc5pMVCkp6Gpg2RWrOewx8dKgbg1M/XNIyBlz3pbHPKOpWZuKZuqQrk4phiIqo2MpIXIxUbA4pelLuFU9yUXWpg5NDEmheKzQyVeKmiTnJqGIFmq2RgYrSCNIRuL24qTeVQDFIgyuTS8961R0JWJ7G7NlfRXBXcEOSK3r3UdM1K0WFryaIBiWMke48+lYCqCMGlwFONoPFDv0JcE3ctm30WzZJYtRuJ3ByAkQGD75NWv7NfWtdt440OJyA0gXIHqaraLbR3OsRRuuABn7ucmvTNEgt7SVl3+bNETgZ5Ga4MVK9SMEjaD9nFyuSxaZp3h7w7czW+5liR5Cz8Fjjv7V4l4gWWLVJVk2M5O4lDkNnnr3617F4x1W2k0F7Qgh7g4KjsoPNeTz+U7ncoPGAMZPtTjJaQbNsDTqWlVa3MEnOWXP0FbnhS7jtNTS3uMGKc7GB7E9D+dU/s7JNhogoboDVSaF1cknDg5+la6LQ6Zx50dR4p8NiC+ikRPklcDIHrWH4r1qGfUo4IMhLdBGxPqOteiQ3S6x4dsrnKtIoG/2I4NeMXwc31xgq7bySRznmtKN7tM8bELmSTOu8Hxtf3zNnciAHr37VveNNU+waesCvh5vkA9u9cp4Qu5rCOZgFyTnn6Va1oLr1wstxMYWj+RUxx9ac6acjOg+QwozK43KGK+oFdxofhQ6t4bnuWyLgnMPPp6/WuegN9pcBjtLiOWMnLI6Dmu38IeL7cRpplwiI/RdvvXHiIzirxPXliXOFkcVPpdzbSFZYWUg4PFPvNPNpHHIJFeNxwQeRXd+IrCaQyTpbsQx4INc9Z6HNqhVWTyMfe3dhWVLFuWk0S6StzJnN44phzitPV9PXTr1rdGLAD7x71nEcV1bnNONyHHNDc9qecUgGaaZytFdlqIqauMlQsMVSkRyljHFM6tgU9vSn28W5s04oSVyeFNoqXGaeFAxUgwBmtUdcI2IwD0HSp4lDHnqKj80Z+7Uwc9kA461ReorBQcA0nykepNNB7bfmNXLS0eSdfMQdegOc+1ROrGGsnYqMJSeh1XgjR0mW4upcAodoJ6gdSK7QXtnE4WNFLdMgd8VyNnb3ywOZJfLizlY0z1q5ZagdpjkTy3OcBxgkCvIrYpc3NHbuU8PfdnOeMrhn1s4wIzGCMdK5AkRXAfzPm9RXY62YLkMrli5BKHGMHHT86425LQQskiA574rSD5mpnpYecfZeyeg+dfMBd2ZiejGq9xG4A39xzS21yHgbccFen0qtJKzMctkZrqlJSNoUrR0N/wAKamLOOezmOAxzH6c1gy6cLdpXZcszkEjoOTRDKFdWzyDWndT21xGj7vmIIYdOfWplUeiRzxwiUnIzkT7HZu4IO1c/jWELiVrkOOCeCetbt1MjQmMk/NgHvjFUVtg5LIPz4reNbS7OapgveEWSa2LOZmcdAPWn6cZrvUYntkczBsjb2qaSwLQ/OdxAzgdhTNE1uHRtQeVYi6sMEDmp53OD5VdmWIpqk09keuWzXEdokd7OXO3qBmqGJ5Xm+zqQo+9k1nW3jC1uXEcimGIr96Q9azPEWsxpefuJwybQyiNuPxrxo4Wtz88jWnUhy8sSv4sE5dJWwMrjOfSuftJC6YJyRUN1cXV8cyu3ljkDNWtOtXc7VIyfWvYgrRszlbbkJICDTVfBq1cQmMlG6iqgQ5pMwqRsxzOT0qM+9Obioi1CMy1jLVbiGxfeo4I88mrAGK6Ixsi6UL6sevNOI701SDUo4Umq2OmyuIhXPIqQDONw2rnGahBHWt/T9PF4VbeoUgHkZxWFeq6cU0i4xT3ZV060FxPuXHynBDA5FdjpthY2ZCRyLuXk7jkis2exhsU6+ap/jUkE/WsyJo2WSMZCE5xmvHq1nUlaaN1TTV4PQ7icxQWxfzAQnzdc/nWZLJHqOlG8iuV3AZXaQc81l6eZNSuUsF+6w2kE8be+a6U2nh/w3DmRE3kcqP4v+A1VGClB9EZTvTmktWYBtDOVaaNnk6gAcYqvN4ct7523R+WBzjGDmtObxsN7LawJDH0HAzWadfMkwmaR3I/vNxWLtB+7Js6oxqS1asY114TjjYFGYKT/ABDGarTeEZCN6E4HXIrpB4ncgq9vE6djjpTP7fDIQcKp/h64q3VmtmaQdSOhxkvh+4jfGzHPHOapTWNxEpAQkjrXX3GoQNG4x945yOtUG1KMLtKA445rWnXk1qjTmkjloN6zKJIQ75+6RxV59OvJuI0Ea9T2FXTNALjzREgY+1LJqhAwK1nVk37qIjNv4iI2Vz5RjmmRVxglepqkdH0+3jDRtIZOcsD19qfPfM561Es24HJxjnB71UPaLrYyq+zn8SuDhSTuUAEdKg8gMeBn8amaTcoyFA71HLOiLtQ81onJmD5UhyhUUI6gHvT4zggjj6VmkyS/OrEKv/j1XLeQuB2J6Vso2RjzK5YZizEnJ+tMYc5pC/JFKGyKT1JnHmRC4yaiaPNTOKZkihHF5GsFCLgUnejk0oU12HYlYVfvVMcfdqP7vPepLYkzDIB+tJlJDlt2K7tvy+prpfDF0IreVeGKH7vtWDdXYbKDAXpVODVmsZ1eLkr1A71lODnGyFN6andXlzFJEWXG05BB45rn4ikbMWwO9Y9z4pQxnMZHPQc1ly+I4GJPzDPavMlhKjlqioV4xVrnXrqcloXmtZvLduCy9ay57953ZpGLuecscmufTXI3BTcBTP7RQsTvFWsNLZmka8Fqa7zsrZB4p63ZI7YFYv8AaMb/APLQU1rxQvDj86r6s30NFi13N37Wuc7uKab4YxxXP/bV7sBQb9P7wp/VCni4m612CMVBJOsnGKxmveMngetNOpKOjVccK0ZyxcTWeXOBmq80m0HnOT1rMbUQe9Qve5z1Nbww7RzyxUS4ZCzMw7etS/aAqF24xWQtyx42mnGWQnJiZsdARxWromP1nTQ0mkuJFDKhC+9D2+SN0hIxkjGKz0vGUYdD0xjpSfbiG+YMRR7JrYXt49TSZiiYBwBxgVXaVyvTBHpTDcRMu7cB61C1ypbg5pxgZVKrexdguth2tkk1pJ8wBrIso2lm3EcD1rcRMDpWVWyeh04fmktRrJkVE0dWSaiY1hd3FVhZ3NAJinDpSkZpdmBXci7kTGp4EbaWU1EVyanhcIwoZV2MliUqQRk9arvZJgEcD3rRdY2Bboe/NV2lnjLeVtIIwc+lRKfIrszqzjCPNIqWVgq3DTOgkRByhHXNF3odlqQL2gEc3dF6flVmwn2XHkeWf3hAwOcGu40Pw0jXga8tTtcYGOMH3rCUqk5rl2PNrtqfNHY8cvdEurLmaPCn+JTkVBFYNJyeBnHNe9654RtU0+WS2jJkUZ2k5BrhpfD8V5bbLSN475PmWIn5ZPp71sqsk+WRcJp6S3OJutDnjjaaKJmgGAH7n8KoyWMyAMYnAPcqa9e1TSmi0CGSZFimtYRkqOCB1BrrvD+lWl74ctZLiKKXfGCMrmtOZp2aIjK7s0fNv2ZyeFNSSaddQRRyyQOiSZKFhjdivo9vBOiG4EwsYiwOQCOM/SsvWfh3DrExnmvJt4GFXjCj0A7U/ao1SjfU+f2WVuGLHHqal/s+cRrI0TKjdGIwDXsEXwkt0nDS3MrqDnbgDNdPq3hm2utMjtPsyoka7QMdKqMl3CTgmup89JYkj5iB9K1dI0zT7i/iivJvJhbq5rf1HwTqVpORCgkQH5avar4ahn06KW0tmjvIVBuIV6H3FZuTa3OlKmtibV/BtjBpz3GmNJLKoBC4Dbh+FchLDPbsIp4nibrtYYNXbXWtQ0dvLtpZI1DZ2OMj8q2x4qtNUcf2zYLMcbd8eOPw/wDr1guZb6m6jy9DkzAvUgGomtgeqg/hW7qsWm/aEbTWfyWHKuDlD+NUjCPWquy0otbFCGyg3ZMQyatLZQrz5aj8KeRsHY1raFol1rczLFwi9WNS3JicIRV7GdHAinIqfAArsn8IW9hAXuJ8tiuUvI44p2WM5XNZuL3KhKL0RSfrUD1bZOKrutJDnG6saietOd6jGRxSsK7bmCG5OaazFTkVIsbMwAFb1jo9vdxBZG2uaBSqxhuYAjnkG5WBz71GN6/K5+ar2oafJYXDxknaOhFY07yxMWOSD0zXNWd4uKOGpOpWi4qOh1fgy1E3iBXwDtU9RmvV0iKYOOfWvPfA+mTQ2JvpxiSXlfYVeudf1t7qeOwZGSDrvH3qMPJwXKxxwsrWud+QvB9eoNYepWANzFJCFQq+cKo71leEdev9ZnuIbmLaY+/oa6iaMnBOMrzVKsk7lToOL5XuZOoQCayngkj3b4ypGM5qwUk0rw9BHbKgaKMAK3AFV72Z1voCAclvmqn4gu5JpYbGF/mkyxXPYV1QXtI6HLW5oFOfx1DZQFp/klwdqdcmqdr4/wBQvJo44reMbuWLcBfrXI+MdJa2VL3ziQrBSpFcrNqks0PlRny1Iw2DVuFOD5ZK5cac6kLp2Z7Vc+ORFEEjMcsoPzFDkCqkfj1p5DHMFKNxnHSvJrFJLeJZDJiMnBGa17d4fLm81WJZfk2noa4q0JRk0noFKaUuWZ6YdQinXdHInPYmoSWOWAwcYyK8u+fd888in2PFXLLX7zR5wzyNLbnqrHOKwpuUep6lTCNQ547FPxPbSadqEhbnzckNiseCZT0NdP4j1uHVYo0S2RoyQwc9/aubit1QHaMZroTTWu4UZTa12LUbn149KmHJzz9KropHpVuCIyE4I+UFjk4zSZrcidM1veHNfOih4nTKO2SazAm8ZPagw561NxtJqzOp1vxHbalZ4TIeuRG52yTmpPIFSLFik9iYpR2GEcc1A4Bq0yk1XdMVnymiZfaM0gGDzStPmoXkrtOZbGlDcwRL82M1WutSkDhoWIx6Vj3BdjkE02J2H3qznJ7HkToyVRuRstqMt4mJ2yQOtFnbrd3kUeNx3ACq9pA9y4jRck16X4W8MQafGLu5AMmMgGud0ZSlc9vD4yjDD8vVG9DbW9jpiiUhEROR0rn4bmO6YyW1uI42YjIH3h61N4kmnugI0U+UTggelR2l1BbhLRE2nHFdLqRg7I54U5SjzdzptGsorWJ5FRQ8nLEDrU1zMywyORwBxRBcLFaK2B0qnr7yNpjNEDn/AGaVVWV7GFO8p6mDpX2rUtZkmnDLHH90EVDqF1a6XeXV/LcJhl8pSPvL64rbsTLY6GZZjmZhkA/pXkmt3N0NRkS7JKly4XHFLD1PYxUX1Ox4eOLm09l+ga/qq6sSULyQ9cEYxXOyWu0jjCt0NaXnmKFjtUo3pUJvohCykBhjgGolUcpaHQ6McPByZo2WiW4t1e61NFQ9UAreg0vRpIsW8xfA67q87a7lVdoJ21a0e/e3v4yWO1jgjNbt6bHhexnVvUbOr1C2trOKUR8sVwN39K51JEuLC586ZVZF4Ru9b+vf8eKyrk4Oa4i6O4ttPBrCC5tTvwdecYSh0J9JvkSJ4pxuiz19K2RYq6CS3k8xT27iuctIwbK6OOQAam0+7mtyGSQrj3rScXe8TkjXnSl5G/LYz2zlZo2jYdmGKcETbz1rS0bVoNTuWbUF8yXHQng+9Omsd1zK6gKn8Kis3NdTthiYyM4YAwCad078VKEVAQ/3qZgGjRm6dxu6nq3aoJH21GkpJ4pFWLpAxULJk0bzjmlRhnmpYthnSjG401iatW1uX5PSupuxi5KKuyBoBjpUJjUHFaU0W0YBqpHA0k6j3qPaRbscdXEJqyR1HhWwzIJSucV2MNzcTXfllSI1qHwvp/l2ikr1FdGtoiEkKMmrqSUY3OWle5zWqXTQk4jyBXIvqT3GoKoXa2eK9KubBJEYsoNczL4dja+E6pjBry4OTqavc97DVacYNNGtFdbtPRT94CtS0P261UNyO9c5OGWeOBeB3rrNPjWGyRVx0r1pO7PNq2jE5HxNqjp4j0/TojlB8ziuT8f2ixPDcjjPymtC93P8RT9oBx1SrHji3intYYmbljwK55pc12bUMSqdmjylpnb5QM+lX7DToprd/tAImY/Lz0p9to01teJJOQYuTxVy6h8o+bE24d8Vm5Je6hY7Fe0aS2OevbGS3Y91HeqsBIlUjgg1v+aJcq/eq66WrTB1OBnJrSNTSzMaNZRjZmzqtznREXd8zAA1x8hHOa6TWGQ2sUUZ571gTQrGPmOSfSlRskb4eD9ncdAypps/95yAKoKzAH0FX7S1eRGbaxT6VXuIzG5VRnNdEWrtHn1n75JZXbRTqyHkHrXWJrG9Rk84rmtN0i4ncMFIFdXbaL5SAsMmuevyXIiQyGS4+dUOPWmAMg+YV0tiLdV8tkFQanYDYXRMLWN2loexQ+FJnNSDeeK0dOsVf5mxWdN8pOO1EN/JECAa0pzXU1qJpaFnUdqTbUxioFPGagkuPMfLHmpEfPFPd3JT0sXYrR5MHFTXMwtIcd6ii1YH5YxmoriGa6bcVOK0qygtGcEI1K71WhV+1yyt3rb0Cykur1Mg4zVK309twG2vRfCWkhAJGXmuSm+aeh1VqMKdM6vTLUQWyLjtV5kp6KFUCnEZGK6qlmrHmx0ZAArcGmS26BTgCrAiANNm+VDXPTg1K7Nubsc1c26/aNx4Na9nhIQgOawNSnf7SAoPWtCynZQM11UmmiKk3LQztW0Qy67b34X7g5Ncx4qnE+oxRjonWvRLqdWhIHXFee6zZH7S02eTWGIrRi7McKcnHQyNXuFito8AYA6AVhxyLKx2NtJ6itPVoHe3BA4FcxuZJPl61nBcyuYVL3saTaduJZWA9qlW3aOAkKWIFQW1xIh3EE8Vs6ZcRyhlkwpPrWdacqceZHThacKkrVHY5KZpXlJKn6VVnBlkC7cV6LBZ2QlbKqxNYuq6RGLsSRAAe1OliYt7Hp1asIJwiLpNskdkqMByKkGkW8lxuCA1JYxMSErpLexSCHzZPTNdakfPyTcmyPTtGVVB2gCtC4treKI5IzWHe+JFtwY46yE1e4vJsZJBNRNRsXF6nVabp0dxc7uwNW/EEltaWRjGM4qvpkjWlqZH4OK5fXdRe6nbk4rBTPToRlK1zJmO5mIFU2HzdKn3kUkikpnFOKe52zkk0mV3UHkVF5xjNPckVWf5q2h5mNRdj//Z\" />\n",
              "        <p style=\"width:256px; margin:10px; font-size:small;\">plum, garlic, gin, balsamic vinegar, basil, salt, black pepper, baguette</p>\n",
              "    </div>\n",
              "    \n",
              "    <div style=\"display: inline-flex; align-items: center; justify-content: center;\">\n",
              "        <img style=\"width:128px; height:128px;\" src=\"data:image/jpeg;base64,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\" />\n",
              "        <p style=\"width:256px; margin:10px; font-size:small;\">nut, cinnamon, bread, butter, phyllo dough, sugar, honey, lemon, baklava</p>\n",
              "    </div>\n",
              "    \n",
              "    <div style=\"display: inline-flex; align-items: center; justify-content: center;\">\n",
              "        <img style=\"width:128px; height:128px;\" src=\"data:image/jpeg;base64,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\" />\n",
              "        <p style=\"width:256px; margin:10px; font-size:small;\">oil, garlic, black pepper, salt, sirloin, steak, worcestershire</p>\n",
              "    </div>\n",
              "    \n",
              "    <div style=\"display: inline-flex; align-items: center; justify-content: center;\">\n",
              "        <img style=\"width:128px; height:128px;\" src=\"data:image/jpeg;base64,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\" />\n",
              "        <p style=\"width:256px; margin:10px; font-size:small;\">egg, sugar, mascarpone, brewed espresso, frangelico, rum, lady fingers, cocoa</p>\n",
              "    </div>\n",
              "    \n",
              "    <div style=\"display: inline-flex; align-items: center; justify-content: center;\">\n",
              "        <img style=\"width:128px; height:128px;\" src=\"data:image/jpeg;base64,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\" />\n",
              "        <p style=\"width:256px; margin:10px; font-size:small;\">fat, steak, gin, shallot, parsley, capers, worcestershire, egg, black pepper, crostini</p>\n",
              "    </div>\n",
              "    \n",
              "    <div style=\"display: inline-flex; align-items: center; justify-content: center;\">\n",
              "        <img style=\"width:128px; height:128px;\" src=\"data:image/jpeg;base64,/9j/4AAQSkZJRgABAQAAAQABAAD/2wBDAAgGBgcGBQgHBwcJCQgKDBQNDAsLDBkSEw8UHRofHh0aHBwgJC4nICIsIxwcKDcpLDAxNDQ0Hyc5PTgyPC4zNDL/2wBDAQkJCQwLDBgNDRgyIRwhMjIyMjIyMjIyMjIyMjIyMjIyMjIyMjIyMjIyMjIyMjIyMjIyMjIyMjIyMjIyMjIyMjL/wAARCADgAOADASIAAhEBAxEB/8QAHwAAAQUBAQEBAQEAAAAAAAAAAAECAwQFBgcICQoL/8QAtRAAAgEDAwIEAwUFBAQAAAF9AQIDAAQRBRIhMUEGE1FhByJxFDKBkaEII0KxwRVS0fAkM2JyggkKFhcYGRolJicoKSo0NTY3ODk6Q0RFRkdISUpTVFVWV1hZWmNkZWZnaGlqc3R1dnd4eXqDhIWGh4iJipKTlJWWl5iZmqKjpKWmp6ipqrKztLW2t7i5usLDxMXGx8jJytLT1NXW19jZ2uHi4+Tl5ufo6erx8vP09fb3+Pn6/8QAHwEAAwEBAQEBAQEBAQAAAAAAAAECAwQFBgcICQoL/8QAtREAAgECBAQDBAcFBAQAAQJ3AAECAxEEBSExBhJBUQdhcRMiMoEIFEKRobHBCSMzUvAVYnLRChYkNOEl8RcYGRomJygpKjU2Nzg5OkNERUZHSElKU1RVVldYWVpjZGVmZ2hpanN0dXZ3eHl6goOEhYaHiImKkpOUlZaXmJmaoqOkpaanqKmqsrO0tba3uLm6wsPExcbHyMnK0tPU1dbX2Nna4uPk5ebn6Onq8vP09fb3+Pn6/9oADAMBAAIRAxEAPwDwmilpK2OoKWiigBKWiigQlFFFAC0UUUwAelHQ0YpQrHoCaAEoqUQTNjETn6KakWxumIAtpjn/AGDSuBCq5qZFxzUosbv/AJ9J8f8AXM1I1ncqv/HvL/3waQiqeTW94Nu/sXiO3ycLJ8h/GsUQyg/NE4+qmnwSPb3UUoBBRgw/ClJXVhnq/iI/6JJ0HFcBqRxZn6iu41mYXGkpMvIeNWH41w+rDFqB6muekjWS0Ofk7VvafpM8mnrKqjBGeT1rBkHIr0LTpraz0i3juZ0jJjyOf51tUk0tCaaT3OLDyWt6EJBCt0zxWg06NcGTBAI5HWqtwLYNJO7iQyE7Ah+6aqxSOZVkb7o4x6099QvbQtQWK3YnkfcpA+UjpUmnXx06Vo3LeWeOP51p20yGLCLgKOmOtUdSgi+Q7v3hBKhecketQnd2ZTjYsXcTqWlQ71Ybs1z8aEztID0bjIremkuBpkBZQJJeF7cU/T9HjL4nlHHUDnmmnZajd52SOSooqzbafdXbbYIXf1IHStjErUYrW/sdbfm7uEXHVFOTR5+n2+PKtvMYfxSH+lK4GWsUkhwiMx9hVpNLvHAJhKg92OKnl1iduIwkQ/2FxVWS6nl+/IzfU0agWRpG0AzXcCA9g2T+lO+yaZETvupZP9xcfzrNJJ6mjBosBqrJo0ecWs8vHBaTHP4Cp01bTIQQmiwNx1d2OKxAKdilYDcXxEkX+q0yyUjoTGT/AFp7+Lb1j+7itYuP+WcCisAcClo5UBujxZqo6Tgf8AH+FIfE+quObp/rWJUkKNLMkSfedgo+ppOKA2P+Eo1cLt+2yYznGaRvEuqdRdyA+oOKu6/4WGi6dDcicyMzBXBGOcdq5kjmpi4yV0OScXZmyPFOqFlJu5CR71OnjDU1G1pUcejxqf5iueIxSd6rlTJOqPji/eLy5Et3T0aFcVBL4igulC3Gm2rgegK/yNc33oOaXJEZumfQpyDJp80fvDP/AEYGrbLod0jKL26hJGB5sQcD8Qa5cUu4joafKB0VtokQkDQajY3A7JI5jJ/76GP1pYfCmsGUl7QiDOfMjIdfzGa5wSMD1q1bareWbh7e4liYHOUcik1LoB0ohaCORLgEMnQEYrn726zfjyTgJwDnqavt4w1KaDybqSO5X1mjDN+eM1Gt1od1/wAfFnLbSf8APS3fI/FTUxi1qynK5PbWKpZxTTynk5Geg9qtNfx2CNIF3u33QelSNb293Ai2F6lxsGBGx2MfwNYerpcpLGJYZIyBg5Xj86SV3qaOSS0Lj2Wk6XCGkk+0XHXaPuiqV3rs0uUhAhjxgKgxxWUzMxyeTTa1t3MSR5XkOWOaZRigcUwCjtS0YoATHFFP2mlC0AMAp3anAUu3mi4DccUuKkVCegJqR7aaPbviYbhkZHUUriK+KWN2ikV1OGU5B9DUrQyL96Nh9RSGF16ow+oouBq6t4lvdatoYLjYFj5+UfePqayAOaXy3znYfypVVhn5T+VTFJKyG23qxMZNJtqTaT2oxVCsRbaaVxipTimmgCIDmgin0EcdKAI6bTjSYpjENNpxppoAcsjKQQelbFn4ju7dBFIVnh/55zDcP8axaKTSYD8UAU/FKRTAZgYoA5pxXNPSJiQcfL70gI8dqUAnpzW15WmyxK7W00TDgmM7gfzq3aWdg5BFvcyexYKP0FS5pFKDexz6xOe2B71vaT4XfUrJ7kzbNrYChCSa6XTrGMSDydFhOOhcFz+prs9Ni1Ald6wQxL1RRn+XArnqYiy0NPYtas8+tfh7dXCk73j9DJEQDWxpPw8RDvuJbWRgfuMjsfyyK9KePzYRKY/MCDK54AqrNYXssirKRGrjcFU4GPeuaWJnYSimc7LpWmaSZAsNtbvOMSYiVyV7qBn5Qaxl0X+0riCC3bdHG28y7SpjHtXoKeF7fbnfHuPUk8VpWmg29rayR2xi82T7zk4qVUne5XNTjGy1Z5dN4Qmv9Qd7jWJJUU/uxKCxqFPAwl1BvtNw/lH7r4yM+ntXqh0GIMrK8cci9drbgaemlpZxyM5EpcfKijIo9rVvuTz01seZXvhmex2xJbW2z+GTygwP51Xu9A8ywaJIIzIwHzrGFx69K9RSCLyFhki4Y8qRkCq8+n2lpIqHam7oHas3VnumaRrQejjqeQr4VmiAOIif9pT/AI0+18JvqE5h8qFcDJYBv6V6s1pbYLL9nlGfur1/WmPF50LQ20SxYHK5xn8qr61PqNuDWx5De/D3V4YpbiJYpYE53BsVz0+h30IJe3OB3U5r2mS5vBGbaRQEXgpisiaxjnJWP5H/ALrdD+NawxktmNYdPc8fa3dThlK/UVG0ZFeqtpCRO8M+ltKzDkgcr7ise98OKxOxAjf7SgGumOJj1JeGfRnnzKfSmYrpbzRLiEFQWwewQVlz6ZPEpfyyVHXA5H1rdTi9jGVOUd0ZxppFTsmKiIqyBmKKdikIpgTEVZs7J72RgrxxoilmeRtoA/qfYUkcG85PCjqa3NI0VtRniJ+S23DcAfmI78VEpJK41FvYxktwGwg3nP3u1X4NHnmP3lH1rvP7E8P2828uUUDiKNskn3Jp8SWCnMcKD0JO41zSxHY6adG+5j2GiqLApP1yCuODW3p9r5M6eRaRy442lc5qYgthkI44AxxWrpguHiQxgZDYJxjFcspuR0NKC2Jrf+zJ5lQ74Js8pk7c1rfYLhyqI0Yj7c4/SlgF6Jv+PdWYHG7Az+dWjPg7J4mQ+orNtdTlk3fQdFpUodA06sueRz0rQv7QT48t1DLxy2OKgV1EAZJgce9TQ3CE4lYIT0z3pabGLk73I4dOXrJcZ9kGatMba1VSYWZc8lqgS6j+1JCg53fw9DWXrWpR203lPkSZwaluyuhO7epY1DxEtm2yCAZPQVXtNen1GKYJFtaMkc+vesaHUBeXD7DGjjCjvxz3q5b7LaSSV8Bj12jAz61jKvZ2JlOKskgv9WnguYI1BZGY7mHY46VWurmEAi4m3TMfkU8moLi7uTebrZLeck/6ph8xI7g1n6BFNf6pNHqCiK6XJcFe+QcZ+lJRur3JjVad4nQraXNvGJQvGATtIOKiF1cqc7QAeparmrXiWEcUkLYJbBXPGO5qVZbOdVaSLcWXcrqev1FLS9rm8MQnpJFB51k5kIZvXvUbgg/6pduOG61vKLW4hCGBiw43AY/pVW408LkRnoPuEYNW4PoaRqIyp5ZLpI8cEDaQDis27sHgQSGNircgnuK6q3RWUQQQncFyVYYyayb+TUJhmaERrnCjpj8KtJ7mlObvZbHMmGNmyyMo9RUU+lW9wd8dxHvxghxtzXUXlpJb/Zo+C7LkrjIz71L/AGVbXtm42xwzr0AODn6VopNOxo6ytc8s1TwjON0kMO7v+7+YfpXJXVjLbOVljK/UYr1i6t3tpjG25HU9Aazr5mljIeNZB0wy7s11U8S1oyZYdS1R5YyFee1NrtrzwfOYTdqI7ZG+6kjYLfQVzF5ps9r8zRnaf4l5BrtjUjLY5JQcTZs7eCcbnQYA4XPFa9qkqgLGQiDoEqrYwx28pzifn5QvQ1tpd3RUqsYQD+FU6VzTkdVKI+CMMQHi3DuTV1PsUeCQ+TwAKrWwuLlwpjb67etbCaQ0kiP5Xvg8CuWT1NJTYRiLYzCGQKvUnpWrpdwpt5EtiBKeMMamW2RohHK8UaDqAari20m2kz55J9E4rPUhy5lZ7nRwzSbF8+L5umQKme384ZKNj/ZOaxU1mGMBIRkf7RJq7baw0iFRtJ9qLrqc8qclrYma08qQbNyJ1HmMMn8qsiO3njaKWYBwcjg5FZ13dSMyzb2DL2Y8Vzd1qF1FNJMVkdcfvGB+5z3qOrsiLd2dnHJBbxSzqWdoQcMR3rmrzUFvo5pBbN5pGMtHnPB5qvLqXnaYtvCCqzfNnB5x1rJu7qe1t4ZLQMEblg/Qn05pKLk9BWi+upHDegi6hCqj28W9pO5IwMH9ajvdXaW4S3Bbym6BTknuTVcW19NbXOpskSpncd52h/w71jqLg3MksolV1UgNEMYzxWqoRk7sy5Oh1WnX8ds7+W2LYNkPJwT+NZEXiV9P8R3bTfNJK7biOQvPQetTS+GL2YWYW7eS2xuYMelbMfhvRLec3WoiR5DxtGQD9AOaiKpK6etxQpNMVdSbxFGbaO0csjgiUHO1cc10uk2N1E8ZliXyowBgc/pUuirBHGE03Snii/vuuM/nzXRJDM6jdtB+tT7ON9CpLl0IjbF/vzbQDwqinvDHlSxOAMAGpfIfHBTI/wBqoHiuGOA8Ke5ya15bAmPgMccu0RhVH8R7/jWfcv5rEtGgwcgtg1bIFtA7TTq7kcYHArNnZJo+Sy+jr/hSb0LjuV2V5mZSRgd6yJlZ3eNziQH7w71rrasRsW7YA9cihNJjil3u7TueQBwKjkb1NlNRMSS0bUrc+chR04WU9/8AGqrWMNrERE4Mw/jZc4+grev4rq5TbEm0Y4z8oFZM+l37BUO0nuSwA/PNUt9DSM7rVnOXWm3ElzC89x5okJyo+99Kxbi3kt7mSJ7ZTF0K5zmu2j0i52yFApl6csOKiTw3Mu6efBVedqkEmtoTaZpKcbas8r0zXbjTZFYKr7eQT1/Ouw0/xHa6kjPcXSRzDojfKT/jXmxV0bIyPpThN2IyK750YzOWFVxPZtO8yfbIXIj7Ad6vyHZIQXbjtmvG7HW72xIFreSxqD93PH5HiuntPH1yAFvLSOcD+JTtb/CuSphp9DVVk3qd0Cu7lc5q3b2cVwQGgTHrmucs/GWjXAAmMlsx4/eLwD9RXUWLadeRK0etWjZ42xyAt+Vc7pTW6KdSPRj5dOggkUrtPfHanm3XeXWGNCf7tXUsdNhXe8ssg9ScCpBcaag+W2DfU5qHFrczc29tTNBfBjYgqR0Y5zVOSCMu+2KaNnXaxT5gR9K6Nb20YcWkQ+qinf2lbRHAgiU+wpKNupPNfoYMOnahHGokjDxjGyYj5h9QeorIntNQGqu9yrSsrEqwUFeeen413ltPDdrvdQFB+7mlIR3LiPaOgxxRsZSeuxz40p7/AE9YLiPcOmF7VLp3he3hl2PhU7BTlq2nYgYSbYfamoGilWUtK5U/xcChWBNpaFNtKS2lIe6baDjGAKupb24jVzH5ig4DHmrs9ta6muWdlJ6gNjNVp7GWOzEJ3sikBSpHSjks7olO+5PfTrayRooCAr2FMW+gAw24k+pqa/gSa3haRGYdDjORWWltHBIXhWYn0ZMiqfMmNKNi1JeGIgFMknFIdQkV9vlEH8Kc0HnxBzGQ69QRjNVVtrlrlXdRHGp6Zp+8CSLFxdlXCSICTzgio2SK4XmJlB7rRdy23mmQkyMoxtFZj33mZdQqp6Um+jKjFvY0nt3gVQhXnpu4NQwq8Nz5ruuwDkg1Qk17TIVUXU0ULL/Esg/UVnXfjDRYQywm4uR6xocfrVKLeqQ+VmvmW5uTslBTJJOeFFQXO9VXYyuhyN3pXGT+PGt932KyjgUkktPJkn8BXK6l4xacMJ713BOfLh+Vf0rSOHmytEehX+tafp4b9+XcdUQ5IP0rAk8UX7RSi0Qwx44kmPT8Oleez+KJFVktYEQHncwyaybrU7y8x587sAMAZ4rqhhUtwc1axpS2wOSh/Cqjxc8j6VpOpBI/rVdyQcED0roTM7GaykdKRZHToSKuvGjdsGoWhOaoVgjvHUHIDH3qdb4E7jHhvUVWMLen0pPLx9aLJhc3LPX7q2GyG/uY1J+75jYH4Vq2/jDUYwdt/uJPAdFI/lXICI+tKIh61Dpxe6KU2j0ez8a6h8qk2jn1bIz+Va6+OZUO06dayN1BEvUevNeSBMdGI/GgblH+tb86yeGg+g/adz2m28ftJ8raa4IGfkkU1Yj8cQSviWzvVXvhVP8AWvDhcTR52zsD0yDQL66UnbcyfnUPCQDmj2PeJfElpJOgjtr10QguSgxj862ofFentuDw3ikcA+WOv5185JrGpohVb2YKeo3mnDXdUVSBfz/99mksKlsJyTPoWXxDayv5iW95lOu1AMgfjVhNe8y3ylleknpuAGf1r5y/4SDVgeNQuB9JDUjeKdaYDOpXOB2Epo+qPuK6Ppk61PJaKkVhcCXI6lR/WoG1PUQMSWscZ7F5wM18zNr+qP8Ae1C5OfWVv8agk1K6lP7y4lb/AHmJqvqvmSfSlxq95E2Wn06JT/z0uRmsG/8AFEaK/m+ItNiI6iIFzXgTXEjdZG/OmFyR9801hV1Y0z1ufxtpdshzq9zctz8sMOwH8TzXO3PjezJwkN3KCefMm5xXC7hnOaQuMVpHDwRXPLudBceKZnOILWKMZ4JGT+dULjXtRuF2vdMFH8IOBWXmkNaKEVshXbJXnd/vyM31NR7vSm0VYgooooA6ifhzxiqshVjW9q1j5paeFfdlrnJSVJBrnpyujapHlYEc+1IeDUfmEUCUde9bGRIxGKZkmjcPXJpNwGMUCFBoJwc0xm+tBegQpbNNJzTc5o7UABFBWjNJzQAbeKjbpipcHFQtQgGmmk0p600mmMM0mcGkJozQAUUlFABRSUZpgL0pCaSigBaKSloAKcAKQVbtbR7h8AcdzSuB6SdoFYmqaQJw01uoDHqvrWk0g7mmPcKi5ZsVwRutUejJKSszh5EZHKsCCD0NRHrXR6kkV4+5VCv/AHvWsKWBo3IIrsjK6OKdNxIc4HFGTQRSVRmLk5petN5pc0BYcOOKWm0uaBDqMU2lVhuGeBnmgDe0XwzNqiCaVzDb54OOW+ldTB4a0m0X/j2WUj+KTk1ctZFW0iEWNgQbcdMYoeYgdK4Z1JyZ6MKMUiF9O09hj7HBj/cFY1/4a02cN5cXkv6oePyrWedj2xUDysc0RclqmXKEXujz7VNKn02Xa/zRn7rjvWfXb64Vk06bzMcLkfWuIrshJyV2cFWKjKyCiijNaGYlFFFACUtJS0AFKFJpVXNaNnp7SYeQFU/U0m7ARWdk07jPCjqa3UjjhUKgwKYqoihEG0Cl3elQ3cpI0prtV4HWqUk7SN834VXZyT70gOfrWPKdakShsnB60PGko2yDJ7Gmg5HvUgO4c9aexW+5m3Fm0ZJUEr+tVGXFbjZIx3qrNAj9RhvUVcZ9zCdJdDLKmkxViSBkPr9KhIweRWhg0J2oPSlzxScUCDtSd6WkoA6HRfEhsohbXQLRDhWHVa6JNVtbpcw3CNntu5/KvO+1SR6ddzfMse0erHFZSpReuxvTryjpuegPOoH3l/Os661a1tgd8yk+gOTXLPpN8F+8p9g9UJ7eaA4lQr70o0l3KlXl2L2qau9+dijbCD09frWZSZpM1ukkrI5223di5opKKYgpc0lFAC05VLHAFIKmjbtSYFq1jSNgzqGI7HpWuJg65UdaxUb3qxHNt9aTGjQLZpoYZ6VGHDAEGkJ5qbDDd3pwY9RUGcU7OKmxumWAxIyOtSBjj3FV1OORUme9TYtMlJLd+RUb5NJkEZzSHnknmhBJ3GHk1G6BzgjJp7jPfkUw5bvyKtGLRWkhwMoMkdRVbeucE4PvWgck+9QywpL94fN6iqTM2itkHvRTHtnQ/LyKiJdTg5FUInyfXFXodamA2vD5hHGV4NZO8+tIGYHgkfSla4J2Nt9ZYDi2cfWsy7vpbvAbAUdAKrmRz1dj+NNpqKQNt7hRRRTEFFFFABRRS0AFOViKbSikBYVuKlU+9VlNSK1AFtJCO/FTh+M5NUgTxipUYjvSGPB7U4N2pnGKUYqTW5MrYp4OKhHNPXOaTLTJScc0Z4zTKXpzSHcDzyKaRn604+1GM0ITGEZHPWmEYyDUnXHrQRkYNO5DRARmmFQeCM1Y2evSmlSKpMmxVMKY5QfhVDvWu4xGx9Aax6pENWCiiimIKKKKACiiigAoopaACiiigBwqRTxUI609TSAsA1KDVcGpA1ICbNOBqKnA1JoTA08HioQakB70h3JQc04N2qMGl57UFXJAeetB45FNBz1pQcHFIaDg+tHGKXHpRigY3vg5pCKfgmjGaAsQTDbBIe201i1t3Q22sn0rEq4mM1qFFFFUSFFFFABRRRQIKKKKACl4pKWmAU4U2lFICVakU1COtSLxSA//2Q==\" />\n",
              "        <p style=\"width:256px; margin:10px; font-size:small;\">shiitake, gin, dashi, noodles, egg, baby bok choy, radish, miso, soy, oil, scallions, pepper</p>\n",
              "    </div>\n",
              "    "
            ],
            "text/plain": [
              "<IPython.core.display.HTML object>"
            ]
          },
          "metadata": {},
          "output_type": "display_data"
        }
      ],
      "source": [
        "def render_inline(image, resize=(128, 128)):\n",
        "  \"\"\"Convert image into inline html.\"\"\"\n",
        "  image = Image.fromarray(image)\n",
        "  image.resize(resize)\n",
        "  with io.BytesIO() as buffer:\n",
        "    image.save(buffer, format='jpeg')\n",
        "    image_b64 = str(base64.b64encode(buffer.getvalue()), \"utf-8\")\n",
        "    return f\"data:image/jpeg;base64,{image_b64}\"\n",
        "\n",
        "def render_example(image, caption):\n",
        "  image = ((image + 1)/2 * 255).astype(np.uint8)  # [-1,1] -> [0, 255]\n",
        "  return f\"\"\"\n",
        "    <div style=\"display: inline-flex; align-items: center; justify-content: center;\">\n",
        "        <img style=\"width:128px; height:128px;\" src=\"{render_inline(image, resize=(64,64))}\" />\n",
        "        <p style=\"width:256px; margin:10px; font-size:small;\">{html.escape(caption)}</p>\n",
        "    </div>\n",
        "    \"\"\"\n",
        "\n",
        "html_out = \"\"\n",
        "for idx, example in zip(range(8), train_data_iterator()):\n",
        "  caption = postprocess_tokens(example[\"text\"])  # detokenize model input.\n",
        "  caption = caption[len(\"caption en\\n\"):]        # strip prefix\n",
        "  html_out += render_example(example[\"image\"], caption)\n",
        "\n",
        "print(\"Training examples\")\n",
        "display(HTML(html_out))"
      ]
    },
    {
      "cell_type": "markdown",
      "metadata": {
        "id": "N2BwpXkfI8OT"
      },
      "source": [
        "### Define the training and evaluation loops\n",
        "\n",
        "Define the training loop to train the model on the provided dataset, and the evaluation loop to look at all of the examples in the validation dataset and make its predictions.\n",
        "\n",
        "#### Defining the training loop\n",
        "\n",
        "The `update_fn` function defines the training step. During the training step, the loss per example is calculated and stochastic gradient descent (SGD) is applied to the trainable parameters.\n",
        "\n",
        "Recall that earlier in the notebook, you included flags in the `preprocess_tokens` function that included `mask_loss`. You'll use the `mask_loss` flag here to exclude prefix and padded tokens from the loss. Without it, the loss calculation will be skewed. You also need to normalize each example, since each of them has a different number of tokens. After the prefix and padded tokens have been excluded and the examples have been normalized, you can calculate the loss per example.\n",
        "\n",
        "The training step also includes a function to apply an SGD to optimize the training.\n",
        "\n",
        "#### Defining the evaluation loop\n",
        "\n",
        "The `make_predictions` function is your evaluation loop. The evaluation loop is fairly straight forward with one notable change. If you recall from the beginning of the notebook, you only have 90 examples in your training data set. This is a very small amount of training examples, and your model ends up not having enough examples for the batch size when you run the training. This means that in the evaluation loop, you need to pad the batch by repeating examples.\n",
        "\n",
        "To make sure that your evaluation loop only counts actual examples and not the padded examples, you have to apply a mask to the padded examples that excludes them from the output."
      ]
    },
    {
      "cell_type": "code",
      "execution_count": 18,
      "metadata": {
        "id": "dwUV_imW3WQJ"
      },
      "outputs": [],
      "source": [
        "# The main update_fn using a simple stochastic gradient descent (SGD).\n",
        "@functools.partial(jax.jit, donate_argnums=(0,))\n",
        "def update_fn(params, batch, learning_rate):\n",
        "  imgs, txts, mask_ar = batch[\"image\"], batch[\"text\"], batch[\"mask_ar\"]\n",
        "\n",
        "  def loss_fn(params):\n",
        "    text_logits, _ = model.apply({\"params\": params}, imgs, txts[:, :-1], mask_ar[:, :-1], train=True)\n",
        "    logp = jax.nn.log_softmax(text_logits, axis=-1)\n",
        "\n",
        "    # The model takes as input txts[:, :-1] but the loss is defined as predicting\n",
        "    # next tokens txts[:, 1:]. Additionally, mask_loss[:, 1:] indicates which tokens\n",
        "    # are part of the loss (e.g. prefix and padded tokens are not included).\n",
        "    mask_loss = batch[\"mask_loss\"][:, 1:]\n",
        "    targets = jax.nn.one_hot(txts[:, 1:], text_logits.shape[-1])\n",
        "\n",
        "    # Compute the loss per example. i.e. the mean of per token pplx.\n",
        "    # Since each example has a different number of tokens we normalize it.\n",
        "    token_pplx = jnp.sum(logp * targets, axis=-1)  # sum across vocab_size.\n",
        "    example_loss = -jnp.sum(token_pplx * mask_loss, axis=-1)  # sum across seq_len.\n",
        "    example_loss /= jnp.clip(jnp.sum(mask_loss, -1), 1)  # weight by num of tokens.\n",
        "\n",
        "    # batch_loss: mean of per example loss.\n",
        "    return jnp.mean(example_loss)\n",
        "\n",
        "  loss, grads = jax.value_and_grad(loss_fn)(params)\n",
        "\n",
        "  # Apply gradients to trainable params using SGD.\n",
        "  def apply_grad(param, gradient, trainable):\n",
        "    if not trainable: return param\n",
        "    return param - learning_rate * gradient\n",
        "\n",
        "  params = jax.tree_util.tree_map(apply_grad, params, grads, trainable_mask)\n",
        "\n",
        "  return params, loss\n",
        "\n",
        "# Evaluation/inference loop.\n",
        "def make_predictions(data_iterator, *, num_examples=None,\n",
        "                     batch_size=4, seqlen=SEQLEN, sampler=\"greedy\"):\n",
        "  outputs = []\n",
        "  while True:\n",
        "    # Construct a list of examples in the batch.\n",
        "    examples = []\n",
        "    try:\n",
        "      for _ in range(batch_size):\n",
        "        examples.append(next(data_iterator))\n",
        "        examples[-1][\"_mask\"] = np.array(True)  # Indicates true example.\n",
        "    except StopIteration:\n",
        "      if len(examples) == 0:\n",
        "        return outputs\n",
        "\n",
        "    # Not enough examples to complete a batch. Pad by repeating last example.\n",
        "    while len(examples) % batch_size:\n",
        "      examples.append(dict(examples[-1]))\n",
        "      examples[-1][\"_mask\"] = np.array(False)  # Indicates padding example.\n",
        "\n",
        "    # Convert list of examples into a dict of np.arrays and load onto devices.\n",
        "    batch = jax.tree.map(lambda *x: np.stack(x), *examples)\n",
        "    batch = big_vision.utils.reshard(batch, data_sharding)\n",
        "\n",
        "    # Make model predictions\n",
        "    tokens = decode({\"params\": params}, batch=batch,\n",
        "                    max_decode_len=seqlen, sampler=sampler)\n",
        "\n",
        "    # Fetch model predictions to device and detokenize.\n",
        "    tokens, mask = jax.device_get((tokens, batch[\"_mask\"]))\n",
        "    tokens = tokens[mask]  # remove padding examples.\n",
        "    responses = [postprocess_tokens(t) for t in tokens]\n",
        "\n",
        "    # Append to html output.\n",
        "    for example, response in zip(examples, responses):\n",
        "      outputs.append((example[\"image\"], response))\n",
        "      if num_examples and len(outputs) >= num_examples:\n",
        "        return outputs"
      ]
    },
    {
      "cell_type": "markdown",
      "metadata": {
        "id": "n9r9V1jwJvu9"
      },
      "source": [
        "## Tune the model\n",
        "\n",
        "Now that you've set everything up and taken a look at the training data, it's time to finally tune the model. The code below runs the training loop for the model for 64 steps and prints the learning rate (`lr` in the printed output) and loss rate for each step.\n",
        "\n",
        "Every 16 steps, the model prints what its predictions are at that step in the training. This code prints out predictions for the same set of images so that you can see the model's ability to predict descriptions improve over time.\n",
        "\n",
        "At earlier steps in the training, there's likely issues with the descriptions, such as repeated sentences as the model gets stuck in its predictive loop or unfinished sentences. The model's predictions become steadily more accurate as training progresses. By step 64, the model's predictions should closely resemble the descriptions provided by the training data.\n",
        "\n",
        "This process takes around 15 minutes to complete on T4 TPUs."
      ]
    },
    {
      "cell_type": "code",
      "execution_count": 19,
      "metadata": {},
      "outputs": [
        {
          "name": "stderr",
          "output_type": "stream",
          "text": [
            "WARNING:absl:Configured `CheckpointManager` using deprecated legacy API. Please follow the instructions at https://orbax.readthedocs.io/en/latest/api_refactor.html to migrate by August 1st, 2024.\n"
          ]
        }
      ],
      "source": [
        "# checkpointing setup\n",
        "\n",
        "ckpt_dir = '/home/simon/Projects/MA/checkpoints'\n",
        "\n",
        "# ==== With Orbax ====\n",
        "from flax.training import orbax_utils\n",
        "import orbax.checkpoint\n",
        "\n",
        "# Initialize the PyTree Checkpointer\n",
        "pytree_checkpointer = orbax.checkpoint.PyTreeCheckpointer()\n",
        "\n",
        "# Define checkpoint manager options\n",
        "options = orbax.checkpoint.CheckpointManagerOptions(\n",
        "    max_to_keep=3,  # Keep only the newest 3 checkpoints\n",
        "    create=True\n",
        ")\n",
        "\n",
        "# Create the checkpoint manager\n",
        "checkpoint_manager = orbax.checkpoint.CheckpointManager(\n",
        "    ckpt_dir, pytree_checkpointer, options\n",
        ")"
      ]
    },
    {
      "cell_type": "code",
      "execution_count": 23,
      "metadata": {},
      "outputs": [],
      "source": [
        "from sklearn.metrics import f1_score, accuracy_score, precision_score, recall_score\n",
        "from sklearn.preprocessing import MultiLabelBinarizer\n",
        "\n",
        "\n",
        "def batch_val_score_iterator(batch_size=4, num_examples=None, seed=42):\n",
        "    random.seed(seed)\n",
        "    \n",
        "    all_examples = []\n",
        "    class_examples = {}\n",
        "    \n",
        "    for example in val_dataset.get_tfdata().as_numpy_iterator():\n",
        "        try:\n",
        "            image_path = example[\"image\"].decode()\n",
        "            image_class = image_path.split('/images/')[1].split('/')[0]\n",
        "            \n",
        "            image = Image.open(image_path)\n",
        "            image = preprocess_image(image)\n",
        "            \n",
        "            prefix = \"caption en\"\n",
        "            suffix = example[\"suffix\"].decode().lower()\n",
        "            tokens, mask_ar, _, mask_input = preprocess_tokens(prefix, seqlen=SEQLEN)\n",
        "            \n",
        "            processed_example = {\n",
        "                \"image\": np.asarray(image),\n",
        "                \"text\": np.asarray(tokens),\n",
        "                \"mask_ar\": np.asarray(mask_ar),\n",
        "                \"mask_input\": np.asarray(mask_input),\n",
        "                \"suffix\": suffix,\n",
        "                \"class\": image_class,\n",
        "                \"image_path\": image_path\n",
        "            }\n",
        "            \n",
        "            all_examples.append(processed_example)\n",
        "            \n",
        "            if image_class not in class_examples:\n",
        "                class_examples[image_class] = []\n",
        "            class_examples[image_class].append(processed_example)\n",
        "            \n",
        "        except Exception as e:\n",
        "            print(f\"Error processing image: {e}\")\n",
        "            continue\n",
        "    \n",
        "    if num_examples is None:\n",
        "        num_examples = len(all_examples)\n",
        "    \n",
        "    # Ensure at least one example from each class\n",
        "    selected_examples = []\n",
        "    for examples in class_examples.values():\n",
        "        if examples:\n",
        "            selected_examples.append(random.choice(examples))\n",
        "    \n",
        "    # Distribute remaining examples while maintaining class balance\n",
        "    remaining_slots = num_examples - len(selected_examples)\n",
        "    selected_image_paths = set(ex['image_path'] for ex in selected_examples)\n",
        "    \n",
        "    while remaining_slots > 0:\n",
        "        for class_name, examples in class_examples.items():\n",
        "            if remaining_slots > 0:\n",
        "                remaining_class_examples = [ex for ex in examples if ex['image_path'] not in selected_image_paths]\n",
        "                if remaining_class_examples:\n",
        "                    selected_example = random.choice(remaining_class_examples)\n",
        "                    selected_examples.append(selected_example)\n",
        "                    selected_image_paths.add(selected_example['image_path'])\n",
        "                    remaining_slots -= 1\n",
        "            if remaining_slots == 0:\n",
        "                break\n",
        "    \n",
        "    random.shuffle(selected_examples)\n",
        "    \n",
        "    # Yield batches\n",
        "    for i in range(0, len(selected_examples), batch_size):\n",
        "        yield selected_examples[i:i+batch_size]\n",
        "\n",
        "def batch_test_score_iterator(batch_size=4, ordered=False):\n",
        "    examples = []\n",
        "    for example in test_dataset.get_tfdata(ordered=ordered).as_numpy_iterator():\n",
        "        try:\n",
        "            image_path = example[\"image\"].decode()\n",
        "            image = Image.open(image_path)\n",
        "            image = preprocess_image(image)\n",
        "            \n",
        "            prefix = \"caption en\"\n",
        "            suffix = example[\"suffix\"].decode().lower()\n",
        "            tokens, mask_ar, _, mask_input = preprocess_tokens(prefix, seqlen=SEQLEN)\n",
        "            \n",
        "            examples.append({\n",
        "                \"image\": np.asarray(image),\n",
        "                \"text\": np.asarray(tokens),\n",
        "                \"mask_ar\": np.asarray(mask_ar),\n",
        "                \"mask_input\": np.asarray(mask_input),\n",
        "                \"suffix\": suffix,\n",
        "            })\n",
        "            \n",
        "            if len(examples) == batch_size:\n",
        "                yield examples\n",
        "                examples = []\n",
        "        except Exception as e:\n",
        "            print(f\"Error processing image: {e}\")\n",
        "            continue\n",
        "    \n",
        "    if examples:  # Yield any remaining examples\n",
        "        yield examples\n",
        "            \n",
        "\n",
        "def compute_rouge(reference, candidate):\n",
        "    scorer = rouge_scorer.RougeScorer(['rouge1', 'rouge2', 'rougeL'], use_stemmer=True)\n",
        "    scores = scorer.score(reference, candidate)\n",
        "    return (scores['rouge1'].fmeasure + scores['rouge2'].fmeasure + scores['rougeL'].fmeasure) / 3\n",
        "\n",
        "# \"f1 original\"\n",
        "def ingredient_overlap_f1_score(reference, candidate):\n",
        "    ref_ingredients = set(reference.lower().split(', '))\n",
        "    cand_ingredients = set(candidate.lower().split(', '))\n",
        "    overlap = ref_ingredients.intersection(cand_ingredients)\n",
        "    precision = len(overlap) / len(cand_ingredients) if cand_ingredients else 0\n",
        "    recall = len(overlap) / len(ref_ingredients) if ref_ingredients else 0\n",
        "    f1 = 2 * (precision * recall) / (precision + recall) if (precision + recall) > 0 else 0\n",
        "    return f1\n",
        "\n",
        "def ingredient_overlap_f1_sklearn(references, candidates, method):\n",
        "    mlb = MultiLabelBinarizer()\n",
        "    \n",
        "    # Fit on both references and candidates to include all possible ingredients\n",
        "    all_ingredients = set()\n",
        "    for ref, cand in zip(references, candidates):\n",
        "        all_ingredients.update(ref.lower().split(', '))\n",
        "        all_ingredients.update(cand.lower().split(', '))\n",
        "    \n",
        "    mlb.fit([all_ingredients])\n",
        "    \n",
        "    y_true = mlb.transform([set(ref.lower().split(', ')) for ref in references])\n",
        "    y_pred = mlb.transform([set(cand.lower().split(', ')) for cand in candidates])\n",
        "    \n",
        "    if method == 'sklearn':\n",
        "        # Calculate F1 score for each sample individually\n",
        "        f1_scores = []\n",
        "        for yt, yp in zip(y_true, y_pred):\n",
        "            if np.sum(yt) == 0 and np.sum(yp) == 0:\n",
        "                f1_scores.append(1.0)  # Both true and predicted are empty sets\n",
        "            elif np.sum(yt) == 0 or np.sum(yp) == 0:\n",
        "                f1_scores.append(0.0)  # One is empty, the other is not\n",
        "            else:\n",
        "                f1_scores.append(f1_score(yt, yp, average='binary', zero_division=0))\n",
        "        return np.mean(f1_scores)\n",
        "    elif method in ['weighted', 'macro', 'samples']:\n",
        "        return f1_score(y_true, y_pred, average=method, zero_division=0)\n",
        "    else:\n",
        "        raise ValueError(\"Invalid method. Choose 'sklearn', 'weighted', 'macro', or 'samples'.\")\n",
        "\n",
        "\n",
        "def evaluate_model_batch(params, batch_size=4, num_examples=None, ordered=False, data_iterator=batch_val_score_iterator):\n",
        "    bleu_scores = []\n",
        "    rouge_scores = []\n",
        "    ingredient_overlap_scores = []\n",
        "    examples = []\n",
        "    all_ground_truths = []\n",
        "    all_predictions = []\n",
        "    \n",
        "    smoother = SmoothingFunction().method1\n",
        "    scorer = rouge_scorer.RougeScorer(['rouge1', 'rouge2', 'rougeL'], use_stemmer=True)\n",
        "    \n",
        "    total_processed = 0\n",
        "    \n",
        "    # If num_examples is not provided, use the entire dataset\n",
        "    if num_examples is None:\n",
        "        num_examples = sum(1 for _ in data_iterator(batch_size=1))  # Count total examples\n",
        "    \n",
        "    pbar = tqdm(total=num_examples)\n",
        "    \n",
        "    for batch in data_iterator(batch_size=batch_size):\n",
        "        batch_images = np.stack([ex['image'] for ex in batch])\n",
        "        batch_tokens = np.stack([ex['text'] for ex in batch])\n",
        "        batch_mask_ar = np.stack([ex['mask_ar'] for ex in batch])\n",
        "        batch_mask_input = np.stack([ex['mask_input'] for ex in batch])\n",
        "        ground_truths = [ex['suffix'] for ex in batch]\n",
        "        \n",
        "        # Generate captions\n",
        "        batch_input = {\n",
        "            \"image\": batch_images,\n",
        "            \"text\": batch_tokens,\n",
        "            \"mask_ar\": batch_mask_ar,\n",
        "            \"mask_input\": batch_mask_input,\n",
        "            \"_mask\": np.ones(len(batch), dtype=bool)\n",
        "        }\n",
        "        generated_tokens = decode({\"params\": params}, \n",
        "                                  batch=batch_input, \n",
        "                                  max_decode_len=SEQLEN, \n",
        "                                  sampler=\"greedy\")\n",
        "        \n",
        "        generated_captions = [postprocess_tokens(tokens) for tokens in generated_tokens]\n",
        "        \n",
        "        batch_bleu = []\n",
        "        batch_rouge = []\n",
        "        batch_ingredient_overlap = []\n",
        "        \n",
        "        for ground_truth, generated_caption in zip(ground_truths, generated_captions):\n",
        "            # Compute BLEU\n",
        "            bleu = sentence_bleu([ground_truth.split()], generated_caption.split(), \n",
        "                                 smoothing_function=smoother, weights=(0.25, 0.25, 0.25, 0.25))\n",
        "            batch_bleu.append(bleu)\n",
        "            \n",
        "            # Compute ROUGE\n",
        "            rouge = compute_rouge(ground_truth, generated_caption)\n",
        "            batch_rouge.append(rouge)\n",
        "            \n",
        "            # Compute ingredient overlap score (original implementation)\n",
        "            ingredient_overlap = ingredient_overlap_f1_score(ground_truth, generated_caption)\n",
        "            batch_ingredient_overlap.append(ingredient_overlap)\n",
        "            \n",
        "            # Store example\n",
        "            examples.append((ground_truth, generated_caption))\n",
        "        \n",
        "        bleu_scores.extend(batch_bleu)\n",
        "        rouge_scores.extend(batch_rouge)\n",
        "        ingredient_overlap_scores.extend(batch_ingredient_overlap)\n",
        "        all_ground_truths.extend(ground_truths)\n",
        "        all_predictions.extend(generated_captions)\n",
        "        \n",
        "        total_processed += len(batch)\n",
        "        pbar.update(len(batch))\n",
        "        \n",
        "        # Calculate dynamic metrics\n",
        "        if all_ground_truths and all_predictions:\n",
        "            accuracy = accuracy_score(all_ground_truths, all_predictions)\n",
        "            precision = precision_score(all_ground_truths, all_predictions, average='weighted', zero_division=0)\n",
        "            recall = recall_score(all_ground_truths, all_predictions, average='weighted', zero_division=0)\n",
        "            f1_original = np.mean(ingredient_overlap_scores)\n",
        "            f1_sklearn = ingredient_overlap_f1_sklearn(all_ground_truths, all_predictions, method='sklearn')\n",
        "            f1_sample = ingredient_overlap_f1_sklearn(all_ground_truths, all_predictions, method='samples')\n",
        "            f1_weighted = ingredient_overlap_f1_sklearn(all_ground_truths, all_predictions, method='weighted')\n",
        "            f1_macro = ingredient_overlap_f1_sklearn(all_ground_truths, all_predictions, method='macro')\n",
        "        else:\n",
        "            accuracy = precision = recall = f1_original = f1_sklearn = f1_sample = f1_weighted = f1_macro = 0\n",
        "        \n",
        "        # Update progress bar with current average scores and new metrics\n",
        "        avg_bleu = np.mean(bleu_scores)\n",
        "        avg_rouge = np.mean(rouge_scores)\n",
        "        \n",
        "        pbar.set_description(f\"BLEU: {avg_bleu:.3f} - ROUGE: {avg_rouge:.3f} - \"\n",
        "                             f\"F1_ORIG: {f1_original:.3f} - ACC: {accuracy:.3f} - \"\n",
        "                             f\"PREC: {precision:.3f} - REC: {recall:.3f} - \"\n",
        "                             f\"F1_SKL: {f1_sklearn:.3f} - F1_SAMP: {f1_sample:.3f} - F1_WGT: {f1_weighted:.3f} - F1_MAC: {f1_macro:.3f}\")\n",
        "        \n",
        "        if total_processed >= num_examples:\n",
        "            break\n",
        "    \n",
        "    pbar.close()\n",
        "    \n",
        "    # Ensure we only use the requested number of examples\n",
        "    all_ground_truths = all_ground_truths[:num_examples]\n",
        "    all_predictions = all_predictions[:num_examples]\n",
        "    \n",
        "    # Final calculation for all metrics\n",
        "    final_accuracy = accuracy_score(all_ground_truths, all_predictions)\n",
        "    final_precision = precision_score(all_ground_truths, all_predictions, average='weighted', zero_division=0)\n",
        "    final_recall = recall_score(all_ground_truths, all_predictions, average='weighted', zero_division=0)\n",
        "    final_f1_original = np.mean([ingredient_overlap_f1_score(gt, pred) for gt, pred in zip(all_ground_truths, all_predictions)])\n",
        "    final_f1_sklearn = ingredient_overlap_f1_sklearn(all_ground_truths, all_predictions, method='sklearn')\n",
        "    final_f1_sample = ingredient_overlap_f1_sklearn(all_ground_truths, all_predictions, method='samples')\n",
        "    final_f1_weighted = ingredient_overlap_f1_sklearn(all_ground_truths, all_predictions, method='weighted')\n",
        "    final_f1_macro = ingredient_overlap_f1_sklearn(all_ground_truths, all_predictions, method='macro')\n",
        "    \n",
        "    return {\n",
        "        \"bleu\": np.mean(bleu_scores),\n",
        "        \"rouge\": np.mean(rouge_scores),\n",
        "        \"ingredient_overlap\": final_f1_original,\n",
        "        \"accuracy\": final_accuracy,\n",
        "        \"precision\": final_precision,\n",
        "        \"recall\": final_recall,\n",
        "        \"f1_original\": final_f1_original,\n",
        "        \"f1_sklearn\": final_f1_sklearn,\n",
        "        \"f1_sample\": final_f1_sample,\n",
        "        \"f1_weighted\": final_f1_weighted,\n",
        "        \"f1_macro\": final_f1_macro,\n",
        "        \"examples\": examples[:num_examples],\n",
        "        \"predictions\": all_predictions,\n",
        "        \"ground_truths\": all_ground_truths\n",
        "    }"
      ]
    },
    {
      "cell_type": "code",
      "execution_count": 21,
      "metadata": {
        "colab": {
          "base_uri": "https://localhost:8080/",
          "height": 1000
        },
        "id": "067wj_6bZAG3",
        "outputId": "78641606-05a2-4fd9-f275-41f8590042a7"
      },
      "outputs": [
        {
          "name": "stdout",
          "output_type": "stream",
          "text": [
            "Number of training examples: 68175\n"
          ]
        },
        {
          "name": "stderr",
          "output_type": "stream",
          "text": [
            "  0%|          | 0/8521 [00:00<?, ?it/s]"
          ]
        },
        {
          "name": "stderr",
          "output_type": "stream",
          "text": [
            "ERROR:wandb.jupyter:Failed to detect the name of this notebook, you can set it manually with the WANDB_NOTEBOOK_NAME environment variable to enable code saving.\n",
            "\u001b[34m\u001b[1mwandb\u001b[0m: Currently logged in as: \u001b[33mahirsch\u001b[0m (\u001b[33mhtwbe\u001b[0m). Use \u001b[1m`wandb login --relogin`\u001b[0m to force relogin\n"
          ]
        },
        {
          "data": {
            "text/html": [
              "Tracking run with wandb version 0.17.5"
            ],
            "text/plain": [
              "<IPython.core.display.HTML object>"
            ]
          },
          "metadata": {},
          "output_type": "display_data"
        },
        {
          "data": {
            "text/html": [
              "Run data is saved locally in <code>/home/simon/Projects/MA/wandb/run-20240723_095413-8mwhoi8g</code>"
            ],
            "text/plain": [
              "<IPython.core.display.HTML object>"
            ]
          },
          "metadata": {},
          "output_type": "display_data"
        },
        {
          "data": {
            "text/html": [
              "Syncing run <strong><a href='https://wandb.ai/htwbe/paligemma-jax-local/runs/8mwhoi8g' target=\"_blank\">happy-forest-39</a></strong> to <a href='https://wandb.ai/htwbe/paligemma-jax-local' target=\"_blank\">Weights & Biases</a> (<a href='https://wandb.me/run' target=\"_blank\">docs</a>)<br/>"
            ],
            "text/plain": [
              "<IPython.core.display.HTML object>"
            ]
          },
          "metadata": {},
          "output_type": "display_data"
        },
        {
          "data": {
            "text/html": [
              " View project at <a href='https://wandb.ai/htwbe/paligemma-jax-local' target=\"_blank\">https://wandb.ai/htwbe/paligemma-jax-local</a>"
            ],
            "text/plain": [
              "<IPython.core.display.HTML object>"
            ]
          },
          "metadata": {},
          "output_type": "display_data"
        },
        {
          "data": {
            "text/html": [
              " View run at <a href='https://wandb.ai/htwbe/paligemma-jax-local/runs/8mwhoi8g' target=\"_blank\">https://wandb.ai/htwbe/paligemma-jax-local/runs/8mwhoi8g</a>"
            ],
            "text/plain": [
              "<IPython.core.display.HTML object>"
            ]
          },
          "metadata": {},
          "output_type": "display_data"
        },
        {
          "name": "stderr",
          "output_type": "stream",
          "text": [
            "2024-07-23 09:54:38.072793: W external/xla/xla/service/hlo_rematerialization.cc:3005] Can't reduce memory use below 5.69GiB (6109164802 bytes) by rematerialization; only reduced to 8.15GiB (8755312304 bytes), down from 8.15GiB (8755324592 bytes) originally\n",
            "  2%|▏         | 200/8521 [04:49<3:01:12,  1.31s/it, lr=0.00047, loss=2.2749]"
          ]
        },
        {
          "name": "stdout",
          "output_type": "stream",
          "text": [
            "\n",
            "Evaluating at step 200\n"
          ]
        },
        {
          "name": "stderr",
          "output_type": "stream",
          "text": [
            "BLEU: 0.016 - ROUGE: 0.133 - F1: 0.354 - ACC: 0.000 - PREC: 0.000 - REC: 0.000: 100%|██████████| 1000/1000 [15:13<00:00,  1.09it/s]\n",
            "WARNING:absl:SaveArgs.aggregate is deprecated, please use custom TypeHandler (https://orbax.readthedocs.io/en/latest/custom_handlers.html#typehandler) or contact Orbax team to migrate before August 1st, 2024.\n",
            "WARNING:absl:The `aggregate` option is deprecated and will be ignored.\n",
            "WARNING:absl:The `aggregate` option is deprecated and will be ignored.\n",
            "WARNING:absl:The `aggregate` option is deprecated and will be ignored.\n",
            "WARNING:absl:The `aggregate` option is deprecated and will be ignored.\n",
            "WARNING:absl:The `aggregate` option is deprecated and will be ignored.\n"
          ]
        },
        {
          "name": "stdout",
          "output_type": "stream",
          "text": [
            "\n",
            "Examples:\n",
            "\n",
            "Example 1:\n",
            "Ground Truth: grain, steak, soybean sprouts, spinach, cucumber, zucchini, carrot, garlic, scallions, soy, oil, seeds, salt, pepper, oil, egg, pepper, sugar, water\n",
            "Generated: beef, onion, tomato, lettuce, bun, ketchup, mustard, mayo, cheese, egg\n",
            "\n",
            "Example 2:\n",
            "Ground Truth: salt, edam, salt\n",
            "Generated: soy, soy, soy\n",
            "\n",
            "Example 3:\n",
            "Ground Truth: oil, garlic, black pepper, salt, sirloin, steak, worcestershire\n",
            "Generated: steak, potato, onion, garlic, salt, pepper, oil, butter, pepper, pepper, pepper, pepper, pepper, pepper, pepper, pepper, pepper, pepper, pepper, pepper, pepper, pepper, pepper, pepper, pepper, pepper, pepper, pepper, pepper, pepper, pepper, pepper, pepper, pepper, pepper, pepper, pepper, pepper, pepper, pepper, pepper, pepper, pepper, pepper, pepper, pepper, pepper, pepper, pepper, pepper, pepper, pepper, pepper, pepper, pepper, pepper, pepper, pepper, pepper, pepper, pepper, pepper, pepper, pepper,\n",
            "Saving checkpoint at step 200\n"
          ]
        },
        {
          "name": "stderr",
          "output_type": "stream",
          "text": [
            "  5%|▍         | 400/8521 [26:04<2:42:26,  1.20s/it, lr=0.00094, loss=1.7718]   "
          ]
        },
        {
          "name": "stdout",
          "output_type": "stream",
          "text": [
            "\n",
            "Evaluating at step 400\n"
          ]
        },
        {
          "name": "stderr",
          "output_type": "stream",
          "text": [
            "BLEU: 0.034 - ROUGE: 0.230 - F1: 0.406 - ACC: 0.003 - PREC: 0.003 - REC: 0.003: 100%|██████████| 1000/1000 [09:39<00:00,  1.73it/s]\n"
          ]
        },
        {
          "name": "stdout",
          "output_type": "stream",
          "text": [
            "\n",
            "Examples:\n",
            "\n",
            "Example 1:\n",
            "Ground Truth: baby back ribs, apple, salt, mustard, brown sugar, worcestershire, gin, chili\n",
            "Generated: ribs, sugar, oil, salt, pepper, garlic, onion, worcestershire, cola, beer, tomato, mustard, vinegar, paprika, cumin, cayenne pepper, black pepper, salt, sugar, oil, butter, parsley, lemon, lemon juice, parsley, parsley, parsley, parsley, parsley, parsley, parsley, parsley, parsley, parsley, parsley, parsley, parsley, parsley, parsley, parsley, parsley, parsley, parsley, parsley, parsley, parsley, parsley, parsley, parsley, parsley, parsley, parsley, parsley, parsley, parsley, parsley, parsley, parsley, parsley, parsley, parsley, parsley,\n",
            "\n",
            "Example 2:\n",
            "Ground Truth: onion, garlic, jalapeno chilies, chipotle, tomato, dijon mustard, vinegar, paprika, ketchup, worcestershire, brown sugar, bay leaf, salt, shoulder roast, buns\n",
            "Generated: ham, bread, cheese, mustard, mayo, salt, pepper\n",
            "\n",
            "Example 3:\n",
            "Ground Truth: red snapper, lime, lemon, onion, tomato, serrano chilies, salt, oregano, pepper, cayenne pepper, cilantro, avocado, tortillas\n",
            "Generated: fish, lime, salt, cilantro, onion, tomato, corn, potato, oil, lemon\n",
            "Saving checkpoint at step 400\n"
          ]
        },
        {
          "name": "stderr",
          "output_type": "stream",
          "text": [
            "  7%|▋         | 600/8521 [41:33<2:38:06,  1.20s/it, lr=0.00141, loss=0.9410]   "
          ]
        },
        {
          "name": "stdout",
          "output_type": "stream",
          "text": [
            "\n",
            "Evaluating at step 600\n"
          ]
        },
        {
          "name": "stderr",
          "output_type": "stream",
          "text": [
            "BLEU: 0.141 - ROUGE: 0.342 - F1: 0.502 - ACC: 0.093 - PREC: 0.156 - REC: 0.093: 100%|██████████| 1000/1000 [09:47<00:00,  1.70it/s]\n"
          ]
        },
        {
          "name": "stdout",
          "output_type": "stream",
          "text": [
            "\n",
            "Examples:\n",
            "\n",
            "Example 1:\n",
            "Ground Truth: sugar, vanilla, unflavored gelatin, cold water\n",
            "Generated: strawberries, sugar, whipping, vanilla\n",
            "\n",
            "Example 2:\n",
            "Ground Truth: oil, potato, peas, cumin, salt, chili, chilli, garam masala, gin, coriander, flour, water, cold water, oil\n",
            "Generated: onion, flour, baking powder, salt, egg, oil\n",
            "\n",
            "Example 3:\n",
            "Ground Truth: salmon, brown sugar, lemon, lemon, soy, water, oil\n",
            "Generated: fish, soy, oil, garlic, sugar, lemon, lemon, lemon\n",
            "Saving checkpoint at step 600\n"
          ]
        },
        {
          "name": "stderr",
          "output_type": "stream",
          "text": [
            "  9%|▉         | 800/8521 [57:26<2:44:42,  1.28s/it, lr=0.00188, loss=0.1721]   "
          ]
        },
        {
          "name": "stdout",
          "output_type": "stream",
          "text": [
            "\n",
            "Evaluating at step 800\n"
          ]
        },
        {
          "name": "stderr",
          "output_type": "stream",
          "text": [
            "BLEU: 0.533 - ROUGE: 0.631 - F1: 0.686 - ACC: 0.507 - PREC: 0.705 - REC: 0.507: 100%|██████████| 1000/1000 [04:21<00:00,  3.82it/s]\n"
          ]
        },
        {
          "name": "stdout",
          "output_type": "stream",
          "text": [
            "\n",
            "Examples:\n",
            "\n",
            "Example 1:\n",
            "Ground Truth: pork, orange, lime, black pepper, cumin, cayenne pepper, garlic, oregano, oil, onion, garlic, white wine\n",
            "Generated: pork, onion, garlic, tomato, tomato, soy, sugar, black pepper, garlic, ketchup, canola oil, egg, toothpick, worcestershire, salt, bread\n",
            "\n",
            "Example 2:\n",
            "Ground Truth: cocoa, brown sugar, milk, vanilla\n",
            "Generated: vanilla, salt, egg, sugar, ice\n",
            "\n",
            "Example 3:\n",
            "Ground Truth: fat, steak, gin, shallot, parsley, capers, worcestershire, egg, black pepper, crostini\n",
            "Generated: salmon, brown sugar, lemon, lemon, soy, water, oil\n",
            "Saving checkpoint at step 800\n"
          ]
        },
        {
          "name": "stderr",
          "output_type": "stream",
          "text": [
            " 12%|█▏        | 1000/8521 [1:08:14<2:40:48,  1.28s/it, lr=0.00200, loss=0.1147]  "
          ]
        },
        {
          "name": "stdout",
          "output_type": "stream",
          "text": [
            "\n",
            "Evaluating at step 1000\n"
          ]
        },
        {
          "name": "stderr",
          "output_type": "stream",
          "text": [
            "BLEU: 0.690 - ROUGE: 0.742 - F1: 0.768 - ACC: 0.691 - PREC: 0.798 - REC: 0.691: 100%|██████████| 1000/1000 [04:20<00:00,  3.83it/s]\n"
          ]
        },
        {
          "name": "stdout",
          "output_type": "stream",
          "text": [
            "\n",
            "Examples:\n",
            "\n",
            "Example 1:\n",
            "Ground Truth: tomato, cherry, onion, cucumber, pepper, lettuce, thyme, chives, feta, olive, oil, red wine, oregano, salt, black pepper\n",
            "Generated: tomato, cherry, onion, cucumber, pepper, lettuce, thyme, chives, feta, olive, oil, red wine, oregano, salt, black pepper\n",
            "\n",
            "Example 2:\n",
            "Ground Truth: flour, egg, cold water, salt, konbu dashi, dashi, soy, octopus, onion, pie, cheese\n",
            "Generated: foie gras, salt, milk\n",
            "\n",
            "Example 3:\n",
            "Ground Truth: nut, spray, sugar, butter, egg, flour, baking powder, baking powder, salt, nut, butter, glaze, sugar, fat, maple syrup, colored sprinkles\n",
            "Generated: nut, cinnamon, bread, butter, phyllo dough, sugar, honey, lemon, baklava\n",
            "Saving checkpoint at step 1000\n"
          ]
        },
        {
          "name": "stderr",
          "output_type": "stream",
          "text": [
            " 14%|█▍        | 1200/8521 [1:18:41<2:36:16,  1.28s/it, lr=0.00199, loss=0.0921]   "
          ]
        },
        {
          "name": "stdout",
          "output_type": "stream",
          "text": [
            "\n",
            "Evaluating at step 1200\n"
          ]
        },
        {
          "name": "stderr",
          "output_type": "stream",
          "text": [
            "BLEU: 0.770 - ROUGE: 0.815 - F1: 0.839 - ACC: 0.777 - PREC: 0.874 - REC: 0.777: 100%|██████████| 1000/1000 [04:39<00:00,  3.57it/s]\n"
          ]
        },
        {
          "name": "stdout",
          "output_type": "stream",
          "text": [
            "\n",
            "Examples:\n",
            "\n",
            "Example 1:\n",
            "Ground Truth: spaghetti, beef, pancetta, tomato, tomato, red wine, carrot, celery, onion, garlic, cheese, basil, oregano, bay, oil, salt, black pepper, cheese\n",
            "Generated: spaghetti, beef, pancetta, tomato, tomato, red wine, carrot, celery, onion, garlic, cheese, basil, oregano, bay, oil, salt, black pepper, cheese\n",
            "\n",
            "Example 2:\n",
            "Ground Truth: chicken, soy, garlic, sugar\n",
            "Generated: chicken, brown sugar, lemon, oregano, cloves, soy, oil, onion, garlic, corn starch, water, salt, pepper, bread\n",
            "\n",
            "Example 3:\n",
            "Ground Truth: butter, egg, sugar, whipping, vanilla, berries\n",
            "Generated: butter, egg, sugar, whipping, vanilla, berries\n",
            "Saving checkpoint at step 1200\n"
          ]
        },
        {
          "name": "stderr",
          "output_type": "stream",
          "text": [
            " 16%|█▋        | 1400/8521 [1:29:20<2:31:53,  1.28s/it, lr=0.00197, loss=0.0138]   "
          ]
        },
        {
          "name": "stdout",
          "output_type": "stream",
          "text": [
            "\n",
            "Evaluating at step 1400\n"
          ]
        },
        {
          "name": "stderr",
          "output_type": "stream",
          "text": [
            "BLEU: 0.800 - ROUGE: 0.837 - F1: 0.855 - ACC: 0.804 - PREC: 0.887 - REC: 0.804: 100%|██████████| 1000/1000 [05:00<00:00,  3.33it/s]\n"
          ]
        },
        {
          "name": "stdout",
          "output_type": "stream",
          "text": [
            "\n",
            "Examples:\n",
            "\n",
            "Example 1:\n",
            "Ground Truth: water, butter, salt, sugar, flour, egg, oil, cinnamon\n",
            "Generated: water, butter, salt, sugar, flour, egg, oil, cinnamon\n",
            "\n",
            "Example 2:\n",
            "Ground Truth: tomato, cherry, onion, cucumber, pepper, lettuce, thyme, chives, feta, olive, oil, red wine, oregano, salt, black pepper\n",
            "Generated: tomato, cherry, onion, cucumber, pepper, lettuce, thyme, chives, feta, olive, oil, red wine, oregano, salt, black pepper\n",
            "\n",
            "Example 3:\n",
            "Ground Truth: spaghetti, egg, cheese, bacon, garlic, salt, black pepper, parsley\n",
            "Generated: spaghetti, egg, cheese, bacon, garlic, salt, black pepper, parsley\n",
            "Saving checkpoint at step 1400\n"
          ]
        },
        {
          "name": "stderr",
          "output_type": "stream",
          "text": [
            " 19%|█▉        | 1600/8521 [1:40:46<2:32:19,  1.32s/it, lr=0.00195, loss=0.0809]   "
          ]
        },
        {
          "name": "stdout",
          "output_type": "stream",
          "text": [
            "\n",
            "Evaluating at step 1600\n"
          ]
        },
        {
          "name": "stderr",
          "output_type": "stream",
          "text": [
            "BLEU: 0.838 - ROUGE: 0.868 - F1: 0.884 - ACC: 0.844 - PREC: 0.899 - REC: 0.844: 100%|██████████| 1000/1000 [04:59<00:00,  3.34it/s]\n"
          ]
        },
        {
          "name": "stdout",
          "output_type": "stream",
          "text": [
            "\n",
            "Examples:\n",
            "\n",
            "Example 1:\n",
            "Ground Truth: butter, celery, shallot, oyster, black pepper, cayenne pepper\n",
            "Generated: butter, celery, shallot, oyster, black pepper, cayenne pepper\n",
            "\n",
            "Example 2:\n",
            "Ground Truth: noodles, miso, tofu, cress, onion, cilantro, pepper, miso, apple, gin, turmeric, water\n",
            "Generated: noodles, miso, tofu, cress, onion, cilantro, pepper, miso, apple, gin, turmeric, water\n",
            "\n",
            "Example 3:\n",
            "Ground Truth: chicken, black pepper, salt, curry, oil, onion, cloves, gin, broth, corn starch, sugar, peas, greek yogurt, cilantro\n",
            "Generated: grain, filet, mirin, oil, garlic, oxo, soy, sugar, pepper\n",
            "Saving checkpoint at step 1600\n"
          ]
        },
        {
          "name": "stderr",
          "output_type": "stream",
          "text": [
            " 21%|██        | 1800/8521 [1:52:15<2:15:05,  1.21s/it, lr=0.00193, loss=0.1207]   "
          ]
        },
        {
          "name": "stdout",
          "output_type": "stream",
          "text": [
            "\n",
            "Evaluating at step 1800\n"
          ]
        },
        {
          "name": "stderr",
          "output_type": "stream",
          "text": [
            "BLEU: 0.812 - ROUGE: 0.843 - F1: 0.859 - ACC: 0.816 - PREC: 0.875 - REC: 0.816: 100%|██████████| 1000/1000 [04:38<00:00,  3.59it/s]\n"
          ]
        },
        {
          "name": "stdout",
          "output_type": "stream",
          "text": [
            "\n",
            "Examples:\n",
            "\n",
            "Example 1:\n",
            "Ground Truth: bacon, morningstar farms chick'n patties, fat, bread, lettuce, cheddar, tomato\n",
            "Generated: bacon, morningstar farms chick'n patties, fat, bread, lettuce, cheddar, tomato\n",
            "\n",
            "Example 2:\n",
            "Ground Truth: spaghetti, egg, cheese, bacon, garlic, salt, black pepper, parsley\n",
            "Generated: spaghetti, beef, pancetta, tomato, tomato, red wine, carrot, celery, onion, garlic, cheese, basil, oregano, bay, oil, salt, black pepper, cheese\n",
            "\n",
            "Example 3:\n",
            "Ground Truth: balsamic vinegar, tomato, cheese, basil, oil, black pepper, salt\n",
            "Generated: egg, tartar, egg, cloves\n"
          ]
        },
        {
          "name": "stderr",
          "output_type": "stream",
          "text": [
            " 23%|██▎       | 2000/8521 [2:00:56<2:10:53,  1.20s/it, lr=0.00189, loss=0.0269]  "
          ]
        },
        {
          "name": "stdout",
          "output_type": "stream",
          "text": [
            "\n",
            "Evaluating at step 2000\n"
          ]
        },
        {
          "name": "stderr",
          "output_type": "stream",
          "text": [
            "BLEU: 0.802 - ROUGE: 0.836 - F1: 0.853 - ACC: 0.812 - PREC: 0.869 - REC: 0.812: 100%|██████████| 1000/1000 [04:17<00:00,  3.89it/s]\n"
          ]
        },
        {
          "name": "stdout",
          "output_type": "stream",
          "text": [
            "\n",
            "Examples:\n",
            "\n",
            "Example 1:\n",
            "Ground Truth: flour, baking powder, sugar, butter, egg, cake, bacon, onion, tomato, cheese, chives, parsley, salt, black pepper, maple syrup, oil, butter\n",
            "Generated: flour, baking powder, sugar, butter, egg, cake, bacon, onion, tomato, cheese, chives, parsley, salt, black pepper, maple syrup, oil, butter\n",
            "\n",
            "Example 2:\n",
            "Ground Truth: foie gras, salt, milk\n",
            "Generated: foie gras, salt, milk\n",
            "\n",
            "Example 3:\n",
            "Ground Truth: avocado, onion, jalapeno chilies, cilantro, salt, lime\n",
            "Generated: avocado, onion, jalapeno chilies, cilantro, salt, lime\n"
          ]
        },
        {
          "name": "stderr",
          "output_type": "stream",
          "text": [
            " 26%|██▌       | 2200/8521 [2:09:38<2:18:50,  1.32s/it, lr=0.00185, loss=0.1019]  "
          ]
        },
        {
          "name": "stdout",
          "output_type": "stream",
          "text": [
            "\n",
            "Evaluating at step 2200\n"
          ]
        },
        {
          "name": "stderr",
          "output_type": "stream",
          "text": [
            "BLEU: 0.818 - ROUGE: 0.850 - F1: 0.866 - ACC: 0.826 - PREC: 0.877 - REC: 0.826: 100%|██████████| 1000/1000 [04:40<00:00,  3.57it/s]\n"
          ]
        },
        {
          "name": "stdout",
          "output_type": "stream",
          "text": [
            "\n",
            "Examples:\n",
            "\n",
            "Example 1:\n",
            "Ground Truth: cocoa, brown sugar, milk, vanilla\n",
            "Generated: cocoa, brown sugar, milk, vanilla\n",
            "\n",
            "Example 2:\n",
            "Ground Truth: marrow, oxtail, beef, clove, anise, cinnamon, cardamom, black pepper, coriander, fennel, gin, onion, shallot, fish, sugar, noodles, scallions, eye round, cilantro, basil, beans, lime, bird chile, chile, hoisin\n",
            "Generated: marrow, oxtail, beef, clove, anise, cinnamon, cardamom, black pepper, coriander, fennel, gin, onion, shallot, fish, sugar, noodles, scallions, eye round, cilantro, basil, beans, lime, bird chile, chile, hoisin\n",
            "\n",
            "Example 3:\n",
            "Ground Truth: brown rice, oil, peas, carrot, garlic, egg, soy\n",
            "Generated: egg, oil, cheese, chilli, chives, dill, salmon\n"
          ]
        },
        {
          "name": "stderr",
          "output_type": "stream",
          "text": [
            " 28%|██▊       | 2400/8521 [2:18:42<2:14:27,  1.32s/it, lr=0.00181, loss=0.0176]  "
          ]
        },
        {
          "name": "stdout",
          "output_type": "stream",
          "text": [
            "\n",
            "Evaluating at step 2400\n"
          ]
        },
        {
          "name": "stderr",
          "output_type": "stream",
          "text": [
            "BLEU: 0.840 - ROUGE: 0.871 - F1: 0.886 - ACC: 0.848 - PREC: 0.883 - REC: 0.848: 100%|██████████| 1000/1000 [04:40<00:00,  3.56it/s]\n"
          ]
        },
        {
          "name": "stdout",
          "output_type": "stream",
          "text": [
            "\n",
            "Examples:\n",
            "\n",
            "Example 1:\n",
            "Ground Truth: spaghetti, beef, pancetta, tomato, tomato, red wine, carrot, celery, onion, garlic, cheese, basil, oregano, bay, oil, salt, black pepper, cheese\n",
            "Generated: spaghetti, beef, pancetta, tomato, tomato, red wine, carrot, celery, onion, garlic, cheese, basil, oregano, bay, oil, salt, black pepper, cheese\n",
            "\n",
            "Example 2:\n",
            "Ground Truth: snails, butter, mushroom, garlic, cheese, parsley\n",
            "Generated: foie gras, salt, milk\n",
            "\n",
            "Example 3:\n",
            "Ground Truth: sugar, vanilla, unflavored gelatin, cold water\n",
            "Generated: sugar, vanilla, unflavored gelatin, cold water\n",
            "Saving checkpoint at step 2400\n"
          ]
        },
        {
          "name": "stderr",
          "output_type": "stream",
          "text": [
            " 31%|███       | 2600/8521 [2:29:41<2:10:16,  1.32s/it, lr=0.00175, loss=0.0151]   "
          ]
        },
        {
          "name": "stdout",
          "output_type": "stream",
          "text": [
            "\n",
            "Evaluating at step 2600\n"
          ]
        },
        {
          "name": "stderr",
          "output_type": "stream",
          "text": [
            "BLEU: 0.845 - ROUGE: 0.877 - F1: 0.891 - ACC: 0.856 - PREC: 0.895 - REC: 0.856: 100%|██████████| 1000/1000 [05:14<00:00,  3.18it/s]\n"
          ]
        },
        {
          "name": "stdout",
          "output_type": "stream",
          "text": [
            "\n",
            "Examples:\n",
            "\n",
            "Example 1:\n",
            "Ground Truth: beef, lemon, gin, salt, pepper, baby arugula, asiago\n",
            "Generated: balsamic vinegar, tomato, cheese, basil, oil, black pepper, salt\n",
            "\n",
            "Example 2:\n",
            "Ground Truth: oil, potato, beer, flour, cod, pepper, chili, old bay, vinegar\n",
            "Generated: balsamic vinegar, tomato, cheese, basil, oil, black pepper, salt\n",
            "\n",
            "Example 3:\n",
            "Ground Truth: chips, beef, beans, salsa, cheese, onion, cilantro, jalapeno chilies, pickle\n",
            "Generated: chips, beef, beans, salsa, cheese, onion, cilantro, jalapeno chilies, pickle\n",
            "Saving checkpoint at step 2600\n"
          ]
        },
        {
          "name": "stderr",
          "output_type": "stream",
          "text": [
            " 33%|███▎      | 2800/8521 [2:40:41<1:55:30,  1.21s/it, lr=0.00170, loss=0.0142]   "
          ]
        },
        {
          "name": "stdout",
          "output_type": "stream",
          "text": [
            "\n",
            "Evaluating at step 2800\n"
          ]
        },
        {
          "name": "stderr",
          "output_type": "stream",
          "text": [
            "BLEU: 0.830 - ROUGE: 0.861 - F1: 0.875 - ACC: 0.838 - PREC: 0.868 - REC: 0.838: 100%|██████████| 1000/1000 [04:17<00:00,  3.88it/s]\n"
          ]
        },
        {
          "name": "stdout",
          "output_type": "stream",
          "text": [
            "\n",
            "Examples:\n",
            "\n",
            "Example 1:\n",
            "Ground Truth: milk, sugar, vanilla\n",
            "Generated: milk, sugar, vanilla\n",
            "\n",
            "Example 2:\n",
            "Ground Truth: spring roll wrappers, noodles, carrot, cucumber, onion, soy, oil, seeds\n",
            "Generated: spring roll wrappers, noodles, carrot, cucumber, onion, soy, oil, seeds\n",
            "\n",
            "Example 3:\n",
            "Ground Truth: chicken, black pepper, salt, curry, oil, onion, cloves, gin, broth, corn starch, sugar, peas, greek yogurt, cilantro\n",
            "Generated: chicken, black pepper, salt, curry, oil, onion, cloves, gin, broth, corn starch, sugar, peas, greek yogurt, cilantro\n"
          ]
        },
        {
          "name": "stderr",
          "output_type": "stream",
          "text": [
            " 35%|███▌      | 3000/8521 [2:49:00<1:50:58,  1.21s/it, lr=0.00164, loss=0.0036]  "
          ]
        },
        {
          "name": "stdout",
          "output_type": "stream",
          "text": [
            "\n",
            "Evaluating at step 3000\n"
          ]
        },
        {
          "name": "stderr",
          "output_type": "stream",
          "text": [
            "BLEU: 0.868 - ROUGE: 0.896 - F1: 0.907 - ACC: 0.876 - PREC: 0.907 - REC: 0.876: 100%|██████████| 1000/1000 [04:18<00:00,  3.86it/s]\n"
          ]
        },
        {
          "name": "stdout",
          "output_type": "stream",
          "text": [
            "\n",
            "Examples:\n",
            "\n",
            "Example 1:\n",
            "Ground Truth: rice, water, rice, sugar, salt\n",
            "Generated: rice, water, rice, sugar, salt\n",
            "\n",
            "Example 2:\n",
            "Ground Truth: sugar, cheese, almond, chocolate, liqueur, cannoli shells, cocoa, cocktail\n",
            "Generated: sugar, cheese, almond, chocolate, liqueur, cannoli shells, cocoa, cocktail\n",
            "\n",
            "Example 3:\n",
            "Ground Truth: chicken, soy, garlic, sugar\n",
            "Generated: chicken, soy, garlic, sugar\n",
            "Saving checkpoint at step 3000\n"
          ]
        },
        {
          "name": "stderr",
          "output_type": "stream",
          "text": [
            " 38%|███▊      | 3200/8521 [2:59:27<1:47:25,  1.21s/it, lr=0.00157, loss=0.0371]   "
          ]
        },
        {
          "name": "stdout",
          "output_type": "stream",
          "text": [
            "\n",
            "Evaluating at step 3200\n"
          ]
        },
        {
          "name": "stderr",
          "output_type": "stream",
          "text": [
            "BLEU: 0.860 - ROUGE: 0.888 - F1: 0.899 - ACC: 0.868 - PREC: 0.897 - REC: 0.868: 100%|██████████| 1000/1000 [04:19<00:00,  3.86it/s]\n"
          ]
        },
        {
          "name": "stdout",
          "output_type": "stream",
          "text": [
            "\n",
            "Examples:\n",
            "\n",
            "Example 1:\n",
            "Ground Truth: bread, milk, sugar, butter, salt, egg, vanilla\n",
            "Generated: bread, milk, sugar, butter, salt, egg, vanilla\n",
            "\n",
            "Example 2:\n",
            "Ground Truth: oil, arborio rice, risotto, broth, butter, cheese\n",
            "Generated: oil, arborio rice, risotto, broth, butter, cheese\n",
            "\n",
            "Example 3:\n",
            "Ground Truth: rice, water, rice, sugar, salt\n",
            "Generated: rice, water, rice, sugar, salt\n"
          ]
        },
        {
          "name": "stderr",
          "output_type": "stream",
          "text": [
            " 40%|███▉      | 3400/8521 [3:07:48<1:42:33,  1.20s/it, lr=0.00150, loss=0.0052]  "
          ]
        },
        {
          "name": "stdout",
          "output_type": "stream",
          "text": [
            "\n",
            "Evaluating at step 3400\n"
          ]
        },
        {
          "name": "stderr",
          "output_type": "stream",
          "text": [
            "BLEU: 0.844 - ROUGE: 0.874 - F1: 0.889 - ACC: 0.851 - PREC: 0.881 - REC: 0.851: 100%|██████████| 1000/1000 [04:18<00:00,  3.87it/s]\n"
          ]
        },
        {
          "name": "stdout",
          "output_type": "stream",
          "text": [
            "\n",
            "Examples:\n",
            "\n",
            "Example 1:\n",
            "Ground Truth: bacon, morningstar farms chick'n patties, fat, bread, lettuce, cheddar, tomato\n",
            "Generated: bacon, morningstar farms chick'n patties, fat, bread, lettuce, cheddar, tomato\n",
            "\n",
            "Example 2:\n",
            "Ground Truth: red snapper, lime, lemon, onion, tomato, serrano chilies, salt, oregano, pepper, cayenne pepper, cilantro, avocado, tortillas\n",
            "Generated: red snapper, lime, lemon, onion, tomato, serrano chilies, salt, oregano, pepper, cayenne pepper, cilantro, avocado, tortillas\n",
            "\n",
            "Example 3:\n",
            "Ground Truth: onion, flour, baking powder, egg, bread, oil\n",
            "Generated: crab, butter, shallot, salt, egg, worcestershire, paprika, black pepper, tartar, lemon, pepper, parsley, bread, bread\n"
          ]
        },
        {
          "name": "stderr",
          "output_type": "stream",
          "text": [
            " 42%|████▏     | 3600/8521 [3:16:07<1:38:35,  1.20s/it, lr=0.00143, loss=0.0345]  "
          ]
        },
        {
          "name": "stdout",
          "output_type": "stream",
          "text": [
            "\n",
            "Evaluating at step 3600\n"
          ]
        },
        {
          "name": "stderr",
          "output_type": "stream",
          "text": [
            "BLEU: 0.873 - ROUGE: 0.898 - F1: 0.907 - ACC: 0.883 - PREC: 0.905 - REC: 0.883: 100%|██████████| 1000/1000 [04:17<00:00,  3.89it/s]\n"
          ]
        },
        {
          "name": "stdout",
          "output_type": "stream",
          "text": [
            "\n",
            "Examples:\n",
            "\n",
            "Example 1:\n",
            "Ground Truth: paella, chorizo, chicken, onion, garlic, chicken, tomato, saffron, paprika, oil, parsley, salt, pepper, shrimp, mussels, clams, lemon\n",
            "Generated: paella, chorizo, chicken, onion, garlic, chicken, tomato, saffron, paprika, oil, parsley, salt, pepper, shrimp, mussels, clams, lemon\n",
            "\n",
            "Example 2:\n",
            "Ground Truth: english muffin, bacon, egg, butter, lemon, cayenne pepper\n",
            "Generated: english muffin, bacon, egg, butter, lemon, cayenne pepper\n",
            "\n",
            "Example 3:\n",
            "Ground Truth: seaweed, seeds, tomato, rice\n",
            "Generated: beef, lemon, gin, salt, pepper, baby arugula, asiago\n",
            "Saving checkpoint at step 3600\n"
          ]
        },
        {
          "name": "stderr",
          "output_type": "stream",
          "text": [
            " 45%|████▍     | 3800/8521 [3:26:24<1:34:51,  1.21s/it, lr=0.00136, loss=0.0086]   "
          ]
        },
        {
          "name": "stdout",
          "output_type": "stream",
          "text": [
            "\n",
            "Evaluating at step 3800\n"
          ]
        },
        {
          "name": "stderr",
          "output_type": "stream",
          "text": [
            "BLEU: 0.872 - ROUGE: 0.902 - F1: 0.912 - ACC: 0.885 - PREC: 0.912 - REC: 0.885: 100%|██████████| 1000/1000 [04:18<00:00,  3.87it/s]\n"
          ]
        },
        {
          "name": "stdout",
          "output_type": "stream",
          "text": [
            "\n",
            "Examples:\n",
            "\n",
            "Example 1:\n",
            "Ground Truth: beef, cheese, mayonnaise, ketchup, mustard, dill, black pepper, onion, tomato, lettuce\n",
            "Generated: beef, cheese, mayonnaise, ketchup, mustard, dill, black pepper, onion, tomato, lettuce\n",
            "\n",
            "Example 2:\n",
            "Ground Truth: dogs, dog bun, chili, onion, cheddar, mayonnaise, mustard, relish\n",
            "Generated: dogs, dog bun, chili, onion, cheddar, mayonnaise, mustard, relish\n",
            "\n",
            "Example 3:\n",
            "Ground Truth: onion, flour, baking powder, egg, bread, oil\n",
            "Generated: onion, flour, baking powder, egg, bread, oil\n",
            "Saving checkpoint at step 3800\n"
          ]
        },
        {
          "name": "stderr",
          "output_type": "stream",
          "text": [
            " 47%|████▋     | 4000/8521 [3:36:45<1:30:52,  1.21s/it, lr=0.00128, loss=0.0223]   "
          ]
        },
        {
          "name": "stdout",
          "output_type": "stream",
          "text": [
            "\n",
            "Evaluating at step 4000\n"
          ]
        },
        {
          "name": "stderr",
          "output_type": "stream",
          "text": [
            "BLEU: 0.881 - ROUGE: 0.903 - F1: 0.915 - ACC: 0.888 - PREC: 0.907 - REC: 0.888: 100%|██████████| 1000/1000 [04:19<00:00,  3.85it/s]\n"
          ]
        },
        {
          "name": "stdout",
          "output_type": "stream",
          "text": [
            "\n",
            "Examples:\n",
            "\n",
            "Example 1:\n",
            "Ground Truth: baby back ribs, apple, salt, mustard, brown sugar, worcestershire, gin, chili\n",
            "Generated: fig, brie, honey\n",
            "\n",
            "Example 2:\n",
            "Ground Truth: sashimi, rice, mirin, oil, gin\n",
            "Generated: sashimi, rice, mirin, oil, gin\n",
            "\n",
            "Example 3:\n",
            "Ground Truth: seaweed, seeds, tomato, rice\n",
            "Generated: seaweed, seeds, tomato, rice\n",
            "Saving checkpoint at step 4000\n"
          ]
        },
        {
          "name": "stderr",
          "output_type": "stream",
          "text": [
            " 49%|████▉     | 4200/8521 [3:46:08<1:26:48,  1.21s/it, lr=0.00120, loss=0.0043]  "
          ]
        },
        {
          "name": "stdout",
          "output_type": "stream",
          "text": [
            "\n",
            "Evaluating at step 4200\n"
          ]
        },
        {
          "name": "stderr",
          "output_type": "stream",
          "text": [
            "BLEU: 0.879 - ROUGE: 0.902 - F1: 0.912 - ACC: 0.886 - PREC: 0.908 - REC: 0.886: 100%|██████████| 1000/1000 [04:23<00:00,  3.80it/s]\n"
          ]
        },
        {
          "name": "stdout",
          "output_type": "stream",
          "text": [
            "\n",
            "Examples:\n",
            "\n",
            "Example 1:\n",
            "Ground Truth: avocado, onion, jalapeno chilies, cilantro, salt, lime\n",
            "Generated: avocado, onion, jalapeno chilies, cilantro, salt, lime\n",
            "\n",
            "Example 2:\n",
            "Ground Truth: mayonnaise, dijon mustard, celery, lemon, old bay, lobster, lettuce, dog rolls\n",
            "Generated: mayonnaise, dijon mustard, celery, lemon, old bay, lobster, lettuce, dog rolls\n",
            "\n",
            "Example 3:\n",
            "Ground Truth: brown rice, oil, peas, carrot, garlic, egg, soy\n",
            "Generated: brown rice, oil, peas, carrot, garlic, egg, soy\n"
          ]
        },
        {
          "name": "stderr",
          "output_type": "stream",
          "text": [
            " 52%|█████▏    | 4400/8521 [3:54:33<1:22:45,  1.20s/it, lr=0.00112, loss=0.0201] "
          ]
        },
        {
          "name": "stdout",
          "output_type": "stream",
          "text": [
            "\n",
            "Evaluating at step 4400\n"
          ]
        },
        {
          "name": "stderr",
          "output_type": "stream",
          "text": [
            "BLEU: 0.865 - ROUGE: 0.892 - F1: 0.904 - ACC: 0.874 - PREC: 0.896 - REC: 0.874: 100%|██████████| 1000/1000 [04:33<00:00,  3.66it/s]\n"
          ]
        },
        {
          "name": "stdout",
          "output_type": "stream",
          "text": [
            "\n",
            "Examples:\n",
            "\n",
            "Example 1:\n",
            "Ground Truth: milk, sugar, vanilla\n",
            "Generated: milk, sugar, vanilla\n",
            "\n",
            "Example 2:\n",
            "Ground Truth: avocado, onion, jalapeno chilies, cilantro, salt, lime\n",
            "Generated: avocado, onion, jalapeno chilies, cilantro, salt, lime\n",
            "\n",
            "Example 3:\n",
            "Ground Truth: beans, onion, parsley, garlic, flour, salt, cumin, coriander, black pepper, cayenne pepper, cardamom, oil\n",
            "Generated: beans, onion, parsley, garlic, flour, salt, cumin, coriander, black pepper, cayenne pepper, cardamom, oil\n"
          ]
        },
        {
          "name": "stderr",
          "output_type": "stream",
          "text": [
            " 54%|█████▍    | 4600/8521 [4:03:35<1:27:12,  1.33s/it, lr=0.00104, loss=0.0486] "
          ]
        },
        {
          "name": "stdout",
          "output_type": "stream",
          "text": [
            "\n",
            "Evaluating at step 4600\n"
          ]
        },
        {
          "name": "stderr",
          "output_type": "stream",
          "text": [
            "BLEU: 0.873 - ROUGE: 0.896 - F1: 0.906 - ACC: 0.880 - PREC: 0.902 - REC: 0.880: 100%|██████████| 1000/1000 [04:48<00:00,  3.47it/s]\n"
          ]
        },
        {
          "name": "stdout",
          "output_type": "stream",
          "text": [
            "\n",
            "Examples:\n",
            "\n",
            "Example 1:\n",
            "Ground Truth: baby back ribs, apple, salt, mustard, brown sugar, worcestershire, gin, chili\n",
            "Generated: baby back ribs, apple, salt, mustard, brown sugar, worcestershire, gin, chili\n",
            "\n",
            "Example 2:\n",
            "Ground Truth: sugar, almond, sugar, egg\n",
            "Generated: sugar, almond, sugar, egg\n",
            "\n",
            "Example 3:\n",
            "Ground Truth: egg, tartar, egg, cloves\n",
            "Generated: egg, tartar, egg, cloves\n"
          ]
        },
        {
          "name": "stderr",
          "output_type": "stream",
          "text": [
            " 56%|█████▋    | 4800/8521 [4:12:52<1:22:58,  1.34s/it, lr=0.00095, loss=0.0127] "
          ]
        },
        {
          "name": "stdout",
          "output_type": "stream",
          "text": [
            "\n",
            "Evaluating at step 4800\n"
          ]
        },
        {
          "name": "stderr",
          "output_type": "stream",
          "text": [
            "BLEU: 0.879 - ROUGE: 0.905 - F1: 0.913 - ACC: 0.891 - PREC: 0.908 - REC: 0.891: 100%|██████████| 1000/1000 [04:27<00:00,  3.73it/s]\n"
          ]
        },
        {
          "name": "stdout",
          "output_type": "stream",
          "text": [
            "\n",
            "Examples:\n",
            "\n",
            "Example 1:\n",
            "Ground Truth: bacon, morningstar farms chick'n patties, fat, bread, lettuce, cheddar, tomato\n",
            "Generated: bacon, morningstar farms chick'n patties, fat, bread, lettuce, cheddar, tomato\n",
            "\n",
            "Example 2:\n",
            "Ground Truth: strawberries, sugar, whipping, vanilla, honey, biscuits\n",
            "Generated: strawberries, sugar, whipping, vanilla, honey, biscuits\n",
            "\n",
            "Example 3:\n",
            "Ground Truth: spaghetti, beef, pancetta, tomato, tomato, red wine, carrot, celery, onion, garlic, cheese, basil, oregano, bay, oil, salt, black pepper, cheese\n",
            "Generated: spaghetti, beef, pancetta, tomato, tomato, red wine, carrot, celery, onion, garlic, cheese, basil, oregano, bay, oil, salt, black pepper, cheese\n"
          ]
        },
        {
          "name": "stderr",
          "output_type": "stream",
          "text": [
            " 59%|█████▊    | 5000/8521 [4:21:31<1:14:18,  1.27s/it, lr=0.00087, loss=0.0186] "
          ]
        },
        {
          "name": "stdout",
          "output_type": "stream",
          "text": [
            "\n",
            "Evaluating at step 5000\n"
          ]
        },
        {
          "name": "stderr",
          "output_type": "stream",
          "text": [
            "BLEU: 0.866 - ROUGE: 0.893 - F1: 0.903 - ACC: 0.875 - PREC: 0.893 - REC: 0.875: 100%|██████████| 1000/1000 [04:21<00:00,  3.83it/s]\n"
          ]
        },
        {
          "name": "stdout",
          "output_type": "stream",
          "text": [
            "\n",
            "Examples:\n",
            "\n",
            "Example 1:\n",
            "Ground Truth: brown rice, oil, peas, carrot, garlic, egg, soy\n",
            "Generated: brown rice, oil, peas, carrot, garlic, egg, soy\n",
            "\n",
            "Example 2:\n",
            "Ground Truth: filet, oil, garlic, gin, salt, pepper\n",
            "Generated: filet, oil, garlic, gin, salt, pepper\n",
            "\n",
            "Example 3:\n",
            "Ground Truth: spaghetti, egg, cheese, bacon, garlic, salt, black pepper, parsley\n",
            "Generated: spaghetti, egg, cheese, bacon, garlic, salt, black pepper, parsley\n"
          ]
        },
        {
          "name": "stderr",
          "output_type": "stream",
          "text": [
            " 61%|██████    | 5200/8521 [4:30:24<1:15:03,  1.36s/it, lr=0.00079, loss=0.0044] "
          ]
        },
        {
          "name": "stdout",
          "output_type": "stream",
          "text": [
            "\n",
            "Evaluating at step 5200\n"
          ]
        },
        {
          "name": "stderr",
          "output_type": "stream",
          "text": [
            "BLEU: 0.864 - ROUGE: 0.896 - F1: 0.907 - ACC: 0.876 - PREC: 0.895 - REC: 0.876: 100%|██████████| 1000/1000 [04:47<00:00,  3.48it/s]\n"
          ]
        },
        {
          "name": "stdout",
          "output_type": "stream",
          "text": [
            "\n",
            "Examples:\n",
            "\n",
            "Example 1:\n",
            "Ground Truth: pork, onion, garlic, tomato, tomato, italian, fennel, black pepper, noodles, egg, cheese, cheese, cheese\n",
            "Generated: pork, onion, garlic, tomato, tomato, italian, fennel, black pepper, noodles, egg, cheese, cheese, cheese\n",
            "\n",
            "Example 2:\n",
            "Ground Truth: flour, egg, cold water, salt, konbu dashi, dashi, soy, octopus, onion, pie, cheese\n",
            "Generated: flour, egg, cold water, salt, konbu dashi, dashi, soy, octopus, onion, pie, cheese\n",
            "\n",
            "Example 3:\n",
            "Ground Truth: potato, egg, flour, salt\n",
            "Generated: potato, egg, flour, salt\n"
          ]
        },
        {
          "name": "stderr",
          "output_type": "stream",
          "text": [
            " 63%|██████▎   | 5400/8521 [4:39:40<1:09:13,  1.33s/it, lr=0.00071, loss=0.0072] "
          ]
        },
        {
          "name": "stdout",
          "output_type": "stream",
          "text": [
            "\n",
            "Evaluating at step 5400\n"
          ]
        },
        {
          "name": "stderr",
          "output_type": "stream",
          "text": [
            "BLEU: 0.863 - ROUGE: 0.890 - F1: 0.901 - ACC: 0.872 - PREC: 0.889 - REC: 0.872: 100%|██████████| 1000/1000 [04:49<00:00,  3.46it/s]\n"
          ]
        },
        {
          "name": "stdout",
          "output_type": "stream",
          "text": [
            "\n",
            "Examples:\n",
            "\n",
            "Example 1:\n",
            "Ground Truth: seaweed, seeds, tomato, rice\n",
            "Generated: seaweed, seeds, tomato, rice\n",
            "\n",
            "Example 2:\n",
            "Ground Truth: egg, tartar, egg, cloves\n",
            "Generated: egg, tartar, egg, cloves\n",
            "\n",
            "Example 3:\n",
            "Ground Truth: oil, cloves, tomato, mussels, white wine, parsley, bread\n",
            "Generated: oil, cloves, tomato, mussels, white wine, parsley, bread\n"
          ]
        },
        {
          "name": "stderr",
          "output_type": "stream",
          "text": [
            " 66%|██████▌   | 5600/8521 [4:48:39<1:01:05,  1.25s/it, lr=0.00063, loss=0.0060] "
          ]
        },
        {
          "name": "stdout",
          "output_type": "stream",
          "text": [
            "\n",
            "Evaluating at step 5600\n"
          ]
        },
        {
          "name": "stderr",
          "output_type": "stream",
          "text": [
            "BLEU: 0.879 - ROUGE: 0.908 - F1: 0.919 - ACC: 0.893 - PREC: 0.909 - REC: 0.893: 100%|██████████| 1000/1000 [04:26<00:00,  3.75it/s]\n"
          ]
        },
        {
          "name": "stdout",
          "output_type": "stream",
          "text": [
            "\n",
            "Examples:\n",
            "\n",
            "Example 1:\n",
            "Ground Truth: seaweed, seeds, tomato, rice\n",
            "Generated: seaweed, seeds, tomato, rice\n",
            "\n",
            "Example 2:\n",
            "Ground Truth: english muffin, bacon, egg, butter, lemon, cayenne pepper\n",
            "Generated: english muffin, bacon, egg, butter, lemon, cayenne pepper\n",
            "\n",
            "Example 3:\n",
            "Ground Truth: garlic, plain greek yogurt, cheese, worcestershire, dijon mustard, lemon, anchovy, salt, pepper, lettuce, croutons\n",
            "Generated: butter, flour, milk, cheese, thyme, nut, salt, pepper, bread, dijon mustard, bacon, egg\n",
            "Saving checkpoint at step 5600\n"
          ]
        },
        {
          "name": "stderr",
          "output_type": "stream",
          "text": [
            " 68%|██████▊   | 5800/8521 [4:59:30<56:45,  1.25s/it, lr=0.00056, loss=0.0797]    "
          ]
        },
        {
          "name": "stdout",
          "output_type": "stream",
          "text": [
            "\n",
            "Evaluating at step 5800\n"
          ]
        },
        {
          "name": "stderr",
          "output_type": "stream",
          "text": [
            "BLEU: 0.874 - ROUGE: 0.899 - F1: 0.910 - ACC: 0.883 - PREC: 0.900 - REC: 0.883: 100%|██████████| 1000/1000 [04:31<00:00,  3.69it/s]\n"
          ]
        },
        {
          "name": "stdout",
          "output_type": "stream",
          "text": [
            "\n",
            "Examples:\n",
            "\n",
            "Example 1:\n",
            "Ground Truth: sashimi, rice, mirin, oil, gin\n",
            "Generated: sashimi, rice, mirin, oil, gin\n",
            "\n",
            "Example 2:\n",
            "Ground Truth: scallop, cajun, oil, butter, cayenne pepper, salt, pepper, greens\n",
            "Generated: scallop, cajun, oil, butter, cayenne pepper, salt, pepper, greens\n",
            "\n",
            "Example 3:\n",
            "Ground Truth: filet, oil, garlic, gin, salt, pepper\n",
            "Generated: pork, orange, lime, black pepper, cumin, cayenne pepper, garlic, oregano, oil, onion, garlic, white wine\n"
          ]
        },
        {
          "name": "stderr",
          "output_type": "stream",
          "text": [
            " 70%|███████   | 6000/8521 [5:08:11<52:21,  1.25s/it, lr=0.00049, loss=0.0027]   "
          ]
        },
        {
          "name": "stdout",
          "output_type": "stream",
          "text": [
            "\n",
            "Evaluating at step 6000\n"
          ]
        },
        {
          "name": "stderr",
          "output_type": "stream",
          "text": [
            "BLEU: 0.877 - ROUGE: 0.902 - F1: 0.911 - ACC: 0.889 - PREC: 0.905 - REC: 0.889: 100%|██████████| 1000/1000 [04:32<00:00,  3.68it/s]\n"
          ]
        },
        {
          "name": "stdout",
          "output_type": "stream",
          "text": [
            "\n",
            "Examples:\n",
            "\n",
            "Example 1:\n",
            "Ground Truth: bacon, morningstar farms chick'n patties, fat, bread, lettuce, cheddar, tomato\n",
            "Generated: bacon, morningstar farms chick'n patties, fat, bread, lettuce, cheddar, tomato\n",
            "\n",
            "Example 2:\n",
            "Ground Truth: chickpea, garlic, tahini, lemon, oil, salt, parsley\n",
            "Generated: chickpea, garlic, tahini, lemon, oil, salt, parsley\n",
            "\n",
            "Example 3:\n",
            "Ground Truth: egg, tartar, egg, cloves\n",
            "Generated: egg, tartar, egg, cloves\n"
          ]
        },
        {
          "name": "stderr",
          "output_type": "stream",
          "text": [
            " 73%|███████▎  | 6200/8521 [5:16:54<48:13,  1.25s/it, lr=0.00042, loss=0.0070]   "
          ]
        },
        {
          "name": "stdout",
          "output_type": "stream",
          "text": [
            "\n",
            "Evaluating at step 6200\n"
          ]
        },
        {
          "name": "stderr",
          "output_type": "stream",
          "text": [
            "BLEU: 0.864 - ROUGE: 0.892 - F1: 0.903 - ACC: 0.874 - PREC: 0.891 - REC: 0.874: 100%|██████████| 1000/1000 [04:26<00:00,  3.75it/s]\n"
          ]
        },
        {
          "name": "stdout",
          "output_type": "stream",
          "text": [
            "\n",
            "Examples:\n",
            "\n",
            "Example 1:\n",
            "Ground Truth: oil, calamari, flour, masa harina, parsley, lemon, parsley, salt, lemon, mayonnaise\n",
            "Generated: oil, calamari, flour, masa harina, parsley, lemon, parsley, salt, lemon, mayonnaise\n",
            "\n",
            "Example 2:\n",
            "Ground Truth: milk, sugar, vanilla\n",
            "Generated: milk, sugar, vanilla\n",
            "\n",
            "Example 3:\n",
            "Ground Truth: vanilla, salt, egg, sugar, chocolate, chocolate\n",
            "Generated: strawberries, sugar, whipping, vanilla, honey, biscuits\n"
          ]
        },
        {
          "name": "stderr",
          "output_type": "stream",
          "text": [
            " 75%|███████▌  | 6400/8521 [5:25:30<44:25,  1.26s/it, lr=0.00035, loss=0.0505]   "
          ]
        },
        {
          "name": "stdout",
          "output_type": "stream",
          "text": [
            "\n",
            "Evaluating at step 6400\n"
          ]
        },
        {
          "name": "stderr",
          "output_type": "stream",
          "text": [
            "BLEU: 0.862 - ROUGE: 0.891 - F1: 0.902 - ACC: 0.872 - PREC: 0.890 - REC: 0.872: 100%|██████████| 1000/1000 [04:19<00:00,  3.85it/s]\n"
          ]
        },
        {
          "name": "stdout",
          "output_type": "stream",
          "text": [
            "\n",
            "Examples:\n",
            "\n",
            "Example 1:\n",
            "Ground Truth: baking powder, shortening, flour, milk, salt\n",
            "Generated: baking powder, shortening, flour, milk, salt\n",
            "\n",
            "Example 2:\n",
            "Ground Truth: cheese, pasta, cheese, cheese\n",
            "Generated: cheese, pasta, cheese, cheese\n",
            "\n",
            "Example 3:\n",
            "Ground Truth: flour, baking powder, sugar, butter, egg, cake, bacon, onion, tomato, cheese, chives, parsley, salt, black pepper, maple syrup, oil, butter\n",
            "Generated: flour, baking powder, sugar, butter, egg, cake, bacon, onion, tomato, cheese, chives, parsley, salt, black pepper, maple syrup, oil, butter\n"
          ]
        },
        {
          "name": "stderr",
          "output_type": "stream",
          "text": [
            " 77%|███████▋  | 6600/8521 [5:34:04<47:36,  1.49s/it, lr=0.00029, loss=0.0036]   "
          ]
        },
        {
          "name": "stdout",
          "output_type": "stream",
          "text": [
            "\n",
            "Evaluating at step 6600\n"
          ]
        },
        {
          "name": "stderr",
          "output_type": "stream",
          "text": [
            "BLEU: 0.878 - ROUGE: 0.907 - F1: 0.918 - ACC: 0.892 - PREC: 0.904 - REC: 0.892: 100%|██████████| 1000/1000 [04:49<00:00,  3.46it/s]\n"
          ]
        },
        {
          "name": "stdout",
          "output_type": "stream",
          "text": [
            "\n",
            "Examples:\n",
            "\n",
            "Example 1:\n",
            "Ground Truth: red snapper, lime, lemon, onion, tomato, serrano chilies, salt, oregano, pepper, cayenne pepper, cilantro, avocado, tortillas\n",
            "Generated: red snapper, lime, lemon, onion, tomato, serrano chilies, salt, oregano, pepper, cayenne pepper, cilantro, avocado, tortillas\n",
            "\n",
            "Example 2:\n",
            "Ground Truth: flour, egg, cold water, salt, konbu dashi, dashi, soy, octopus, onion, pie, cheese\n",
            "Generated: flour, egg, cold water, salt, konbu dashi, dashi, soy, octopus, onion, pie, cheese\n",
            "\n",
            "Example 3:\n",
            "Ground Truth: onion, garlic, beef, chili, salt, sugar, corn tortillas, salsa, cilantro, lime\n",
            "Generated: onion, garlic, beef, chili, salt, sugar, corn tortillas, salsa, cilantro, lime\n"
          ]
        },
        {
          "name": "stderr",
          "output_type": "stream",
          "text": [
            " 80%|███████▉  | 6800/8521 [5:43:21<38:01,  1.33s/it, lr=0.00024, loss=0.0039]   "
          ]
        },
        {
          "name": "stdout",
          "output_type": "stream",
          "text": [
            "\n",
            "Evaluating at step 6800\n"
          ]
        },
        {
          "name": "stderr",
          "output_type": "stream",
          "text": [
            "BLEU: 0.890 - ROUGE: 0.915 - F1: 0.924 - ACC: 0.900 - PREC: 0.912 - REC: 0.900: 100%|██████████| 1000/1000 [04:41<00:00,  3.56it/s]\n"
          ]
        },
        {
          "name": "stdout",
          "output_type": "stream",
          "text": [
            "\n",
            "Examples:\n",
            "\n",
            "Example 1:\n",
            "Ground Truth: sushi grade tuna, scallions, tomato, cilantro, gin, soy, oil, cucumber\n",
            "Generated: salmon, brown sugar, lemon, lemon, soy, water, oil\n",
            "\n",
            "Example 2:\n",
            "Ground Truth: ham, sugar, butter, cheese, egg, vanilla\n",
            "Generated: ham, sugar, butter, cheese, egg, vanilla\n",
            "\n",
            "Example 3:\n",
            "Ground Truth: onion, butter, oil, salt, sugar, flour, beef, vermouth, pepper, baguette, cloves, cheese\n",
            "Generated: onion, butter, oil, salt, sugar, flour, beef, vermouth, pepper, baguette, cloves, cheese\n",
            "Saving checkpoint at step 6800\n"
          ]
        },
        {
          "name": "stderr",
          "output_type": "stream",
          "text": [
            " 82%|████████▏ | 7000/8521 [5:54:12<31:39,  1.25s/it, lr=0.00019, loss=0.0481]    "
          ]
        },
        {
          "name": "stdout",
          "output_type": "stream",
          "text": [
            "\n",
            "Evaluating at step 7000\n"
          ]
        },
        {
          "name": "stderr",
          "output_type": "stream",
          "text": [
            "BLEU: 0.874 - ROUGE: 0.900 - F1: 0.909 - ACC: 0.885 - PREC: 0.902 - REC: 0.885: 100%|██████████| 1000/1000 [04:56<00:00,  3.37it/s]\n"
          ]
        },
        {
          "name": "stdout",
          "output_type": "stream",
          "text": [
            "\n",
            "Examples:\n",
            "\n",
            "Example 1:\n",
            "Ground Truth: crab, butter, shallot, salt, egg, worcestershire, paprika, black pepper, tartar, lemon, pepper, parsley, bread, bread\n",
            "Generated: crab, butter, shallot, salt, egg, worcestershire, paprika, black pepper, tartar, lemon, pepper, parsley, bread, bread\n",
            "\n",
            "Example 2:\n",
            "Ground Truth: oil, calamari, flour, masa harina, parsley, lemon, parsley, salt, lemon, mayonnaise\n",
            "Generated: oil, calamari, flour, masa harina, parsley, lemon, parsley, salt, lemon, mayonnaise\n",
            "\n",
            "Example 3:\n",
            "Ground Truth: oil, arborio rice, risotto, broth, butter, cheese\n",
            "Generated: oil, arborio rice, risotto, broth, butter, cheese\n"
          ]
        },
        {
          "name": "stderr",
          "output_type": "stream",
          "text": [
            " 84%|████████▍ | 7200/8521 [6:03:19<27:27,  1.25s/it, lr=0.00014, loss=0.0122]   "
          ]
        },
        {
          "name": "stdout",
          "output_type": "stream",
          "text": [
            "\n",
            "Evaluating at step 7200\n"
          ]
        },
        {
          "name": "stderr",
          "output_type": "stream",
          "text": [
            "BLEU: 0.867 - ROUGE: 0.895 - F1: 0.905 - ACC: 0.877 - PREC: 0.894 - REC: 0.877: 100%|██████████| 1000/1000 [04:33<00:00,  3.66it/s]\n"
          ]
        },
        {
          "name": "stdout",
          "output_type": "stream",
          "text": [
            "\n",
            "Examples:\n",
            "\n",
            "Example 1:\n",
            "Ground Truth: parsley, thyme, bay, lobster, butter, gin, bran, shallot, carrot, celery, garlic, onion, salt, tomato, white wine, fish, cayenne pepper, corn starch, egg, chives\n",
            "Generated: flour, egg, cold water, salt, konbu dashi, dashi, soy, octopus, onion, pie, cheese\n",
            "\n",
            "Example 2:\n",
            "Ground Truth: oil, potato, peas, cumin, salt, chili, chilli, garam masala, gin, coriander, flour, water, cold water, oil\n",
            "Generated: oil, potato, peas, cumin, salt, chili, chilli, garam masala, gin, coriander, flour, water, cold water, oil\n",
            "\n",
            "Example 3:\n",
            "Ground Truth: bacon, morningstar farms chick'n patties, fat, bread, lettuce, cheddar, tomato\n",
            "Generated: bread, cheddar, tomato, onion, oil\n"
          ]
        },
        {
          "name": "stderr",
          "output_type": "stream",
          "text": [
            " 87%|████████▋ | 7400/8521 [6:12:02<23:15,  1.24s/it, lr=0.00010, loss=0.0242]   "
          ]
        },
        {
          "name": "stdout",
          "output_type": "stream",
          "text": [
            "\n",
            "Evaluating at step 7400\n"
          ]
        },
        {
          "name": "stderr",
          "output_type": "stream",
          "text": [
            "BLEU: 0.874 - ROUGE: 0.901 - F1: 0.912 - ACC: 0.884 - PREC: 0.899 - REC: 0.884: 100%|██████████| 1000/1000 [04:25<00:00,  3.77it/s]\n"
          ]
        },
        {
          "name": "stdout",
          "output_type": "stream",
          "text": [
            "\n",
            "Examples:\n",
            "\n",
            "Example 1:\n",
            "Ground Truth: onion, garlic, beef, chili, salt, sugar, corn tortillas, salsa, cilantro, lime\n",
            "Generated: onion, garlic, beef, chili, salt, sugar, corn tortillas, salsa, cilantro, lime\n",
            "\n",
            "Example 2:\n",
            "Ground Truth: flour, baking powder, cinnamon, salt, sugar, egg, oil, apple, vanilla, carrot, cheese, butter, sugar, milk\n",
            "Generated: flour, baking powder, cinnamon, salt, sugar, egg, oil, apple, vanilla, carrot, cheese, butter, sugar, milk\n",
            "\n",
            "Example 3:\n",
            "Ground Truth: oil, potato, beer, flour, cod, pepper, chili, old bay, vinegar\n",
            "Generated: oil, potato, beer, flour, cod, pepper, chili, old bay, vinegar\n"
          ]
        },
        {
          "name": "stderr",
          "output_type": "stream",
          "text": [
            " 89%|████████▉ | 7600/8521 [6:20:38<19:13,  1.25s/it, lr=0.00007, loss=0.0042]   "
          ]
        },
        {
          "name": "stdout",
          "output_type": "stream",
          "text": [
            "\n",
            "Evaluating at step 7600\n"
          ]
        },
        {
          "name": "stderr",
          "output_type": "stream",
          "text": [
            "BLEU: 0.880 - ROUGE: 0.907 - F1: 0.916 - ACC: 0.890 - PREC: 0.905 - REC: 0.890: 100%|██████████| 1000/1000 [04:28<00:00,  3.73it/s]\n"
          ]
        },
        {
          "name": "stdout",
          "output_type": "stream",
          "text": [
            "\n",
            "Examples:\n",
            "\n",
            "Example 1:\n",
            "Ground Truth: oil, potato, peas, cumin, salt, chili, chilli, garam masala, gin, coriander, flour, water, cold water, oil\n",
            "Generated: baking powder, shortening, flour, milk, salt\n",
            "\n",
            "Example 2:\n",
            "Ground Truth: dogs, dog bun, chili, onion, cheddar, mayonnaise, mustard, relish\n",
            "Generated: dogs, dog bun, chili, onion, cheddar, mayonnaise, mustard, relish\n",
            "\n",
            "Example 3:\n",
            "Ground Truth: egg, sugar, mascarpone, brewed espresso, frangelico, rum, lady fingers, cocoa\n",
            "Generated: cake, butter, caster sugar, flour, soda, baking powder, vanilla essence, milk, icing, sugar\n"
          ]
        },
        {
          "name": "stderr",
          "output_type": "stream",
          "text": [
            " 92%|█████████▏| 7800/8521 [6:29:16<15:08,  1.26s/it, lr=0.00004, loss=0.0250]   "
          ]
        },
        {
          "name": "stdout",
          "output_type": "stream",
          "text": [
            "\n",
            "Evaluating at step 7800\n"
          ]
        },
        {
          "name": "stderr",
          "output_type": "stream",
          "text": [
            "BLEU: 0.864 - ROUGE: 0.889 - F1: 0.899 - ACC: 0.871 - PREC: 0.888 - REC: 0.871: 100%|██████████| 1000/1000 [04:26<00:00,  3.75it/s]\n"
          ]
        },
        {
          "name": "stdout",
          "output_type": "stream",
          "text": [
            "\n",
            "Examples:\n",
            "\n",
            "Example 1:\n",
            "Ground Truth: bread, cheddar, tomato, onion, oil\n",
            "Generated: bread, cheddar, tomato, onion, oil\n",
            "\n",
            "Example 2:\n",
            "Ground Truth: salt, flour, milk, fat, onion, celery, potato, clam, butter\n",
            "Generated: salt, flour, milk, fat, onion, celery, potato, clam, butter\n",
            "\n",
            "Example 3:\n",
            "Ground Truth: cake, butter, caster sugar, flour, soda, baking powder, vanilla essence, milk, icing, sugar\n",
            "Generated: cake, butter, caster sugar, flour, soda, baking powder, vanilla essence, milk, icing, sugar\n"
          ]
        },
        {
          "name": "stderr",
          "output_type": "stream",
          "text": [
            " 94%|█████████▍| 8000/8521 [6:37:53<10:52,  1.25s/it, lr=0.00002, loss=0.0034]   "
          ]
        },
        {
          "name": "stdout",
          "output_type": "stream",
          "text": [
            "\n",
            "Evaluating at step 8000\n"
          ]
        },
        {
          "name": "stderr",
          "output_type": "stream",
          "text": [
            "BLEU: 0.875 - ROUGE: 0.899 - F1: 0.907 - ACC: 0.882 - PREC: 0.897 - REC: 0.882: 100%|██████████| 1000/1000 [04:37<00:00,  3.60it/s]\n"
          ]
        },
        {
          "name": "stdout",
          "output_type": "stream",
          "text": [
            "\n",
            "Examples:\n",
            "\n",
            "Example 1:\n",
            "Ground Truth: shiitake, gin, dashi, noodles, egg, baby bok choy, radish, miso, soy, oil, scallions, pepper\n",
            "Generated: shiitake, gin, dashi, noodles, egg, baby bok choy, radish, miso, soy, oil, scallions, pepper\n",
            "\n",
            "Example 2:\n",
            "Ground Truth: plum, garlic, gin, balsamic vinegar, basil, salt, black pepper, baguette\n",
            "Generated: plum, garlic, gin, balsamic vinegar, basil, salt, black pepper, baguette\n",
            "\n",
            "Example 3:\n",
            "Ground Truth: pizza, cherry, olive, oregano, basil, salt, oil, cheese\n",
            "Generated: pizza, cherry, olive, oregano, basil, salt, oil, cheese\n"
          ]
        },
        {
          "name": "stderr",
          "output_type": "stream",
          "text": [
            " 96%|█████████▌| 8200/8521 [6:46:53<06:56,  1.30s/it, lr=0.00001, loss=0.0315]   "
          ]
        },
        {
          "name": "stdout",
          "output_type": "stream",
          "text": [
            "\n",
            "Evaluating at step 8200\n"
          ]
        },
        {
          "name": "stderr",
          "output_type": "stream",
          "text": [
            "BLEU: 0.882 - ROUGE: 0.908 - F1: 0.917 - ACC: 0.892 - PREC: 0.903 - REC: 0.892: 100%|██████████| 1000/1000 [04:37<00:00,  3.61it/s]\n"
          ]
        },
        {
          "name": "stdout",
          "output_type": "stream",
          "text": [
            "\n",
            "Examples:\n",
            "\n",
            "Example 1:\n",
            "Ground Truth: pork, onion, garlic, tomato, tomato, italian, fennel, black pepper, noodles, egg, cheese, cheese, cheese\n",
            "Generated: pork, onion, garlic, tomato, tomato, italian, fennel, black pepper, noodles, egg, cheese, cheese, cheese\n",
            "\n",
            "Example 2:\n",
            "Ground Truth: bread, milk, sugar, butter, salt, egg, vanilla\n",
            "Generated: bread, milk, sugar, butter, salt, egg, vanilla\n",
            "\n",
            "Example 3:\n",
            "Ground Truth: chicken, soy, garlic, sugar\n",
            "Generated: chicken, soy, garlic, sugar\n"
          ]
        },
        {
          "name": "stderr",
          "output_type": "stream",
          "text": [
            " 99%|█████████▊| 8400/8521 [6:55:52<02:38,  1.31s/it, lr=0.00000, loss=0.0080]  "
          ]
        },
        {
          "name": "stdout",
          "output_type": "stream",
          "text": [
            "\n",
            "Evaluating at step 8400\n"
          ]
        },
        {
          "name": "stderr",
          "output_type": "stream",
          "text": [
            "BLEU: 0.875 - ROUGE: 0.900 - F1: 0.911 - ACC: 0.882 - PREC: 0.891 - REC: 0.882: 100%|██████████| 1000/1000 [04:18<00:00,  3.87it/s]\n"
          ]
        },
        {
          "name": "stdout",
          "output_type": "stream",
          "text": [
            "\n",
            "Examples:\n",
            "\n",
            "Example 1:\n",
            "Ground Truth: sushi grade tuna, scallions, tomato, cilantro, gin, soy, oil, cucumber\n",
            "Generated: sushi grade tuna, scallions, tomato, cilantro, gin, soy, oil, cucumber\n",
            "\n",
            "Example 2:\n",
            "Ground Truth: milk, sugar, vanilla\n",
            "Generated: vanilla, salt, egg, sugar, chocolate, chocolate\n",
            "\n",
            "Example 3:\n",
            "Ground Truth: bread, cheddar, tomato, onion, oil\n",
            "Generated: bread, cheddar, tomato, onion, oil\n"
          ]
        },
        {
          "name": "stderr",
          "output_type": "stream",
          "text": [
            "100%|██████████| 8521/8521 [7:02:37<00:00,  2.98s/it, lr=0.00000, loss=0.0231]  \n"
          ]
        }
      ],
      "source": [
        "# BATCH_SIZE = 8\n",
        "# LEARNING_RATE = 0.002\n",
        "# EPOCHS = 1\n",
        "# MAX_EXAMPLES = -1  # -1 to use all training data\n",
        "# EVAL_STEPS = 200  # Evaluate every n steps\n",
        "# VALIDATION_BATCH_SIZE = 4\n",
        "# VALIDATION_EXAMPLES = 1000  # set to None to use all validation data\n",
        "\n",
        "# def count_dataset_entries(jsonl_file_path):\n",
        "#     with open(jsonl_file_path, 'r') as file:\n",
        "#         return sum(1 for _ in file)\n",
        "\n",
        "# train_entries = count_dataset_entries('food-ingredients-101/train.jsonl')\n",
        "\n",
        "# if MAX_EXAMPLES != -1:\n",
        "#     train_entries = min(train_entries, MAX_EXAMPLES)\n",
        "# print(\"Number of training examples:\", train_entries)\n",
        "\n",
        "# TRAIN_STEPS = train_entries // BATCH_SIZE\n",
        "\n",
        "# train_data_it = train_data_iterator()\n",
        "\n",
        "# sched_fn = big_vision.utils.create_learning_rate_schedule(\n",
        "#     total_steps=TRAIN_STEPS+1, base=LEARNING_RATE,\n",
        "#     decay_type=\"cosine\", warmup_percent=0.10)\n",
        "\n",
        "# pbar = tqdm(total=TRAIN_STEPS, dynamic_ncols=True)\n",
        "\n",
        "# loss_values = []\n",
        "# best_f1 = 0\n",
        "\n",
        "# # Logging setup\n",
        "# import wandb\n",
        "\n",
        "# wandb.init(project=\"paligemma-jax-local\", config={\n",
        "#     \"model\": \"paligemma-3b-pt-224\",\n",
        "#     \"batch_size\": BATCH_SIZE,\n",
        "#     \"learning_rate\": LEARNING_RATE,\n",
        "#     \"train_steps\": TRAIN_STEPS,\n",
        "#     \"seq_len\": SEQLEN,\n",
        "#     \"ckpt_dir\": ckpt_dir,\n",
        "#     \"decay_type\": \"cosine\",\n",
        "#     \"warmup_percent\": 0.10,\n",
        "#     \"epochs\": EPOCHS,\n",
        "# })\n",
        "\n",
        "# for step in range(1, TRAIN_STEPS+1):\n",
        "#     # Make list of N training examples.\n",
        "#     examples = [next(train_data_it) for _ in range(BATCH_SIZE)]\n",
        "\n",
        "#     # Convert list of examples into a dict of np.arrays and load onto devices.\n",
        "#     batch = jax.tree.map(lambda *x: np.stack(x), *examples)\n",
        "#     batch = big_vision.utils.reshard(batch, data_sharding)\n",
        "\n",
        "#     # Training step and report training loss\n",
        "#     learning_rate = sched_fn(step)\n",
        "#     params, loss = update_fn(params, batch, learning_rate)\n",
        "\n",
        "#     loss = jax.device_get(loss)\n",
        "#     loss_values.append(loss)\n",
        "\n",
        "#     # Log loss to wandb\n",
        "#     wandb.log({\"train_loss\": loss, \"learning_rate\": learning_rate})\n",
        "\n",
        "#     pbar.set_postfix({'lr': f'{learning_rate:.5f}', 'loss': f'{loss:.4f}'}, refresh=True)\n",
        "#     pbar.update()\n",
        "\n",
        "#     if (step % EVAL_STEPS) == 0:\n",
        "#         print(f\"\\nEvaluating at step {step}\")\n",
        "        \n",
        "#         # Calculate validation scores\n",
        "#         val_results = evaluate_model_batch(\n",
        "#             params, \n",
        "#             batch_size=VALIDATION_BATCH_SIZE, \n",
        "#             num_examples=VALIDATION_EXAMPLES,\n",
        "#             ordered=False,\n",
        "#             data_iterator=batch_val_score_iterator\n",
        "#         )\n",
        "        \n",
        "#         # Log validation scores to wandb\n",
        "#         wandb.log({\n",
        "#             \"val_bleu\": val_results['bleu'],\n",
        "#             \"val_rouge\": val_results['rouge'],\n",
        "#             \"val_f1\": val_results['ingredient_overlap'],\n",
        "#             \"val_accuracy\": val_results['accuracy'],\n",
        "#             \"val_precision\": val_results['precision'],\n",
        "#             \"val_recall\": val_results['recall']\n",
        "#         })\n",
        "\n",
        "#         # Print a few examples\n",
        "#         print(\"\\nExamples:\")\n",
        "#         for i, (ground_truth, generated_caption) in enumerate(val_results['examples'][:3]):\n",
        "#             print(f\"\\nExample {i+1}:\")\n",
        "#             print(f\"Ground Truth: {ground_truth}\")\n",
        "#             print(f\"Generated: {generated_caption}\")\n",
        "\n",
        "#         # Visual inspection of predictions (using the first validation iterator)\n",
        "#         # print(\"\\nVisual inspection of predictions:\")\n",
        "#         # html_out = \"\"\n",
        "#         # for image, caption in make_predictions(\n",
        "#         #     validation_data_iterator(), num_examples=4, batch_size=4):\n",
        "#         #     html_out += render_example(image, caption)\n",
        "#         # display(HTML(html_out))\n",
        "\n",
        "#         # Save checkpoint if the validation score improves\n",
        "#         current_f1 = val_results['ingredient_overlap']\n",
        "#         if current_f1 >= best_f1:\n",
        "#             print(f\"Saving checkpoint at step {step}\")\n",
        "#             ckpt = {\"params\": params}\n",
        "#             save_args = orbax_utils.save_args_from_target(ckpt)\n",
        "#             checkpoint_manager.save(\n",
        "#                 step, \n",
        "#                 ckpt, \n",
        "#                 save_kwargs={'save_args': save_args}\n",
        "#             )\n",
        "#             best_f1 = current_f1\n",
        "\n",
        "# pbar.close()"
      ]
    },
    {
      "cell_type": "markdown",
      "metadata": {
        "id": "glScsFLVJ52c"
      },
      "source": [
        "## Output\n",
        "\n",
        "The validation data for this notebook consists of just 10 images. In normal code, you would likely have many more data points for validation, but for this notebook, run the following code to generate descriptions for all 10 images. After tuning the model, these descriptions should be very similar in form and content coverage to the descriptions included with the training data that you looked at earlier in this notebook.\n",
        "\n",
        "Run the below code to generate descriptions for the validation data set."
      ]
    },
    {
      "cell_type": "code",
      "execution_count": null,
      "metadata": {
        "id": "hgUhEKjzPdMQ"
      },
      "outputs": [],
      "source": [
        "MAX_VALIDATION_EXAMPLES = 8\n",
        "\n",
        "print(\"Model predictions\")\n",
        "html_out = \"\"\n",
        "for image, caption in make_predictions(\n",
        "    validation_data_iterator(), num_examples=MAX_VALIDATION_EXAMPLES, batch_size=8):\n",
        "  html_out += render_example(image, caption)\n",
        "display(HTML(html_out))\n"
      ]
    },
    {
      "cell_type": "code",
      "execution_count": null,
      "metadata": {},
      "outputs": [],
      "source": [
        "# # save the final checkpoint\n",
        "\n",
        "# ckpt = {\"params\": params}\n",
        "# save_args = orbax_utils.save_args_from_target(ckpt)\n",
        "# checkpoint_manager.save(\n",
        "#     step, \n",
        "#     ckpt, \n",
        "#     save_kwargs={'save_args': save_args}\n",
        "#     )"
      ]
    },
    {
      "cell_type": "markdown",
      "metadata": {},
      "source": [
        "## Validation"
      ]
    },
    {
      "cell_type": "code",
      "execution_count": 20,
      "metadata": {},
      "outputs": [
        {
          "name": "stderr",
          "output_type": "stream",
          "text": [
            "/home/simon/miniconda3/envs/anja-ma/lib/python3.11/site-packages/orbax/checkpoint/type_handlers.py:1442: UserWarning: Couldn't find sharding info under RestoreArgs. Populating sharding info from sharding file. Please note restoration time will be slightly increased due to reading from file instead of directly from RestoreArgs. Note also that this option is unsafe when restoring on a different topology than the checkpoint was saved with.\n",
            "  warnings.warn(\n"
          ]
        }
      ],
      "source": [
        "# Load latest checkpoint\n",
        "best_step = checkpoint_manager.best_step()\n",
        "# best_step = 200\n",
        "best_ckpt = checkpoint_manager.restore(best_step)\n",
        "params = best_ckpt['params']"
      ]
    },
    {
      "cell_type": "code",
      "execution_count": 21,
      "metadata": {},
      "outputs": [
        {
          "data": {
            "text/plain": [
              "6800"
            ]
          },
          "execution_count": 21,
          "metadata": {},
          "output_type": "execute_result"
        }
      ],
      "source": [
        "best_step"
      ]
    },
    {
      "cell_type": "code",
      "execution_count": 24,
      "metadata": {},
      "outputs": [
        {
          "name": "stderr",
          "output_type": "stream",
          "text": [
            "BLEU: 0.914 - ROUGE: 0.937 - F1_ORIG: 0.944 - ACC: 0.925 - PREC: 0.928 - REC: 0.925 - F1_SKL: 0.944 - F1_SAMP: 0.944 - F1_WGT: 0.945 - F1_MAC: 0.877: 100%|██████████| 25250/25250 [10:27:43<00:00,  1.49s/it] \n"
          ]
        },
        {
          "name": "stdout",
          "output_type": "stream",
          "text": [
            "\n",
            "Validation Results:\n",
            "\tBLEU: 0.9142\n",
            "\tROUGE: 0.9367\n",
            "\tF1_ORIG: 0.9436\n",
            "\tF1_SKL: 0.9436\n",
            "\tF1_SAMP: 0.9436\n",
            "\tF1_WGT: 0.9446\n",
            "\tF1_MAC: 0.8768\n",
            "\tAccuracy: 0.9253\n",
            "\tPrecision: 0.9282\n",
            "\tRecall: 0.9253\n",
            "\n",
            "Examples:\n",
            "\n",
            "Example 1:\n",
            "Ground Truth: snails, butter, mushroom, garlic, cheese, parsley\n",
            "Generated: snails, butter, mushroom, garlic, cheese, parsley\n",
            "\n",
            "Example 2:\n",
            "Ground Truth: chicken, soy, garlic, sugar\n",
            "Generated: chicken, soy, garlic, sugar\n",
            "\n",
            "Example 3:\n",
            "Ground Truth: nut, spray, sugar, butter, egg, flour, baking powder, baking powder, salt, nut, butter, glaze, sugar, fat, maple syrup, colored sprinkles\n",
            "Generated: cake, butter, caster sugar, flour, soda, baking powder, vanilla essence, milk, icing, sugar\n",
            "\n",
            "Example 4:\n",
            "Ground Truth: egg, sugar, mascarpone, brewed espresso, frangelico, rum, lady fingers, cocoa\n",
            "Generated: egg, sugar, mascarpone, brewed espresso, frangelico, rum, lady fingers, cocoa\n",
            "\n",
            "Example 5:\n",
            "Ground Truth: chicken, soy, garlic, sugar\n",
            "Generated: chicken, soy, garlic, sugar\n"
          ]
        }
      ],
      "source": [
        "# Evaluate the model\n",
        "results = evaluate_model_batch(\n",
        "    params, \n",
        "    batch_size=8,  # 8\n",
        "    # num_examples=4,\n",
        "    ordered=False,\n",
        "    data_iterator=batch_test_score_iterator\n",
        ")\n",
        "print(f\"\\nValidation Results:\")\n",
        "print(f\"\\tBLEU: {results['bleu']:.4f}\")\n",
        "print(f\"\\tROUGE: {results['rouge']:.4f}\")\n",
        "print(f\"\\tF1_ORIG: {results['ingredient_overlap']:.4f}\")\n",
        "print(f\"\\tF1_SKL: {results['f1_sklearn']:.4f}\")\n",
        "print(f\"\\tF1_SAMP: {results['f1_sample']:.4f}\")\n",
        "print(f\"\\tF1_WGT: {results['f1_weighted']:.4f}\")\n",
        "print(f\"\\tF1_MAC: {results['f1_macro']:.4f}\")\n",
        "print(f\"\\tAccuracy: {results['accuracy']:.4f}\") \n",
        "print(f\"\\tPrecision: {results['precision']:.4f}\")\n",
        "print(f\"\\tRecall: {results['recall']:.4f}\")\n",
        "\n",
        "# Print a few examples\n",
        "print(\"\\nExamples:\")\n",
        "for i, (ground_truth, generated_caption) in enumerate(results['examples'][:5]):\n",
        "    print(f\"\\nExample {i+1}:\")\n",
        "    print(f\"Ground Truth: {ground_truth}\")\n",
        "    print(f\"Generated: {generated_caption}\")"
      ]
    },
    {
      "cell_type": "markdown",
      "metadata": {},
      "source": [
        "Validation Results:\n",
        "\n",
        "\tBLEU: 0.9142\n",
        "\tROUGE: 0.9367\n",
        "\tF1_ORIG: 0.9436\n",
        "\tF1_SKL: 0.9436\n",
        "\tF1_SAMP: 0.9436\n",
        "\tF1_WGT: 0.9446\n",
        "\tF1_MAC: 0.8768\n",
        "\tAccuracy: 0.9253\n",
        "\tPrecision: 0.9282\n",
        "\tRecall: 0.9253\n",
        "\n",
        "Examples:\n",
        "\n",
        "Example 1:\n",
        "- Ground Truth: snails, butter, mushroom, garlic, cheese, parsley\n",
        "- Generated: snails, butter, mushroom, garlic, cheese, parsley\n",
        "\n",
        "Example 2:\n",
        "- Ground Truth: chicken, soy, garlic, sugar\n",
        "- Generated: chicken, soy, garlic, sugar\n",
        "\n",
        "Example 3:\n",
        "- Ground Truth: nut, spray, sugar, butter, egg, flour, baking powder, baking powder, salt, nut, butter, glaze, sugar, fat, maple syrup, colored sprinkles\n",
        "- Generated: cake, butter, caster sugar, flour, soda, baking powder, vanilla essence, milk, icing, sugar\n",
        "\n",
        "Example 4:\n",
        "- Ground Truth: egg, sugar, mascarpone, brewed espresso, frangelico, rum, lady fingers, cocoa\n",
        "- Generated: egg, sugar, mascarpone, brewed espresso, frangelico, rum, lady fingers, cocoa\n",
        "\n",
        "Example 5:\n",
        "- Ground Truth: chicken, soy, garlic, sugar\n",
        "- Generated: chicken, soy, garlic, sugar"
      ]
    }
  ],
  "metadata": {
    "accelerator": "GPU",
    "colab": {
      "collapsed_sections": [
        "u71STQRgnQ3a",
        "6U0QUFveqSP2"
      ],
      "gpuType": "T4",
      "provenance": []
    },
    "kernelspec": {
      "display_name": "Python 3",
      "name": "python3"
    },
    "language_info": {
      "codemirror_mode": {
        "name": "ipython",
        "version": 3
      },
      "file_extension": ".py",
      "mimetype": "text/x-python",
      "name": "python",
      "nbconvert_exporter": "python",
      "pygments_lexer": "ipython3",
      "version": "3.11.0"
    }
  },
  "nbformat": 4,
  "nbformat_minor": 0
}
