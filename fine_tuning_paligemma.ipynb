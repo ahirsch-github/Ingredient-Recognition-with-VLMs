{
  "cells": [
    {
      "cell_type": "markdown",
      "metadata": {
        "id": "u71STQRgnQ3a"
      },
      "source": [
        "## Fine-tune PaliGemma with JAX\n",
        "\n",
        "<table class=\"tfo-notebook-buttons\" align=\"left\">\n",
        "<td>\n",
        "<a target=\"_blank\" href=\"https://ai.google.dev/gemma/docs/paligemma/fine-tuning-paligemma\"><img src=\"https://ai.google.dev/static/site-assets/images/docs/notebook-site-button.png\" height=\"32\" width=\"32\" />View on ai.google.dev</a>\n",
        "</td>\n",
        "<td>\n",
        "<a target=\"_blank\" href=\"https://colab.research.google.com/github/google/generative-ai-docs/blob/main/site/en/gemma/docs/paligemma/fine-tuning-paligemma.ipynb\"><img src=\"https://www.tensorflow.org/images/colab_logo_32px.png\" />Run in Google Colab</a>\n",
        "</td>\n",
        "<td>\n",
        "<a target=\"_blank\" href=\"https://github.com/google/generative-ai-docs/blob/main/site/en/gemma/docs/paligemma/fine-tuning-paligemma.ipynb\"><img src=\"https://www.tensorflow.org/images/GitHub-Mark-32px.png\" />View source on GitHub</a>\n",
        "</td>\n",
        "</table>\n"
      ]
    },
    {
      "cell_type": "markdown",
      "metadata": {},
      "source": [
        "## Requirements\n",
        "\n",
        "To run this notebook, you will need to install the following dependencies:\n",
        "\n",
        "`Python==3.11`\n",
        "\n",
        "```bash\n",
        "pip install python-dotenv kagglehub transformers gdown jax[cuda12] pillow ipykernel ipywidgets tensorflow ml-dtypes flax tqdm orbax-checkpoint matplotlib scikit-learn -U\n",
        "```\n",
        "\n",
        "Also, move `data/food-ingredients-101`, `data/food-101` & `data/ingredients-101` to root dir.\n",
        "\n",
        "If `data/food-ingredients-101` is not present, create it using `merging_food101_ingredients101.ipynb`"
      ]
    },
    {
      "cell_type": "markdown",
      "metadata": {
        "id": "qOJ3BeYFVrOX"
      },
      "source": [
        "### Set environment variables\n",
        "\n",
        "Set the environment variables for `KAGGLE_USERNAME` and `KAGGLE_KEY`."
      ]
    },
    {
      "cell_type": "code",
      "execution_count": null,
      "metadata": {},
      "outputs": [],
      "source": [
        "import os\n",
        "\n",
        "print(os.getenv('KAGGLE_USERNAME'))"
      ]
    },
    {
      "cell_type": "code",
      "execution_count": 2,
      "metadata": {},
      "outputs": [],
      "source": [
        "# set cuda to only recognize gpu 0\n",
        "os.environ[\"CUDA_VISIBLE_DEVICES\"] = \"0\""
      ]
    },
    {
      "cell_type": "code",
      "execution_count": null,
      "metadata": {
        "id": "zGLIp1Cx3_CX"
      },
      "outputs": [],
      "source": [
        "# Note: `userdata.get` is a Colab API. If you're not using Colab, set the env\n",
        "# vars as appropriate or make your credentials available in ~/.kaggle/kaggle.json\n",
        "\n",
        "# for running on colab\n",
        "# from google.colab import userdata\n",
        "# os.environ[\"KAGGLE_USERNAME\"] = userdata.get('KAGGLE_USERNAME')\n",
        "# os.environ[\"KAGGLE_KEY\"] = userdata.get('KAGGLE_KEY')\n",
        "\n",
        "# for running on local\n",
        "from dotenv import load_dotenv\n",
        "load_dotenv()\n",
        "os.environ[\"KAGGLE_USERNAME\"] = os.getenv('KAGGLE_USERNAME')\n",
        "os.environ[\"KAGGLE_KEY\"] = os.getenv('KAGGLE_KEY')\n",
        "\n",
        "print(os.getenv('KAGGLE_USERNAME'))"
      ]
    },
    {
      "cell_type": "code",
      "execution_count": 4,
      "metadata": {},
      "outputs": [],
      "source": [
        "# for linux\n",
        "!export KAGGLE_USERNAME\n",
        "!export KAGGLE_KEY"
      ]
    },
    {
      "cell_type": "markdown",
      "metadata": {
        "id": "rCd__uzW_eK-"
      },
      "source": [
        "### Fetch the `big_vision` repository and install related dependencies\n",
        "\n",
        "Download the `big_vision` repository to your Colab notebook from GitHub and install dependencies related to `big_vision` by running the following code."
      ]
    },
    {
      "cell_type": "code",
      "execution_count": 5,
      "metadata": {
        "colab": {
          "base_uri": "https://localhost:8080/"
        },
        "id": "DfxKb3F839Ks",
        "outputId": "63c656bc-ede0-41fd-d957-161ebba7128d"
      },
      "outputs": [],
      "source": [
        "import os\n",
        "import sys\n",
        "\n",
        "# TPUs with\n",
        "if \"COLAB_TPU_ADDR\" in os.environ:\n",
        "  raise \"It seems you are using Colab with remote TPUs which is not supported.\"\n",
        "\n",
        "# Fetch big_vision repository if python doesn't know about it and install\n",
        "# dependencies needed for this notebook.\n",
        "if not os.path.exists(\"big_vision_repo\"):\n",
        "  !git clone --quiet --branch=main --depth=1 \\\n",
        "     https://github.com/google-research/big_vision big_vision_repo\n",
        "\n",
        "# Append big_vision code to python import path\n",
        "if \"big_vision_repo\" not in sys.path:\n",
        "  sys.path.append(\"big_vision_repo\")\n",
        "\n",
        "# Install missing dependencies. Assume jax~=0.4.25 with GPU available.\n",
        "!pip3 install -q \"overrides\" \"ml_collections\" \"einops~=0.7\" \"sentencepiece\"\n"
      ]
    },
    {
      "cell_type": "markdown",
      "metadata": {
        "id": "zDoq0O77GF30"
      },
      "source": [
        "### Import JAX and other dependencies\n",
        "\n",
        "Import JAX and other dependencies required for PaliGemma, like TensorFlow and NumPy."
      ]
    },
    {
      "cell_type": "code",
      "execution_count": 6,
      "metadata": {
        "colab": {
          "base_uri": "https://localhost:8080/"
        },
        "id": "dTfe2k8J4Bw0",
        "outputId": "70f6ec33-aa49-4950-fbab-faf18c46880a"
      },
      "outputs": [
        {
          "name": "stderr",
          "output_type": "stream",
          "text": [
            "2024-06-29 01:20:55.133581: W tensorflow/compiler/tf2tensorrt/utils/py_utils.cc:38] TF-TRT Warning: Could not find TensorRT\n",
            "/tmp/ipykernel_5585/3370877366.py:16: DeprecationWarning: Importing display from IPython.core.display is deprecated since IPython 7.14, please import from IPython display\n",
            "  from IPython.core.display import display, HTML\n"
          ]
        },
        {
          "name": "stdout",
          "output_type": "stream",
          "text": [
            "JAX version:  0.4.29\n",
            "JAX platform: gpu\n",
            "JAX devices:  1\n"
          ]
        },
        {
          "name": "stderr",
          "output_type": "stream",
          "text": [
            "2024-06-29 01:20:56.539553: W tensorflow/core/common_runtime/gpu/gpu_device.cc:1960] Cannot dlopen some GPU libraries. Please make sure the missing libraries mentioned above are installed properly if you would like to use GPU. Follow the guide at https://www.tensorflow.org/install/gpu for how to download and setup the required libraries for your platform.\n",
            "Skipping registering GPU devices...\n"
          ]
        }
      ],
      "source": [
        "import base64\n",
        "import functools\n",
        "import html\n",
        "import io\n",
        "import os\n",
        "import warnings\n",
        "\n",
        "import jax\n",
        "import jax.numpy as jnp\n",
        "import numpy as np\n",
        "import ml_collections\n",
        "\n",
        "import tensorflow as tf\n",
        "import sentencepiece\n",
        "\n",
        "from IPython.core.display import display, HTML\n",
        "from PIL import Image\n",
        "\n",
        "# Import model definition from big_vision\n",
        "from big_vision.models.proj.paligemma import paligemma\n",
        "from big_vision.trainers.proj.paligemma import predict_fns\n",
        "\n",
        "# Import big vision utilities\n",
        "import big_vision.datasets.jsonl\n",
        "import big_vision.utils\n",
        "import big_vision.sharding\n",
        "\n",
        "# === Additional imports ===\n",
        "import numpy as np\n",
        "from nltk.translate.bleu_score import sentence_bleu, SmoothingFunction\n",
        "from sklearn.metrics import accuracy_score, precision_score, recall_score\n",
        "from rouge_score import rouge_scorer\n",
        "from tqdm import tqdm\n",
        "\n",
        "# Don't let TF use the GPU or TPUs\n",
        "tf.config.set_visible_devices([], \"GPU\")\n",
        "tf.config.set_visible_devices([], \"TPU\")\n",
        "\n",
        "backend = jax.lib.xla_bridge.get_backend()\n",
        "print(f\"JAX version:  {jax.__version__}\")\n",
        "print(f\"JAX platform: {backend.platform}\")\n",
        "print(f\"JAX devices:  {jax.device_count()}\")"
      ]
    },
    {
      "cell_type": "markdown",
      "metadata": {
        "id": "b9kSadtIhjlX"
      },
      "source": [
        "## Download and configure the model\n",
        "\n",
        "In this step, you'll download the model checkpoint and configure it so that you can fine-tune it later on. This step shows you how to move model parameters into TPU memory, which is useful for fine-tuning models on devices with limited resources."
      ]
    },
    {
      "cell_type": "markdown",
      "metadata": {
        "id": "7tvcc0oQHl4v"
      },
      "source": [
        "### Download the model checkpoint\n",
        "\n",
        "PaliGemma includes several model variations. For this tutorial, you'll use the base [JAX/FLAX PaliGemma 3B weight model](https://www.kaggle.com/models/google/paligemma/jax/paligemma-3b-pt-224).\n",
        "\n",
        "Download the `float16` version of the model checkpoint from Kaggle by running the following code. This process takes several minutes to complete."
      ]
    },
    {
      "cell_type": "code",
      "execution_count": 7,
      "metadata": {
        "id": "8weTFiWGtQVw"
      },
      "outputs": [],
      "source": [
        "import os\n",
        "import kagglehub\n",
        "\n",
        "# from google.colab import auth\n",
        "# auth.authenticate_user()"
      ]
    },
    {
      "cell_type": "code",
      "execution_count": 8,
      "metadata": {
        "colab": {
          "base_uri": "https://localhost:8080/"
        },
        "id": "qndVS3vetWom",
        "outputId": "b5aeeb6a-07d4-4c0f-8d1a-51bc7df5e183"
      },
      "outputs": [
        {
          "name": "stdout",
          "output_type": "stream",
          "text": [
            "Downloading the checkpoint from Kaggle, this could take a few minutes....\n",
            "Model path: /home/simon/.cache/kagglehub/models/google/paligemma/jax/paligemma-3b-pt-224/1/paligemma-3b-pt-224.f16.npz\n"
          ]
        }
      ],
      "source": [
        "MODEL_PATH = \"./pt_224_128.params.f16.npz\"\n",
        "if not os.path.exists(MODEL_PATH):\n",
        "  print(\"Downloading the checkpoint from Kaggle, this could take a few minutes....\")\n",
        "  # Note: kaggle archive contains the same checkpoint in multiple formats.\n",
        "  # Download only the float16 model.\n",
        "  MODEL_PATH = kagglehub.model_download('google/paligemma/jax/paligemma-3b-pt-224', 'paligemma-3b-pt-224.f16.npz')\n",
        "  print(f\"Model path: {MODEL_PATH}\")\n",
        "\n",
        "TOKENIZER_PATH = \"./paligemma_tokenizer.model\"\n",
        "if not os.path.exists(TOKENIZER_PATH):\n",
        "  print(\"Downloading the model tokenizer...\")\n",
        "  !gsutil cp gs://big_vision/paligemma_tokenizer.model {TOKENIZER_PATH}\n",
        "  print(f\"Tokenizer path: {TOKENIZER_PATH}\")"
      ]
    },
    {
      "cell_type": "code",
      "execution_count": 9,
      "metadata": {
        "colab": {
          "base_uri": "https://localhost:8080/"
        },
        "id": "gQNOTfF24AV4",
        "outputId": "1620e8a5-8ddb-4733-b450-557f677c615e"
      },
      "outputs": [],
      "source": [
        "DATA_DIR_old=\"./longcap100\"\n",
        "if not os.path.exists(DATA_DIR_old):\n",
        "  print(\"Downloading the dataset...\")\n",
        "  !gsutil -m -q cp -n -r gs://longcap100/ .\n",
        "  print(f\"Data path: {DATA_DIR_old}\")\n",
        "\n",
        "FOOD_DATA_DIR=\"./food-101\"\n",
        "if not os.path.exists(FOOD_DATA_DIR):\n",
        "  print(\"Downloading the dataset...\")\n",
        "  !kaggle datasets download -d kmader/food41\n",
        "  !unzip -q food41.zip -d ./food-101\n",
        "  print(f\"Data path: {FOOD_DATA_DIR}\")\n",
        "\n",
        "import os\n",
        "import gdown\n",
        "\n",
        "INGREDIENTS_DATA_DIR = \"./ingredients-101\"\n",
        "if not os.path.exists(INGREDIENTS_DATA_DIR):\n",
        "    os.makedirs(INGREDIENTS_DATA_DIR)  # Ensure the target directory exists\n",
        "    print(\"Downloading the dataset...\")\n",
        "    # Define the URL of the Google Drive file\n",
        "    url = 'https://drive.google.com/uc?id=14ztu2gjdowZdMdCvo1tAZJ0aK5rMs4kb'\n",
        "    # Define the output file path\n",
        "    output = 'Ingredients101.zip'\n",
        "    # Download the file\n",
        "    gdown.download(url, output, quiet=False)\n",
        "    # Unzip only the contents of the \"Ingredients101\" directory directly into the target directory\n",
        "    os.system(f'unzip -q {output} \"Ingredients101/*\" -d {INGREDIENTS_DATA_DIR}')\n",
        "    # Move contents up from the nested \"Ingredients101\" directory and remove it\n",
        "    nested_dir = os.path.join(INGREDIENTS_DATA_DIR, 'Ingredients101')\n",
        "    for filename in os.listdir(nested_dir):\n",
        "        os.rename(os.path.join(nested_dir, filename), os.path.join(INGREDIENTS_DATA_DIR, filename))\n",
        "    os.rmdir(nested_dir)\n",
        "    # Clean up the zip file after extraction\n",
        "    os.remove(output)\n",
        "    print(f\"Data path: {INGREDIENTS_DATA_DIR}\")"
      ]
    },
    {
      "cell_type": "markdown",
      "metadata": {
        "id": "rv7w-cGuLj5o"
      },
      "source": [
        "### Configure the model\n",
        "\n",
        "It's time to actually start configuring the model that you're going to use.\n",
        "\n",
        "For this notebook, you need to be able to fit your model onto a T4 GPU. Having a limited resource like space constraints means that you have to be mindful of how your model is configured.\n",
        "\n",
        "If you fine-tune every parameter, your model won't be able to run in the notebook environment. As a result, in this part of the notebook, you'll configure your model so that it has the ability to freeze some of the parameters, and only fine-tune the parameters that really need to be fine-tuned for the model to give you accurate results. In LLMs, parameters are said to be *frozen* when they are no longer actively being used to train the model.\n",
        "\n",
        "In order to configure your model, you need to:\n",
        "\n",
        "* Initialize the `model_config` as a [`FrozenConfigDict`](https://github.com/google/ml_collections/tree/master#frozenconfigdict) so that you can freeze some of the parameters and keep memory usage low\n",
        "* Initialize an instance of the PaliGemma `Model` class using the `model_config` as its configurations\n",
        "* Load the model parameters into RAM\n",
        "* Define a `decode` function to sample outputs from the model\n",
        "\n",
        "This code in this cell takes about a minute to run to completion."
      ]
    },
    {
      "cell_type": "code",
      "execution_count": 10,
      "metadata": {
        "id": "1aghcULcEdtv"
      },
      "outputs": [],
      "source": [
        "# Define model\n",
        "model_config = ml_collections.FrozenConfigDict({\n",
        "    \"llm\": {\"vocab_size\": 257_152},\n",
        "    \"img\": {\"variant\": \"So400m/14\", \"pool_type\": \"none\", \"scan\": True, \"dtype_mm\": \"float16\"}\n",
        "})\n",
        "model = paligemma.Model(**model_config)\n",
        "tokenizer = sentencepiece.SentencePieceProcessor(TOKENIZER_PATH)\n",
        "\n",
        "# Load params - this can take up to 1 minute in T4 colabs.\n",
        "params = paligemma.load(None, MODEL_PATH, model_config)\n",
        "\n",
        "# Define `decode` function to sample outputs from the model.\n",
        "decode_fn = predict_fns.get_all(model)['decode']\n",
        "decode = functools.partial(decode_fn, devices=jax.devices(), eos_token=tokenizer.eos_id())"
      ]
    },
    {
      "cell_type": "markdown",
      "metadata": {
        "id": "uidBwmb8LwZ5"
      },
      "source": [
        "### Move model parameters into GPU/TPU memory\n",
        "\n",
        "Now you need to move the model parameters into GPU/TPU memory. First, shard the parameters across the available GPUs, then load the parameters. Here, you'll load the parameters sequentially. This process takes longer than loading them simultaneously, but it requires more RAM than you have available in this notebook.\n",
        "\n",
        "Finally, print out all of the parameters to see what type each individual parameter is cast to. Frozen parameters are kept as `float16`, while the trainable parameters are cast to `float32`. When you inspect the list, you'll see that most of the parameters have been frozen and are `float16`."
      ]
    },
    {
      "cell_type": "code",
      "execution_count": 11,
      "metadata": {
        "colab": {
          "base_uri": "https://localhost:8080/"
        },
        "id": "RWOdf_fw2SAO",
        "outputId": "30ac53ae-b724-42c5-c486-03ed42b8bc25"
      },
      "outputs": [
        {
          "name": "stderr",
          "output_type": "stream",
          "text": [
            "2024-06-29 01:21:06.703452: W external/xla/xla/service/gpu/nvptx_compiler.cc:763] The NVIDIA driver's CUDA version is 12.4 which is older than the ptxas CUDA version (12.5.40). Because the driver is older than the ptxas version, XLA is disabling parallel compilation, which may slow down compilation. You should update your NVIDIA driver or use the NVIDIA-provided CUDA forward compatibility packages.\n"
          ]
        }
      ],
      "source": [
        "# Create a pytree mask of the trainable params.\n",
        "def is_trainable_param(name, param):  # pylint: disable=unused-argument\n",
        "  if name.startswith(\"llm/layers/attn/\"):  return True\n",
        "  if name.startswith(\"llm/\"):              return False\n",
        "  if name.startswith(\"img/\"):              return False\n",
        "  raise ValueError(f\"Unexpected param name {name}\")\n",
        "trainable_mask = big_vision.utils.tree_map_with_names(is_trainable_param, params)\n",
        "\n",
        "# If more than one device is available (e.g. multiple GPUs) the parameters can\n",
        "# be sharded across them to reduce HBM usage per device.\n",
        "mesh = jax.sharding.Mesh(jax.devices(), (\"data\"))\n",
        "\n",
        "data_sharding = jax.sharding.NamedSharding(\n",
        "    mesh, jax.sharding.PartitionSpec(\"data\"))\n",
        "\n",
        "params_sharding = big_vision.sharding.infer_sharding(\n",
        "    params, strategy=[('.*', 'fsdp(axis=\"data\")')], mesh=mesh)\n",
        "\n",
        "# Yes: Some donated buffers are not usable.\n",
        "warnings.filterwarnings(\n",
        "    \"ignore\", message=\"Some donated buffers were not usable\")\n",
        "\n",
        "@functools.partial(jax.jit, donate_argnums=(0,), static_argnums=(1,))\n",
        "def maybe_cast_to_f32(params, trainable):\n",
        "  return jax.tree.map(lambda p, m: p.astype(jnp.float32) if m else p,\n",
        "                      params, trainable)\n",
        "\n",
        "# Loading all params in simultaneous - albeit much faster and more succinct -\n",
        "# requires more RAM than the T4 colab runtimes have by default.\n",
        "# Instead we do it param by param.\n",
        "params, treedef = jax.tree.flatten(params)\n",
        "sharding_leaves = jax.tree.leaves(params_sharding)\n",
        "trainable_leaves = jax.tree.leaves(trainable_mask)\n",
        "for idx, (sharding, trainable) in enumerate(zip(sharding_leaves, trainable_leaves)):\n",
        "  params[idx] = big_vision.utils.reshard(params[idx], sharding)\n",
        "  params[idx] = maybe_cast_to_f32(params[idx], trainable)\n",
        "  params[idx].block_until_ready()\n",
        "params = jax.tree.unflatten(treedef, params)\n",
        "\n",
        "# Print params to show what the model is made of.\n",
        "def parameter_overview(params):\n",
        "  for path, arr in big_vision.utils.tree_flatten_with_names(params)[0]:\n",
        "    print(f\"{path:80s} {str(arr.shape):22s} {arr.dtype}\")\n",
        "\n",
        "# print(\" == Model params == \")\n",
        "# parameter_overview(params)"
      ]
    },
    {
      "cell_type": "markdown",
      "metadata": {
        "id": "iD_9XXQkn1Mv"
      },
      "source": [
        "## Prepare to tune the model\n",
        "\n",
        "Now that your model is configured, you can tune it. In this step, you'll create your model's inputs as well as the training and validation iterators, view the training examples, and define the training and validation loops."
      ]
    },
    {
      "cell_type": "markdown",
      "metadata": {
        "id": "83ZcnbddJKdx"
      },
      "source": [
        "### Create model inputs\n",
        "\n",
        "The model checkpoint you're using has already been trained on images of various aspect ratios that have been resized to 224x224 pixels, and to handle tokenized texts.\n",
        "\n",
        "The code below defines three functions that you'll use in the next step create the model's inputs:\n",
        "\n",
        "* **`preprocess_image`:** Normalizes the image data. In this case, pre-processing converts the passed-in image to greyscale, removes the alpha layer, and resizes the passed-in image to the size required by the model for image inputs (224x224 pixels).\n",
        "* **`preprocess_tokens`:** Splits the tokens up and adds flags to mark whether a token is a prefix or suffix token. These flags will be used later on in the code, during the training step and the evaluation loop.\n",
        "* **`postprocess_tokens`:** Removes any tokens left at and/or after the end-of-sequence (EOS) token and returns the remaining decoded tokens.\n"
      ]
    },
    {
      "cell_type": "code",
      "execution_count": 12,
      "metadata": {
        "id": "8SRW0NuU4UcW"
      },
      "outputs": [],
      "source": [
        "def preprocess_image(image, size=224):\n",
        "  # Model has been trained to handle images of different aspects ratios\n",
        "  # resized to 224x224 in the range [-1, 1]. Bilinear and antialias resize\n",
        "  # options are helpful to improve quality in some tasks.\n",
        "  image = np.asarray(image)\n",
        "  if image.ndim == 2:  # Convert image without last channel into greyscale.\n",
        "    image = np.stack((image,)*3, axis=-1)\n",
        "  image = image[..., :3]  # Remove alpha layer.\n",
        "  assert image.shape[-1] == 3\n",
        "\n",
        "  image = tf.constant(image)\n",
        "  image = tf.image.resize(image, (size, size), method='bilinear', antialias=True)\n",
        "  return image.numpy() / 127.5 - 1.0  # [0, 255]->[-1,1]\n",
        "\n",
        "def preprocess_tokens(prefix, suffix=None, seqlen=None):\n",
        "    separator = \"\\n\"\n",
        "    tokens = tokenizer.encode(prefix, add_bos=True) + tokenizer.encode(separator)\n",
        "    mask_ar = [0] * len(tokens)\n",
        "    mask_loss = [0] * len(tokens)\n",
        "\n",
        "    if suffix:\n",
        "        suffix_tokens = tokenizer.encode(suffix, add_eos=True)\n",
        "        tokens += suffix_tokens\n",
        "        mask_ar += [1] * len(suffix_tokens)\n",
        "        mask_loss += [1] * len(suffix_tokens)\n",
        "\n",
        "    mask_input = [1] * len(tokens)\n",
        "    if seqlen:\n",
        "        padding = [0] * max(0, seqlen - len(tokens))\n",
        "        tokens = tokens[:seqlen] + padding\n",
        "        mask_ar = mask_ar[:seqlen] + padding\n",
        "        mask_loss = mask_loss[:seqlen] + padding\n",
        "        mask_input = mask_input[:seqlen] + padding\n",
        "\n",
        "    return jax.tree.map(np.array, (tokens, mask_ar, mask_loss, mask_input))\n",
        "\n",
        "def postprocess_tokens(tokens):\n",
        "  tokens = tokens.tolist()  # np.array to list[int]\n",
        "  try:  # Remove tokens at and after EOS if any.\n",
        "    eos_pos = tokens.index(tokenizer.eos_id())\n",
        "    tokens = tokens[:eos_pos]\n",
        "  except ValueError:\n",
        "    pass\n",
        "  return tokenizer.decode(tokens)\n"
      ]
    },
    {
      "cell_type": "markdown",
      "metadata": {
        "id": "ovgWBgdHJZq3"
      },
      "source": [
        "### Create the training and validation iterators\n",
        "\n",
        "Create two iterators:\n",
        "\n",
        "*   A **training iterator** to allow the training process to go through the data in chunks rather than processing it all at once\n",
        "    *   This allows you to do some data pre-processing before use\n",
        "*   A **validation iterator** that allows the training process to iterate over the validation dataset to see how well the tuned model aligned with the provided results"
      ]
    },
    {
      "cell_type": "code",
      "execution_count": 13,
      "metadata": {
        "id": "YpwUkjLfWacG"
      },
      "outputs": [],
      "source": [
        "# HERE"
      ]
    },
    {
      "cell_type": "code",
      "execution_count": 14,
      "metadata": {
        "id": "uk-DEf8-veZo"
      },
      "outputs": [],
      "source": [
        "DATA_DIR = './food-ingredients-101'"
      ]
    },
    {
      "cell_type": "code",
      "execution_count": 15,
      "metadata": {
        "id": "zWWmYmPvyxk8"
      },
      "outputs": [],
      "source": [
        "import os\n",
        "import json\n",
        "\n",
        "def merge_data(food_data_dir, ingredients_data_dir, data_dir):\n",
        "    # Create the data directory if it doesn't exist\n",
        "    os.makedirs(data_dir, exist_ok=True)\n",
        "\n",
        "    # Define the paths to the required files\n",
        "    food_train_file = os.path.join(food_data_dir, 'meta', 'train.json')\n",
        "    food_test_file = os.path.join(food_data_dir, 'meta', 'test.json')\n",
        "    ingredients_train_images = os.path.join(ingredients_data_dir, 'Annotations', 'train_images.txt')\n",
        "    ingredients_train_labels = os.path.join(ingredients_data_dir, 'Annotations', 'train_labels.txt')\n",
        "    ingredients_test_images = os.path.join(ingredients_data_dir, 'Annotations', 'test_images.txt')\n",
        "    ingredients_test_labels = os.path.join(ingredients_data_dir, 'Annotations', 'test_labels.txt')\n",
        "    ingredients_file = os.path.join(ingredients_data_dir, 'Annotations', 'ingredients.txt')\n",
        "\n",
        "    # Load the ingredients data\n",
        "    with open(ingredients_file, 'r') as f:\n",
        "        ingredients_list = [line.strip() for line in f.readlines()]\n",
        "\n",
        "    # Create a dictionary to map each class to its ingredients\n",
        "    class_to_ingredients = {i: ingredients for i, ingredients in enumerate(ingredients_list)}\n",
        "\n",
        "    def create_jsonl(image_file, label_file, split):\n",
        "        with open(image_file, 'r') as f:\n",
        "            image_paths = [line.strip() for line in f.readlines()]\n",
        "\n",
        "        with open(label_file, 'r') as f:\n",
        "            labels = [int(line.strip()) for line in f.readlines()]\n",
        "\n",
        "        if len(image_paths) != len(labels):\n",
        "            raise ValueError(\"The number of images and labels do not match.\")\n",
        "\n",
        "        output_file = os.path.join(data_dir, f'{split}.jsonl')\n",
        "        with open(output_file, 'w') as f_out:\n",
        "            for image_path, label in zip(image_paths, labels):\n",
        "                ingredients = class_to_ingredients[label]\n",
        "                suffix = ', '.join(ingredients.split(','))\n",
        "                record = {\n",
        "                    \"prefix\": \"\",\n",
        "                    \"suffix\": suffix,\n",
        "                    \"image\": food_data_dir + '/images/' + image_path + '.jpg',\n",
        "                }\n",
        "                f_out.write(json.dumps(record) + '\\n')\n",
        "\n",
        "    # Process the train and test splits\n",
        "    create_jsonl(ingredients_train_images, ingredients_train_labels, 'train')\n",
        "    create_jsonl(ingredients_test_images, ingredients_test_labels, 'test')\n",
        "\n",
        "# Example usage\n",
        "merge_data('food-101', 'ingredients-101', 'food-ingredients-101')"
      ]
    },
    {
      "cell_type": "code",
      "execution_count": 16,
      "metadata": {
        "id": "whzWOojGOtzi"
      },
      "outputs": [],
      "source": [
        "SEQLEN = 128\n",
        "\n",
        "train_dataset = big_vision.datasets.jsonl.DataSource(\n",
        "    os.path.join(DATA_DIR, \"train.jsonl\"),\n",
        "    # fopen_keys={\"image\": FOOD_DATA_DIR}\n",
        "    )\n",
        "\n",
        "val_dataset = big_vision.datasets.jsonl.DataSource(\n",
        "    os.path.join(DATA_DIR, \"test.jsonl\"),\n",
        "    # fopen_keys={\"image\": FOOD_DATA_DIR}\n",
        "    )\n",
        "\n",
        "\n",
        "from PIL import Image\n",
        "import os\n",
        "import io\n",
        "\n",
        "def train_data_iterator():\n",
        "    \"\"\"Never ending iterator over training examples.\"\"\"\n",
        "    dataset = train_dataset.get_tfdata().shuffle(1_000).repeat()\n",
        "    for example in dataset.as_numpy_iterator():\n",
        "        try:\n",
        "            # Decode the byte path to a string and form the full image path\n",
        "            image_path = example[\"image\"].decode()\n",
        "            image = Image.open(image_path)\n",
        "            image = preprocess_image(image)\n",
        "        except Exception as e:\n",
        "            # print(f\"Error opening image at {image_path}: {e}\")\n",
        "            continue\n",
        "\n",
        "        prefix = \"caption en\"\n",
        "        suffix = example[\"suffix\"].decode().lower()\n",
        "        tokens, mask_ar, mask_loss, _ = preprocess_tokens(prefix, suffix, SEQLEN)\n",
        "\n",
        "        yield {\n",
        "            \"image\": np.asarray(image),\n",
        "            \"text\": np.asarray(tokens),\n",
        "            \"mask_ar\": np.asarray(mask_ar),\n",
        "            \"mask_loss\": np.asarray(mask_loss),\n",
        "            # \"image_path\": image_path,\n",
        "        }\n",
        "\n",
        "\n",
        "def validation_data_iterator():\n",
        "  \"\"\"Single iterator over validation examples.\"\"\"\n",
        "  for example in val_dataset.get_tfdata(ordered=True).as_numpy_iterator():\n",
        "    try:\n",
        "        # Decode the byte path to a string and form the full image path\n",
        "        image_path = example[\"image\"].decode()\n",
        "        image = Image.open(image_path)\n",
        "        image = preprocess_image(image)\n",
        "    except Exception as e:\n",
        "        # print(f\"Error opening image at {image_path}: {e}\")\n",
        "        continue\n",
        "\n",
        "    prefix = \"caption en\"  # Could also be a different prefix per example.\n",
        "    tokens, mask_ar, _, mask_input = preprocess_tokens(prefix, seqlen=SEQLEN)\n",
        "\n",
        "    yield {\n",
        "        \"image\": np.asarray(image),\n",
        "        \"text\": np.asarray(tokens),\n",
        "        \"mask_ar\": np.asarray(mask_ar),\n",
        "        \"mask_input\": np.asarray(mask_input),\n",
        "    }\n"
      ]
    },
    {
      "cell_type": "markdown",
      "metadata": {
        "id": "84olaM5dCiAl"
      },
      "source": [
        "### View training examples\n",
        "\n",
        "In this notebook, the training data contains 90 images that are paired with long descriptions of what's depicted in the image.\n",
        "\n",
        "**Note:** Normal training data sets that are meant to be used for practical use cases should contain more images, but this notebook limits the number of data points so that you can train the model in a reasonable amount of time for an example.\n",
        "\n",
        "The code below prints a random selection of images with their descriptions from the training data set so that you can see what the images and descriptions your model is trained on looks like. Each image is displayed in as a 128x128 pixel JPEG, with the description printed next to the image to the right."
      ]
    },
    {
      "cell_type": "code",
      "execution_count": 17,
      "metadata": {
        "colab": {
          "base_uri": "https://localhost:8080/",
          "height": 563
        },
        "id": "BzJfb5t0nsLq",
        "outputId": "158d03ec-f326-464d-f76a-e261b96ceaa7"
      },
      "outputs": [
        {
          "name": "stdout",
          "output_type": "stream",
          "text": [
            "Training examples\n"
          ]
        },
        {
          "data": {
            "text/html": [
              "\n",
              "    <div style=\"display: inline-flex; align-items: center; justify-content: center;\">\n",
              "        <img style=\"width:128px; height:128px;\" src=\"data:image/jpeg;base64,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\" />\n",
              "        <p style=\"width:256px; margin:10px; font-size:small;\">fillet red snapper, lime juice, lemon juice, purple onion, tomatoes, serrano chilies, salt, ground oregano, tabasco pepper sauce, cayenne pepper, cilantro, avocado, tortillas</p>\n",
              "    </div>\n",
              "    \n",
              "    <div style=\"display: inline-flex; align-items: center; justify-content: center;\">\n",
              "        <img style=\"width:128px; height:128px;\" src=\"data:image/jpeg;base64,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\" />\n",
              "        <p style=\"width:256px; margin:10px; font-size:small;\">sugar, almond flour, granulated sugar, egg whites</p>\n",
              "    </div>\n",
              "    \n",
              "    <div style=\"display: inline-flex; align-items: center; justify-content: center;\">\n",
              "        <img style=\"width:128px; height:128px;\" src=\"data:image/jpeg;base64,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\" />\n",
              "        <p style=\"width:256px; margin:10px; font-size:small;\">flat leaf parsley, thyme, fresh bay leaves, lobster, butter, extra-virgin olive oil, brandy, shallots, carrots, celery, garlic, yellow onion, kosher salt, tomato paste, white wine, fish stock, cayenne pepper, heavy cream, corn starch, egg yolks, chives</p>\n",
              "    </div>\n",
              "    \n",
              "    <div style=\"display: inline-flex; align-items: center; justify-content: center;\">\n",
              "        <img style=\"width:128px; height:128px;\" src=\"data:image/jpeg;base64,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\" />\n",
              "        <p style=\"width:256px; margin:10px; font-size:small;\">salmon fillets, brown sugar, seasoning, lemon juice, lemon, soy sauce, water, olive oil</p>\n",
              "    </div>\n",
              "    \n",
              "    <div style=\"display: inline-flex; align-items: center; justify-content: center;\">\n",
              "        <img style=\"width:128px; height:128px;\" src=\"data:image/jpeg;base64,/9j/4AAQSkZJRgABAQAAAQABAAD/2wBDAAgGBgcGBQgHBwcJCQgKDBQNDAsLDBkSEw8UHRofHh0aHBwgJC4nICIsIxwcKDcpLDAxNDQ0Hyc5PTgyPC4zNDL/2wBDAQkJCQwLDBgNDRgyIRwhMjIyMjIyMjIyMjIyMjIyMjIyMjIyMjIyMjIyMjIyMjIyMjIyMjIyMjIyMjIyMjIyMjL/wAARCADgAOADASIAAhEBAxEB/8QAHwAAAQUBAQEBAQEAAAAAAAAAAAECAwQFBgcICQoL/8QAtRAAAgEDAwIEAwUFBAQAAAF9AQIDAAQRBRIhMUEGE1FhByJxFDKBkaEII0KxwRVS0fAkM2JyggkKFhcYGRolJicoKSo0NTY3ODk6Q0RFRkdISUpTVFVWV1hZWmNkZWZnaGlqc3R1dnd4eXqDhIWGh4iJipKTlJWWl5iZmqKjpKWmp6ipqrKztLW2t7i5usLDxMXGx8jJytLT1NXW19jZ2uHi4+Tl5ufo6erx8vP09fb3+Pn6/8QAHwEAAwEBAQEBAQEBAQAAAAAAAAECAwQFBgcICQoL/8QAtREAAgECBAQDBAcFBAQAAQJ3AAECAxEEBSExBhJBUQdhcRMiMoEIFEKRobHBCSMzUvAVYnLRChYkNOEl8RcYGRomJygpKjU2Nzg5OkNERUZHSElKU1RVVldYWVpjZGVmZ2hpanN0dXZ3eHl6goOEhYaHiImKkpOUlZaXmJmaoqOkpaanqKmqsrO0tba3uLm6wsPExcbHyMnK0tPU1dbX2Nna4uPk5ebn6Onq8vP09fb3+Pn6/9oADAMBAAIRAxEAPwC44VJN0jBVGCSTgCrGuoY7BJYimeNrHkc1ErRX0MMhBEcoHDDBx71v6jp0b6YkWA0a4XGfSvGg+56c0cpbhZEMjkBUTe57AYqvDdQXFsLmGQPCQSGHpXRppKxaPfEKMNEwVR6YNcD4WWQ6H5LoyMjMNrAj3/rWulmzPVOxuwSpPEJYzlD0OKbFcwXQZoJFcK21sHofSm2pVbRQPl2Egj9ax9Gmu5DfebGwCyExEptDL2+tONmrg9zXtL2C7kmSIndC21wR3rd0l1W5Xd908GuS0yLyXuZfIMckpEjdcE4z/WtnTrmY3HzRBU2g53c5+lRUSaaRdN2aZvpb7NXRR08wVpy6eZbtn3hBAWJUkfNkYrG0S5vbrUYnuIYwPOxkEg4HQ4rf1XVYNK1K9t5oomZwMM7YK59KKaewqrTehwnjvRNT1y3sbPTrdpdkjSSEdF4AGT+dWrGwurbw+tneIPPSIIy5ByO36V2+hNHjz5Y9ylgqnqOSBn9ah1+BF1WYcDkcfgK057pRZkl7xzGl5uLJG8soF+TB9uKs21oqyzFQm9m+bHXpxmtS1to7XTsEDCyZJHoawdBWePXdXMkbqlzMphLdD16VVr81iG7WTLk0OGqmkJN5JJt4C7c8VuX0GxgB2Fc9oNtqX2jVWvV2x+aXiBP8PTj9KhRUi72JILaR9Qll3sV2hdmePrVe2srlNau5nC+S6gLjrxTNI1MTeKtSsjN8saptyOATwa6J7m0luZrVXjDwxqxUMC2Tn/61NprYlM5aOG6i1q/nlQC28sFSB1x/k1madqjHWjMy/u5sLsJ5UdM11Wol/wCzpyNuGT5cHnngVyMOElsgyDDXK49MZFK7ZzYiTUlY0dIvb6/8VaraSOTa24PlrtAwc461tTRYjLFsHOMetX7a9tF12/sILCKK4KrI8ixY3dON341HqMqwJJL5cZCjOOSSfpTk7vQ3jsedeJNVvHuhb20bLHayBiyk/OfQ+1Si4n1e0tn8rBxvYDoDnAp+szQRXVy7HYXOWA4rY8NhI9LUlRh1BXHYHoK1kvdVieVT0ZuWqefpEAk5yuCfXFFjbRTKMENGTtOOeKparqK29zpFgkTGSfJHJwMnFdF4c019N0i4Nx5ZkQO/HOOKxaSRta2hz7Jp0F5Jb2C7VQkkYwDSMbK0EkjzRDcMvjjjrWTpN0tzJdzbiE2lV3Lj0rA8QmSW3uUg+YKhHyjHeqlFKVgjG6b7HY31sbaxZIpZG2tjfIcmle5lk8H31sNzSoyOuOp55rT1GK1bw7G8TDzMDcN2W696xdE1GJLu4EuGtY4N+5eSWztx+ua5acrq/Y7JR1t3N3QtYiufDb26SK97CioyH+EFRjP61j35bT5rOCMQt9pLRszZ4wM8frTLObStJ8Q3+rCSeQXybDHswEPY/pU1za6dq8VqZ7jfcIQ8SA42HsetW3FvQh05R0kilJDLALpmXaViLYPsKo6Lrdo8Vra3BIuNhGNuA1dLa2EVw13LdXBZJIWjJPUEqcfyrh7/AEY22vWMcayCLzHCknseRzV0lHlaY4wjKL01N+VZ0uBJkmHOAvpWhp99ZKGhu72ONnwIkZOrcn71H2cjTr2eRGPlRiQYOf4gK4e9t1DxSpISz3AfYRg8d/pVRinozNqSeh6jZ6pZaeInmilkYMP9WAcAnr1o8b6deaj4qkigh2wXFrGTLtDAsD0xXDtcyzpKw3I3lqFxxjDLxXSf8J/cxeTHJbJLLbqFEjHqPcUudU3ZFQoSqO66HZ3+m6np/gqCKwiSa+UJ8rfLn5lP8hWjf6f59811cQhkCqTzxuwKzbDxBc3+nx3JZY2kVScdsqDjJ+tWLjVXhgneYl8AAhMHJzRzJuxzcri9ya4to7m1aKOIKMgsfaqsOmQPJCy4+Q5U56VUtdb87zVaJkCpuyOePSoYdReSUIsLhTn5jwAK0UHJNolyszSv7XLnJAwO9VZkjMPlxMCSMHB/nUiXM1wpgVQzYOCR6VR0n7XdxXLpE0EjgMVkG7bgnjH41nGLaZTdjmYLHT4dTnlhQJJt/fPjOeeavDSdPsZ31KKZnmvF2undV4wcZ/zmnWumXX22ZXBAIO4smAeaimtJV1OFYlLqI9oATq2RjmuyjR5qbm/Q4a1f98qafmXzZSHEFxJFEigZZx2HTJrB1rSILPUYrqO8iuYIZAWWIYIGCeB+FbmvRanK8EN5ai0S5dYuTycAnFY9toDXGpPZ229siN5N/Plgnv8A4Vy8kmh4qHNK8ehWtfEd+PE8kz2hjglXBOchRxx9aj8ceIY9GMYguLd7hpVDxnkgZySQPwrTvtIVNUezEzlY5MZCYzXH33g1bzxBqOpagrrAZm2xBuTz19hVQhr746E52tIyNTun1nVbt7H98sznygq5389q9H0nS30qzIvonRnIYKF4UYGBWP4e8FQaTvvZdT8m2IIjOPmHf/61dnpl3pms3sOntqE9xO67QWjKg4HXrV1L2tE9GjhqrXtOVtLqIzacsKySylXCjywEycZqOTXbSx8N6hclmDmNljBHU9P510NyttA7xqkaBSVVcdq8m8WXd65m0fT7V3iBxLLjgMfmxXLTjKUjSUY2TMu41QyaDJqEpIAukVto9GBOKi0y6h1EyMgfDN/GMYAIP9RVS0BhjXTtWgP9neZubB27WI65rqLaz0GyshJDIohfOGOTwevP4V0VIpfEQoy5ny7HTxeGrIRPNFI+AhDEccdarQeErPT9PnubGV38+NkZiOemf6VfsL3U4YWhuFtfLII+XOeas29/cQ2rWiR2/wBnPOXzvzjqMVzKEkayqJnCJpc6RTHfI2I24LH0NdTo3hS0vLG2uGDllGcBsVD5WoxwbIVtBMeC7ksuPUDFW7GC+traOFr22ZUXA/dMP605KfRDi421ZY1fRv7MthPbK2wAZycg1iiOfUYpnOTIkfyk87QOeK6S6mvZdIazN/BJuUBR9nIC8+ucmsqwsr20eTfeQvGyldqwkZz+NLkny7ahTmoyvcxLJbm8tr63aVs/Z22nOMGpPDegpearbwXSiYpZy4Y92BHP61s2mmLbtPmXIkjaPhex71Z0Kyg0O8a6SSSVyrJtZQBg1MFVSs0XWrU5NtGBpOkCXVxA0gk3McqTnHBrkJ7e6e4ZmXBJyfmNen6dpmn6ZqSX8KztMrE/MRg5qrJoGnSFnKzeYTnIIx+WKtxnvY0w2Io0277GPc67e6HaWdvHaQyLLaxyKXJ+Ung8fhXU+BrufxBb3n2qKNBGF4QEdc/4VXutOsL6GBLmB3aCIRIysBwCfb3q7oUyeHxKtpCCsv3gx61ajLm2OKq1JOzOtt9KghglliUFgOD1rNsbIvcvlRgZZjt71G3im7MZRYIlHtmqQ1y7QsVAG4YOSa3V0tDl5GdNaxxhmQYyQRTdF0yWzurmSd0cSH5QvYVy66vdI+5SAfWnjXdQUNiUfN3xSSaBxZtz6ZdPfXF1dTxpaxg+RDH/ABjHVj/SucgKNq0RAA/fKAP+BCnz6xfXEflySgrjGMDp6VQjVY5hKiKJAchsc5rrpVYRhys4qmEnKv7RNbWPQNW0XT9djntb9N0eVYENgqcdQe1ZR0TTfCWgXJ0qI+ZjzC8jb2cjGMk1gtqd85Ja5kJbrz1qCS8uXUo08hX0LHFYOV9kdLpSta5m2eovf+IYpWk375QZOB0zzXE6n4v1+y1XVbJNNlutPku3eE+Ucg57Njke1d8PlJK8H24pCWI6nj3qaa5d9TOjh5U73lcj8KWQ1jwmn/CRebHctM8hQZQqMYAx6YrY0PSdD0vVFu7cyCVA22R3OF49+9ZBye5ppFDjfqenHF1o0/ZKTt2NWSW9lmUyXsHJ68ZA+tc7q+ipc2l5crKjTm7aRIxgkqVUA9R/dq2RTSpNRTpKBlOrKVjjG8J3N5bXALRwyMykeYQMjPPTPtRN4Y1RYUs1vbdoIxgEDrXYtGVXJHFMaMhS2OBWsknuKNSS0NEq2cBSaEUsTlCuOue1P83cTgHB5oMnI4J9aysK4CFuuOKdsIPX6UI4I3EdOKejrnGCMetAxu004LTywyMDr70ZzRcLD4oFdQzMACcc0+K3RwxZwu04zVS4uYrWLzJdoXIXJ9Say38W6BFNLBJqVv5secqEZgcehAINUtQN6XyraRiCsqgcY71FHIHAkYD6Vmr4q8KeRG8urqZJDgRJE2ev0qnd+MNFg1L7PbtJNAeUkVOHycY6/rVcrexLa6m6kgdssAB6ClEkZYuVwo6Cq9jdpe2izpF5YOflbkjnGKtZUMDtXH0pW7jIl+Zc0EcVNgYIqGV1iHzZoAbikxQZo1XJzj6UhmRRkg0WC4uKMU1p0UfdNSxnzOFZR65NFhXDYcVGympiw2nDoAvXPU1E8gI/1o29dtJJjbI9pqOT92M4p7Mu0HzdxPbHSoLh0HHmbsirSJuRGfcp2DBBwM0tzNHaz+U8gJAGcfSmRoCyqCPmI6n1rLu4nkuGfP3mJoSuF7GmLlJD8hwKr3DzZJSfYvZcCqMSOqk+nWrUUm1WDLke9HLYV7li3M1zCWZl4crinvbTSR7t6BQefXNVbSTbJMg+7kH86maeQArk4NPQRojP4U/BOc1kW2spdxb4DDIvcqcjP1pt54gh06LzbqSOJOxIPNZuDLTNwY24GMDmq41jT4SA1xGTn1rnB45sZNyCdFB4XKHLZ9BVOHRrvUY4zc7mjclUeTaqNt9yRnGaaguoOTWx1k2v2C4Kkvnso9KojxVDIJDGEyPuIAzk/XHAqFdIi0iO3uM2M0q8NGzxt8p4OMNyeRWbp2nabpWq332tJ5YZF/dFX2bT2JwenNa8tOO2plzTl5FjWdWuLqwaKaFY0cLIpHUjPB/Q/lXmSSznVENthS24Alc4BHNd9q1uZtPgaCV9kS7FjfnaFySfp8xrk7FEj1S2MbrG8bP5jP02nC/yJpvlXwmlJN/EZt7hJLVnmYzK2JU/u4wQR7EEfiK0gdsMT4G5JGX8mH9DVHWxbs6PAVOLZclePmzzVtZfNsdyjkyj9Qf64px2FN2kereFX36MqDP7t2X8M5rc2cYIP5Vwvh+9lW1dY5CoJDYHuBWv9tuf+e8n51lJalJ6HUBAw6dPWqd5KEl2NCz8ZBArCN5cf895P++jUbXEzHJlc/jSQ3qa4lKsd0LsOw4pI5DuZmgYg9BkVitNKf8Alo350wyyf32/OquTY3Y5GDlmgyO3zDio40dpJHYYBOQuRWG0j/3j+dMLMepP50XFY3FRwhLY3E9Cwp7rmMAyR5/3q5/caaWNIdjfk27lImjGOvzVWugrHcs8YI981kEmop5fKgdz2GaBNGPf+MJrS7aIQB1TjcGI6Vmr43jLsJLJz9Jj/hWBfXJknkY8knFZ6qxZjtxjtVxirakuTOvPjNNpEdgwJ6FpSRTZfGEhYbLNQcDO6RjXIxsTjIIxU5c+cCSemM03FDT0PTvD2rRzIz3HyFlDDaK3G1Sy24zI3f7tcF4fkJAB6eXx+dbhqNhLYy/DuvafpujxwzO4kJLNhc/T9KPEOs6fq+kyQQs5lX5lyuPr+lZ7eG57pYpbS3knDZ3xw7iU28Hj0pE8O3/2r93pN3sxxkOPrmupUJP3kjneIgnytmOhyLR/Zf0NegaXqk99eWtoXDQQws5H+0T/AI15+I3gkitpFKyRzGMqeoOa7Hw+TDqk/HKQhf1rnnG250p63Rv6kiLLHhRuKkA46c1Vid5rtUkYspGAD2q1ITPMC5+6pqmziGS3kJwN4BrNLoU31GeIN1lZxiByBIdhH4H+lcJqoMMwbP3ia7XxRPG8drtbK+Yc/lXGeI/vQjHbNXFaoetmUphuhX18ur1hMHsnXHQK35MKrW+LhlXOMR459QKgt7kW8E6Dk8qCf51rHsZ1Hrc6aLxD/YtkLjyfODALt3Y7moj8Sj204fjL/wDWrlNQu2nQp0QHIAqrawRzCZpJAojTcAf4jkDH61XIupDmzsj8SZe2nL+Mh/wph+JFx20+Mf8AAzXGtGOcbPbmmpFnhjj6UuSIc0jsT8Rrs9LGH/vo0w/EO+PS0g/M1yotlJ4Zj+Aq9plnZvdiO8dlVxtViPlVuxbHOKLRC8jYPxB1I9Le3/I/40w+PtUPSK3H/AT/AI1Fe+Gp7eQrFe6W/ONscoz+tQ22gXAuPLuLiKHsCJUxn8TRyxauLmd7XLB8dauei24/4Af8aYfG2snoYR/2zqK+060tlkB1LfKo4CurAn8DWYJGSMg3a49Bz/ShJdg5mav/AAmmsn/lrGPpGKsWXiXUb66FvczAxuDkBQKw47mFQ4lQTZUgfLtwexzTbWfyLmOUjgHn6UmtNENNnQQ6XJNdMDxluK1l8LNglgeRXT23ha/m0u21iCHzLRlDrKhyMVdtpy7hJAoXvXLUlKG5vCKlsccvhXPABqeLwkS3IJ/Cu6iktY5/ukp3p91fWMVvI4+XA6ntWHtmVyq9jyzxVFNottbJBI0TsTypwcVyv9qX563k/wD32a1vFOtrq9+QvzJEcK3r61zw/OvQpJ8quc9S3Noeradrjabp1y0M/kSKxYMGALKwBIGfpWtotprHiArdQa0bawkk2BpZl3fl165rzrUmLafHICQdqsD6EHFU9O1u5tbtGeVpFzjaxyK6qOKlCFkcdfBxnNtaNnTa7pUdp4yuLUXLuFZZd5TcXPGen86SSe7t7qU2xKiTGSFyenQD8aE1SC6dpAr7kbbyoHb2pkWvHTSLiKSRHbK7k69a5nPmk2zsjDlglc6bTobqziD3Rc+aoZS4xx+Zpuo4NsxB5UhhWa2qy3FhHOzOzEABpDzg/SnS3iyMUP3SmP0qJuN9CoqVtShf35vrtbUx7CjgZLdc9KzNaJ8yINjIOD+dR3kytcgrgSZG4gnPTjNPv7WSTTjdZ3eWfmHfk9aTtc0hexp6DpC3OtwIAHikY7hjIA7/AM6yPFelDRNfu7LnyiPMjPsRXTfDhi8968kh2qFVRnoSf/rVn/E8rN4ghkTHNuAcexNVTb5rCqJct0cMcsp4zkUQEIswfglBgH6ipISqzp8ucDJzW1qltEugJL5aidnBJC849K1c7MwUbq5zZPNGeMU2lApkiqdpqTzF9KsWWj6lqLhbOxubgn/nlGW/lXS2Xwr8Y3oBXSJIlPeZgn8zUuSLUZPZHIGRthGT+dMOc816pafA3WmXzNRv7S1iXltpLkCrCfD3wgjlrjV76XHB2IqD+tLniP2UjyKkr2R/APgmVdsM+pL/ALe9T/Ssi/8AhdYsC2m64PZLmPH6j/ChTTB05I81jG51GcZPWrps1YHEykgdADV+bQ7rQtft7W7MTsSHBjcMCM//AFq6N2jDfcX8qUp2CMbjvh/8RdQ8LB9Lud02lT5DIwz5ZPcV2cL2V3cF1kUI5ypHcGuXtirA4Vfyre0S/sNMn+0Xq56LGS2EB/2vbFZTnzx5TWMOR3L2oS2tjbtIsiHAzzXlviDxHd6m7W1ssiwZwcAgtXeazP8AadTldJEeMnKlPu4PpXNSMBOw4yKypRS1Y5XeiOF8iQn/AFb8f7JpRbzbciJ+f9k12nmcmkR8vXR7VkeyOal1WSSyjtvLQBc/NySaooP3i/Wunh+HfiqY4GlMuf7zqP61oQ/CrxMxBeGCP/el/wAKfPBdSeSbexzsltd2dxJGyumMHPSozK8oVWYMoPAY9K9U8QMZvD1vpawqbkMEdv8Ad461xT+FtTjeNY7VpPmOGUZ4qYzvuW4dhsN8z2KwF1BXAwB6Gs2W7c3b4im44BV+ldBB4entG8252KAOcnPPvXLarp+pRTPJJG7Qu52FTuGPwojytikmkSW8y3OpKDhVU8sSK6S/i8izuI1dJEZDyrdMdK4e3huZJ0SCJ2lY4VVGSTXW6f4T8U30sSTwC0hkP+snwv6dSaco9bjpt2tYh8O6x/ZguIlV2ZiHGwZ6VBr+o/2lqaOY3UKmBvGCa7V10vTbWSzs7JUkiH72fGXkA6026j0vVbaFJ4f3kbAgg4P0+lQppO5bg2rG5ovwT06+s7a/k1e4/eorlPKHB7iuluvg/pl3afZ5NQuAmc/KoBrofC+rRz6cBKogZeDGT0rba/g7MT9FNQ5N6lcttEea/wDCmPCGnL597c3LRr1MsoRfx4rp9J8E+ELSFJLHSbGQdVkKiTP4nNcl4xgk1vVjaF5TEpZiMnBHbjtiuSj0zULC7Uafrs9sQwCx7jwacm+40l2PfI4IbdAkMSRqOyKABVHUdatNOiJlkDSY4ReST/SvK5JvGWpO9s96/mQnay7gmffitnRlt7TR2i1I77liQ5zk59jUblkl54i1PVI5LeNo41bIIAzx6Zrz/wASadqaTqpPl2x4bb3Nd+PsNsCVDMOwPb8a5HxPqzancpDaDFpF/H/fbv8AhQpJDS11KekI9nD5ZmJPXB54q/HrFnOxj80Mw67VNZMas6AGdYZB90n1pnlR6OFnuUTfJkhxypq0k1dbmUm+Yzb61iuvEX2vfIq8YBTpgfWpJ0Vt7RvuVMZJGK1/7TsLyILuiBA42oAahtvDkdzBdyxXpmn3AwoTxjuPrTV3uRp0KVrJjvUl6Y5rWOOVcqZBx1qgjNE7KwKsDgg9qsO4IhyeN/NTbUpvQ0RMHkZiMfQYrJlP+kP6VaSbBJP61Tcgysc9aEIhc7ST7Ulu2+T8KJSCDTbTgmn0BvU+iPK2AY4JOOlBcIGLt0oky0pPOFH61UmjYxksDtALNnjgVypXOl6HnOrajJZa5cRJAZAJSVKDJ/wq/b6nqEbtNe6fPb2wj3RmSMqpNcTL4nuE1O7kKq0bSlgGHb0zWnZeMJdSk+x3FuTE4ZSyksVBHHXtXXqtTm3ZsXjx3hYKEkVuZB2ANZsqRxOdg2DbtCjoKiYS2Uq3tv8AdPySqeQy9qrzzzzzF0ULDn5Ru5PrWT1dzRaFuyWCDUIrzyEaSM5DAYI4qfxPe6nqHlR28nlxou8OD1ye3vVEudodOV7mppVjvbYQGXy5AwdG64YU0wsYljfagdQeHcvmICH8wDkfWtOWfyovMlmifawxs549K5rU7u5huXt7q3RZQeXCn5h2Oa6Twm9leRslzaRqm4AyEHinJWVyVvY6iDWJf7JlWwvXjvXQFTG2CR6ViXP/AAkV0jNcarcgjorTNzSadbrZeKZYInzbsiiM+gLcgV2k8NoiM7xq7AfKCelJMo5XwrcTWaSRXErSlGLFjy2DwetSPHbanqzRWsxjYDMmR0HvWXrmsrpGrRXEMG9HRldBwMH39a3PDNpCdPS9SApJdfM27rgdPwpVJWVwir6G82l2uoz2Vm9wTFEnmzODg/KKbeX1u0jGACKKM4BAGcf/AF6qSRTpcvJHjay7Gye1c9rmsrpcE0UzJl/uquC31qFd6I00WrKviPWXaZ7SCXbCFDTOOo/2QfeuWF5dXDLBaoUToMDJq3okY1G3uDMxLNIGOT14rovs0MFhNBEiR3DFdmeCPU1r8OhCd9Sjp/he+vlV47ly+eVYcCuhvLDRbSyFtqMy3MgwfLjP3T9a6IhbLQY7RHH2iSIM7L9OlcvBpieY8kkY39eeQKhthZMI3021kjFro0Krj77gk1tWgthHv+zrEW7KuM1QinKzENGxHYAVY0+wuhqo1C6klFrGvyxFuCff0pptk2RHruh2U9nJdZEbgFt4GMn3rgGnSN4i/wB0Nk8V32q6hbzSMpmbZk4RAAKzFi0+5YK1qjn3HNVGXcmS7HKmXrUW7JrupfCNpeW7NEHt5WGVOeM/SuGv7SbTr2S2nADocHB61SJbImPrREducVCWJ6UK+OAaqzFc9un+IHhe3TYdSWRmOSY0Y1ka18R9Hm0i6t7EztPJEY0JTAGeM15AI8HJqQEAYrP2aRrztlm1tGvZvLQZY9/QV0EFl9mXyIMIzdXPc07w9bpFYmZsB5D1PpVq6FwbO4l0+WNpUbDJ6CnrLQjY1NM0zVRbhLx4DFIcRsOq+5q9eeHbLT3V7mQ3G4ZPl/KFPsRXDafq+oR38UMz/MeoL4H1rt5dW863ija4WTAxk803ZLUpNvYrK2mh2R/PMBHQkHFVbm0sJog0DFTGODnk/WpmSzV086bC85Cfxexqaa/sYrdpDaRiOMZZ8Y4rPQ0VznvPtriRYL2zSXcNu9u3oQatpFY6V5sVtCwKKGaVn3IPfNULnXtIuEEmXGG+5jpWfrWrLe6Nst4Ghi3/AE8zHc1UYX0ZLly7CyeIbeO7WWIPI6Hj5sJ+XWpp/Ht85KtDblfTB/xri4lldvlUketT+SyXCkhZVUglM4LD0rTlijJz7nUSeIdL1bZBf2r247vC2QT7g9K9Js2gksofsTq8GwBCOmBXjD2sF9Kz2222kJ/493PH4E13nhW5m060eCdDt27vYGsK8Y8tzanJp2ZqazeXFrKixxO4cMCFOAp9TXHahbR6pLm4u7eIr1CEuT+Vb2qzxa3avA2RImWQBsAn0NcC9ywZ1YhNvAQdqWHakrrcKl72ZpxNbaXOfJlZ0J+8eK3beyGszLOl0j7R0D5Y1xbS+bDlclh1Fbfh+ZUDtvCuoz1wRW0o6Gd7M6d/EL2x+xzQ+VMi7C7HPA6VTu/ECW6hJG3uw+UocfnWjp0S6zaPLcRq0iZG4j7wrmL/AEuO31oAhxDnOWHH0FTy66jubuhZRxf6rPMQ2TFbbsDHbOK1r7U73VJRCo+zWwH8IrEttQtzdRPvjbYMBWPSrj69aW+ECedI/QRnOPrUvUaLX9l2aoGZjK2M8jFCCO3CvHCU54KjimC9Tyi0iO0g5VB2+tZ2qXurX6xxRQ+Wq/d4xioGdvHfp9jTzGjDY5+cZ/Kud1jStO1aXzXl2THjcprnbPRdSikYzztljn5WyK14bJo3WTfvI6jNVzWehLVzKvvB1zEpa1lWUYyFIwTXMSl7ZmDRkyKcFTxzXr8VxZiwWV5V2kc/N0PpXmviaFxq8k4j2xS8qR0reDb3M5WRkZoBoCEjsPxo2YGeoouVZnaaQyyaLDtI6FSPesqd5NHuppmkwk44GM59qZ4fvVjkNrI21JD8pPY1v6jpaXdo1vIPm6q3oazWjBnN6dqKLdefPbwtDgDaR82PrWjN4g0+2LOi3Aj67No59q5ue3msZzFMmCO/rWlomhya7dGHfsQD5mq2kLmZg6hrV7fXbXG540z8qg8KKJdW1O8thby3LtF6V3138N7a3ty39pBW7b1wM0zT/A+nxoZL2+EoH8MXSq5oom0mcdpWIbgSSKHI+6GHSt+/uItSC27JsfGV9/UV0S6bpcYP2W0QY7sSSaz7uykkjZoIIllHQgVm6hootGDYaciXv+kwsiZ2hPf1Jqxc6RnU1vHlhjjzkr7enFTR/wBoTP8AZbqBdzcA7eD+NY2oI9peyW89ojFO4dsH9amPvMKkVuzTnj0WQyxSXuATuRUQsxPoKvWfnW2kkyqY/MPyKTyFFctFNOH2wxRQA90X5vzNbTX/AJlpDC2Q8a4Oe9Z1o6cqNKctdS1aylLgMD3rO17TfL1QvHsjimG/PuetWbUl5QARWtcxrqEMcMTK0kfyt7Cs6V4zNJvTQ497VCCN8THoPap7K1hhkHzM7E4AHArcfwrPu/d7HA6jODWna+GVwjOcOOcDtXb0MJVJM09MVobVY4wckZOBSajps99btF9nZm659BWhaWD25UrIWUDg9Kvuzj5yCMDBJqWiUeZv4YlhnjlmYGM8uvTHtV+3ZNNk8yGKNjJxjPP4YrU8R21/Ez3ESrJHt+56e9chbeIRZozTQB5i2BkY2jvStca0Oo+23Yj3xWoj5wx2En9aLe7Esp+13vfoI+laOn3cVxBFLGfLWRchjzTLu2t5pTuWMyf3sday2KJUls2ICXq+nKYq/BpiJA5ScOHU4PcfSudGmRK5kzn6GrEX2i0O+GRiPRm7Ur+QMyLzwdeW4EltfyygNuETjAxVuXTTqGmG3mOJR90nsa7KKRJNOS4mwgIyM1iHZJdM6DAJzxXTTk3uYySR5ZvPelL1Fk0haqsPmJfMKkEEg11eheJo5I1stSYjHEc3cexrjc1E79hQ4p6E81j1O70+3u4lLqki9Vcc0yz8rSmMsSfvPQ8CvP8ATvEN7ppAjkLR90bkV1Fh4o069XZcjyHPXPK1m4SRSkmbkviCHVP9GdDHMpyuTxmmJcvGHiusI3rjgisi/wBHhuStzZTYf+9G1Vmh8Q2GJYZxcKOdh5NTa5d0dNANrfKwZSMgipELsST/ABfgK4w+LtVtWYTWvlnHdcVk3XiLUr2Tb5hUHtmj2TYOokdzfeIdN0W4IuQ80yj5VjwQPqa5CXxJbT3DSPCWUkt83JNZLWlxPuuGYyNnJB71QuMFzgYrSNKOxEqjOsHi23gwY7SF1/ulcGrltrOk6tMFuI/spPda4NV9acvscEVXsl0F7Vvc9ag8PW1wGe1crGB988k1VutAa1lH2W5lRm5JBrk9C8TapbMtrHPmEn+IZxXYwXJuIPN80M/oawnHlZrCV9jElu9Rt5xGfPkCtlnxy1dToktxdoJpvlIPCmmQxlsMwHNX7ZWyNiksPQVLuWbYkQJuUjPdaryXCyZYjIHQVj3F8ZL9dPtj++blyP4RW7DDGgSH5Tx96tI3ZmzJuSZYiF+h5zXM6j4einQyFFLEnhRzXb3emxJINpBJ5LA4qsdOQDqcY9aWqEcLb3dzocSwlPPgDZ2nqo9q1Rq+h3YQi/aGU/wuOn1q/f6fEwLDGfWuUvtKUszCJQQeuKNHuK7NC91zTIIzbLduzD/lpEmf51U/4SKIgLHJcTAdFKAZrNg0G5unG1Nif3mrptO0S2sgCF8yXHLtWihEnmZThvdX1aYNNmKBOFi6CtbV7tND8PvLK+LmcFIUzzju30qjqHiGy0oFFxNc9o16A+9cPq2o3eqTme6kLyHjHZR6D2rohaKM5asiJpuaQ+wpBkGosO4O2B1qFm7ZpXPJzUTGmkS2IxqPeVOQaUnimGqsSXbfUbi3OYZnQ+gNb1l41vLcBLiNJkHfoa5LpShj3pOCY1Jo9Hh8VaPfjZcr5ZPZ1yKsHRdF1Rd1uYix7xPg/lXmANSRzyRNlHZSO4NZukuhaqdzr9R0S80pyYt7R9siufvDkhfL2nOSfepYPE2qQoE+1O6Ds53D9anbxEs5H2ixgf1IGCaSjJeY+aLMfZnvUkVq7vypYegro7XW/D+8faNMkA9UYH+ddPpviDwVGVJNzCe+6IGm5PsCgn1OU0nSN86F5o4UPvzXaW2lW9qoaO/HIwQV61Pe3XgfV4PKOqrEf4XMRBFcbq+n2dkoew8QRXSZ4UMQRWTvLc0S5djs/tul2cmbi9U4H3AcVWm8axSN9l0uIMzcbuw/GvM5SGclmDH1zmrmnwB2G2dYlz8zFsVXs0tw529j0fRLWO2le4kk8y5nPzuT+grfjcAE7hn3rl9L/sCyhVrnXYi+MkZLVfn8V+FrRcLqDSkf3IjS32A3BcRjlzkVDLexhSqnOfSuUu/iDoif8e9vcS/72FrBu/iE7E/ZrGNPQuc01CT6EuSR3tw3mhWXCqOceprOuZIIj5k7IgHdjivOrvxhq11x5/lj0jGKxprye4O6WZ3P+0c1apEOZ6JeeLdMtMiNjO46BBx+dczqPi/UL9THGwt4j2Tqfxrm85pw4rVQSIcmy5G3zbskk9TUko3LmqqNiraHK0NAgMhphNLkdhTc8VJRGx5qJjUjmoT1qkSwNNNL2pDTENpKWkoEGaKKKAJEUP0bB9DTjFIvaoasQ3RXh+VpDViPDDqKMVoIIZRkUrWiEcYpcxXL2M7p3pMn1q1JAqHmmbE7A07isQbj60bz61P5Q/u0xginnFAWIyx9TScntTt65+7TxMiqcDJ7UxERUgZPApuaVmLHk0lABRRRTEL3pR2popwoGSKeatwNVMEVat6TGj//2Q==\" />\n",
              "        <p style=\"width:256px; margin:10px; font-size:small;\">butter, celery, shallots, cream, shucked oysters, salt and ground black pepper, cayenne pepper</p>\n",
              "    </div>\n",
              "    \n",
              "    <div style=\"display: inline-flex; align-items: center; justify-content: center;\">\n",
              "        <img style=\"width:128px; height:128px;\" src=\"data:image/jpeg;base64,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\" />\n",
              "        <p style=\"width:256px; margin:10px; font-size:small;\">tortilla chips, ground beef, black beans, chunky salsa, shredded monterey jack cheese, green onions, fresh cilantro, jalapeno chilies, pickled jalapenos, sour cream</p>\n",
              "    </div>\n",
              "    \n",
              "    <div style=\"display: inline-flex; align-items: center; justify-content: center;\">\n",
              "        <img style=\"width:128px; height:128px;\" src=\"data:image/jpeg;base64,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\" />\n",
              "        <p style=\"width:256px; margin:10px; font-size:small;\">cabbage, ground pork, green onions, soy sauce, sake, sesame oil, garlic, corn starch, gyoza wrappers, oil, water, rice vinegar, chili oil</p>\n",
              "    </div>\n",
              "    \n",
              "    <div style=\"display: inline-flex; align-items: center; justify-content: center;\">\n",
              "        <img style=\"width:128px; height:128px;\" src=\"data:image/jpeg;base64,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\" />\n",
              "        <p style=\"width:256px; margin:10px; font-size:small;\">graham cracker crumbs, sugar, melted butter, cream cheese, eggs, vanilla, sour cream</p>\n",
              "    </div>\n",
              "    "
            ],
            "text/plain": [
              "<IPython.core.display.HTML object>"
            ]
          },
          "metadata": {},
          "output_type": "display_data"
        }
      ],
      "source": [
        "def render_inline(image, resize=(128, 128)):\n",
        "  \"\"\"Convert image into inline html.\"\"\"\n",
        "  image = Image.fromarray(image)\n",
        "  image.resize(resize)\n",
        "  with io.BytesIO() as buffer:\n",
        "    image.save(buffer, format='jpeg')\n",
        "    image_b64 = str(base64.b64encode(buffer.getvalue()), \"utf-8\")\n",
        "    return f\"data:image/jpeg;base64,{image_b64}\"\n",
        "\n",
        "def render_example(image, caption):\n",
        "  image = ((image + 1)/2 * 255).astype(np.uint8)  # [-1,1] -> [0, 255]\n",
        "  return f\"\"\"\n",
        "    <div style=\"display: inline-flex; align-items: center; justify-content: center;\">\n",
        "        <img style=\"width:128px; height:128px;\" src=\"{render_inline(image, resize=(64,64))}\" />\n",
        "        <p style=\"width:256px; margin:10px; font-size:small;\">{html.escape(caption)}</p>\n",
        "    </div>\n",
        "    \"\"\"\n",
        "\n",
        "html_out = \"\"\n",
        "for idx, example in zip(range(8), train_data_iterator()):\n",
        "  caption = postprocess_tokens(example[\"text\"])  # detokenize model input.\n",
        "  caption = caption[len(\"caption en\\n\"):]        # strip prefix\n",
        "  html_out += render_example(example[\"image\"], caption)\n",
        "\n",
        "print(\"Training examples\")\n",
        "display(HTML(html_out))"
      ]
    },
    {
      "cell_type": "markdown",
      "metadata": {
        "id": "N2BwpXkfI8OT"
      },
      "source": [
        "### Define the training and evaluation loops\n",
        "\n",
        "Define the training loop to train the model on the provided dataset, and the evaluation loop to look at all of the examples in the validation dataset and make its predictions.\n",
        "\n",
        "#### Defining the training loop\n",
        "\n",
        "The `update_fn` function defines the training step. During the training step, the loss per example is calculated and stochastic gradient descent (SGD) is applied to the trainable parameters.\n",
        "\n",
        "Recall that earlier in the notebook, you included flags in the `preprocess_tokens` function that included `mask_loss`. You'll use the `mask_loss` flag here to exclude prefix and padded tokens from the loss. Without it, the loss calculation will be skewed. You also need to normalize each example, since each of them has a different number of tokens. After the prefix and padded tokens have been excluded and the examples have been normalized, you can calculate the loss per example.\n",
        "\n",
        "The training step also includes a function to apply an SGD to optimize the training.\n",
        "\n",
        "#### Defining the evaluation loop\n",
        "\n",
        "The `make_predictions` function is your evaluation loop. The evaluation loop is fairly straight forward with one notable change. If you recall from the beginning of the notebook, you only have 90 examples in your training data set. This is a very small amount of training examples, and your model ends up not having enough examples for the batch size when you run the training. This means that in the evaluation loop, you need to pad the batch by repeating examples.\n",
        "\n",
        "To make sure that your evaluation loop only counts actual examples and not the padded examples, you have to apply a mask to the padded examples that excludes them from the output."
      ]
    },
    {
      "cell_type": "code",
      "execution_count": 18,
      "metadata": {
        "id": "dwUV_imW3WQJ"
      },
      "outputs": [],
      "source": [
        "# The main update_fn using a simple stochastic gradient descent (SGD).\n",
        "@functools.partial(jax.jit, donate_argnums=(0,))\n",
        "def update_fn(params, batch, learning_rate):\n",
        "  imgs, txts, mask_ar = batch[\"image\"], batch[\"text\"], batch[\"mask_ar\"]\n",
        "\n",
        "  def loss_fn(params):\n",
        "    text_logits, _ = model.apply({\"params\": params}, imgs, txts[:, :-1], mask_ar[:, :-1], train=True)\n",
        "    logp = jax.nn.log_softmax(text_logits, axis=-1)\n",
        "\n",
        "    # The model takes as input txts[:, :-1] but the loss is defined as predicting\n",
        "    # next tokens txts[:, 1:]. Additionally, mask_loss[:, 1:] indicates which tokens\n",
        "    # are part of the loss (e.g. prefix and padded tokens are not included).\n",
        "    mask_loss = batch[\"mask_loss\"][:, 1:]\n",
        "    targets = jax.nn.one_hot(txts[:, 1:], text_logits.shape[-1])\n",
        "\n",
        "    # Compute the loss per example. i.e. the mean of per token pplx.\n",
        "    # Since each example has a different number of tokens we normalize it.\n",
        "    token_pplx = jnp.sum(logp * targets, axis=-1)  # sum across vocab_size.\n",
        "    example_loss = -jnp.sum(token_pplx * mask_loss, axis=-1)  # sum across seq_len.\n",
        "    example_loss /= jnp.clip(jnp.sum(mask_loss, -1), 1)  # weight by num of tokens.\n",
        "\n",
        "    # batch_loss: mean of per example loss.\n",
        "    return jnp.mean(example_loss)\n",
        "\n",
        "  loss, grads = jax.value_and_grad(loss_fn)(params)\n",
        "\n",
        "  # Apply gradients to trainable params using SGD.\n",
        "  def apply_grad(param, gradient, trainable):\n",
        "    if not trainable: return param\n",
        "    return param - learning_rate * gradient\n",
        "\n",
        "  params = jax.tree_util.tree_map(apply_grad, params, grads, trainable_mask)\n",
        "\n",
        "  return params, loss\n",
        "\n",
        "# Evaluation/inference loop.\n",
        "def make_predictions(data_iterator, *, num_examples=None,\n",
        "                     batch_size=4, seqlen=SEQLEN, sampler=\"greedy\"):\n",
        "  outputs = []\n",
        "  while True:\n",
        "    # Construct a list of examples in the batch.\n",
        "    examples = []\n",
        "    try:\n",
        "      for _ in range(batch_size):\n",
        "        examples.append(next(data_iterator))\n",
        "        examples[-1][\"_mask\"] = np.array(True)  # Indicates true example.\n",
        "    except StopIteration:\n",
        "      if len(examples) == 0:\n",
        "        return outputs\n",
        "\n",
        "    # Not enough examples to complete a batch. Pad by repeating last example.\n",
        "    while len(examples) % batch_size:\n",
        "      examples.append(dict(examples[-1]))\n",
        "      examples[-1][\"_mask\"] = np.array(False)  # Indicates padding example.\n",
        "\n",
        "    # Convert list of examples into a dict of np.arrays and load onto devices.\n",
        "    batch = jax.tree.map(lambda *x: np.stack(x), *examples)\n",
        "    batch = big_vision.utils.reshard(batch, data_sharding)\n",
        "\n",
        "    # Make model predictions\n",
        "    tokens = decode({\"params\": params}, batch=batch,\n",
        "                    max_decode_len=seqlen, sampler=sampler)\n",
        "\n",
        "    # Fetch model predictions to device and detokenize.\n",
        "    tokens, mask = jax.device_get((tokens, batch[\"_mask\"]))\n",
        "    tokens = tokens[mask]  # remove padding examples.\n",
        "    responses = [postprocess_tokens(t) for t in tokens]\n",
        "\n",
        "    # Append to html output.\n",
        "    for example, response in zip(examples, responses):\n",
        "      outputs.append((example[\"image\"], response))\n",
        "      if num_examples and len(outputs) >= num_examples:\n",
        "        return outputs"
      ]
    },
    {
      "cell_type": "markdown",
      "metadata": {
        "id": "n9r9V1jwJvu9"
      },
      "source": [
        "## Tune the model\n",
        "\n",
        "Now that you've set everything up and taken a look at the training data, it's time to finally tune the model. The code below runs the training loop for the model for 64 steps and prints the learning rate (`lr` in the printed output) and loss rate for each step.\n",
        "\n",
        "Every 16 steps, the model prints what its predictions are at that step in the training. This code prints out predictions for the same set of images so that you can see the model's ability to predict descriptions improve over time.\n",
        "\n",
        "At earlier steps in the training, there's likely issues with the descriptions, such as repeated sentences as the model gets stuck in its predictive loop or unfinished sentences. The model's predictions become steadily more accurate as training progresses. By step 64, the model's predictions should closely resemble the descriptions provided by the training data.\n",
        "\n",
        "This process takes around 15 minutes to complete on T4 TPUs."
      ]
    },
    {
      "cell_type": "code",
      "execution_count": 19,
      "metadata": {},
      "outputs": [
        {
          "name": "stderr",
          "output_type": "stream",
          "text": [
            "WARNING:absl:Configured `CheckpointManager` using deprecated legacy API. Please follow the instructions at https://orbax.readthedocs.io/en/latest/api_refactor.html to migrate by August 1st, 2024.\n"
          ]
        }
      ],
      "source": [
        "# checkpointing setup\n",
        "\n",
        "ckpt_dir = './checkpoints'\n",
        "\n",
        "# ==== With Orbax ====\n",
        "from flax.training import orbax_utils\n",
        "import orbax.checkpoint\n",
        "\n",
        "# Initialize the PyTree Checkpointer\n",
        "pytree_checkpointer = orbax.checkpoint.PyTreeCheckpointer()\n",
        "\n",
        "# Define checkpoint manager options\n",
        "options = orbax.checkpoint.CheckpointManagerOptions(\n",
        "    max_to_keep=4,  # Keep only the newest 3 checkpoints\n",
        "    create=True\n",
        ")\n",
        "\n",
        "# Create the checkpoint manager\n",
        "checkpoint_manager = orbax.checkpoint.CheckpointManager(\n",
        "    ckpt_dir, pytree_checkpointer, options\n",
        ")"
      ]
    },
    {
      "cell_type": "code",
      "execution_count": 20,
      "metadata": {},
      "outputs": [],
      "source": [
        "def batch_val_score_iterator(batch_size=4, ordered=False):\n",
        "    examples = []\n",
        "    for example in val_dataset.get_tfdata(ordered=ordered).as_numpy_iterator():\n",
        "        try:\n",
        "            image_path = example[\"image\"].decode()\n",
        "            image = Image.open(image_path)\n",
        "            image = preprocess_image(image)\n",
        "            \n",
        "            prefix = \"caption en\"\n",
        "            suffix = example[\"suffix\"].decode().lower()\n",
        "            tokens, mask_ar, _, mask_input = preprocess_tokens(prefix, seqlen=SEQLEN)\n",
        "            \n",
        "            examples.append({\n",
        "                \"image\": np.asarray(image),\n",
        "                \"text\": np.asarray(tokens),\n",
        "                \"mask_ar\": np.asarray(mask_ar),\n",
        "                \"mask_input\": np.asarray(mask_input),\n",
        "                \"suffix\": suffix,\n",
        "            })\n",
        "            \n",
        "            if len(examples) == batch_size:\n",
        "                yield examples\n",
        "                examples = []\n",
        "        except Exception as e:\n",
        "            print(f\"Error processing image: {e}\")\n",
        "            continue\n",
        "    \n",
        "    if examples:  # Yield any remaining examples\n",
        "        yield examples\n",
        "\n",
        "def compute_rouge(reference, candidate):\n",
        "    scorer = rouge_scorer.RougeScorer(['rouge1', 'rouge2', 'rougeL'], use_stemmer=True)\n",
        "    scores = scorer.score(reference, candidate)\n",
        "    return (scores['rouge1'].fmeasure + scores['rouge2'].fmeasure + scores['rougeL'].fmeasure) / 3\n",
        "\n",
        "def ingredient_overlap_f1_score(reference, candidate):\n",
        "    ref_ingredients = set(reference.lower().split(', '))\n",
        "    cand_ingredients = set(candidate.lower().split(', '))\n",
        "    overlap = ref_ingredients.intersection(cand_ingredients)\n",
        "    precision = len(overlap) / len(cand_ingredients) if cand_ingredients else 0\n",
        "    recall = len(overlap) / len(ref_ingredients) if ref_ingredients else 0\n",
        "    f1 = 2 * (precision * recall) / (precision + recall) if (precision + recall) > 0 else 0\n",
        "    return f1\n",
        "\n",
        "from sklearn.metrics import accuracy_score, precision_score, recall_score\n",
        "\n",
        "def evaluate_model_batch(params, batch_size=4, num_examples=None, ordered=False):\n",
        "    bleu_scores = []\n",
        "    rouge_scores = []\n",
        "    ingredient_overlap_scores = []\n",
        "    examples = []\n",
        "    all_ground_truths = []\n",
        "    all_predictions = []\n",
        "    \n",
        "    smoother = SmoothingFunction().method1\n",
        "    scorer = rouge_scorer.RougeScorer(['rouge1', 'rouge2', 'rougeL'], use_stemmer=True)\n",
        "    \n",
        "    total_processed = 0\n",
        "    num_examples = num_examples or val_dataset.total_examples // batch_size\n",
        "    pbar = tqdm(total=num_examples)\n",
        "    \n",
        "    for batch in batch_val_score_iterator(batch_size=batch_size, ordered=ordered):\n",
        "        batch_images = np.stack([ex['image'] for ex in batch])\n",
        "        batch_tokens = np.stack([ex['text'] for ex in batch])\n",
        "        batch_mask_ar = np.stack([ex['mask_ar'] for ex in batch])\n",
        "        batch_mask_input = np.stack([ex['mask_input'] for ex in batch])\n",
        "        ground_truths = [ex['suffix'] for ex in batch]\n",
        "        \n",
        "        # Generate captions\n",
        "        batch_input = {\n",
        "            \"image\": batch_images,\n",
        "            \"text\": batch_tokens,\n",
        "            \"mask_ar\": batch_mask_ar,\n",
        "            \"mask_input\": batch_mask_input,\n",
        "            \"_mask\": np.ones(len(batch), dtype=bool)\n",
        "        }\n",
        "        generated_tokens = decode({\"params\": params}, \n",
        "                                  batch=batch_input, \n",
        "                                  max_decode_len=SEQLEN, \n",
        "                                  sampler=\"greedy\")\n",
        "        \n",
        "        generated_captions = [postprocess_tokens(tokens) for tokens in generated_tokens]\n",
        "        \n",
        "        batch_bleu = []\n",
        "        batch_rouge = []\n",
        "        batch_ingredient_overlap = []\n",
        "        \n",
        "        for ground_truth, generated_caption in zip(ground_truths, generated_captions):\n",
        "            # Compute BLEU\n",
        "            bleu = sentence_bleu([ground_truth.split()], generated_caption.split(), \n",
        "                                 smoothing_function=smoother, weights=(0.25, 0.25, 0.25, 0.25))\n",
        "            batch_bleu.append(bleu)\n",
        "            \n",
        "            # Compute ROUGE\n",
        "            rouge = compute_rouge(ground_truth, generated_caption)\n",
        "            batch_rouge.append(rouge)\n",
        "            \n",
        "            # Compute ingredient overlap score\n",
        "            ingredient_overlap = ingredient_overlap_f1_score(ground_truth, generated_caption)\n",
        "            batch_ingredient_overlap.append(ingredient_overlap)\n",
        "            \n",
        "            # Store example\n",
        "            examples.append((ground_truth, generated_caption))\n",
        "        \n",
        "        bleu_scores.extend(batch_bleu)\n",
        "        rouge_scores.extend(batch_rouge)\n",
        "        ingredient_overlap_scores.extend(batch_ingredient_overlap)\n",
        "        all_ground_truths.extend(ground_truths)\n",
        "        all_predictions.extend(generated_captions)\n",
        "        \n",
        "        total_processed += len(batch)\n",
        "        \n",
        "        # Calculate dynamic accuracy, precision, and recall\n",
        "        if all_ground_truths and all_predictions:\n",
        "            accuracy = accuracy_score(all_ground_truths, all_predictions)\n",
        "            precision = precision_score(all_ground_truths, all_predictions, average='weighted', zero_division=0)\n",
        "            recall = recall_score(all_ground_truths, all_predictions, average='weighted', zero_division=0)\n",
        "        else:\n",
        "            accuracy, precision, recall = 0, 0, 0\n",
        "        \n",
        "        # Update progress bar with current average scores and new metrics\n",
        "        avg_bleu = np.mean(bleu_scores)\n",
        "        avg_rouge = np.mean(rouge_scores)\n",
        "        avg_f1 = np.mean(ingredient_overlap_scores)\n",
        "        \n",
        "        pbar.set_description(f\"BLEU: {avg_bleu:.3f} - ROUGE: {avg_rouge:.3f} - F1: {avg_f1:.3f} - \"\n",
        "                             f\"ACC: {accuracy:.3f} - PREC: {precision:.3f} - REC: {recall:.3f}\")\n",
        "        pbar.update(len(batch))\n",
        "        \n",
        "        if num_examples and total_processed >= num_examples:\n",
        "            break\n",
        "    \n",
        "    pbar.close()\n",
        "    \n",
        "    # Final calculation for accuracy, precision, and recall\n",
        "    final_accuracy = accuracy_score(all_ground_truths, all_predictions)\n",
        "    final_precision = precision_score(all_ground_truths, all_predictions, average='weighted', zero_division=0)\n",
        "    final_recall = recall_score(all_ground_truths, all_predictions, average='weighted', zero_division=0)\n",
        "    \n",
        "    return {\n",
        "        \"bleu\": np.mean(bleu_scores),\n",
        "        \"rouge\": np.mean(rouge_scores),\n",
        "        \"ingredient_overlap\": np.mean(ingredient_overlap_scores),\n",
        "        \"accuracy\": final_accuracy,\n",
        "        \"precision\": final_precision,\n",
        "        \"recall\": final_recall,\n",
        "        \"examples\": examples[:num_examples] if num_examples else examples,\n",
        "        \"predictions\": all_predictions,\n",
        "        \"ground_truths\": all_ground_truths\n",
        "    }"
      ]
    },
    {
      "cell_type": "code",
      "execution_count": 21,
      "metadata": {
        "colab": {
          "base_uri": "https://localhost:8080/",
          "height": 1000
        },
        "id": "067wj_6bZAG3",
        "outputId": "78641606-05a2-4fd9-f275-41f8590042a7"
      },
      "outputs": [],
      "source": [
        "# BATCH_SIZE = 8\n",
        "# LEARNING_RATE = 0.002\n",
        "# EPOCHS = 1\n",
        "# MAX_EXAMPLES = -1  # -1 to use all training data\n",
        "# EVAL_STEPS = 200  # Evaluate every n steps\n",
        "# VALIDATION_BATCH_SIZE = 4\n",
        "# VALIDATION_EXAMPLES = 100\n",
        "# tolerance = 0.01  # Tolerance for score variation to save a checkpoint\n",
        "\n",
        "# def count_dataset_entries(jsonl_file_path):\n",
        "#     with open(jsonl_file_path, 'r') as file:\n",
        "#         return sum(1 for _ in file)\n",
        "\n",
        "# train_entries = count_dataset_entries('food-ingredients-101/train.jsonl')\n",
        "\n",
        "# if MAX_EXAMPLES != -1:\n",
        "#     train_entries = min(train_entries, MAX_EXAMPLES)\n",
        "# print(\"Number of training examples:\", train_entries)\n",
        "\n",
        "# TRAIN_STEPS = train_entries // BATCH_SIZE\n",
        "\n",
        "# train_data_it = train_data_iterator()\n",
        "\n",
        "# sched_fn = big_vision.utils.create_learning_rate_schedule(\n",
        "#     total_steps=TRAIN_STEPS+1, base=LEARNING_RATE,\n",
        "#     decay_type=\"cosine\", warmup_percent=0.10)\n",
        "\n",
        "# pbar = tqdm(total=TRAIN_STEPS, dynamic_ncols=True)\n",
        "\n",
        "# loss_values = []\n",
        "# best_score = 0\n",
        "\n",
        "# # Logging setup\n",
        "# import wandb\n",
        "\n",
        "# wandb.init(project=\"paligemma-jax-local\", config={\n",
        "#     \"model\": \"paligemma-3b-pt-224\",\n",
        "#     \"batch_size\": BATCH_SIZE,\n",
        "#     \"learning_rate\": LEARNING_RATE,\n",
        "#     \"train_steps\": TRAIN_STEPS,\n",
        "#     \"seq_len\": SEQLEN,\n",
        "#     \"ckpt_dir\": ckpt_dir,\n",
        "#     \"tolerance\": tolerance,\n",
        "#     \"decay_type\": \"cosine\",\n",
        "#     \"warmup_percent\": 0.10,\n",
        "#     \"epochs\": EPOCHS,\n",
        "# })\n",
        "\n",
        "# for step in range(1, TRAIN_STEPS+1):\n",
        "#     # Make list of N training examples.\n",
        "#     examples = [next(train_data_it) for _ in range(BATCH_SIZE)]\n",
        "\n",
        "#     # Convert list of examples into a dict of np.arrays and load onto devices.\n",
        "#     batch = jax.tree.map(lambda *x: np.stack(x), *examples)\n",
        "#     batch = big_vision.utils.reshard(batch, data_sharding)\n",
        "\n",
        "#     # Training step and report training loss\n",
        "#     learning_rate = sched_fn(step)\n",
        "#     params, loss = update_fn(params, batch, learning_rate)\n",
        "\n",
        "#     loss = jax.device_get(loss)\n",
        "#     loss_values.append(loss)\n",
        "\n",
        "#     # Log loss to wandb\n",
        "#     wandb.log({\"train_loss\": loss, \"learning_rate\": learning_rate})\n",
        "\n",
        "#     pbar.set_postfix({'lr': f'{learning_rate:.5f}', 'loss': f'{loss:.4f}'}, refresh=True)\n",
        "#     pbar.update()\n",
        "\n",
        "#     if (step % EVAL_STEPS) == 0:\n",
        "#         print(f\"\\nEvaluating at step {step}\")\n",
        "        \n",
        "#         # Calculate validation scores\n",
        "#         val_results = evaluate_model_batch(\n",
        "#             params, \n",
        "#             batch_size=VALIDATION_BATCH_SIZE, \n",
        "#             num_examples=VALIDATION_EXAMPLES,\n",
        "#             ordered=False\n",
        "#         )\n",
        "        \n",
        "#         # Log validation scores to wandb\n",
        "#         wandb.log({\n",
        "#             \"val_bleu\": val_results['bleu'],\n",
        "#             \"val_rouge\": val_results['rouge'],\n",
        "#             \"val_f1\": val_results['ingredient_overlap'],\n",
        "#             \"val_accuracy\": val_results['accuracy'],\n",
        "#             \"val_precision\": val_results['precision'],\n",
        "#             \"val_recall\": val_results['recall']\n",
        "#         })\n",
        "        \n",
        "#         print(f\"Validation Results:\")\n",
        "#         print(f\"BLEU Score: {val_results['bleu']:.4f}\")\n",
        "#         print(f\"ROUGE Score: {val_results['rouge']:.4f}\")\n",
        "#         print(f\"F1-Score: {val_results['ingredient_overlap']:.4f}\")\n",
        "#         print(f\"Accuracy: {val_results['accuracy']:.4f}\")\n",
        "#         print(f\"Precision: {val_results['precision']:.4f}\")\n",
        "#         print(f\"Recall: {val_results['recall']:.4f}\")\n",
        "\n",
        "#         # Print a few examples\n",
        "#         print(\"\\nExamples:\")\n",
        "#         for i, (ground_truth, generated_caption) in enumerate(val_results['examples'][:3]):\n",
        "#             print(f\"\\nExample {i+1}:\")\n",
        "#             print(f\"Ground Truth: {ground_truth}\")\n",
        "#             print(f\"Generated: {generated_caption}\")\n",
        "\n",
        "#         # Visual inspection of predictions (using the first validation iterator)\n",
        "#         # print(\"\\nVisual inspection of predictions:\")\n",
        "#         # html_out = \"\"\n",
        "#         # for image, caption in make_predictions(\n",
        "#         #     validation_data_iterator(), num_examples=4, batch_size=4):\n",
        "#         #     html_out += render_example(image, caption)\n",
        "#         # display(HTML(html_out))\n",
        "\n",
        "#         # Save checkpoint if the validation score improves\n",
        "#         current_score = val_results['bleu'] + val_results['rouge'] + val_results['ingredient_overlap']\n",
        "#         if current_score >= best_score + tolerance:\n",
        "#             print(f\"Saving checkpoint at step {step}\")\n",
        "#             ckpt = {\"params\": params}\n",
        "#             save_args = orbax_utils.save_args_from_target(ckpt)\n",
        "#             checkpoint_manager.save(\n",
        "#                 step, \n",
        "#                 ckpt, \n",
        "#                 save_kwargs={'save_args': save_args}\n",
        "#             )\n",
        "#             best_score = current_score\n",
        "\n",
        "# pbar.close()"
      ]
    },
    {
      "cell_type": "markdown",
      "metadata": {
        "id": "glScsFLVJ52c"
      },
      "source": [
        "## Output\n",
        "\n",
        "The validation data for this notebook consists of just 10 images. In normal code, you would likely have many more data points for validation, but for this notebook, run the following code to generate descriptions for all 10 images. After tuning the model, these descriptions should be very similar in form and content coverage to the descriptions included with the training data that you looked at earlier in this notebook.\n",
        "\n",
        "Run the below code to generate descriptions for the validation data set."
      ]
    },
    {
      "cell_type": "code",
      "execution_count": null,
      "metadata": {
        "id": "hgUhEKjzPdMQ"
      },
      "outputs": [],
      "source": [
        "MAX_VALIDATION_EXAMPLES = 8\n",
        "\n",
        "print(\"Model predictions\")\n",
        "html_out = \"\"\n",
        "for image, caption in make_predictions(\n",
        "    validation_data_iterator(), num_examples=MAX_VALIDATION_EXAMPLES, batch_size=8):\n",
        "  html_out += render_example(image, caption)\n",
        "display(HTML(html_out))\n"
      ]
    },
    {
      "cell_type": "code",
      "execution_count": null,
      "metadata": {},
      "outputs": [],
      "source": [
        "# # save the final checkpoint\n",
        "\n",
        "# ckpt = {\"params\": params}\n",
        "# save_args = orbax_utils.save_args_from_target(ckpt)\n",
        "# checkpoint_manager.save(\n",
        "#     step, \n",
        "#     ckpt, \n",
        "#     save_kwargs={'save_args': save_args}\n",
        "#     )"
      ]
    },
    {
      "cell_type": "markdown",
      "metadata": {},
      "source": [
        "## Validation"
      ]
    },
    {
      "cell_type": "code",
      "execution_count": 22,
      "metadata": {},
      "outputs": [],
      "source": [
        "# Load latest checkpoint\n",
        "best_step = checkpoint_manager.best_step()\n",
        "# best_step = 200\n",
        "best_ckpt = checkpoint_manager.restore(best_step)\n",
        "params = best_ckpt['params']"
      ]
    },
    {
      "cell_type": "code",
      "execution_count": 23,
      "metadata": {},
      "outputs": [
        {
          "data": {
            "text/plain": [
              "8000"
            ]
          },
          "execution_count": 23,
          "metadata": {},
          "output_type": "execute_result"
        }
      ],
      "source": [
        "best_step"
      ]
    },
    {
      "cell_type": "code",
      "execution_count": 24,
      "metadata": {},
      "outputs": [
        {
          "name": "stderr",
          "output_type": "stream",
          "text": [
            "BLEU: 0.922 - ROUGE: 0.932 - F1: 0.929 - ACC: 0.921 - PREC: 0.927 - REC: 0.921: : 3160it [6:39:22,  7.58s/it]                          "
          ]
        },
        {
          "name": "stdout",
          "output_type": "stream",
          "text": [
            "\n",
            "Validation Results:\n",
            "\tBLEU: 0.9218\n",
            "\tROUGE: 0.9316\n",
            "\tF1: 0.9286\n",
            "\tAccuracy: 0.9206\n",
            "\tPrecision: 0.9267\n",
            "\tRecall: 0.9206\n",
            "\n",
            "Examples:\n",
            "\n",
            "Example 1:\n",
            "Ground Truth: boneless skinless chicken breasts, ground black pepper, salt, curry powder, vegetable oil, yellow onion, garlic cloves, fresh ginger, low sodium chicken broth, corn starch, sugar, frozen peas, greek yogurt, chopped fresh cilantro\n",
            "Generated: boneless skinless chicken breasts, ground black pepper, salt, curry powder, vegetable oil, yellow onion, garlic cloves, fresh ginger, low sodium chicken broth, corn starch, sugar, frozen peas, greek yogurt, chopped fresh cilantro\n",
            "\n",
            "Example 2:\n",
            "Ground Truth: sea scallops, cajun seasoning, olive oil, butter, ground cayenne pepper, salt, pepper, greens\n",
            "Generated: cheese ravioli, pasta sauce, mozzarella cheese, grated parmesan cheese\n",
            "\n",
            "Example 3:\n",
            "Ground Truth: strawberries, sugar, heavy whipping cream, vanilla, honey, biscuits\n",
            "Generated: strawberries, sugar, heavy whipping cream, vanilla, honey, biscuits\n",
            "\n",
            "Example 4:\n",
            "Ground Truth: cheese ravioli, pasta sauce, mozzarella cheese, grated parmesan cheese\n",
            "Generated: cheese ravioli, pasta sauce, mozzarella cheese, grated parmesan cheese\n",
            "\n",
            "Example 5:\n",
            "Ground Truth: whipping cream, dark chocolate, powdered sugar, unsalted butter\n",
            "Generated: whipping cream, dark chocolate, powdered sugar, unsalted butter\n"
          ]
        },
        {
          "name": "stderr",
          "output_type": "stream",
          "text": [
            "\n"
          ]
        }
      ],
      "source": [
        "# Evaluate the model\n",
        "results = evaluate_model_batch(\n",
        "    params, \n",
        "    batch_size=8,  # 8\n",
        "    # num_examples=4,\n",
        "    ordered=False\n",
        ")\n",
        "print(f\"\\nValidation Results:\")\n",
        "print(f\"\\tBLEU: {results['bleu']:.4f}\")\n",
        "print(f\"\\tROUGE: {results['rouge']:.4f}\")\n",
        "print(f\"\\tF1: {results['ingredient_overlap']:.4f}\")\n",
        "print(f\"\\tAccuracy: {results['accuracy']:.4f}\") \n",
        "print(f\"\\tPrecision: {results['precision']:.4f}\")\n",
        "print(f\"\\tRecall: {results['recall']:.4f}\")\n",
        "\n",
        "# Print a few examples\n",
        "print(\"\\nExamples:\")\n",
        "for i, (ground_truth, generated_caption) in enumerate(results['examples'][:5]):\n",
        "    print(f\"\\nExample {i+1}:\")\n",
        "    print(f\"Ground Truth: {ground_truth}\")\n",
        "    print(f\"Generated: {generated_caption}\")"
      ]
    },
    {
      "cell_type": "markdown",
      "metadata": {},
      "source": [
        ">>> BLEU: 0.922 - ROUGE: 0.932 - F1: 0.929 - ACC: 0.921 - PREC: 0.927 - REC: 0.921: : 3160it [6:39:22,  7.58s/it]   \n",
        "                       \n",
        "Validation Results:\n",
        "\n",
        "\tBLEU: 0.9218\n",
        "\tROUGE: 0.9316\n",
        "\tF1: 0.9286\n",
        "\tAccuracy: 0.9206\n",
        "\tPrecision: 0.9267\n",
        "\tRecall: 0.9206\n",
        "\n",
        "Examples:\n",
        "\n",
        "Example 1:\n",
        "Ground Truth: boneless skinless chicken breasts, ground black pepper, salt, curry powder, vegetable oil, yellow onion, garlic cloves, fresh ginger, low sodium chicken broth, corn starch, sugar, frozen peas, greek yogurt, chopped fresh cilantro\n",
        "Generated: boneless skinless chicken breasts, ground black pepper, salt, curry powder, vegetable oil, yellow onion, garlic cloves, fresh ginger, low sodium chicken broth, corn starch, sugar, frozen peas, greek yogurt, chopped fresh cilantro\n",
        "\n",
        "Example 2:\n",
        "Ground Truth: sea scallops, cajun seasoning, olive oil, butter, ground cayenne pepper, salt, pepper, greens\n",
        "Generated: cheese ravioli, pasta sauce, mozzarella cheese, grated parmesan cheese\n",
        "\n",
        "Example 3:\n",
        "Ground Truth: strawberries, sugar, heavy whipping cream, vanilla, honey, biscuits\n",
        "Generated: strawberries, sugar, heavy whipping cream, vanilla, honey, biscuits\n",
        "\n",
        "Example 4:\n",
        "Ground Truth: cheese ravioli, pasta sauce, mozzarella cheese, grated parmesan cheese\n",
        "Generated: cheese ravioli, pasta sauce, mozzarella cheese, grated parmesan cheese\n",
        "\n",
        "Example 5:\n",
        "Ground Truth: whipping cream, dark chocolate, powdered sugar, unsalted butter\n",
        "Generated: whipping cream, dark chocolate, powdered sugar, unsalted butter\n",
        "\n"
      ]
    },
    {
      "cell_type": "code",
      "execution_count": null,
      "metadata": {},
      "outputs": [],
      "source": []
    },
    {
      "cell_type": "code",
      "execution_count": null,
      "metadata": {},
      "outputs": [],
      "source": []
    }
  ],
  "metadata": {
    "accelerator": "GPU",
    "colab": {
      "collapsed_sections": [
        "u71STQRgnQ3a",
        "6U0QUFveqSP2"
      ],
      "gpuType": "T4",
      "provenance": []
    },
    "kernelspec": {
      "display_name": "Python 3",
      "name": "python3"
    },
    "language_info": {
      "codemirror_mode": {
        "name": "ipython",
        "version": 3
      },
      "file_extension": ".py",
      "mimetype": "text/x-python",
      "name": "python",
      "nbconvert_exporter": "python",
      "pygments_lexer": "ipython3",
      "version": "3.11.9"
    }
  },
  "nbformat": 4,
  "nbformat_minor": 0
}
